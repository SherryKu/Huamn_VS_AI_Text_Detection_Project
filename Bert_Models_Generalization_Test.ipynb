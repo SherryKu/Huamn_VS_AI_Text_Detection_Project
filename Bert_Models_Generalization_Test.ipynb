{
  "cells": [
    {
      "cell_type": "markdown",
      "metadata": {
        "id": "0PjH6Yb_QX3R"
      },
      "source": [
        "# Load HC3-Chinese Dataset"
      ]
    },
    {
      "cell_type": "code",
      "source": [
        "!pip install tensorflow"
      ],
      "metadata": {
        "colab": {
          "base_uri": "https://localhost:8080/"
        },
        "id": "pNGBUkU62uz7",
        "outputId": "022d2932-654f-4818-903d-eb77cb4d94a2"
      },
      "execution_count": null,
      "outputs": [
        {
          "output_type": "stream",
          "name": "stdout",
          "text": [
            "Requirement already satisfied: tensorflow in /usr/local/lib/python3.10/dist-packages (2.16.1)\n",
            "Requirement already satisfied: absl-py>=1.0.0 in /usr/local/lib/python3.10/dist-packages (from tensorflow) (1.4.0)\n",
            "Requirement already satisfied: astunparse>=1.6.0 in /usr/local/lib/python3.10/dist-packages (from tensorflow) (1.6.3)\n",
            "Requirement already satisfied: flatbuffers>=23.5.26 in /usr/local/lib/python3.10/dist-packages (from tensorflow) (24.3.25)\n",
            "Requirement already satisfied: gast!=0.5.0,!=0.5.1,!=0.5.2,>=0.2.1 in /usr/local/lib/python3.10/dist-packages (from tensorflow) (0.5.4)\n",
            "Requirement already satisfied: google-pasta>=0.1.1 in /usr/local/lib/python3.10/dist-packages (from tensorflow) (0.2.0)\n",
            "Requirement already satisfied: h5py>=3.10.0 in /usr/local/lib/python3.10/dist-packages (from tensorflow) (3.11.0)\n",
            "Requirement already satisfied: libclang>=13.0.0 in /usr/local/lib/python3.10/dist-packages (from tensorflow) (18.1.1)\n",
            "Requirement already satisfied: ml-dtypes~=0.3.1 in /usr/local/lib/python3.10/dist-packages (from tensorflow) (0.3.2)\n",
            "Requirement already satisfied: opt-einsum>=2.3.2 in /usr/local/lib/python3.10/dist-packages (from tensorflow) (3.3.0)\n",
            "Requirement already satisfied: packaging in /usr/local/lib/python3.10/dist-packages (from tensorflow) (24.0)\n",
            "Requirement already satisfied: protobuf!=4.21.0,!=4.21.1,!=4.21.2,!=4.21.3,!=4.21.4,!=4.21.5,<5.0.0dev,>=3.20.3 in /usr/local/lib/python3.10/dist-packages (from tensorflow) (3.20.3)\n",
            "Requirement already satisfied: requests<3,>=2.21.0 in /usr/local/lib/python3.10/dist-packages (from tensorflow) (2.31.0)\n",
            "Requirement already satisfied: setuptools in /usr/local/lib/python3.10/dist-packages (from tensorflow) (67.7.2)\n",
            "Requirement already satisfied: six>=1.12.0 in /usr/local/lib/python3.10/dist-packages (from tensorflow) (1.16.0)\n",
            "Requirement already satisfied: termcolor>=1.1.0 in /usr/local/lib/python3.10/dist-packages (from tensorflow) (2.4.0)\n",
            "Requirement already satisfied: typing-extensions>=3.6.6 in /usr/local/lib/python3.10/dist-packages (from tensorflow) (4.11.0)\n",
            "Requirement already satisfied: wrapt>=1.11.0 in /usr/local/lib/python3.10/dist-packages (from tensorflow) (1.14.1)\n",
            "Requirement already satisfied: grpcio<2.0,>=1.24.3 in /usr/local/lib/python3.10/dist-packages (from tensorflow) (1.63.0)\n",
            "Requirement already satisfied: tensorboard<2.17,>=2.16 in /usr/local/lib/python3.10/dist-packages (from tensorflow) (2.16.2)\n",
            "Requirement already satisfied: keras>=3.0.0 in /usr/local/lib/python3.10/dist-packages (from tensorflow) (3.3.3)\n",
            "Requirement already satisfied: tensorflow-io-gcs-filesystem>=0.23.1 in /usr/local/lib/python3.10/dist-packages (from tensorflow) (0.37.0)\n",
            "Requirement already satisfied: numpy<2.0.0,>=1.23.5 in /usr/local/lib/python3.10/dist-packages (from tensorflow) (1.25.2)\n",
            "Requirement already satisfied: wheel<1.0,>=0.23.0 in /usr/local/lib/python3.10/dist-packages (from astunparse>=1.6.0->tensorflow) (0.43.0)\n",
            "Requirement already satisfied: rich in /usr/local/lib/python3.10/dist-packages (from keras>=3.0.0->tensorflow) (13.7.1)\n",
            "Requirement already satisfied: namex in /usr/local/lib/python3.10/dist-packages (from keras>=3.0.0->tensorflow) (0.0.8)\n",
            "Requirement already satisfied: optree in /usr/local/lib/python3.10/dist-packages (from keras>=3.0.0->tensorflow) (0.11.0)\n",
            "Requirement already satisfied: charset-normalizer<4,>=2 in /usr/local/lib/python3.10/dist-packages (from requests<3,>=2.21.0->tensorflow) (3.3.2)\n",
            "Requirement already satisfied: idna<4,>=2.5 in /usr/local/lib/python3.10/dist-packages (from requests<3,>=2.21.0->tensorflow) (3.7)\n",
            "Requirement already satisfied: urllib3<3,>=1.21.1 in /usr/local/lib/python3.10/dist-packages (from requests<3,>=2.21.0->tensorflow) (2.0.7)\n",
            "Requirement already satisfied: certifi>=2017.4.17 in /usr/local/lib/python3.10/dist-packages (from requests<3,>=2.21.0->tensorflow) (2024.2.2)\n",
            "Requirement already satisfied: markdown>=2.6.8 in /usr/local/lib/python3.10/dist-packages (from tensorboard<2.17,>=2.16->tensorflow) (3.6)\n",
            "Requirement already satisfied: tensorboard-data-server<0.8.0,>=0.7.0 in /usr/local/lib/python3.10/dist-packages (from tensorboard<2.17,>=2.16->tensorflow) (0.7.2)\n",
            "Requirement already satisfied: werkzeug>=1.0.1 in /usr/local/lib/python3.10/dist-packages (from tensorboard<2.17,>=2.16->tensorflow) (3.0.2)\n",
            "Requirement already satisfied: MarkupSafe>=2.1.1 in /usr/local/lib/python3.10/dist-packages (from werkzeug>=1.0.1->tensorboard<2.17,>=2.16->tensorflow) (2.1.5)\n",
            "Requirement already satisfied: markdown-it-py>=2.2.0 in /usr/local/lib/python3.10/dist-packages (from rich->keras>=3.0.0->tensorflow) (3.0.0)\n",
            "Requirement already satisfied: pygments<3.0.0,>=2.13.0 in /usr/local/lib/python3.10/dist-packages (from rich->keras>=3.0.0->tensorflow) (2.16.1)\n",
            "Requirement already satisfied: mdurl~=0.1 in /usr/local/lib/python3.10/dist-packages (from markdown-it-py>=2.2.0->rich->keras>=3.0.0->tensorflow) (0.1.2)\n"
          ]
        }
      ]
    },
    {
      "cell_type": "code",
      "source": [
        "!pip install datasets"
      ],
      "metadata": {
        "colab": {
          "base_uri": "https://localhost:8080/",
          "height": 930
        },
        "outputId": "bed3def5-ef75-4aac-f8b4-aadb4582e0c8",
        "id": "YbXNfAaZ-33o"
      },
      "execution_count": null,
      "outputs": [
        {
          "output_type": "stream",
          "name": "stdout",
          "text": [
            "Collecting datasets\n",
            "  Downloading datasets-2.19.1-py3-none-any.whl (542 kB)\n",
            "\u001b[?25l     \u001b[90m━━━━━━━━━━━━━━━━━━━━━━━━━━━━━━━━━━━━━━━━\u001b[0m \u001b[32m0.0/542.0 kB\u001b[0m \u001b[31m?\u001b[0m eta \u001b[36m-:--:--\u001b[0m\r\u001b[2K     \u001b[91m━━━━━━━━━━━━━━━━━━━━━━━━━━\u001b[0m\u001b[90m╺\u001b[0m\u001b[90m━━━━━━━━━━━━━\u001b[0m \u001b[32m358.4/542.0 kB\u001b[0m \u001b[31m10.7 MB/s\u001b[0m eta \u001b[36m0:00:01\u001b[0m\r\u001b[2K     \u001b[90m━━━━━━━━━━━━━━━━━━━━━━━━━━━━━━━━━━━━━━━━\u001b[0m \u001b[32m542.0/542.0 kB\u001b[0m \u001b[31m10.6 MB/s\u001b[0m eta \u001b[36m0:00:00\u001b[0m\n",
            "\u001b[?25hRequirement already satisfied: filelock in /usr/local/lib/python3.10/dist-packages (from datasets) (3.14.0)\n",
            "Requirement already satisfied: numpy>=1.17 in /usr/local/lib/python3.10/dist-packages (from datasets) (1.25.2)\n",
            "Requirement already satisfied: pyarrow>=12.0.0 in /usr/local/lib/python3.10/dist-packages (from datasets) (14.0.2)\n",
            "Requirement already satisfied: pyarrow-hotfix in /usr/local/lib/python3.10/dist-packages (from datasets) (0.6)\n",
            "Collecting dill<0.3.9,>=0.3.0 (from datasets)\n",
            "  Downloading dill-0.3.8-py3-none-any.whl (116 kB)\n",
            "\u001b[2K     \u001b[90m━━━━━━━━━━━━━━━━━━━━━━━━━━━━━━━━━━━━━━━━\u001b[0m \u001b[32m116.3/116.3 kB\u001b[0m \u001b[31m10.8 MB/s\u001b[0m eta \u001b[36m0:00:00\u001b[0m\n",
            "\u001b[?25hRequirement already satisfied: pandas in /usr/local/lib/python3.10/dist-packages (from datasets) (2.0.3)\n",
            "Requirement already satisfied: requests>=2.19.0 in /usr/local/lib/python3.10/dist-packages (from datasets) (2.31.0)\n",
            "Requirement already satisfied: tqdm>=4.62.1 in /usr/local/lib/python3.10/dist-packages (from datasets) (4.66.4)\n",
            "Collecting xxhash (from datasets)\n",
            "  Downloading xxhash-3.4.1-cp310-cp310-manylinux_2_17_x86_64.manylinux2014_x86_64.whl (194 kB)\n",
            "\u001b[2K     \u001b[90m━━━━━━━━━━━━━━━━━━━━━━━━━━━━━━━━━━━━━━━━\u001b[0m \u001b[32m194.1/194.1 kB\u001b[0m \u001b[31m14.1 MB/s\u001b[0m eta \u001b[36m0:00:00\u001b[0m\n",
            "\u001b[?25hCollecting multiprocess (from datasets)\n",
            "  Downloading multiprocess-0.70.16-py310-none-any.whl (134 kB)\n",
            "\u001b[2K     \u001b[90m━━━━━━━━━━━━━━━━━━━━━━━━━━━━━━━━━━━━━━━━\u001b[0m \u001b[32m134.8/134.8 kB\u001b[0m \u001b[31m12.3 MB/s\u001b[0m eta \u001b[36m0:00:00\u001b[0m\n",
            "\u001b[?25hRequirement already satisfied: fsspec[http]<=2024.3.1,>=2023.1.0 in /usr/local/lib/python3.10/dist-packages (from datasets) (2023.6.0)\n",
            "Requirement already satisfied: aiohttp in /usr/local/lib/python3.10/dist-packages (from datasets) (3.9.5)\n",
            "Collecting huggingface-hub>=0.21.2 (from datasets)\n",
            "  Downloading huggingface_hub-0.23.0-py3-none-any.whl (401 kB)\n",
            "\u001b[2K     \u001b[90m━━━━━━━━━━━━━━━━━━━━━━━━━━━━━━━━━━━━━━━━\u001b[0m \u001b[32m401.2/401.2 kB\u001b[0m \u001b[31m19.7 MB/s\u001b[0m eta \u001b[36m0:00:00\u001b[0m\n",
            "\u001b[?25hRequirement already satisfied: packaging in /usr/local/lib/python3.10/dist-packages (from datasets) (24.0)\n",
            "Requirement already satisfied: pyyaml>=5.1 in /usr/local/lib/python3.10/dist-packages (from datasets) (6.0.1)\n",
            "Requirement already satisfied: aiosignal>=1.1.2 in /usr/local/lib/python3.10/dist-packages (from aiohttp->datasets) (1.3.1)\n",
            "Requirement already satisfied: attrs>=17.3.0 in /usr/local/lib/python3.10/dist-packages (from aiohttp->datasets) (23.2.0)\n",
            "Requirement already satisfied: frozenlist>=1.1.1 in /usr/local/lib/python3.10/dist-packages (from aiohttp->datasets) (1.4.1)\n",
            "Requirement already satisfied: multidict<7.0,>=4.5 in /usr/local/lib/python3.10/dist-packages (from aiohttp->datasets) (6.0.5)\n",
            "Requirement already satisfied: yarl<2.0,>=1.0 in /usr/local/lib/python3.10/dist-packages (from aiohttp->datasets) (1.9.4)\n",
            "Requirement already satisfied: async-timeout<5.0,>=4.0 in /usr/local/lib/python3.10/dist-packages (from aiohttp->datasets) (4.0.3)\n",
            "Requirement already satisfied: typing-extensions>=3.7.4.3 in /usr/local/lib/python3.10/dist-packages (from huggingface-hub>=0.21.2->datasets) (4.11.0)\n",
            "Requirement already satisfied: charset-normalizer<4,>=2 in /usr/local/lib/python3.10/dist-packages (from requests>=2.19.0->datasets) (3.3.2)\n",
            "Requirement already satisfied: idna<4,>=2.5 in /usr/local/lib/python3.10/dist-packages (from requests>=2.19.0->datasets) (3.7)\n",
            "Requirement already satisfied: urllib3<3,>=1.21.1 in /usr/local/lib/python3.10/dist-packages (from requests>=2.19.0->datasets) (2.0.7)\n",
            "Requirement already satisfied: certifi>=2017.4.17 in /usr/local/lib/python3.10/dist-packages (from requests>=2.19.0->datasets) (2024.2.2)\n",
            "Requirement already satisfied: python-dateutil>=2.8.2 in /usr/local/lib/python3.10/dist-packages (from pandas->datasets) (2.8.2)\n",
            "Requirement already satisfied: pytz>=2020.1 in /usr/local/lib/python3.10/dist-packages (from pandas->datasets) (2023.4)\n",
            "Requirement already satisfied: tzdata>=2022.1 in /usr/local/lib/python3.10/dist-packages (from pandas->datasets) (2024.1)\n",
            "Requirement already satisfied: six>=1.5 in /usr/local/lib/python3.10/dist-packages (from python-dateutil>=2.8.2->pandas->datasets) (1.16.0)\n",
            "Installing collected packages: xxhash, dill, multiprocess, huggingface-hub, datasets\n",
            "  Attempting uninstall: huggingface-hub\n",
            "    Found existing installation: huggingface-hub 0.20.3\n",
            "    Uninstalling huggingface-hub-0.20.3:\n",
            "      Successfully uninstalled huggingface-hub-0.20.3\n",
            "Successfully installed datasets-2.19.1 dill-0.3.8 huggingface-hub-0.23.0 multiprocess-0.70.16 xxhash-3.4.1\n"
          ]
        },
        {
          "output_type": "display_data",
          "data": {
            "application/vnd.colab-display-data+json": {
              "pip_warning": {
                "packages": [
                  "huggingface_hub"
                ]
              },
              "id": "5b5119f127654e0a870385db4d398905"
            }
          },
          "metadata": {}
        }
      ]
    },
    {
      "cell_type": "code",
      "source": [
        "from datasets import load_dataset\n",
        "\n",
        "testdata_chinese = load_dataset(\"Hello-SimpleAI/HC3-Chinese\", name='all')\n",
        "test_2 = testdata_chinese['train'].to_pandas()"
      ],
      "metadata": {
        "colab": {
          "base_uri": "https://localhost:8080/",
          "height": 185,
          "referenced_widgets": [
            "a119f2ed569549518c303f45abf173a7",
            "c744ffc9028d415b966f6a65351cdca4",
            "f89746aacfbf4473bc757f42e96dd693",
            "b33a33246d924e7f99f54034e722fd79",
            "f95117eda0984291b557caf43dd6480e",
            "aaef42b3689b41a5a2170e941cc5f184",
            "cfc68ccccbc7426c830c214501eb12a4",
            "659c2d2974874430ac6ac280c149ce64",
            "8e92bbd6c85441f78db7227741674781",
            "46fb83a9ff7046d7a0b88e71e816c9e8",
            "55957311774a4bf6a465215645b27f14",
            "5769c657965447fdb6ee5fda793079af",
            "86359d2072344bb68974cda534e8cd99",
            "4b89d8cacdc34921bb6049b494012ac6",
            "1795b32f447a4ffd80e9035d1e73f2ac",
            "3686446eb3034eb1ad2d0e94a22f1c36",
            "ccdb706b58594948b565c6fe17af2f68",
            "304ccbd2707847768bc031064885b3b4",
            "e7e258d758c445008b7c59f36c1a7c86",
            "910b6213a5894dfcbfada196ffedf398",
            "da5e34d8bcfc4d5192dbe0a2e9f2dff9",
            "aebaed630adb4d5c8d4a19fbd7ed986f"
          ]
        },
        "outputId": "f7ab7a04-519f-4ad2-bbce-3612ec63f0c7",
        "id": "gICCV0_C-33q"
      },
      "execution_count": null,
      "outputs": [
        {
          "output_type": "stream",
          "name": "stderr",
          "text": [
            "/usr/local/lib/python3.10/dist-packages/huggingface_hub/utils/_token.py:89: UserWarning: \n",
            "The secret `HF_TOKEN` does not exist in your Colab secrets.\n",
            "To authenticate with the Hugging Face Hub, create a token in your settings tab (https://huggingface.co/settings/tokens), set it as secret in your Google Colab and restart your session.\n",
            "You will be able to reuse this secret in all of your notebooks.\n",
            "Please note that authentication is recommended but still optional to access public models or datasets.\n",
            "  warnings.warn(\n"
          ]
        },
        {
          "output_type": "display_data",
          "data": {
            "text/plain": [
              "Downloading data:   0%|          | 0.00/12.6M [00:00<?, ?B/s]"
            ],
            "application/vnd.jupyter.widget-view+json": {
              "version_major": 2,
              "version_minor": 0,
              "model_id": "a119f2ed569549518c303f45abf173a7"
            }
          },
          "metadata": {}
        },
        {
          "output_type": "display_data",
          "data": {
            "text/plain": [
              "Generating train split:   0%|          | 0/12853 [00:00<?, ? examples/s]"
            ],
            "application/vnd.jupyter.widget-view+json": {
              "version_major": 2,
              "version_minor": 0,
              "model_id": "5769c657965447fdb6ee5fda793079af"
            }
          },
          "metadata": {}
        }
      ]
    },
    {
      "cell_type": "code",
      "source": [
        "test_2"
      ],
      "metadata": {
        "colab": {
          "base_uri": "https://localhost:8080/",
          "height": 597
        },
        "outputId": "c3acd621-3bfc-4066-a22e-ba2c309b98b3",
        "id": "P4rOMCwE-33q"
      },
      "execution_count": null,
      "outputs": [
        {
          "output_type": "execute_result",
          "data": {
            "text/plain": [
              "          id                                           question  \\\n",
              "0          0                            盗贼天赋盗贼怎么加天赋?知道告诉一下下啦~~    \n",
              "1          1               Ps2比 画面好吗?差距很大吗? Ps2比psp画面好吗?差距很大吗?    \n",
              "2          2                     加装方向助力我有一普桑想加装一套方向助力可以吗？？怎么改？    \n",
              "3          3                                  比斯巨兽的皮干什么用的？多少钱？    \n",
              "4          4                   神州行手机号码成为空号了怎么办，卡里还有几十圆钱，还可以再用吗    \n",
              "...      ...                                                ...   \n",
              "12848  12848  我们家在上海杨浦 这次拆迁分了115万 拿了两套房子 总额是170万我们家本身是在其他区是有...   \n",
              "12849  12849                                 朋友持刀伤人我在一旁观看要付什么责任   \n",
              "12850  12850  现有外婆房子一套，当时是武锅单位房，后来由我妈妈出全资购买，房主是外婆，后来外婆去世未留遗 ...   \n",
              "12851  12851  债务纠纷普通程序已经判决，被告不服进行了上诉，要求改判。请律师帮助。改判指的是按原告的诉讼请...   \n",
              "12852  12852  我的房子已经协议给儿子了，还没过户，可是几年后我老爹又想要房子，我就又写了个协议给我老爹了，...   \n",
              "\n",
              "                                           human_answers  \\\n",
              "0      [搞匕首还加出血（楼上）？\\r\\n天赋看你喜爱了，31 8 12 和  21 8 22 PK...   \n",
              "1      [毕竟显示媒介一个大，另一个只是小屏幕，所以单凭肉眼观察我觉得差距不大的，而且psp有些技术...   \n",
              "2      [普桑想加装一套方向助力可以的.\\r\\n首先要换方向机,曲轴皮带盘.\\r\\n加装助力泵油管,...   \n",
              "3      [做史诗装备用的~~把比斯巨兽（黑石塔上层的一个BOSS）的皮拨了（很小几率出比斯巨兽皮~大...   \n",
              "4                          [如果停机时间不长，可以到移动公司营业厅办理余额转移的。]   \n",
              "...                                                  ...   \n",
              "12848                       [1、可以要求拆迁办提供法律依据；2、可以咨询税务局。]   \n",
              "12849                                [还要看是否共同预谋，是否提供帮助等]   \n",
              "12850                  [可以先把你母亲出资那一部分分出来，剩下的部分才是要分割的部分。]   \n",
              "12851  [二审法院会重新审查全案，如果改判，有可能支持上诉人的上诉请求。如需要，建议面谈咨询, 对一...   \n",
              "12852                      [如果房子还是你居住、使用，协议现在都没有产生赠与效力。]   \n",
              "\n",
              "                                         chatgpt_answers   source  \n",
              "0      [如果你在玩角色扮演游戏（RPG），那么你可能是在问如何在游戏中给你的盗贼角色加天赋。具体方...  open_qa  \n",
              "1      [PlayStation 2 (PS2) 的画面质量通常要高于 PlayStation Po...  open_qa  \n",
              "2      [是的，您可以尝试在您的普桑车辆上安装方向助力系统。但是，在安装前，您需要考虑几个因素： \\...  open_qa  \n",
              "3       [比斯巨兽是什么？我不知道这是什么东西。您可以告诉我更多关于比斯巨兽的信息吗？我将尽力帮助您。]  open_qa  \n",
              "4      [如果您的神州行手机号码已经成为空号，您可以尝试联系神州行客服进行处理。神州行客服通常会帮助...  open_qa  \n",
              "...                                                  ...      ...  \n",
              "12848  [根据您所提供的信息，您家在上海杨浦进行了拆迁，并获得了115万的补偿金，并购买了两套房子，...      law  \n",
              "12849  [如果你只是在一旁观看朋友持刀伤人，那么你并不直接参与这起伤人事件，因此你不需要承担任何直接...      law  \n",
              "12850  [在中国，遗产分割是由法院根据遗嘱或者法律规定来决定的。如果外婆没有留下遗嘱，那么遗产将按照...      law  \n",
              "12851  [如果被告不服普通程序的判决，可以通过上诉来要求改判。在这种情况下，被告将向上级法院提出上诉...      law  \n",
              "12852  [在法律上，规定了哪个协议是有效的取决于各种因素，包括你在协议中所规定的条件是否合法、协议是...      law  \n",
              "\n",
              "[12853 rows x 5 columns]"
            ],
            "text/html": [
              "\n",
              "  <div id=\"df-592f9e44-0ba4-437c-9dbe-180b5317f165\" class=\"colab-df-container\">\n",
              "    <div>\n",
              "<style scoped>\n",
              "    .dataframe tbody tr th:only-of-type {\n",
              "        vertical-align: middle;\n",
              "    }\n",
              "\n",
              "    .dataframe tbody tr th {\n",
              "        vertical-align: top;\n",
              "    }\n",
              "\n",
              "    .dataframe thead th {\n",
              "        text-align: right;\n",
              "    }\n",
              "</style>\n",
              "<table border=\"1\" class=\"dataframe\">\n",
              "  <thead>\n",
              "    <tr style=\"text-align: right;\">\n",
              "      <th></th>\n",
              "      <th>id</th>\n",
              "      <th>question</th>\n",
              "      <th>human_answers</th>\n",
              "      <th>chatgpt_answers</th>\n",
              "      <th>source</th>\n",
              "    </tr>\n",
              "  </thead>\n",
              "  <tbody>\n",
              "    <tr>\n",
              "      <th>0</th>\n",
              "      <td>0</td>\n",
              "      <td>盗贼天赋盗贼怎么加天赋?知道告诉一下下啦~~</td>\n",
              "      <td>[搞匕首还加出血（楼上）？\\r\\n天赋看你喜爱了，31 8 12 和  21 8 22 PK...</td>\n",
              "      <td>[如果你在玩角色扮演游戏（RPG），那么你可能是在问如何在游戏中给你的盗贼角色加天赋。具体方...</td>\n",
              "      <td>open_qa</td>\n",
              "    </tr>\n",
              "    <tr>\n",
              "      <th>1</th>\n",
              "      <td>1</td>\n",
              "      <td>Ps2比 画面好吗?差距很大吗? Ps2比psp画面好吗?差距很大吗?</td>\n",
              "      <td>[毕竟显示媒介一个大，另一个只是小屏幕，所以单凭肉眼观察我觉得差距不大的，而且psp有些技术...</td>\n",
              "      <td>[PlayStation 2 (PS2) 的画面质量通常要高于 PlayStation Po...</td>\n",
              "      <td>open_qa</td>\n",
              "    </tr>\n",
              "    <tr>\n",
              "      <th>2</th>\n",
              "      <td>2</td>\n",
              "      <td>加装方向助力我有一普桑想加装一套方向助力可以吗？？怎么改？</td>\n",
              "      <td>[普桑想加装一套方向助力可以的.\\r\\n首先要换方向机,曲轴皮带盘.\\r\\n加装助力泵油管,...</td>\n",
              "      <td>[是的，您可以尝试在您的普桑车辆上安装方向助力系统。但是，在安装前，您需要考虑几个因素： \\...</td>\n",
              "      <td>open_qa</td>\n",
              "    </tr>\n",
              "    <tr>\n",
              "      <th>3</th>\n",
              "      <td>3</td>\n",
              "      <td>比斯巨兽的皮干什么用的？多少钱？</td>\n",
              "      <td>[做史诗装备用的~~把比斯巨兽（黑石塔上层的一个BOSS）的皮拨了（很小几率出比斯巨兽皮~大...</td>\n",
              "      <td>[比斯巨兽是什么？我不知道这是什么东西。您可以告诉我更多关于比斯巨兽的信息吗？我将尽力帮助您。]</td>\n",
              "      <td>open_qa</td>\n",
              "    </tr>\n",
              "    <tr>\n",
              "      <th>4</th>\n",
              "      <td>4</td>\n",
              "      <td>神州行手机号码成为空号了怎么办，卡里还有几十圆钱，还可以再用吗</td>\n",
              "      <td>[如果停机时间不长，可以到移动公司营业厅办理余额转移的。]</td>\n",
              "      <td>[如果您的神州行手机号码已经成为空号，您可以尝试联系神州行客服进行处理。神州行客服通常会帮助...</td>\n",
              "      <td>open_qa</td>\n",
              "    </tr>\n",
              "    <tr>\n",
              "      <th>...</th>\n",
              "      <td>...</td>\n",
              "      <td>...</td>\n",
              "      <td>...</td>\n",
              "      <td>...</td>\n",
              "      <td>...</td>\n",
              "    </tr>\n",
              "    <tr>\n",
              "      <th>12848</th>\n",
              "      <td>12848</td>\n",
              "      <td>我们家在上海杨浦 这次拆迁分了115万 拿了两套房子 总额是170万我们家本身是在其他区是有...</td>\n",
              "      <td>[1、可以要求拆迁办提供法律依据；2、可以咨询税务局。]</td>\n",
              "      <td>[根据您所提供的信息，您家在上海杨浦进行了拆迁，并获得了115万的补偿金，并购买了两套房子，...</td>\n",
              "      <td>law</td>\n",
              "    </tr>\n",
              "    <tr>\n",
              "      <th>12849</th>\n",
              "      <td>12849</td>\n",
              "      <td>朋友持刀伤人我在一旁观看要付什么责任</td>\n",
              "      <td>[还要看是否共同预谋，是否提供帮助等]</td>\n",
              "      <td>[如果你只是在一旁观看朋友持刀伤人，那么你并不直接参与这起伤人事件，因此你不需要承担任何直接...</td>\n",
              "      <td>law</td>\n",
              "    </tr>\n",
              "    <tr>\n",
              "      <th>12850</th>\n",
              "      <td>12850</td>\n",
              "      <td>现有外婆房子一套，当时是武锅单位房，后来由我妈妈出全资购买，房主是外婆，后来外婆去世未留遗 ...</td>\n",
              "      <td>[可以先把你母亲出资那一部分分出来，剩下的部分才是要分割的部分。]</td>\n",
              "      <td>[在中国，遗产分割是由法院根据遗嘱或者法律规定来决定的。如果外婆没有留下遗嘱，那么遗产将按照...</td>\n",
              "      <td>law</td>\n",
              "    </tr>\n",
              "    <tr>\n",
              "      <th>12851</th>\n",
              "      <td>12851</td>\n",
              "      <td>债务纠纷普通程序已经判决，被告不服进行了上诉，要求改判。请律师帮助。改判指的是按原告的诉讼请...</td>\n",
              "      <td>[二审法院会重新审查全案，如果改判，有可能支持上诉人的上诉请求。如需要，建议面谈咨询, 对一...</td>\n",
              "      <td>[如果被告不服普通程序的判决，可以通过上诉来要求改判。在这种情况下，被告将向上级法院提出上诉...</td>\n",
              "      <td>law</td>\n",
              "    </tr>\n",
              "    <tr>\n",
              "      <th>12852</th>\n",
              "      <td>12852</td>\n",
              "      <td>我的房子已经协议给儿子了，还没过户，可是几年后我老爹又想要房子，我就又写了个协议给我老爹了，...</td>\n",
              "      <td>[如果房子还是你居住、使用，协议现在都没有产生赠与效力。]</td>\n",
              "      <td>[在法律上，规定了哪个协议是有效的取决于各种因素，包括你在协议中所规定的条件是否合法、协议是...</td>\n",
              "      <td>law</td>\n",
              "    </tr>\n",
              "  </tbody>\n",
              "</table>\n",
              "<p>12853 rows × 5 columns</p>\n",
              "</div>\n",
              "    <div class=\"colab-df-buttons\">\n",
              "\n",
              "  <div class=\"colab-df-container\">\n",
              "    <button class=\"colab-df-convert\" onclick=\"convertToInteractive('df-592f9e44-0ba4-437c-9dbe-180b5317f165')\"\n",
              "            title=\"Convert this dataframe to an interactive table.\"\n",
              "            style=\"display:none;\">\n",
              "\n",
              "  <svg xmlns=\"http://www.w3.org/2000/svg\" height=\"24px\" viewBox=\"0 -960 960 960\">\n",
              "    <path d=\"M120-120v-720h720v720H120Zm60-500h600v-160H180v160Zm220 220h160v-160H400v160Zm0 220h160v-160H400v160ZM180-400h160v-160H180v160Zm440 0h160v-160H620v160ZM180-180h160v-160H180v160Zm440 0h160v-160H620v160Z\"/>\n",
              "  </svg>\n",
              "    </button>\n",
              "\n",
              "  <style>\n",
              "    .colab-df-container {\n",
              "      display:flex;\n",
              "      gap: 12px;\n",
              "    }\n",
              "\n",
              "    .colab-df-convert {\n",
              "      background-color: #E8F0FE;\n",
              "      border: none;\n",
              "      border-radius: 50%;\n",
              "      cursor: pointer;\n",
              "      display: none;\n",
              "      fill: #1967D2;\n",
              "      height: 32px;\n",
              "      padding: 0 0 0 0;\n",
              "      width: 32px;\n",
              "    }\n",
              "\n",
              "    .colab-df-convert:hover {\n",
              "      background-color: #E2EBFA;\n",
              "      box-shadow: 0px 1px 2px rgba(60, 64, 67, 0.3), 0px 1px 3px 1px rgba(60, 64, 67, 0.15);\n",
              "      fill: #174EA6;\n",
              "    }\n",
              "\n",
              "    .colab-df-buttons div {\n",
              "      margin-bottom: 4px;\n",
              "    }\n",
              "\n",
              "    [theme=dark] .colab-df-convert {\n",
              "      background-color: #3B4455;\n",
              "      fill: #D2E3FC;\n",
              "    }\n",
              "\n",
              "    [theme=dark] .colab-df-convert:hover {\n",
              "      background-color: #434B5C;\n",
              "      box-shadow: 0px 1px 3px 1px rgba(0, 0, 0, 0.15);\n",
              "      filter: drop-shadow(0px 1px 2px rgba(0, 0, 0, 0.3));\n",
              "      fill: #FFFFFF;\n",
              "    }\n",
              "  </style>\n",
              "\n",
              "    <script>\n",
              "      const buttonEl =\n",
              "        document.querySelector('#df-592f9e44-0ba4-437c-9dbe-180b5317f165 button.colab-df-convert');\n",
              "      buttonEl.style.display =\n",
              "        google.colab.kernel.accessAllowed ? 'block' : 'none';\n",
              "\n",
              "      async function convertToInteractive(key) {\n",
              "        const element = document.querySelector('#df-592f9e44-0ba4-437c-9dbe-180b5317f165');\n",
              "        const dataTable =\n",
              "          await google.colab.kernel.invokeFunction('convertToInteractive',\n",
              "                                                    [key], {});\n",
              "        if (!dataTable) return;\n",
              "\n",
              "        const docLinkHtml = 'Like what you see? Visit the ' +\n",
              "          '<a target=\"_blank\" href=https://colab.research.google.com/notebooks/data_table.ipynb>data table notebook</a>'\n",
              "          + ' to learn more about interactive tables.';\n",
              "        element.innerHTML = '';\n",
              "        dataTable['output_type'] = 'display_data';\n",
              "        await google.colab.output.renderOutput(dataTable, element);\n",
              "        const docLink = document.createElement('div');\n",
              "        docLink.innerHTML = docLinkHtml;\n",
              "        element.appendChild(docLink);\n",
              "      }\n",
              "    </script>\n",
              "  </div>\n",
              "\n",
              "\n",
              "<div id=\"df-0def9b19-4cb5-4705-877a-47cfcb54cf2d\">\n",
              "  <button class=\"colab-df-quickchart\" onclick=\"quickchart('df-0def9b19-4cb5-4705-877a-47cfcb54cf2d')\"\n",
              "            title=\"Suggest charts\"\n",
              "            style=\"display:none;\">\n",
              "\n",
              "<svg xmlns=\"http://www.w3.org/2000/svg\" height=\"24px\"viewBox=\"0 0 24 24\"\n",
              "     width=\"24px\">\n",
              "    <g>\n",
              "        <path d=\"M19 3H5c-1.1 0-2 .9-2 2v14c0 1.1.9 2 2 2h14c1.1 0 2-.9 2-2V5c0-1.1-.9-2-2-2zM9 17H7v-7h2v7zm4 0h-2V7h2v10zm4 0h-2v-4h2v4z\"/>\n",
              "    </g>\n",
              "</svg>\n",
              "  </button>\n",
              "\n",
              "<style>\n",
              "  .colab-df-quickchart {\n",
              "      --bg-color: #E8F0FE;\n",
              "      --fill-color: #1967D2;\n",
              "      --hover-bg-color: #E2EBFA;\n",
              "      --hover-fill-color: #174EA6;\n",
              "      --disabled-fill-color: #AAA;\n",
              "      --disabled-bg-color: #DDD;\n",
              "  }\n",
              "\n",
              "  [theme=dark] .colab-df-quickchart {\n",
              "      --bg-color: #3B4455;\n",
              "      --fill-color: #D2E3FC;\n",
              "      --hover-bg-color: #434B5C;\n",
              "      --hover-fill-color: #FFFFFF;\n",
              "      --disabled-bg-color: #3B4455;\n",
              "      --disabled-fill-color: #666;\n",
              "  }\n",
              "\n",
              "  .colab-df-quickchart {\n",
              "    background-color: var(--bg-color);\n",
              "    border: none;\n",
              "    border-radius: 50%;\n",
              "    cursor: pointer;\n",
              "    display: none;\n",
              "    fill: var(--fill-color);\n",
              "    height: 32px;\n",
              "    padding: 0;\n",
              "    width: 32px;\n",
              "  }\n",
              "\n",
              "  .colab-df-quickchart:hover {\n",
              "    background-color: var(--hover-bg-color);\n",
              "    box-shadow: 0 1px 2px rgba(60, 64, 67, 0.3), 0 1px 3px 1px rgba(60, 64, 67, 0.15);\n",
              "    fill: var(--button-hover-fill-color);\n",
              "  }\n",
              "\n",
              "  .colab-df-quickchart-complete:disabled,\n",
              "  .colab-df-quickchart-complete:disabled:hover {\n",
              "    background-color: var(--disabled-bg-color);\n",
              "    fill: var(--disabled-fill-color);\n",
              "    box-shadow: none;\n",
              "  }\n",
              "\n",
              "  .colab-df-spinner {\n",
              "    border: 2px solid var(--fill-color);\n",
              "    border-color: transparent;\n",
              "    border-bottom-color: var(--fill-color);\n",
              "    animation:\n",
              "      spin 1s steps(1) infinite;\n",
              "  }\n",
              "\n",
              "  @keyframes spin {\n",
              "    0% {\n",
              "      border-color: transparent;\n",
              "      border-bottom-color: var(--fill-color);\n",
              "      border-left-color: var(--fill-color);\n",
              "    }\n",
              "    20% {\n",
              "      border-color: transparent;\n",
              "      border-left-color: var(--fill-color);\n",
              "      border-top-color: var(--fill-color);\n",
              "    }\n",
              "    30% {\n",
              "      border-color: transparent;\n",
              "      border-left-color: var(--fill-color);\n",
              "      border-top-color: var(--fill-color);\n",
              "      border-right-color: var(--fill-color);\n",
              "    }\n",
              "    40% {\n",
              "      border-color: transparent;\n",
              "      border-right-color: var(--fill-color);\n",
              "      border-top-color: var(--fill-color);\n",
              "    }\n",
              "    60% {\n",
              "      border-color: transparent;\n",
              "      border-right-color: var(--fill-color);\n",
              "    }\n",
              "    80% {\n",
              "      border-color: transparent;\n",
              "      border-right-color: var(--fill-color);\n",
              "      border-bottom-color: var(--fill-color);\n",
              "    }\n",
              "    90% {\n",
              "      border-color: transparent;\n",
              "      border-bottom-color: var(--fill-color);\n",
              "    }\n",
              "  }\n",
              "</style>\n",
              "\n",
              "  <script>\n",
              "    async function quickchart(key) {\n",
              "      const quickchartButtonEl =\n",
              "        document.querySelector('#' + key + ' button');\n",
              "      quickchartButtonEl.disabled = true;  // To prevent multiple clicks.\n",
              "      quickchartButtonEl.classList.add('colab-df-spinner');\n",
              "      try {\n",
              "        const charts = await google.colab.kernel.invokeFunction(\n",
              "            'suggestCharts', [key], {});\n",
              "      } catch (error) {\n",
              "        console.error('Error during call to suggestCharts:', error);\n",
              "      }\n",
              "      quickchartButtonEl.classList.remove('colab-df-spinner');\n",
              "      quickchartButtonEl.classList.add('colab-df-quickchart-complete');\n",
              "    }\n",
              "    (() => {\n",
              "      let quickchartButtonEl =\n",
              "        document.querySelector('#df-0def9b19-4cb5-4705-877a-47cfcb54cf2d button');\n",
              "      quickchartButtonEl.style.display =\n",
              "        google.colab.kernel.accessAllowed ? 'block' : 'none';\n",
              "    })();\n",
              "  </script>\n",
              "</div>\n",
              "    </div>\n",
              "  </div>\n"
            ],
            "application/vnd.google.colaboratory.intrinsic+json": {
              "type": "dataframe",
              "variable_name": "test_2",
              "summary": "{\n  \"name\": \"test_2\",\n  \"rows\": 12853,\n  \"fields\": [\n    {\n      \"column\": \"id\",\n      \"properties\": {\n        \"dtype\": \"string\",\n        \"num_unique_values\": 12853,\n        \"samples\": [\n          \"11751\",\n          \"8\",\n          \"12518\"\n        ],\n        \"semantic_type\": \"\",\n        \"description\": \"\"\n      }\n    },\n    {\n      \"column\": \"question\",\n      \"properties\": {\n        \"dtype\": \"string\",\n        \"num_unique_values\": 12851,\n        \"samples\": [\n          \"\\u4eca\\u6709\\u501f\\u94b1\\u6210\\u529f\\u4e0d\\u653e\\u6b3e\",\n          \"\\u5929\\u6d25\\u5927\\u60a6\\u57ce\\u9644\\u8fd1\\u6709\\u4ec0\\u4e48\\u597d\\u5403\\u7684\\uff1f3\\u4e2a\\u4eba\\u5403 \",\n          \"\\u56fd\\u6587\\u79d1\\u8fd8\\u6709\\u4ec0\\u4e48\\u5176\\u4ed6\\u7684\\u540d\\u5b57\\uff1f\"\n        ],\n        \"semantic_type\": \"\",\n        \"description\": \"\"\n      }\n    },\n    {\n      \"column\": \"human_answers\",\n      \"properties\": {\n        \"dtype\": \"object\",\n        \"semantic_type\": \"\",\n        \"description\": \"\"\n      }\n    },\n    {\n      \"column\": \"chatgpt_answers\",\n      \"properties\": {\n        \"dtype\": \"object\",\n        \"semantic_type\": \"\",\n        \"description\": \"\"\n      }\n    },\n    {\n      \"column\": \"source\",\n      \"properties\": {\n        \"dtype\": \"category\",\n        \"num_unique_values\": 7,\n        \"samples\": [\n          \"open_qa\",\n          \"baike\",\n          \"psychology\"\n        ],\n        \"semantic_type\": \"\",\n        \"description\": \"\"\n      }\n    }\n  ]\n}"
            }
          },
          "metadata": {},
          "execution_count": 3
        }
      ]
    },
    {
      "cell_type": "code",
      "source": [
        "import pandas as pd\n",
        "\n",
        "def process_dataset(dataset):\n",
        "    human = dataset[['human_answers']].rename(columns={'human_answers':'text'})\n",
        "    # Check for None and replace it with an empty string before joining\n",
        "    human['text'] = human['text'].apply(lambda x: ''.join([item if item else '' for item in x]))\n",
        "    human['generated'] = 0\n",
        "\n",
        "    ai = dataset[['chatgpt_answers']].rename(columns={'chatgpt_answers':'text'})\n",
        "    ai['text'] = ai['text'].apply(lambda x: ''.join([item if item else '' for item in x]))\n",
        "    ai['generated'] = 1\n",
        "\n",
        "    clean_data = pd.concat((human, ai), axis=0, ignore_index=True)\n",
        "\n",
        "    clean_data = clean_data[clean_data['text'] != '']\n",
        "\n",
        "    return clean_data\n",
        "\n",
        "test_2 = process_dataset(test_2)"
      ],
      "metadata": {
        "id": "7gT-jRK5-33q"
      },
      "execution_count": null,
      "outputs": []
    },
    {
      "cell_type": "code",
      "source": [
        "import re\n",
        "\n",
        "#cleaning data\n",
        "def clean(text):\n",
        "    text = text.fillna(\"fillna\")\n",
        "    text = text.map(lambda x: re.sub('\\\\n',' ',str(x)))\n",
        "    text = text.map(lambda x: re.sub('\\r','',str(x)))\n",
        "    text = text.map(lambda x: re.sub('~.*','',str(x)))\n",
        "    text = text.map(lambda x: re.sub(\"\\[\\[User.*\",'',str(x)))\n",
        "    text = text.map(lambda x: re.sub(\"\\d{1,3}\\.\\d{1,3}\\.\\d{1,3}\\.\\d{1,3}\",'',str(x)))\n",
        "    text = text.map(lambda x: re.sub(\"\\(http://.*?\\s\\(http://.*\\)\",'',str(x)))\n",
        "    return text\n",
        "\n",
        "\n",
        "test_2['text'] = clean(test_2['text'])"
      ],
      "metadata": {
        "id": "vHQd1kfM-33r"
      },
      "execution_count": null,
      "outputs": []
    },
    {
      "cell_type": "code",
      "source": [
        "test_2['text']"
      ],
      "metadata": {
        "colab": {
          "base_uri": "https://localhost:8080/"
        },
        "outputId": "fb1a47a6-338d-4d65-9d4f-ce825267a1ff",
        "id": "aAfyzcEK-33r"
      },
      "execution_count": null,
      "outputs": [
        {
          "output_type": "execute_result",
          "data": {
            "text/plain": [
              "0        搞匕首还加出血（楼上）？ 天赋看你喜爱了，31 8 12 和  21 8 22 PK都好， ...\n",
              "1        毕竟显示媒介一个大，另一个只是小屏幕，所以单凭肉眼观察我觉得差距不大的，而且psp有些技术领...\n",
              "2        普桑想加装一套方向助力可以的. 首先要换方向机,曲轴皮带盘. 加装助力泵油管,助力泵油壶,助...\n",
              "3                                                  做史诗装备用的\n",
              "4                              如果停机时间不长，可以到移动公司营业厅办理余额转移的。\n",
              "                               ...                        \n",
              "25701    根据您所提供的信息，您家在上海杨浦进行了拆迁，并获得了115万的补偿金，并购买了两套房子，总...\n",
              "25702    如果你只是在一旁观看朋友持刀伤人，那么你并不直接参与这起伤人事件，因此你不需要承担任何直接的...\n",
              "25703    在中国，遗产分割是由法院根据遗嘱或者法律规定来决定的。如果外婆没有留下遗嘱，那么遗产将按照法...\n",
              "25704    如果被告不服普通程序的判决，可以通过上诉来要求改判。在这种情况下，被告将向上级法院提出上诉，...\n",
              "25705    在法律上，规定了哪个协议是有效的取决于各种因素，包括你在协议中所规定的条件是否合法、协议是否...\n",
              "Name: text, Length: 25695, dtype: object"
            ]
          },
          "metadata": {},
          "execution_count": 14
        }
      ]
    },
    {
      "cell_type": "code",
      "source": [
        "x_test_2 = test_2['text']\n",
        "y_test_2 = test_2['generated']"
      ],
      "metadata": {
        "id": "LGINWAOt-33s"
      },
      "execution_count": null,
      "outputs": []
    },
    {
      "cell_type": "code",
      "source": [],
      "metadata": {
        "id": "mbDEHguzU8ce"
      },
      "execution_count": null,
      "outputs": []
    },
    {
      "cell_type": "code",
      "source": [
        "import pandas as pd\n",
        "file_path = '/content/drive/MyDrive/DS301GroupProject/tweepfake_deepfake_text_detection_test.csv'\n",
        "datatweep = pd.read_csv(file_path, sep=';')"
      ],
      "metadata": {
        "id": "5e9e9F8aARiz"
      },
      "execution_count": 44,
      "outputs": []
    },
    {
      "cell_type": "code",
      "source": [
        "datatweep[\"class_type\"].unique()"
      ],
      "metadata": {
        "colab": {
          "base_uri": "https://localhost:8080/"
        },
        "id": "m2-5d96CDt8L",
        "outputId": "1c26e306-1c23-449b-b9fb-21aeb42ab166"
      },
      "execution_count": 46,
      "outputs": [
        {
          "output_type": "execute_result",
          "data": {
            "text/plain": [
              "array(['human', 'rnn', 'others', 'gpt2'], dtype=object)"
            ]
          },
          "metadata": {},
          "execution_count": 46
        }
      ]
    },
    {
      "cell_type": "code",
      "source": [
        "datatweep = datatweep.rename(columns={'account.type':'generated'})\n",
        "\n",
        "datatweep = datatweep[['text', 'generated']]"
      ],
      "metadata": {
        "id": "KAZv7KuEARmz"
      },
      "execution_count": 26,
      "outputs": []
    },
    {
      "cell_type": "code",
      "source": [
        "datatweep['generated'] = datatweep['generated'].map({'human': 0, 'bot': 1})\n",
        "datatweep"
      ],
      "metadata": {
        "colab": {
          "base_uri": "https://localhost:8080/",
          "height": 423
        },
        "id": "6nHvTiRtA_3o",
        "outputId": "7ceb010a-7515-4d69-e289-9e796c43fa63"
      },
      "execution_count": 28,
      "outputs": [
        {
          "output_type": "execute_result",
          "data": {
            "text/plain": [
              "                                                   text  generated\n",
              "0     justin timberlake really one of the goats if y...          0\n",
              "1     Thank you @PMBhutan for your gracious prayers ...          0\n",
              "2     Theory: the number of red lights you will hit ...          0\n",
              "3     Respects on the Upt of the I good with the peo...          1\n",
              "4     Might give the BASIC #10Liner game contest ano...          0\n",
              "...                                                 ...        ...\n",
              "2553                              “The best kept secret          1\n",
              "2554  Love the Choose your own adventure style of th...          0\n",
              "2555                            JOIN OUR TEAM: Sneezing          1\n",
              "2556  These deeply discounted 256GB SanDisk flash dr...          0\n",
              "2557  @deleonfc6 diamond pearl and platinum were hon...          0\n",
              "\n",
              "[2558 rows x 2 columns]"
            ],
            "text/html": [
              "\n",
              "  <div id=\"df-4d3c4289-9fb7-4ed3-aa6b-dda0f894bc1e\" class=\"colab-df-container\">\n",
              "    <div>\n",
              "<style scoped>\n",
              "    .dataframe tbody tr th:only-of-type {\n",
              "        vertical-align: middle;\n",
              "    }\n",
              "\n",
              "    .dataframe tbody tr th {\n",
              "        vertical-align: top;\n",
              "    }\n",
              "\n",
              "    .dataframe thead th {\n",
              "        text-align: right;\n",
              "    }\n",
              "</style>\n",
              "<table border=\"1\" class=\"dataframe\">\n",
              "  <thead>\n",
              "    <tr style=\"text-align: right;\">\n",
              "      <th></th>\n",
              "      <th>text</th>\n",
              "      <th>generated</th>\n",
              "    </tr>\n",
              "  </thead>\n",
              "  <tbody>\n",
              "    <tr>\n",
              "      <th>0</th>\n",
              "      <td>justin timberlake really one of the goats if y...</td>\n",
              "      <td>0</td>\n",
              "    </tr>\n",
              "    <tr>\n",
              "      <th>1</th>\n",
              "      <td>Thank you @PMBhutan for your gracious prayers ...</td>\n",
              "      <td>0</td>\n",
              "    </tr>\n",
              "    <tr>\n",
              "      <th>2</th>\n",
              "      <td>Theory: the number of red lights you will hit ...</td>\n",
              "      <td>0</td>\n",
              "    </tr>\n",
              "    <tr>\n",
              "      <th>3</th>\n",
              "      <td>Respects on the Upt of the I good with the peo...</td>\n",
              "      <td>1</td>\n",
              "    </tr>\n",
              "    <tr>\n",
              "      <th>4</th>\n",
              "      <td>Might give the BASIC #10Liner game contest ano...</td>\n",
              "      <td>0</td>\n",
              "    </tr>\n",
              "    <tr>\n",
              "      <th>...</th>\n",
              "      <td>...</td>\n",
              "      <td>...</td>\n",
              "    </tr>\n",
              "    <tr>\n",
              "      <th>2553</th>\n",
              "      <td>“The best kept secret</td>\n",
              "      <td>1</td>\n",
              "    </tr>\n",
              "    <tr>\n",
              "      <th>2554</th>\n",
              "      <td>Love the Choose your own adventure style of th...</td>\n",
              "      <td>0</td>\n",
              "    </tr>\n",
              "    <tr>\n",
              "      <th>2555</th>\n",
              "      <td>JOIN OUR TEAM: Sneezing</td>\n",
              "      <td>1</td>\n",
              "    </tr>\n",
              "    <tr>\n",
              "      <th>2556</th>\n",
              "      <td>These deeply discounted 256GB SanDisk flash dr...</td>\n",
              "      <td>0</td>\n",
              "    </tr>\n",
              "    <tr>\n",
              "      <th>2557</th>\n",
              "      <td>@deleonfc6 diamond pearl and platinum were hon...</td>\n",
              "      <td>0</td>\n",
              "    </tr>\n",
              "  </tbody>\n",
              "</table>\n",
              "<p>2558 rows × 2 columns</p>\n",
              "</div>\n",
              "    <div class=\"colab-df-buttons\">\n",
              "\n",
              "  <div class=\"colab-df-container\">\n",
              "    <button class=\"colab-df-convert\" onclick=\"convertToInteractive('df-4d3c4289-9fb7-4ed3-aa6b-dda0f894bc1e')\"\n",
              "            title=\"Convert this dataframe to an interactive table.\"\n",
              "            style=\"display:none;\">\n",
              "\n",
              "  <svg xmlns=\"http://www.w3.org/2000/svg\" height=\"24px\" viewBox=\"0 -960 960 960\">\n",
              "    <path d=\"M120-120v-720h720v720H120Zm60-500h600v-160H180v160Zm220 220h160v-160H400v160Zm0 220h160v-160H400v160ZM180-400h160v-160H180v160Zm440 0h160v-160H620v160ZM180-180h160v-160H180v160Zm440 0h160v-160H620v160Z\"/>\n",
              "  </svg>\n",
              "    </button>\n",
              "\n",
              "  <style>\n",
              "    .colab-df-container {\n",
              "      display:flex;\n",
              "      gap: 12px;\n",
              "    }\n",
              "\n",
              "    .colab-df-convert {\n",
              "      background-color: #E8F0FE;\n",
              "      border: none;\n",
              "      border-radius: 50%;\n",
              "      cursor: pointer;\n",
              "      display: none;\n",
              "      fill: #1967D2;\n",
              "      height: 32px;\n",
              "      padding: 0 0 0 0;\n",
              "      width: 32px;\n",
              "    }\n",
              "\n",
              "    .colab-df-convert:hover {\n",
              "      background-color: #E2EBFA;\n",
              "      box-shadow: 0px 1px 2px rgba(60, 64, 67, 0.3), 0px 1px 3px 1px rgba(60, 64, 67, 0.15);\n",
              "      fill: #174EA6;\n",
              "    }\n",
              "\n",
              "    .colab-df-buttons div {\n",
              "      margin-bottom: 4px;\n",
              "    }\n",
              "\n",
              "    [theme=dark] .colab-df-convert {\n",
              "      background-color: #3B4455;\n",
              "      fill: #D2E3FC;\n",
              "    }\n",
              "\n",
              "    [theme=dark] .colab-df-convert:hover {\n",
              "      background-color: #434B5C;\n",
              "      box-shadow: 0px 1px 3px 1px rgba(0, 0, 0, 0.15);\n",
              "      filter: drop-shadow(0px 1px 2px rgba(0, 0, 0, 0.3));\n",
              "      fill: #FFFFFF;\n",
              "    }\n",
              "  </style>\n",
              "\n",
              "    <script>\n",
              "      const buttonEl =\n",
              "        document.querySelector('#df-4d3c4289-9fb7-4ed3-aa6b-dda0f894bc1e button.colab-df-convert');\n",
              "      buttonEl.style.display =\n",
              "        google.colab.kernel.accessAllowed ? 'block' : 'none';\n",
              "\n",
              "      async function convertToInteractive(key) {\n",
              "        const element = document.querySelector('#df-4d3c4289-9fb7-4ed3-aa6b-dda0f894bc1e');\n",
              "        const dataTable =\n",
              "          await google.colab.kernel.invokeFunction('convertToInteractive',\n",
              "                                                    [key], {});\n",
              "        if (!dataTable) return;\n",
              "\n",
              "        const docLinkHtml = 'Like what you see? Visit the ' +\n",
              "          '<a target=\"_blank\" href=https://colab.research.google.com/notebooks/data_table.ipynb>data table notebook</a>'\n",
              "          + ' to learn more about interactive tables.';\n",
              "        element.innerHTML = '';\n",
              "        dataTable['output_type'] = 'display_data';\n",
              "        await google.colab.output.renderOutput(dataTable, element);\n",
              "        const docLink = document.createElement('div');\n",
              "        docLink.innerHTML = docLinkHtml;\n",
              "        element.appendChild(docLink);\n",
              "      }\n",
              "    </script>\n",
              "  </div>\n",
              "\n",
              "\n",
              "<div id=\"df-2dd265f4-2132-48c6-9e16-747bb0183a37\">\n",
              "  <button class=\"colab-df-quickchart\" onclick=\"quickchart('df-2dd265f4-2132-48c6-9e16-747bb0183a37')\"\n",
              "            title=\"Suggest charts\"\n",
              "            style=\"display:none;\">\n",
              "\n",
              "<svg xmlns=\"http://www.w3.org/2000/svg\" height=\"24px\"viewBox=\"0 0 24 24\"\n",
              "     width=\"24px\">\n",
              "    <g>\n",
              "        <path d=\"M19 3H5c-1.1 0-2 .9-2 2v14c0 1.1.9 2 2 2h14c1.1 0 2-.9 2-2V5c0-1.1-.9-2-2-2zM9 17H7v-7h2v7zm4 0h-2V7h2v10zm4 0h-2v-4h2v4z\"/>\n",
              "    </g>\n",
              "</svg>\n",
              "  </button>\n",
              "\n",
              "<style>\n",
              "  .colab-df-quickchart {\n",
              "      --bg-color: #E8F0FE;\n",
              "      --fill-color: #1967D2;\n",
              "      --hover-bg-color: #E2EBFA;\n",
              "      --hover-fill-color: #174EA6;\n",
              "      --disabled-fill-color: #AAA;\n",
              "      --disabled-bg-color: #DDD;\n",
              "  }\n",
              "\n",
              "  [theme=dark] .colab-df-quickchart {\n",
              "      --bg-color: #3B4455;\n",
              "      --fill-color: #D2E3FC;\n",
              "      --hover-bg-color: #434B5C;\n",
              "      --hover-fill-color: #FFFFFF;\n",
              "      --disabled-bg-color: #3B4455;\n",
              "      --disabled-fill-color: #666;\n",
              "  }\n",
              "\n",
              "  .colab-df-quickchart {\n",
              "    background-color: var(--bg-color);\n",
              "    border: none;\n",
              "    border-radius: 50%;\n",
              "    cursor: pointer;\n",
              "    display: none;\n",
              "    fill: var(--fill-color);\n",
              "    height: 32px;\n",
              "    padding: 0;\n",
              "    width: 32px;\n",
              "  }\n",
              "\n",
              "  .colab-df-quickchart:hover {\n",
              "    background-color: var(--hover-bg-color);\n",
              "    box-shadow: 0 1px 2px rgba(60, 64, 67, 0.3), 0 1px 3px 1px rgba(60, 64, 67, 0.15);\n",
              "    fill: var(--button-hover-fill-color);\n",
              "  }\n",
              "\n",
              "  .colab-df-quickchart-complete:disabled,\n",
              "  .colab-df-quickchart-complete:disabled:hover {\n",
              "    background-color: var(--disabled-bg-color);\n",
              "    fill: var(--disabled-fill-color);\n",
              "    box-shadow: none;\n",
              "  }\n",
              "\n",
              "  .colab-df-spinner {\n",
              "    border: 2px solid var(--fill-color);\n",
              "    border-color: transparent;\n",
              "    border-bottom-color: var(--fill-color);\n",
              "    animation:\n",
              "      spin 1s steps(1) infinite;\n",
              "  }\n",
              "\n",
              "  @keyframes spin {\n",
              "    0% {\n",
              "      border-color: transparent;\n",
              "      border-bottom-color: var(--fill-color);\n",
              "      border-left-color: var(--fill-color);\n",
              "    }\n",
              "    20% {\n",
              "      border-color: transparent;\n",
              "      border-left-color: var(--fill-color);\n",
              "      border-top-color: var(--fill-color);\n",
              "    }\n",
              "    30% {\n",
              "      border-color: transparent;\n",
              "      border-left-color: var(--fill-color);\n",
              "      border-top-color: var(--fill-color);\n",
              "      border-right-color: var(--fill-color);\n",
              "    }\n",
              "    40% {\n",
              "      border-color: transparent;\n",
              "      border-right-color: var(--fill-color);\n",
              "      border-top-color: var(--fill-color);\n",
              "    }\n",
              "    60% {\n",
              "      border-color: transparent;\n",
              "      border-right-color: var(--fill-color);\n",
              "    }\n",
              "    80% {\n",
              "      border-color: transparent;\n",
              "      border-right-color: var(--fill-color);\n",
              "      border-bottom-color: var(--fill-color);\n",
              "    }\n",
              "    90% {\n",
              "      border-color: transparent;\n",
              "      border-bottom-color: var(--fill-color);\n",
              "    }\n",
              "  }\n",
              "</style>\n",
              "\n",
              "  <script>\n",
              "    async function quickchart(key) {\n",
              "      const quickchartButtonEl =\n",
              "        document.querySelector('#' + key + ' button');\n",
              "      quickchartButtonEl.disabled = true;  // To prevent multiple clicks.\n",
              "      quickchartButtonEl.classList.add('colab-df-spinner');\n",
              "      try {\n",
              "        const charts = await google.colab.kernel.invokeFunction(\n",
              "            'suggestCharts', [key], {});\n",
              "      } catch (error) {\n",
              "        console.error('Error during call to suggestCharts:', error);\n",
              "      }\n",
              "      quickchartButtonEl.classList.remove('colab-df-spinner');\n",
              "      quickchartButtonEl.classList.add('colab-df-quickchart-complete');\n",
              "    }\n",
              "    (() => {\n",
              "      let quickchartButtonEl =\n",
              "        document.querySelector('#df-2dd265f4-2132-48c6-9e16-747bb0183a37 button');\n",
              "      quickchartButtonEl.style.display =\n",
              "        google.colab.kernel.accessAllowed ? 'block' : 'none';\n",
              "    })();\n",
              "  </script>\n",
              "</div>\n",
              "    </div>\n",
              "  </div>\n"
            ],
            "application/vnd.google.colaboratory.intrinsic+json": {
              "type": "dataframe",
              "variable_name": "datatweep",
              "summary": "{\n  \"name\": \"datatweep\",\n  \"rows\": 2558,\n  \"fields\": [\n    {\n      \"column\": \"text\",\n      \"properties\": {\n        \"dtype\": \"string\",\n        \"num_unique_values\": 2558,\n        \"samples\": [\n          \"TinkerCunker is a fake guy. He never sought my permission to put stickers on his cars, he never afforded me permission to graze my truck with spraypaint, and he loves to FUCK his pets\",\n          \"\\\"The company to rather the docker section to development a . Bote all my discussize to container batches and they hads a (if Time Radionally good some webase with 'lval.login' to descript team on the is a\\\"\",\n          \"no one tries to kill whales for being whales (well besides the ones that are obviously trying to be a fuckin fish but whale still doesn\\u2019t like fish but okay hehe)\"\n        ],\n        \"semantic_type\": \"\",\n        \"description\": \"\"\n      }\n    },\n    {\n      \"column\": \"generated\",\n      \"properties\": {\n        \"dtype\": \"number\",\n        \"std\": 0,\n        \"min\": 0,\n        \"max\": 1,\n        \"num_unique_values\": 2,\n        \"samples\": [\n          1,\n          0\n        ],\n        \"semantic_type\": \"\",\n        \"description\": \"\"\n      }\n    }\n  ]\n}"
            }
          },
          "metadata": {},
          "execution_count": 28
        }
      ]
    },
    {
      "cell_type": "code",
      "source": [
        "import re\n",
        "\n",
        "#cleaning data\n",
        "def clean(text):\n",
        "    text = text.fillna(\"fillna\").str.lower()\n",
        "    text = text.map(lambda x: re.sub('\\\\n',' ',str(x)))\n",
        "    text = text.map(lambda x: re.sub('\\r','',str(x)))\n",
        "    text = text.map(lambda x: re.sub('~.*','',str(x)))\n",
        "    text = text.map(lambda x: re.sub(\"\\[\\[User.*\",'',str(x)))\n",
        "    text = text.map(lambda x: re.sub(\"\\d{1,3}\\.\\d{1,3}\\.\\d{1,3}\\.\\d{1,3}\",'',str(x)))\n",
        "    text = text.map(lambda x: re.sub(\"\\(http://.*?\\s\\(http://.*\\)\",'',str(x)))\n",
        "    return text\n",
        "\n",
        "\n",
        "datatweep['text'] = clean(datatweep['text'])"
      ],
      "metadata": {
        "id": "7Mt4badqA_7T"
      },
      "execution_count": 29,
      "outputs": []
    },
    {
      "cell_type": "code",
      "source": [
        "x_test = datatweep['text']\n",
        "y_test = datatweep['generated']"
      ],
      "metadata": {
        "id": "5iq3jUE8BuTb"
      },
      "execution_count": 31,
      "outputs": []
    },
    {
      "cell_type": "code",
      "source": [],
      "metadata": {
        "id": "LJFyW8EiG69u"
      },
      "execution_count": null,
      "outputs": []
    },
    {
      "cell_type": "markdown",
      "source": [
        "# Model Generalizability Test"
      ],
      "metadata": {
        "id": "JtUXQFp7w4bp"
      }
    },
    {
      "cell_type": "code",
      "source": [
        "from google.colab import drive\n",
        "drive.mount('/content/drive')"
      ],
      "metadata": {
        "colab": {
          "base_uri": "https://localhost:8080/"
        },
        "id": "J3b5bSfqxRk4",
        "outputId": "3fceaeac-dfbc-4335-f525-e3200b671716"
      },
      "execution_count": 2,
      "outputs": [
        {
          "output_type": "stream",
          "name": "stdout",
          "text": [
            "Mounted at /content/drive\n"
          ]
        }
      ]
    },
    {
      "cell_type": "markdown",
      "source": [
        "## Test on DistilBert Model"
      ],
      "metadata": {
        "id": "RJcp0xhU_TDR"
      }
    },
    {
      "cell_type": "markdown",
      "source": [
        "### HC3-Chinese Test"
      ],
      "metadata": {
        "id": "pMXK6wuEChhi"
      }
    },
    {
      "cell_type": "code",
      "source": [
        "from transformers import DistilBertTokenizerFast, TFDistilBertForSequenceClassification\n",
        "import pickle\n",
        "import tensorflow as tf\n",
        "\n",
        "# Load the model\n",
        "model_path = '/content/drive/MyDrive/DS301GroupProject/model_256_64/clf'\n",
        "new_model = TFDistilBertForSequenceClassification.from_pretrained(model_path)\n",
        "\n",
        "# Load the tokenizer\n",
        "tokenizer = DistilBertTokenizerFast.from_pretrained(model_path)\n",
        "\n",
        "# Load additional configuration\n",
        "config_path = '/content/drive/MyDrive/DS301GroupProject/model_256_64/info.pkl'\n",
        "model_name, max_len = pickle.load(open(config_path, 'rb'))\n"
      ],
      "metadata": {
        "colab": {
          "base_uri": "https://localhost:8080/"
        },
        "id": "JMls0fRJ2w5c",
        "outputId": "716ec365-2ad6-4c4f-8274-1c419fb616f5"
      },
      "execution_count": 1,
      "outputs": [
        {
          "output_type": "stream",
          "name": "stderr",
          "text": [
            "Some layers from the model checkpoint at /content/drive/MyDrive/DS301GroupProject/model_256_64/clf were not used when initializing TFDistilBertForSequenceClassification: ['dropout_39']\n",
            "- This IS expected if you are initializing TFDistilBertForSequenceClassification from the checkpoint of a model trained on another task or with another architecture (e.g. initializing a BertForSequenceClassification model from a BertForPreTraining model).\n",
            "- This IS NOT expected if you are initializing TFDistilBertForSequenceClassification from the checkpoint of a model that you expect to be exactly identical (initializing a BertForSequenceClassification model from a BertForSequenceClassification model).\n",
            "Some layers of TFDistilBertForSequenceClassification were not initialized from the model checkpoint at /content/drive/MyDrive/DS301GroupProject/model_256_64/clf and are newly initialized: ['dropout_19']\n",
            "You should probably TRAIN this model on a down-stream task to be able to use it for predictions and inference.\n"
          ]
        }
      ]
    },
    {
      "cell_type": "code",
      "source": [
        "def encode_texts(tokenizer, texts, max_len):\n",
        "    return tokenizer(texts, padding=True, truncation=True, max_length=max_len, return_tensors=\"tf\")\n",
        "\n",
        "encoded_test = encode_texts(tokenizer, x_test_2.tolist(), max_len)\n"
      ],
      "metadata": {
        "id": "yojd2qLu6noX"
      },
      "execution_count": 6,
      "outputs": []
    },
    {
      "cell_type": "code",
      "source": [
        "import tensorflow as tf\n",
        "\n",
        "# Assuming the `encoded_test` has keys 'input_ids', 'attention_mask' (and possibly 'token_type_ids')\n",
        "features_2 = {key: encoded_test[key] for key in ['input_ids', 'attention_mask']}\n",
        "labels_2 = y_test_2.tolist()\n",
        "\n",
        "# Creating tf.data.Dataset\n",
        "def create_tf_dataset(features, labels, batch_size=32):\n",
        "    ds = tf.data.Dataset.from_tensor_slices((features, {'labels': labels}))\n",
        "    ds = ds.batch(batch_size)\n",
        "    return ds\n",
        "\n",
        "tfdataset_test_2 = create_tf_dataset(features_2, labels_2, batch_size=64)\n"
      ],
      "metadata": {
        "id": "hnkJ5gVQ7Khp"
      },
      "execution_count": 7,
      "outputs": []
    },
    {
      "cell_type": "code",
      "source": [
        "new_model.compile(\n",
        "    optimizer=tf.keras.optimizers.Adam(learning_rate=3e-5),\n",
        "    loss=tf.keras.losses.SparseCategoricalCrossentropy(from_logits=True),\n",
        "    metrics=['accuracy']\n",
        ")\n",
        "\n",
        "# Now, you can evaluate your model on the test dataset\n",
        "evaluation = new_model.evaluate(tfdataset_test_2)\n",
        "print(f\"Test Loss: {evaluation[0]}, Test Accuracy: {evaluation[1]}\")"
      ],
      "metadata": {
        "colab": {
          "base_uri": "https://localhost:8080/"
        },
        "outputId": "c7f62b95-425c-4084-d074-acdb5ff70e6b",
        "id": "zBSvSlN97Khq"
      },
      "execution_count": 8,
      "outputs": [
        {
          "output_type": "stream",
          "name": "stderr",
          "text": [
            "WARNING:tensorflow:AutoGraph could not transform <function infer_framework at 0x7a668e636b90> and will run it as-is.\n",
            "Cause: for/else statement not yet supported\n",
            "To silence this warning, decorate the function with @tf.autograph.experimental.do_not_convert\n"
          ]
        },
        {
          "output_type": "stream",
          "name": "stdout",
          "text": [
            "WARNING: AutoGraph could not transform <function infer_framework at 0x7a668e636b90> and will run it as-is.\n",
            "Cause: for/else statement not yet supported\n",
            "To silence this warning, decorate the function with @tf.autograph.experimental.do_not_convert\n",
            "402/402 [==============================] - 92s 168ms/step - loss: 1.9407 - accuracy: 0.5247\n",
            "Test Loss: 1.940679669380188, Test Accuracy: 0.5246935486793518\n"
          ]
        }
      ]
    },
    {
      "cell_type": "code",
      "source": [],
      "metadata": {
        "id": "pU_xiYwq7Khr"
      },
      "execution_count": null,
      "outputs": []
    },
    {
      "cell_type": "markdown",
      "source": [
        "### Tweepfake Test"
      ],
      "metadata": {
        "id": "yvezPRQZCeRm"
      }
    },
    {
      "cell_type": "code",
      "source": [
        "from transformers import DistilBertTokenizerFast, TFDistilBertForSequenceClassification\n",
        "import pickle\n",
        "import tensorflow as tf\n",
        "\n",
        "# Load the model\n",
        "model_path = '/content/drive/MyDrive/DS301GroupProject/model_256_64/clf'\n",
        "new_model = TFDistilBertForSequenceClassification.from_pretrained(model_path)\n",
        "\n",
        "# Load the tokenizer\n",
        "tokenizer = DistilBertTokenizerFast.from_pretrained(model_path)\n",
        "\n",
        "# Load additional configuration\n",
        "config_path = '/content/drive/MyDrive/DS301GroupProject/model_256_64/info.pkl'\n",
        "model_name, max_len = pickle.load(open(config_path, 'rb'))\n"
      ],
      "metadata": {
        "colab": {
          "base_uri": "https://localhost:8080/"
        },
        "outputId": "210777b6-893f-4352-e9f1-349e9d1ca214",
        "id": "PRiHi4BdCFpK"
      },
      "execution_count": 32,
      "outputs": [
        {
          "output_type": "stream",
          "name": "stderr",
          "text": [
            "Some layers from the model checkpoint at /content/drive/MyDrive/DS301GroupProject/model_256_64/clf were not used when initializing TFDistilBertForSequenceClassification: ['dropout_39']\n",
            "- This IS expected if you are initializing TFDistilBertForSequenceClassification from the checkpoint of a model trained on another task or with another architecture (e.g. initializing a BertForSequenceClassification model from a BertForPreTraining model).\n",
            "- This IS NOT expected if you are initializing TFDistilBertForSequenceClassification from the checkpoint of a model that you expect to be exactly identical (initializing a BertForSequenceClassification model from a BertForSequenceClassification model).\n",
            "Some layers of TFDistilBertForSequenceClassification were not initialized from the model checkpoint at /content/drive/MyDrive/DS301GroupProject/model_256_64/clf and are newly initialized: ['dropout_125']\n",
            "You should probably TRAIN this model on a down-stream task to be able to use it for predictions and inference.\n"
          ]
        }
      ]
    },
    {
      "cell_type": "code",
      "source": [
        "def encode_texts(tokenizer, texts, max_len):\n",
        "    return tokenizer(texts, padding=True, truncation=True, max_length=max_len, return_tensors=\"tf\")\n",
        "\n",
        "encoded_test = encode_texts(tokenizer, x_test.tolist(), max_len)\n"
      ],
      "metadata": {
        "id": "BZ38yVuPCFpc"
      },
      "execution_count": 33,
      "outputs": []
    },
    {
      "cell_type": "code",
      "source": [
        "import tensorflow as tf\n",
        "\n",
        "# Assuming the `encoded_test` has keys 'input_ids', 'attention_mask' (and possibly 'token_type_ids')\n",
        "features = {key: encoded_test[key] for key in ['input_ids', 'attention_mask']}\n",
        "labels = y_test.tolist()\n",
        "\n",
        "# Creating tf.data.Dataset\n",
        "def create_tf_dataset(features, labels, batch_size=32):\n",
        "    ds = tf.data.Dataset.from_tensor_slices((features, {'labels': labels}))\n",
        "    ds = ds.batch(batch_size)\n",
        "    return ds\n",
        "\n",
        "tfdataset_test = create_tf_dataset(features, labels, batch_size=64)\n"
      ],
      "metadata": {
        "id": "_Z19lU9iCFpc"
      },
      "execution_count": 34,
      "outputs": []
    },
    {
      "cell_type": "code",
      "source": [
        "new_model.compile(\n",
        "    optimizer=tf.keras.optimizers.Adam(learning_rate=3e-5),\n",
        "    loss=tf.keras.losses.SparseCategoricalCrossentropy(from_logits=True),\n",
        "    metrics=['accuracy']\n",
        ")\n",
        "\n",
        "# Now, you can evaluate your model on the test dataset\n",
        "evaluation = new_model.evaluate(tfdataset_test)\n",
        "print(f\"Test Loss: {evaluation[0]}, Test Accuracy: {evaluation[1]}\")"
      ],
      "metadata": {
        "colab": {
          "base_uri": "https://localhost:8080/"
        },
        "outputId": "1bec9708-0dd0-4e81-dbe7-97b97b690894",
        "id": "VkaQlTVUCFpc"
      },
      "execution_count": 35,
      "outputs": [
        {
          "output_type": "stream",
          "name": "stdout",
          "text": [
            "40/40 [==============================] - 15s 168ms/step - loss: 4.0332 - accuracy: 0.4992\n",
            "Test Loss: 4.0331573486328125, Test Accuracy: 0.4992181360721588\n"
          ]
        }
      ]
    },
    {
      "cell_type": "markdown",
      "source": [
        "## Test on AlBert"
      ],
      "metadata": {
        "id": "3xakg9vc-wKc"
      }
    },
    {
      "cell_type": "markdown",
      "source": [
        "### HC3-Chinese Test"
      ],
      "metadata": {
        "id": "SXcjNqm9IQff"
      }
    },
    {
      "cell_type": "code",
      "source": [
        "from transformers import AlbertTokenizerFast, TFAlbertForSequenceClassification\n",
        "import pickle\n",
        "import tensorflow as tf\n",
        "\n",
        "# Load the model\n",
        "model_path = '/content/drive/MyDrive/DS301GroupProject/model_albert/clf'\n",
        "new_model = TFAlbertForSequenceClassification.from_pretrained(model_path)\n",
        "\n",
        "# Load the tokenizer\n",
        "tokenizer = AlbertTokenizerFast.from_pretrained(model_path)\n",
        "\n",
        "# Load additional configuration\n",
        "config_path = '/content/drive/MyDrive/DS301GroupProject/model_albert/info.pkl'\n",
        "model_name, max_len = pickle.load(open(config_path, 'rb'))\n"
      ],
      "metadata": {
        "id": "bOQoco-w5zfI",
        "colab": {
          "base_uri": "https://localhost:8080/"
        },
        "outputId": "4b46c34e-4148-44ad-bd5a-a7b344f10295"
      },
      "execution_count": 15,
      "outputs": [
        {
          "output_type": "stream",
          "name": "stderr",
          "text": [
            "You are using a model of type roberta to instantiate a model of type albert. This is not supported for all configurations of models and can yield errors.\n",
            "Some layers from the model checkpoint at /content/drive/MyDrive/DS301GroupProject/model_albert/clf were not used when initializing TFAlbertForSequenceClassification: ['roberta', 'classifier/dense/bias:0', 'classifier/out_proj/bias:0', 'classifier/dense/kernel:0', 'classifier/out_proj/kernel:0']\n",
            "- This IS expected if you are initializing TFAlbertForSequenceClassification from the checkpoint of a model trained on another task or with another architecture (e.g. initializing a BertForSequenceClassification model from a BertForPreTraining model).\n",
            "- This IS NOT expected if you are initializing TFAlbertForSequenceClassification from the checkpoint of a model that you expect to be exactly identical (initializing a BertForSequenceClassification model from a BertForSequenceClassification model).\n",
            "Some layers of TFAlbertForSequenceClassification were not initialized from the model checkpoint at /content/drive/MyDrive/DS301GroupProject/model_albert/clf and are newly initialized: ['albert', 'classifier/bias:0', 'classifier/kernel:0']\n",
            "You should probably TRAIN this model on a down-stream task to be able to use it for predictions and inference.\n"
          ]
        }
      ]
    },
    {
      "cell_type": "code",
      "source": [
        "max_len"
      ],
      "metadata": {
        "id": "1uE8YIcp5zhn",
        "colab": {
          "base_uri": "https://localhost:8080/"
        },
        "outputId": "484acb3e-3f1e-4ac7-cada-8ba90aa77bf1"
      },
      "execution_count": 10,
      "outputs": [
        {
          "output_type": "execute_result",
          "data": {
            "text/plain": [
              "128"
            ]
          },
          "metadata": {},
          "execution_count": 10
        }
      ]
    },
    {
      "cell_type": "code",
      "source": [
        "def encode_texts(tokenizer, texts, max_len):\n",
        "    return tokenizer(texts, padding=True, truncation=True, max_length=max_len, return_tensors=\"tf\")\n",
        "\n",
        "encoded_test = encode_texts(tokenizer, x_test_2.tolist(), max_len)\n"
      ],
      "metadata": {
        "id": "8KjatKe087lH"
      },
      "execution_count": 11,
      "outputs": []
    },
    {
      "cell_type": "code",
      "source": [
        "import tensorflow as tf\n",
        "\n",
        "# Assuming the `encoded_test` has keys 'input_ids', 'attention_mask' (and possibly 'token_type_ids')\n",
        "features_2 = {key: encoded_test[key] for key in ['input_ids', 'attention_mask']}\n",
        "labels_2 = y_test_2.tolist()\n",
        "\n",
        "# Creating tf.data.Dataset\n",
        "def create_tf_dataset(features, labels, batch_size=32):\n",
        "    ds = tf.data.Dataset.from_tensor_slices((features, {'labels': labels}))\n",
        "    ds = ds.batch(batch_size)\n",
        "    return ds\n",
        "\n",
        "tfdataset_test_2 = create_tf_dataset(features_2, labels_2, batch_size=64)\n"
      ],
      "metadata": {
        "id": "bTmU3tDc87lQ"
      },
      "execution_count": 12,
      "outputs": []
    },
    {
      "cell_type": "code",
      "source": [
        "new_model.compile(\n",
        "    optimizer=tf.keras.optimizers.Adam(learning_rate=3e-5),\n",
        "    loss=tf.keras.losses.SparseCategoricalCrossentropy(from_logits=True),\n",
        "    metrics=['accuracy']\n",
        ")\n",
        "\n",
        "# Now, you can evaluate your model on the test dataset\n",
        "evaluation = new_model.evaluate(tfdataset_test_2)\n",
        "print(f\"Test Loss: {evaluation[0]}, Test Accuracy: {evaluation[1]}\")"
      ],
      "metadata": {
        "colab": {
          "base_uri": "https://localhost:8080/"
        },
        "outputId": "9cfa126f-c018-414f-bbda-be008ac002f3",
        "id": "xONxQash87lQ"
      },
      "execution_count": 13,
      "outputs": [
        {
          "output_type": "stream",
          "name": "stdout",
          "text": [
            "402/402 [==============================] - 86s 172ms/step - loss: 0.6998 - accuracy: 0.5000\n",
            "Test Loss: 0.6998257040977478, Test Accuracy: 0.5000194311141968\n"
          ]
        }
      ]
    },
    {
      "cell_type": "markdown",
      "source": [
        "### Tweepfake Test"
      ],
      "metadata": {
        "id": "9436NxlUIYWD"
      }
    },
    {
      "cell_type": "code",
      "source": [
        "from transformers import AlbertTokenizerFast, TFAlbertForSequenceClassification\n",
        "import pickle\n",
        "import tensorflow as tf\n",
        "\n",
        "# Load the model\n",
        "model_path = '/content/drive/MyDrive/DS301GroupProject/model_albert/clf'\n",
        "new_model = TFAlbertForSequenceClassification.from_pretrained(model_path)\n",
        "\n",
        "# Load the tokenizer\n",
        "tokenizer = AlbertTokenizerFast.from_pretrained(model_path)\n",
        "\n",
        "# Load additional configuration\n",
        "config_path = '/content/drive/MyDrive/DS301GroupProject/model_albert/info.pkl'\n",
        "model_name, max_len = pickle.load(open(config_path, 'rb'))\n"
      ],
      "metadata": {
        "colab": {
          "base_uri": "https://localhost:8080/"
        },
        "outputId": "e538b4c2-55d8-4447-f70d-bc1a82f4657c",
        "id": "FeDKg8ioDE75"
      },
      "execution_count": 36,
      "outputs": [
        {
          "output_type": "stream",
          "name": "stderr",
          "text": [
            "You are using a model of type roberta to instantiate a model of type albert. This is not supported for all configurations of models and can yield errors.\n",
            "Some layers from the model checkpoint at /content/drive/MyDrive/DS301GroupProject/model_albert/clf were not used when initializing TFAlbertForSequenceClassification: ['roberta', 'classifier/dense/bias:0', 'classifier/out_proj/bias:0', 'classifier/dense/kernel:0', 'classifier/out_proj/kernel:0']\n",
            "- This IS expected if you are initializing TFAlbertForSequenceClassification from the checkpoint of a model trained on another task or with another architecture (e.g. initializing a BertForSequenceClassification model from a BertForPreTraining model).\n",
            "- This IS NOT expected if you are initializing TFAlbertForSequenceClassification from the checkpoint of a model that you expect to be exactly identical (initializing a BertForSequenceClassification model from a BertForSequenceClassification model).\n",
            "Some layers of TFAlbertForSequenceClassification were not initialized from the model checkpoint at /content/drive/MyDrive/DS301GroupProject/model_albert/clf and are newly initialized: ['albert', 'classifier/bias:0', 'classifier/kernel:0']\n",
            "You should probably TRAIN this model on a down-stream task to be able to use it for predictions and inference.\n"
          ]
        }
      ]
    },
    {
      "cell_type": "code",
      "source": [
        "def encode_texts(tokenizer, texts, max_len):\n",
        "    return tokenizer(texts, padding=True, truncation=True, max_length=max_len, return_tensors=\"tf\")\n",
        "\n",
        "encoded_test = encode_texts(tokenizer, x_test.tolist(), max_len)\n"
      ],
      "metadata": {
        "id": "sb7kSUh_DO_U"
      },
      "execution_count": 37,
      "outputs": []
    },
    {
      "cell_type": "code",
      "source": [
        "import tensorflow as tf\n",
        "\n",
        "# Assuming the `encoded_test` has keys 'input_ids', 'attention_mask' (and possibly 'token_type_ids')\n",
        "features = {key: encoded_test[key] for key in ['input_ids', 'attention_mask']}\n",
        "labels = y_test.tolist()\n",
        "\n",
        "# Creating tf.data.Dataset\n",
        "def create_tf_dataset(features, labels, batch_size=32):\n",
        "    ds = tf.data.Dataset.from_tensor_slices((features, {'labels': labels}))\n",
        "    ds = ds.batch(batch_size)\n",
        "    return ds\n",
        "\n",
        "tfdataset_test = create_tf_dataset(features, labels, batch_size=64)\n"
      ],
      "metadata": {
        "id": "EPycfnMyDO_Z"
      },
      "execution_count": 38,
      "outputs": []
    },
    {
      "cell_type": "code",
      "source": [
        "new_model.compile(\n",
        "    optimizer=tf.keras.optimizers.Adam(learning_rate=3e-5),\n",
        "    loss=tf.keras.losses.SparseCategoricalCrossentropy(from_logits=True),\n",
        "    metrics=['accuracy']\n",
        ")\n",
        "\n",
        "# Now, you can evaluate your model on the test dataset\n",
        "evaluation = new_model.evaluate(tfdataset_test)\n",
        "print(f\"Test Loss: {evaluation[0]}, Test Accuracy: {evaluation[1]}\")"
      ],
      "metadata": {
        "colab": {
          "base_uri": "https://localhost:8080/"
        },
        "outputId": "eadef363-e182-4fe9-cafa-471f25e2d906",
        "id": "K5WA-K-gDO_Z"
      },
      "execution_count": 39,
      "outputs": [
        {
          "output_type": "stream",
          "name": "stdout",
          "text": [
            "40/40 [==============================] - 24s 172ms/step - loss: 0.7006 - accuracy: 0.4926\n",
            "Test Loss: 0.7005922198295593, Test Accuracy: 0.4925723075866699\n"
          ]
        }
      ]
    },
    {
      "cell_type": "markdown",
      "source": [
        "## Test on RoBerta"
      ],
      "metadata": {
        "id": "fNF2YIUG-rN8"
      }
    },
    {
      "cell_type": "markdown",
      "source": [
        "### HC3-Chinese Test"
      ],
      "metadata": {
        "id": "WNfN0GmMIl3q"
      }
    },
    {
      "cell_type": "code",
      "source": [
        "from transformers import RobertaTokenizerFast, TFRobertaForSequenceClassification\n",
        "import pickle\n",
        "import tensorflow as tf\n",
        "\n",
        "# Load the model\n",
        "model_path = '/content/drive/MyDrive/DS301GroupProject/Roberta_model/clf'\n",
        "new_model = TFRobertaForSequenceClassification.from_pretrained(model_path)\n",
        "\n",
        "# Load the tokenizer\n",
        "tokenizer = RobertaTokenizerFast.from_pretrained(model_path)\n",
        "\n",
        "# Load additional configuration\n",
        "config_path = '/content/drive/MyDrive/DS301GroupProject/Roberta_model/info.pkl'\n",
        "model_name, max_len = pickle.load(open(config_path, 'rb'))\n"
      ],
      "metadata": {
        "colab": {
          "base_uri": "https://localhost:8080/"
        },
        "id": "tV3bsDRl-A5Y",
        "outputId": "4df36482-ec77-409b-f57c-94b8c0440608"
      },
      "execution_count": 16,
      "outputs": [
        {
          "output_type": "stream",
          "name": "stderr",
          "text": [
            "All model checkpoint layers were used when initializing TFRobertaForSequenceClassification.\n",
            "\n",
            "All the layers of TFRobertaForSequenceClassification were initialized from the model checkpoint at /content/drive/MyDrive/DS301GroupProject/Roberta_model/clf.\n",
            "If your task is similar to the task the model of the checkpoint was trained on, you can already use TFRobertaForSequenceClassification for predictions without further training.\n"
          ]
        }
      ]
    },
    {
      "cell_type": "code",
      "source": [
        "def encode_texts(tokenizer, texts, max_len):\n",
        "    return tokenizer(texts, padding=True, truncation=True, max_length=max_len, return_tensors=\"tf\")\n",
        "\n",
        "encoded_test = encode_texts(tokenizer, x_test_2.tolist(), max_len)\n"
      ],
      "metadata": {
        "id": "6RMVu4_9-jTT"
      },
      "execution_count": 17,
      "outputs": []
    },
    {
      "cell_type": "code",
      "source": [
        "import tensorflow as tf\n",
        "\n",
        "# Assuming the `encoded_test` has keys 'input_ids', 'attention_mask' (and possibly 'token_type_ids')\n",
        "features_2 = {key: encoded_test[key] for key in ['input_ids', 'attention_mask']}\n",
        "labels_2 = y_test_2.tolist()\n",
        "\n",
        "# Creating tf.data.Dataset\n",
        "def create_tf_dataset(features, labels, batch_size=32):\n",
        "    ds = tf.data.Dataset.from_tensor_slices((features, {'labels': labels}))\n",
        "    ds = ds.batch(batch_size)\n",
        "    return ds\n",
        "\n",
        "tfdataset_test_2 = create_tf_dataset(features_2, labels_2, batch_size=64)\n"
      ],
      "metadata": {
        "id": "1e9Ht55g-jTU"
      },
      "execution_count": 18,
      "outputs": []
    },
    {
      "cell_type": "code",
      "source": [
        "new_model.compile(\n",
        "    optimizer=tf.keras.optimizers.Adam(learning_rate=3e-5),\n",
        "    loss=tf.keras.losses.SparseCategoricalCrossentropy(from_logits=True),\n",
        "    metrics=['accuracy']\n",
        ")\n",
        "\n",
        "# Now, you can evaluate your model on the test dataset\n",
        "evaluation = new_model.evaluate(tfdataset_test_2)\n",
        "print(f\"Test Loss: {evaluation[0]}, Test Accuracy: {evaluation[1]}\")"
      ],
      "metadata": {
        "colab": {
          "base_uri": "https://localhost:8080/"
        },
        "outputId": "5d7cdc42-2424-45ce-be0b-da910b4d846b",
        "id": "E6S9QCyO-jTU"
      },
      "execution_count": 19,
      "outputs": [
        {
          "output_type": "stream",
          "name": "stdout",
          "text": [
            "402/402 [==============================] - 94s 173ms/step - loss: 4.3434 - accuracy: 0.5293\n",
            "Test Loss: 4.343358993530273, Test Accuracy: 0.5293247699737549\n"
          ]
        }
      ]
    },
    {
      "cell_type": "code",
      "source": [],
      "metadata": {
        "id": "7y15X5Mn-jTV"
      },
      "execution_count": null,
      "outputs": []
    },
    {
      "cell_type": "markdown",
      "source": [
        "### Tweepfake Test"
      ],
      "metadata": {
        "id": "AH12u3YxIiSw"
      }
    },
    {
      "cell_type": "code",
      "source": [
        "from transformers import RobertaTokenizerFast, TFRobertaForSequenceClassification\n",
        "import pickle\n",
        "import tensorflow as tf\n",
        "\n",
        "# Load the model\n",
        "model_path = '/content/drive/MyDrive/DS301GroupProject/Roberta_model/clf'\n",
        "new_model = TFRobertaForSequenceClassification.from_pretrained(model_path)\n",
        "\n",
        "# Load the tokenizer\n",
        "tokenizer = RobertaTokenizerFast.from_pretrained(model_path)\n",
        "\n",
        "# Load additional configuration\n",
        "config_path = '/content/drive/MyDrive/DS301GroupProject/Roberta_model/info.pkl'\n",
        "model_name, max_len = pickle.load(open(config_path, 'rb'))\n"
      ],
      "metadata": {
        "colab": {
          "base_uri": "https://localhost:8080/"
        },
        "id": "IVWsAvZCDYBT",
        "outputId": "6a5c372a-55d4-4766-e713-56b9ec660325"
      },
      "execution_count": 40,
      "outputs": [
        {
          "output_type": "stream",
          "name": "stderr",
          "text": [
            "All model checkpoint layers were used when initializing TFRobertaForSequenceClassification.\n",
            "\n",
            "All the layers of TFRobertaForSequenceClassification were initialized from the model checkpoint at /content/drive/MyDrive/DS301GroupProject/Roberta_model/clf.\n",
            "If your task is similar to the task the model of the checkpoint was trained on, you can already use TFRobertaForSequenceClassification for predictions without further training.\n"
          ]
        }
      ]
    },
    {
      "cell_type": "code",
      "source": [
        "def encode_texts(tokenizer, texts, max_len):\n",
        "    return tokenizer(texts, padding=True, truncation=True, max_length=max_len, return_tensors=\"tf\")\n",
        "\n",
        "encoded_test = encode_texts(tokenizer, x_test.tolist(), max_len)\n"
      ],
      "metadata": {
        "id": "Kau8wQLfDdke"
      },
      "execution_count": 41,
      "outputs": []
    },
    {
      "cell_type": "code",
      "source": [
        "import tensorflow as tf\n",
        "\n",
        "# Assuming the `encoded_test` has keys 'input_ids', 'attention_mask' (and possibly 'token_type_ids')\n",
        "features = {key: encoded_test[key] for key in ['input_ids', 'attention_mask']}\n",
        "labels = y_test.tolist()\n",
        "\n",
        "# Creating tf.data.Dataset\n",
        "def create_tf_dataset(features, labels, batch_size=32):\n",
        "    ds = tf.data.Dataset.from_tensor_slices((features, {'labels': labels}))\n",
        "    ds = ds.batch(batch_size)\n",
        "    return ds\n",
        "\n",
        "tfdataset_test = create_tf_dataset(features, labels, batch_size=64)\n"
      ],
      "metadata": {
        "id": "YkVRr2hHDdkh"
      },
      "execution_count": 42,
      "outputs": []
    },
    {
      "cell_type": "code",
      "source": [
        "new_model.compile(\n",
        "    optimizer=tf.keras.optimizers.Adam(learning_rate=3e-5),\n",
        "    loss=tf.keras.losses.SparseCategoricalCrossentropy(from_logits=True),\n",
        "    metrics=['accuracy']\n",
        ")\n",
        "\n",
        "# Now, you can evaluate your model on the test dataset\n",
        "evaluation = new_model.evaluate(tfdataset_test)\n",
        "print(f\"Test Loss: {evaluation[0]}, Test Accuracy: {evaluation[1]}\")"
      ],
      "metadata": {
        "colab": {
          "base_uri": "https://localhost:8080/"
        },
        "outputId": "0b3db6d8-0eab-4f7d-c43b-5c5f6ca2ef6e",
        "id": "1cRuxuIdDdkh"
      },
      "execution_count": 43,
      "outputs": [
        {
          "output_type": "stream",
          "name": "stdout",
          "text": [
            "40/40 [==============================] - 29s 174ms/step - loss: 5.0439 - accuracy: 0.4949\n",
            "Test Loss: 5.043901443481445, Test Accuracy: 0.4949178993701935\n"
          ]
        }
      ]
    }
  ],
  "metadata": {
    "colab": {
      "provenance": [],
      "collapsed_sections": [
        "ZO5aiRIcQX3v"
      ],
      "machine_shape": "hm",
      "gpuType": "V100",
      "toc_visible": true
    },
    "kaggle": {
      "accelerator": "tpuV38",
      "dataSources": [
        {
          "databundleVersionId": 2703900,
          "sourceId": 19018,
          "sourceType": "competition"
        },
        {
          "datasetId": 8090,
          "sourceId": 11361,
          "sourceType": "datasetVersion"
        }
      ],
      "dockerImageVersionId": 30299,
      "isGpuEnabled": false,
      "isInternetEnabled": true,
      "language": "python",
      "sourceType": "notebook"
    },
    "kernelspec": {
      "display_name": "Python 3",
      "name": "python3"
    },
    "language_info": {
      "codemirror_mode": {
        "name": "ipython",
        "version": 3
      },
      "file_extension": ".py",
      "mimetype": "text/x-python",
      "name": "python",
      "nbconvert_exporter": "python",
      "pygments_lexer": "ipython3",
      "version": "3.6.4"
    },
    "accelerator": "GPU",
    "widgets": {
      "application/vnd.jupyter.widget-state+json": {
        "a119f2ed569549518c303f45abf173a7": {
          "model_module": "@jupyter-widgets/controls",
          "model_name": "HBoxModel",
          "model_module_version": "1.5.0",
          "state": {
            "_dom_classes": [],
            "_model_module": "@jupyter-widgets/controls",
            "_model_module_version": "1.5.0",
            "_model_name": "HBoxModel",
            "_view_count": null,
            "_view_module": "@jupyter-widgets/controls",
            "_view_module_version": "1.5.0",
            "_view_name": "HBoxView",
            "box_style": "",
            "children": [
              "IPY_MODEL_c744ffc9028d415b966f6a65351cdca4",
              "IPY_MODEL_f89746aacfbf4473bc757f42e96dd693",
              "IPY_MODEL_b33a33246d924e7f99f54034e722fd79"
            ],
            "layout": "IPY_MODEL_f95117eda0984291b557caf43dd6480e"
          }
        },
        "c744ffc9028d415b966f6a65351cdca4": {
          "model_module": "@jupyter-widgets/controls",
          "model_name": "HTMLModel",
          "model_module_version": "1.5.0",
          "state": {
            "_dom_classes": [],
            "_model_module": "@jupyter-widgets/controls",
            "_model_module_version": "1.5.0",
            "_model_name": "HTMLModel",
            "_view_count": null,
            "_view_module": "@jupyter-widgets/controls",
            "_view_module_version": "1.5.0",
            "_view_name": "HTMLView",
            "description": "",
            "description_tooltip": null,
            "layout": "IPY_MODEL_aaef42b3689b41a5a2170e941cc5f184",
            "placeholder": "​",
            "style": "IPY_MODEL_cfc68ccccbc7426c830c214501eb12a4",
            "value": "Downloading data: 100%"
          }
        },
        "f89746aacfbf4473bc757f42e96dd693": {
          "model_module": "@jupyter-widgets/controls",
          "model_name": "FloatProgressModel",
          "model_module_version": "1.5.0",
          "state": {
            "_dom_classes": [],
            "_model_module": "@jupyter-widgets/controls",
            "_model_module_version": "1.5.0",
            "_model_name": "FloatProgressModel",
            "_view_count": null,
            "_view_module": "@jupyter-widgets/controls",
            "_view_module_version": "1.5.0",
            "_view_name": "ProgressView",
            "bar_style": "success",
            "description": "",
            "description_tooltip": null,
            "layout": "IPY_MODEL_659c2d2974874430ac6ac280c149ce64",
            "max": 12643938,
            "min": 0,
            "orientation": "horizontal",
            "style": "IPY_MODEL_8e92bbd6c85441f78db7227741674781",
            "value": 12643938
          }
        },
        "b33a33246d924e7f99f54034e722fd79": {
          "model_module": "@jupyter-widgets/controls",
          "model_name": "HTMLModel",
          "model_module_version": "1.5.0",
          "state": {
            "_dom_classes": [],
            "_model_module": "@jupyter-widgets/controls",
            "_model_module_version": "1.5.0",
            "_model_name": "HTMLModel",
            "_view_count": null,
            "_view_module": "@jupyter-widgets/controls",
            "_view_module_version": "1.5.0",
            "_view_name": "HTMLView",
            "description": "",
            "description_tooltip": null,
            "layout": "IPY_MODEL_46fb83a9ff7046d7a0b88e71e816c9e8",
            "placeholder": "​",
            "style": "IPY_MODEL_55957311774a4bf6a465215645b27f14",
            "value": " 12.6M/12.6M [00:01&lt;00:00, 6.86MB/s]"
          }
        },
        "f95117eda0984291b557caf43dd6480e": {
          "model_module": "@jupyter-widgets/base",
          "model_name": "LayoutModel",
          "model_module_version": "1.2.0",
          "state": {
            "_model_module": "@jupyter-widgets/base",
            "_model_module_version": "1.2.0",
            "_model_name": "LayoutModel",
            "_view_count": null,
            "_view_module": "@jupyter-widgets/base",
            "_view_module_version": "1.2.0",
            "_view_name": "LayoutView",
            "align_content": null,
            "align_items": null,
            "align_self": null,
            "border": null,
            "bottom": null,
            "display": null,
            "flex": null,
            "flex_flow": null,
            "grid_area": null,
            "grid_auto_columns": null,
            "grid_auto_flow": null,
            "grid_auto_rows": null,
            "grid_column": null,
            "grid_gap": null,
            "grid_row": null,
            "grid_template_areas": null,
            "grid_template_columns": null,
            "grid_template_rows": null,
            "height": null,
            "justify_content": null,
            "justify_items": null,
            "left": null,
            "margin": null,
            "max_height": null,
            "max_width": null,
            "min_height": null,
            "min_width": null,
            "object_fit": null,
            "object_position": null,
            "order": null,
            "overflow": null,
            "overflow_x": null,
            "overflow_y": null,
            "padding": null,
            "right": null,
            "top": null,
            "visibility": null,
            "width": null
          }
        },
        "aaef42b3689b41a5a2170e941cc5f184": {
          "model_module": "@jupyter-widgets/base",
          "model_name": "LayoutModel",
          "model_module_version": "1.2.0",
          "state": {
            "_model_module": "@jupyter-widgets/base",
            "_model_module_version": "1.2.0",
            "_model_name": "LayoutModel",
            "_view_count": null,
            "_view_module": "@jupyter-widgets/base",
            "_view_module_version": "1.2.0",
            "_view_name": "LayoutView",
            "align_content": null,
            "align_items": null,
            "align_self": null,
            "border": null,
            "bottom": null,
            "display": null,
            "flex": null,
            "flex_flow": null,
            "grid_area": null,
            "grid_auto_columns": null,
            "grid_auto_flow": null,
            "grid_auto_rows": null,
            "grid_column": null,
            "grid_gap": null,
            "grid_row": null,
            "grid_template_areas": null,
            "grid_template_columns": null,
            "grid_template_rows": null,
            "height": null,
            "justify_content": null,
            "justify_items": null,
            "left": null,
            "margin": null,
            "max_height": null,
            "max_width": null,
            "min_height": null,
            "min_width": null,
            "object_fit": null,
            "object_position": null,
            "order": null,
            "overflow": null,
            "overflow_x": null,
            "overflow_y": null,
            "padding": null,
            "right": null,
            "top": null,
            "visibility": null,
            "width": null
          }
        },
        "cfc68ccccbc7426c830c214501eb12a4": {
          "model_module": "@jupyter-widgets/controls",
          "model_name": "DescriptionStyleModel",
          "model_module_version": "1.5.0",
          "state": {
            "_model_module": "@jupyter-widgets/controls",
            "_model_module_version": "1.5.0",
            "_model_name": "DescriptionStyleModel",
            "_view_count": null,
            "_view_module": "@jupyter-widgets/base",
            "_view_module_version": "1.2.0",
            "_view_name": "StyleView",
            "description_width": ""
          }
        },
        "659c2d2974874430ac6ac280c149ce64": {
          "model_module": "@jupyter-widgets/base",
          "model_name": "LayoutModel",
          "model_module_version": "1.2.0",
          "state": {
            "_model_module": "@jupyter-widgets/base",
            "_model_module_version": "1.2.0",
            "_model_name": "LayoutModel",
            "_view_count": null,
            "_view_module": "@jupyter-widgets/base",
            "_view_module_version": "1.2.0",
            "_view_name": "LayoutView",
            "align_content": null,
            "align_items": null,
            "align_self": null,
            "border": null,
            "bottom": null,
            "display": null,
            "flex": null,
            "flex_flow": null,
            "grid_area": null,
            "grid_auto_columns": null,
            "grid_auto_flow": null,
            "grid_auto_rows": null,
            "grid_column": null,
            "grid_gap": null,
            "grid_row": null,
            "grid_template_areas": null,
            "grid_template_columns": null,
            "grid_template_rows": null,
            "height": null,
            "justify_content": null,
            "justify_items": null,
            "left": null,
            "margin": null,
            "max_height": null,
            "max_width": null,
            "min_height": null,
            "min_width": null,
            "object_fit": null,
            "object_position": null,
            "order": null,
            "overflow": null,
            "overflow_x": null,
            "overflow_y": null,
            "padding": null,
            "right": null,
            "top": null,
            "visibility": null,
            "width": null
          }
        },
        "8e92bbd6c85441f78db7227741674781": {
          "model_module": "@jupyter-widgets/controls",
          "model_name": "ProgressStyleModel",
          "model_module_version": "1.5.0",
          "state": {
            "_model_module": "@jupyter-widgets/controls",
            "_model_module_version": "1.5.0",
            "_model_name": "ProgressStyleModel",
            "_view_count": null,
            "_view_module": "@jupyter-widgets/base",
            "_view_module_version": "1.2.0",
            "_view_name": "StyleView",
            "bar_color": null,
            "description_width": ""
          }
        },
        "46fb83a9ff7046d7a0b88e71e816c9e8": {
          "model_module": "@jupyter-widgets/base",
          "model_name": "LayoutModel",
          "model_module_version": "1.2.0",
          "state": {
            "_model_module": "@jupyter-widgets/base",
            "_model_module_version": "1.2.0",
            "_model_name": "LayoutModel",
            "_view_count": null,
            "_view_module": "@jupyter-widgets/base",
            "_view_module_version": "1.2.0",
            "_view_name": "LayoutView",
            "align_content": null,
            "align_items": null,
            "align_self": null,
            "border": null,
            "bottom": null,
            "display": null,
            "flex": null,
            "flex_flow": null,
            "grid_area": null,
            "grid_auto_columns": null,
            "grid_auto_flow": null,
            "grid_auto_rows": null,
            "grid_column": null,
            "grid_gap": null,
            "grid_row": null,
            "grid_template_areas": null,
            "grid_template_columns": null,
            "grid_template_rows": null,
            "height": null,
            "justify_content": null,
            "justify_items": null,
            "left": null,
            "margin": null,
            "max_height": null,
            "max_width": null,
            "min_height": null,
            "min_width": null,
            "object_fit": null,
            "object_position": null,
            "order": null,
            "overflow": null,
            "overflow_x": null,
            "overflow_y": null,
            "padding": null,
            "right": null,
            "top": null,
            "visibility": null,
            "width": null
          }
        },
        "55957311774a4bf6a465215645b27f14": {
          "model_module": "@jupyter-widgets/controls",
          "model_name": "DescriptionStyleModel",
          "model_module_version": "1.5.0",
          "state": {
            "_model_module": "@jupyter-widgets/controls",
            "_model_module_version": "1.5.0",
            "_model_name": "DescriptionStyleModel",
            "_view_count": null,
            "_view_module": "@jupyter-widgets/base",
            "_view_module_version": "1.2.0",
            "_view_name": "StyleView",
            "description_width": ""
          }
        },
        "5769c657965447fdb6ee5fda793079af": {
          "model_module": "@jupyter-widgets/controls",
          "model_name": "HBoxModel",
          "model_module_version": "1.5.0",
          "state": {
            "_dom_classes": [],
            "_model_module": "@jupyter-widgets/controls",
            "_model_module_version": "1.5.0",
            "_model_name": "HBoxModel",
            "_view_count": null,
            "_view_module": "@jupyter-widgets/controls",
            "_view_module_version": "1.5.0",
            "_view_name": "HBoxView",
            "box_style": "",
            "children": [
              "IPY_MODEL_86359d2072344bb68974cda534e8cd99",
              "IPY_MODEL_4b89d8cacdc34921bb6049b494012ac6",
              "IPY_MODEL_1795b32f447a4ffd80e9035d1e73f2ac"
            ],
            "layout": "IPY_MODEL_3686446eb3034eb1ad2d0e94a22f1c36"
          }
        },
        "86359d2072344bb68974cda534e8cd99": {
          "model_module": "@jupyter-widgets/controls",
          "model_name": "HTMLModel",
          "model_module_version": "1.5.0",
          "state": {
            "_dom_classes": [],
            "_model_module": "@jupyter-widgets/controls",
            "_model_module_version": "1.5.0",
            "_model_name": "HTMLModel",
            "_view_count": null,
            "_view_module": "@jupyter-widgets/controls",
            "_view_module_version": "1.5.0",
            "_view_name": "HTMLView",
            "description": "",
            "description_tooltip": null,
            "layout": "IPY_MODEL_ccdb706b58594948b565c6fe17af2f68",
            "placeholder": "​",
            "style": "IPY_MODEL_304ccbd2707847768bc031064885b3b4",
            "value": "Generating train split: 100%"
          }
        },
        "4b89d8cacdc34921bb6049b494012ac6": {
          "model_module": "@jupyter-widgets/controls",
          "model_name": "FloatProgressModel",
          "model_module_version": "1.5.0",
          "state": {
            "_dom_classes": [],
            "_model_module": "@jupyter-widgets/controls",
            "_model_module_version": "1.5.0",
            "_model_name": "FloatProgressModel",
            "_view_count": null,
            "_view_module": "@jupyter-widgets/controls",
            "_view_module_version": "1.5.0",
            "_view_name": "ProgressView",
            "bar_style": "success",
            "description": "",
            "description_tooltip": null,
            "layout": "IPY_MODEL_e7e258d758c445008b7c59f36c1a7c86",
            "max": 12853,
            "min": 0,
            "orientation": "horizontal",
            "style": "IPY_MODEL_910b6213a5894dfcbfada196ffedf398",
            "value": 12853
          }
        },
        "1795b32f447a4ffd80e9035d1e73f2ac": {
          "model_module": "@jupyter-widgets/controls",
          "model_name": "HTMLModel",
          "model_module_version": "1.5.0",
          "state": {
            "_dom_classes": [],
            "_model_module": "@jupyter-widgets/controls",
            "_model_module_version": "1.5.0",
            "_model_name": "HTMLModel",
            "_view_count": null,
            "_view_module": "@jupyter-widgets/controls",
            "_view_module_version": "1.5.0",
            "_view_name": "HTMLView",
            "description": "",
            "description_tooltip": null,
            "layout": "IPY_MODEL_da5e34d8bcfc4d5192dbe0a2e9f2dff9",
            "placeholder": "​",
            "style": "IPY_MODEL_aebaed630adb4d5c8d4a19fbd7ed986f",
            "value": " 12853/12853 [00:00&lt;00:00, 96090.36 examples/s]"
          }
        },
        "3686446eb3034eb1ad2d0e94a22f1c36": {
          "model_module": "@jupyter-widgets/base",
          "model_name": "LayoutModel",
          "model_module_version": "1.2.0",
          "state": {
            "_model_module": "@jupyter-widgets/base",
            "_model_module_version": "1.2.0",
            "_model_name": "LayoutModel",
            "_view_count": null,
            "_view_module": "@jupyter-widgets/base",
            "_view_module_version": "1.2.0",
            "_view_name": "LayoutView",
            "align_content": null,
            "align_items": null,
            "align_self": null,
            "border": null,
            "bottom": null,
            "display": null,
            "flex": null,
            "flex_flow": null,
            "grid_area": null,
            "grid_auto_columns": null,
            "grid_auto_flow": null,
            "grid_auto_rows": null,
            "grid_column": null,
            "grid_gap": null,
            "grid_row": null,
            "grid_template_areas": null,
            "grid_template_columns": null,
            "grid_template_rows": null,
            "height": null,
            "justify_content": null,
            "justify_items": null,
            "left": null,
            "margin": null,
            "max_height": null,
            "max_width": null,
            "min_height": null,
            "min_width": null,
            "object_fit": null,
            "object_position": null,
            "order": null,
            "overflow": null,
            "overflow_x": null,
            "overflow_y": null,
            "padding": null,
            "right": null,
            "top": null,
            "visibility": null,
            "width": null
          }
        },
        "ccdb706b58594948b565c6fe17af2f68": {
          "model_module": "@jupyter-widgets/base",
          "model_name": "LayoutModel",
          "model_module_version": "1.2.0",
          "state": {
            "_model_module": "@jupyter-widgets/base",
            "_model_module_version": "1.2.0",
            "_model_name": "LayoutModel",
            "_view_count": null,
            "_view_module": "@jupyter-widgets/base",
            "_view_module_version": "1.2.0",
            "_view_name": "LayoutView",
            "align_content": null,
            "align_items": null,
            "align_self": null,
            "border": null,
            "bottom": null,
            "display": null,
            "flex": null,
            "flex_flow": null,
            "grid_area": null,
            "grid_auto_columns": null,
            "grid_auto_flow": null,
            "grid_auto_rows": null,
            "grid_column": null,
            "grid_gap": null,
            "grid_row": null,
            "grid_template_areas": null,
            "grid_template_columns": null,
            "grid_template_rows": null,
            "height": null,
            "justify_content": null,
            "justify_items": null,
            "left": null,
            "margin": null,
            "max_height": null,
            "max_width": null,
            "min_height": null,
            "min_width": null,
            "object_fit": null,
            "object_position": null,
            "order": null,
            "overflow": null,
            "overflow_x": null,
            "overflow_y": null,
            "padding": null,
            "right": null,
            "top": null,
            "visibility": null,
            "width": null
          }
        },
        "304ccbd2707847768bc031064885b3b4": {
          "model_module": "@jupyter-widgets/controls",
          "model_name": "DescriptionStyleModel",
          "model_module_version": "1.5.0",
          "state": {
            "_model_module": "@jupyter-widgets/controls",
            "_model_module_version": "1.5.0",
            "_model_name": "DescriptionStyleModel",
            "_view_count": null,
            "_view_module": "@jupyter-widgets/base",
            "_view_module_version": "1.2.0",
            "_view_name": "StyleView",
            "description_width": ""
          }
        },
        "e7e258d758c445008b7c59f36c1a7c86": {
          "model_module": "@jupyter-widgets/base",
          "model_name": "LayoutModel",
          "model_module_version": "1.2.0",
          "state": {
            "_model_module": "@jupyter-widgets/base",
            "_model_module_version": "1.2.0",
            "_model_name": "LayoutModel",
            "_view_count": null,
            "_view_module": "@jupyter-widgets/base",
            "_view_module_version": "1.2.0",
            "_view_name": "LayoutView",
            "align_content": null,
            "align_items": null,
            "align_self": null,
            "border": null,
            "bottom": null,
            "display": null,
            "flex": null,
            "flex_flow": null,
            "grid_area": null,
            "grid_auto_columns": null,
            "grid_auto_flow": null,
            "grid_auto_rows": null,
            "grid_column": null,
            "grid_gap": null,
            "grid_row": null,
            "grid_template_areas": null,
            "grid_template_columns": null,
            "grid_template_rows": null,
            "height": null,
            "justify_content": null,
            "justify_items": null,
            "left": null,
            "margin": null,
            "max_height": null,
            "max_width": null,
            "min_height": null,
            "min_width": null,
            "object_fit": null,
            "object_position": null,
            "order": null,
            "overflow": null,
            "overflow_x": null,
            "overflow_y": null,
            "padding": null,
            "right": null,
            "top": null,
            "visibility": null,
            "width": null
          }
        },
        "910b6213a5894dfcbfada196ffedf398": {
          "model_module": "@jupyter-widgets/controls",
          "model_name": "ProgressStyleModel",
          "model_module_version": "1.5.0",
          "state": {
            "_model_module": "@jupyter-widgets/controls",
            "_model_module_version": "1.5.0",
            "_model_name": "ProgressStyleModel",
            "_view_count": null,
            "_view_module": "@jupyter-widgets/base",
            "_view_module_version": "1.2.0",
            "_view_name": "StyleView",
            "bar_color": null,
            "description_width": ""
          }
        },
        "da5e34d8bcfc4d5192dbe0a2e9f2dff9": {
          "model_module": "@jupyter-widgets/base",
          "model_name": "LayoutModel",
          "model_module_version": "1.2.0",
          "state": {
            "_model_module": "@jupyter-widgets/base",
            "_model_module_version": "1.2.0",
            "_model_name": "LayoutModel",
            "_view_count": null,
            "_view_module": "@jupyter-widgets/base",
            "_view_module_version": "1.2.0",
            "_view_name": "LayoutView",
            "align_content": null,
            "align_items": null,
            "align_self": null,
            "border": null,
            "bottom": null,
            "display": null,
            "flex": null,
            "flex_flow": null,
            "grid_area": null,
            "grid_auto_columns": null,
            "grid_auto_flow": null,
            "grid_auto_rows": null,
            "grid_column": null,
            "grid_gap": null,
            "grid_row": null,
            "grid_template_areas": null,
            "grid_template_columns": null,
            "grid_template_rows": null,
            "height": null,
            "justify_content": null,
            "justify_items": null,
            "left": null,
            "margin": null,
            "max_height": null,
            "max_width": null,
            "min_height": null,
            "min_width": null,
            "object_fit": null,
            "object_position": null,
            "order": null,
            "overflow": null,
            "overflow_x": null,
            "overflow_y": null,
            "padding": null,
            "right": null,
            "top": null,
            "visibility": null,
            "width": null
          }
        },
        "aebaed630adb4d5c8d4a19fbd7ed986f": {
          "model_module": "@jupyter-widgets/controls",
          "model_name": "DescriptionStyleModel",
          "model_module_version": "1.5.0",
          "state": {
            "_model_module": "@jupyter-widgets/controls",
            "_model_module_version": "1.5.0",
            "_model_name": "DescriptionStyleModel",
            "_view_count": null,
            "_view_module": "@jupyter-widgets/base",
            "_view_module_version": "1.2.0",
            "_view_name": "StyleView",
            "description_width": ""
          }
        }
      }
    }
  },
  "nbformat": 4,
  "nbformat_minor": 0
}