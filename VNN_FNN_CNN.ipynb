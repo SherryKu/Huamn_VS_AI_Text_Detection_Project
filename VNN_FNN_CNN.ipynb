{
  "cells": [
    {
      "cell_type": "markdown",
      "metadata": {
        "id": "view-in-github",
        "colab_type": "text"
      },
      "source": [
        "<a href=\"https://colab.research.google.com/github/SherryKu/Huamn_VS_AI_Text_Detection_Project/blob/main/VNN_FNN_CNN.ipynb\" target=\"_parent\"><img src=\"https://colab.research.google.com/assets/colab-badge.svg\" alt=\"Open In Colab\"/></a>"
      ]
    },
    {
      "cell_type": "markdown",
      "metadata": {
        "id": "ssSjgm0HQX3R"
      },
      "source": [
        "# EDA"
      ]
    },
    {
      "cell_type": "markdown",
      "metadata": {
        "id": "4AssHwwGQX3R"
      },
      "source": [
        "## Preparing the ground <a id=\"1.1\"></a>"
      ]
    },
    {
      "cell_type": "markdown",
      "metadata": {
        "id": "0PjH6Yb_QX3R"
      },
      "source": [
        "### Install and import necessary packages"
      ]
    },
    {
      "cell_type": "code",
      "execution_count": null,
      "metadata": {
        "colab": {
          "base_uri": "https://localhost:8080/"
        },
        "id": "R3MGTMDdQX3S",
        "outputId": "6e0c7b27-6b2d-499d-aabb-074ff7f8a809"
      },
      "outputs": [
        {
          "output_type": "stream",
          "name": "stdout",
          "text": [
            "Requirement already satisfied: colorama in /usr/local/lib/python3.10/dist-packages (0.4.6)\n",
            "Requirement already satisfied: pyicu in /usr/local/lib/python3.10/dist-packages (2.13.1)\n",
            "Requirement already satisfied: pycld2 in /usr/local/lib/python3.10/dist-packages (0.41)\n",
            "Requirement already satisfied: morfessor in /usr/local/lib/python3.10/dist-packages (2.0.6)\n",
            "Requirement already satisfied: datasets in /usr/local/lib/python3.10/dist-packages (2.19.0)\n",
            "Requirement already satisfied: filelock in /usr/local/lib/python3.10/dist-packages (from datasets) (3.14.0)\n",
            "Requirement already satisfied: numpy>=1.17 in /usr/local/lib/python3.10/dist-packages (from datasets) (1.25.2)\n",
            "Requirement already satisfied: pyarrow>=12.0.0 in /usr/local/lib/python3.10/dist-packages (from datasets) (14.0.2)\n",
            "Requirement already satisfied: pyarrow-hotfix in /usr/local/lib/python3.10/dist-packages (from datasets) (0.6)\n",
            "Requirement already satisfied: dill<0.3.9,>=0.3.0 in /usr/local/lib/python3.10/dist-packages (from datasets) (0.3.8)\n",
            "Requirement already satisfied: pandas in /usr/local/lib/python3.10/dist-packages (from datasets) (2.0.3)\n",
            "Requirement already satisfied: requests>=2.19.0 in /usr/local/lib/python3.10/dist-packages (from datasets) (2.31.0)\n",
            "Requirement already satisfied: tqdm>=4.62.1 in /usr/local/lib/python3.10/dist-packages (from datasets) (4.66.2)\n",
            "Requirement already satisfied: xxhash in /usr/local/lib/python3.10/dist-packages (from datasets) (3.4.1)\n",
            "Requirement already satisfied: multiprocess in /usr/local/lib/python3.10/dist-packages (from datasets) (0.70.16)\n",
            "Requirement already satisfied: fsspec[http]<=2024.3.1,>=2023.1.0 in /usr/local/lib/python3.10/dist-packages (from datasets) (2023.6.0)\n",
            "Requirement already satisfied: aiohttp in /usr/local/lib/python3.10/dist-packages (from datasets) (3.9.5)\n",
            "Requirement already satisfied: huggingface-hub>=0.21.2 in /usr/local/lib/python3.10/dist-packages (from datasets) (0.23.0)\n",
            "Requirement already satisfied: packaging in /usr/local/lib/python3.10/dist-packages (from datasets) (24.0)\n",
            "Requirement already satisfied: pyyaml>=5.1 in /usr/local/lib/python3.10/dist-packages (from datasets) (6.0.1)\n",
            "Requirement already satisfied: aiosignal>=1.1.2 in /usr/local/lib/python3.10/dist-packages (from aiohttp->datasets) (1.3.1)\n",
            "Requirement already satisfied: attrs>=17.3.0 in /usr/local/lib/python3.10/dist-packages (from aiohttp->datasets) (23.2.0)\n",
            "Requirement already satisfied: frozenlist>=1.1.1 in /usr/local/lib/python3.10/dist-packages (from aiohttp->datasets) (1.4.1)\n",
            "Requirement already satisfied: multidict<7.0,>=4.5 in /usr/local/lib/python3.10/dist-packages (from aiohttp->datasets) (6.0.5)\n",
            "Requirement already satisfied: yarl<2.0,>=1.0 in /usr/local/lib/python3.10/dist-packages (from aiohttp->datasets) (1.9.4)\n",
            "Requirement already satisfied: async-timeout<5.0,>=4.0 in /usr/local/lib/python3.10/dist-packages (from aiohttp->datasets) (4.0.3)\n",
            "Requirement already satisfied: typing-extensions>=3.7.4.3 in /usr/local/lib/python3.10/dist-packages (from huggingface-hub>=0.21.2->datasets) (4.11.0)\n",
            "Requirement already satisfied: charset-normalizer<4,>=2 in /usr/local/lib/python3.10/dist-packages (from requests>=2.19.0->datasets) (3.3.2)\n",
            "Requirement already satisfied: idna<4,>=2.5 in /usr/local/lib/python3.10/dist-packages (from requests>=2.19.0->datasets) (2.10)\n",
            "Requirement already satisfied: urllib3<3,>=1.21.1 in /usr/local/lib/python3.10/dist-packages (from requests>=2.19.0->datasets) (2.0.7)\n",
            "Requirement already satisfied: certifi>=2017.4.17 in /usr/local/lib/python3.10/dist-packages (from requests>=2.19.0->datasets) (2024.2.2)\n",
            "Requirement already satisfied: python-dateutil>=2.8.2 in /usr/local/lib/python3.10/dist-packages (from pandas->datasets) (2.8.2)\n",
            "Requirement already satisfied: pytz>=2020.1 in /usr/local/lib/python3.10/dist-packages (from pandas->datasets) (2023.4)\n",
            "Requirement already satisfied: tzdata>=2022.1 in /usr/local/lib/python3.10/dist-packages (from pandas->datasets) (2024.1)\n",
            "Requirement already satisfied: six>=1.5 in /usr/local/lib/python3.10/dist-packages (from python-dateutil>=2.8.2->pandas->datasets) (1.16.0)\n"
          ]
        }
      ],
      "source": [
        "!pip install -q pyicu\n",
        "!pip install -q pycld2\n",
        "!pip install -q polyglot\n",
        "!pip install -q textstat\n",
        "!pip install -q googletrans\n",
        "!pip install colorama\n",
        "!pip3 install pyicu\n",
        "!pip3 install pycld2\n",
        "!pip3 install morfessor\n",
        "!pip install datasets"
      ]
    },
    {
      "cell_type": "code",
      "execution_count": null,
      "metadata": {
        "id": "dAycVUR2QX3S"
      },
      "outputs": [],
      "source": [
        "import warnings\n",
        "warnings.filterwarnings(\"ignore\")\n",
        "\n",
        "import os\n",
        "import gc\n",
        "import re\n",
        "import folium\n",
        "import textstat\n",
        "from scipy import stats\n",
        "from colorama import Fore, Back, Style, init\n",
        "\n",
        "import math\n",
        "import numpy as np\n",
        "import scipy as sp\n",
        "import pandas as pd\n",
        "\n",
        "import random\n",
        "import networkx as nx\n",
        "from pandas import Timestamp\n",
        "\n",
        "from PIL import Image\n",
        "from IPython.display import SVG\n",
        "from keras.utils import model_to_dot\n",
        "\n",
        "import requests\n",
        "from IPython.display import HTML\n",
        "\n",
        "import seaborn as sns\n",
        "from tqdm import tqdm\n",
        "import matplotlib.cm as cm\n",
        "import matplotlib.pyplot as plt\n",
        "\n",
        "tqdm.pandas()\n",
        "\n",
        "import plotly.express as px\n",
        "import plotly.graph_objects as go\n",
        "import plotly.figure_factory as ff\n",
        "from plotly.subplots import make_subplots\n",
        "\n",
        "import transformers\n",
        "import tensorflow as tf\n",
        "\n",
        "from tensorflow.keras.callbacks import Callback\n",
        "from sklearn.metrics import accuracy_score, roc_auc_score\n",
        "from tensorflow.keras.callbacks import ModelCheckpoint, ReduceLROnPlateau, CSVLogger\n",
        "\n",
        "from tensorflow.keras.models import Model\n",
        "from tensorflow.keras.optimizers import Adam\n",
        "from tokenizers import BertWordPieceTokenizer\n",
        "from tensorflow.keras.layers import Dense, Input, Dropout, Embedding\n",
        "from tensorflow.keras.layers import LSTM, GRU, Conv1D, SpatialDropout1D\n",
        "\n",
        "from tensorflow.keras import layers\n",
        "from tensorflow.keras import optimizers\n",
        "from tensorflow.keras import activations\n",
        "from tensorflow.keras import constraints\n",
        "from tensorflow.keras import initializers\n",
        "from tensorflow.keras import regularizers\n",
        "\n",
        "import tensorflow.keras.backend as K\n",
        "from tensorflow.keras.layers import *\n",
        "from tensorflow.keras.optimizers import *\n",
        "from tensorflow.keras.activations import *\n",
        "from tensorflow.keras.constraints import *\n",
        "from tensorflow.keras.initializers import *\n",
        "from tensorflow.keras.regularizers import *\n",
        "\n",
        "from sklearn import metrics\n",
        "from sklearn.utils import shuffle\n",
        "from gensim.models import Word2Vec\n",
        "from sklearn.cluster import KMeans\n",
        "from sklearn.decomposition import PCA\n",
        "from sklearn.feature_extraction.text import TfidfVectorizer,\\\n",
        "                                            CountVectorizer,\\\n",
        "                                            HashingVectorizer\n",
        "\n",
        "from nltk.stem.wordnet import WordNetLemmatizer\n",
        "from nltk.tokenize import word_tokenize\n",
        "from nltk.tokenize import TweetTokenizer\n",
        "\n",
        "import nltk\n",
        "from textblob import TextBlob\n",
        "\n",
        "from nltk.corpus import wordnet\n",
        "from nltk.corpus import stopwords\n",
        "from googletrans import Translator\n",
        "from nltk import WordNetLemmatizer\n",
        "from polyglot.detect import Detector\n",
        "from nltk.stem import WordNetLemmatizer\n",
        "from wordcloud import WordCloud, STOPWORDS\n",
        "from nltk.sentiment.vader import SentimentIntensityAnalyzer\n",
        "\n",
        "stopword=set(STOPWORDS)\n",
        "\n",
        "lem = WordNetLemmatizer()\n",
        "tokenizer=TweetTokenizer()\n",
        "\n",
        "np.random.seed(0)"
      ]
    },
    {
      "cell_type": "markdown",
      "metadata": {
        "id": "or9vWURDQX3S"
      },
      "source": [
        "### Load the training, validation, and testing datasets"
      ]
    },
    {
      "cell_type": "code",
      "execution_count": null,
      "metadata": {
        "colab": {
          "base_uri": "https://localhost:8080/"
        },
        "id": "KtwhaDYVUW5W",
        "outputId": "293237d6-2dcd-441a-90bc-61b0f24f5c9e"
      },
      "outputs": [
        {
          "output_type": "stream",
          "name": "stdout",
          "text": [
            "Drive already mounted at /content/drive; to attempt to forcibly remount, call drive.mount(\"/content/drive\", force_remount=True).\n"
          ]
        }
      ],
      "source": [
        "from google.colab import drive\n",
        "drive.mount('/content/drive')"
      ]
    },
    {
      "cell_type": "code",
      "execution_count": null,
      "metadata": {
        "id": "rbTlQ64NQX3T"
      },
      "outputs": [],
      "source": [
        "from datasets import load_dataset\n",
        "dataset = load_dataset(\"Hello-SimpleAI/HC3\", name='all')\n",
        "dataset1 = dataset['train'].to_pandas()\n",
        "dataset1\n",
        "\n",
        "def process_dataset(dataset):\n",
        "    human = dataset[['human_answers']].rename(columns={'human_answers':'text'})\n",
        "    human['text'] = human['text'].apply(lambda x: ''.join(x))\n",
        "    human['generated'] = 0\n",
        "\n",
        "    ai = dataset[['chatgpt_answers']].rename(columns={'chatgpt_answers':'text'})\n",
        "    ai['text'] = ai['text'].apply(lambda x: ''.join(x))\n",
        "    ai['generated'] = 1\n",
        "\n",
        "    clean_data = pd.concat((human, ai), axis=0, ignore_index=True)\n",
        "\n",
        "    clean_data = clean_data[clean_data['text'] != '']\n",
        "\n",
        "    return clean_data\n",
        "\n",
        "data1 = process_dataset(dataset1)"
      ]
    },
    {
      "cell_type": "code",
      "source": [
        "dataset2 = pd.read_csv(\"/content/drive/MyDrive/DS301GroupProject/train_v2_drcat_02.csv\")\n",
        "def process_dataset2(dataset):\n",
        "    dataset.drop(['prompt_name', 'source', 'RDizzl3_seven'], axis=1, inplace=True)\n",
        "    dataset.rename(columns={'label': 'generated'}, inplace=True)\n",
        "    return dataset\n",
        "\n",
        "data2 = process_dataset2(dataset2)"
      ],
      "metadata": {
        "id": "iNo5dEqYVZFD"
      },
      "execution_count": null,
      "outputs": []
    },
    {
      "cell_type": "code",
      "source": [
        "def clean(text):\n",
        "    text = text.fillna(\"fillna\").str.lower()\n",
        "    text = text.map(lambda x: re.sub('\\\\n',' ',str(x)))\n",
        "    text = text.map(lambda x: re.sub(\"\\[\\[User.*\",'',str(x)))\n",
        "    text = text.map(lambda x: re.sub(\"\\d{1,3}\\.\\d{1,3}\\.\\d{1,3}\\.\\d{1,3}\",'',str(x)))\n",
        "    text = text.map(lambda x: re.sub(\"\\(http://.*?\\s\\(http://.*\\)\",'',str(x)))\n",
        "    return text\n",
        "\n",
        "data1[\"text\"] = clean(data1[\"text\"])\n",
        "data2[\"text\"] = clean(data2[\"text\"])"
      ],
      "metadata": {
        "id": "9SoHG8mjq59X"
      },
      "execution_count": null,
      "outputs": []
    },
    {
      "cell_type": "code",
      "source": [
        "data = pd.concat([data1, data2], ignore_index=True)\n",
        "data"
      ],
      "metadata": {
        "colab": {
          "base_uri": "https://localhost:8080/",
          "height": 424
        },
        "id": "XKR9pmb_V5KV",
        "outputId": "a72acbda-1621-4d19-e17c-e908f263fb3e"
      },
      "execution_count": null,
      "outputs": [
        {
          "output_type": "execute_result",
          "data": {
            "text/plain": [
              "                                                    text  generated\n",
              "0      basically there are many categories of \" best ...          0\n",
              "1      salt is good for not dying in car crashes and ...          0\n",
              "2      the way it works is that old tv stations got a...          0\n",
              "3      you ca n't just go around assassinating the le...          0\n",
              "4      wanting to kill the shit out of germans drives...          0\n",
              "...                                                  ...        ...\n",
              "93050  dear senator,  i am writing to you today to ex...          1\n",
              "93051  dear senator,  i am writing to you today to ex...          1\n",
              "93052  dear senator,  i am writing to you today to ex...          1\n",
              "93053  dear senator,  i am writing to you today to ex...          1\n",
              "93054  dear senator,  i am writing to you today to ex...          1\n",
              "\n",
              "[93055 rows x 2 columns]"
            ],
            "text/html": [
              "\n",
              "  <div id=\"df-f7afb4e6-2c22-472d-b8c9-3f311a6db922\" class=\"colab-df-container\">\n",
              "    <div>\n",
              "<style scoped>\n",
              "    .dataframe tbody tr th:only-of-type {\n",
              "        vertical-align: middle;\n",
              "    }\n",
              "\n",
              "    .dataframe tbody tr th {\n",
              "        vertical-align: top;\n",
              "    }\n",
              "\n",
              "    .dataframe thead th {\n",
              "        text-align: right;\n",
              "    }\n",
              "</style>\n",
              "<table border=\"1\" class=\"dataframe\">\n",
              "  <thead>\n",
              "    <tr style=\"text-align: right;\">\n",
              "      <th></th>\n",
              "      <th>text</th>\n",
              "      <th>generated</th>\n",
              "    </tr>\n",
              "  </thead>\n",
              "  <tbody>\n",
              "    <tr>\n",
              "      <th>0</th>\n",
              "      <td>basically there are many categories of \" best ...</td>\n",
              "      <td>0</td>\n",
              "    </tr>\n",
              "    <tr>\n",
              "      <th>1</th>\n",
              "      <td>salt is good for not dying in car crashes and ...</td>\n",
              "      <td>0</td>\n",
              "    </tr>\n",
              "    <tr>\n",
              "      <th>2</th>\n",
              "      <td>the way it works is that old tv stations got a...</td>\n",
              "      <td>0</td>\n",
              "    </tr>\n",
              "    <tr>\n",
              "      <th>3</th>\n",
              "      <td>you ca n't just go around assassinating the le...</td>\n",
              "      <td>0</td>\n",
              "    </tr>\n",
              "    <tr>\n",
              "      <th>4</th>\n",
              "      <td>wanting to kill the shit out of germans drives...</td>\n",
              "      <td>0</td>\n",
              "    </tr>\n",
              "    <tr>\n",
              "      <th>...</th>\n",
              "      <td>...</td>\n",
              "      <td>...</td>\n",
              "    </tr>\n",
              "    <tr>\n",
              "      <th>93050</th>\n",
              "      <td>dear senator,  i am writing to you today to ex...</td>\n",
              "      <td>1</td>\n",
              "    </tr>\n",
              "    <tr>\n",
              "      <th>93051</th>\n",
              "      <td>dear senator,  i am writing to you today to ex...</td>\n",
              "      <td>1</td>\n",
              "    </tr>\n",
              "    <tr>\n",
              "      <th>93052</th>\n",
              "      <td>dear senator,  i am writing to you today to ex...</td>\n",
              "      <td>1</td>\n",
              "    </tr>\n",
              "    <tr>\n",
              "      <th>93053</th>\n",
              "      <td>dear senator,  i am writing to you today to ex...</td>\n",
              "      <td>1</td>\n",
              "    </tr>\n",
              "    <tr>\n",
              "      <th>93054</th>\n",
              "      <td>dear senator,  i am writing to you today to ex...</td>\n",
              "      <td>1</td>\n",
              "    </tr>\n",
              "  </tbody>\n",
              "</table>\n",
              "<p>93055 rows × 2 columns</p>\n",
              "</div>\n",
              "    <div class=\"colab-df-buttons\">\n",
              "\n",
              "  <div class=\"colab-df-container\">\n",
              "    <button class=\"colab-df-convert\" onclick=\"convertToInteractive('df-f7afb4e6-2c22-472d-b8c9-3f311a6db922')\"\n",
              "            title=\"Convert this dataframe to an interactive table.\"\n",
              "            style=\"display:none;\">\n",
              "\n",
              "  <svg xmlns=\"http://www.w3.org/2000/svg\" height=\"24px\" viewBox=\"0 -960 960 960\">\n",
              "    <path d=\"M120-120v-720h720v720H120Zm60-500h600v-160H180v160Zm220 220h160v-160H400v160Zm0 220h160v-160H400v160ZM180-400h160v-160H180v160Zm440 0h160v-160H620v160ZM180-180h160v-160H180v160Zm440 0h160v-160H620v160Z\"/>\n",
              "  </svg>\n",
              "    </button>\n",
              "\n",
              "  <style>\n",
              "    .colab-df-container {\n",
              "      display:flex;\n",
              "      gap: 12px;\n",
              "    }\n",
              "\n",
              "    .colab-df-convert {\n",
              "      background-color: #E8F0FE;\n",
              "      border: none;\n",
              "      border-radius: 50%;\n",
              "      cursor: pointer;\n",
              "      display: none;\n",
              "      fill: #1967D2;\n",
              "      height: 32px;\n",
              "      padding: 0 0 0 0;\n",
              "      width: 32px;\n",
              "    }\n",
              "\n",
              "    .colab-df-convert:hover {\n",
              "      background-color: #E2EBFA;\n",
              "      box-shadow: 0px 1px 2px rgba(60, 64, 67, 0.3), 0px 1px 3px 1px rgba(60, 64, 67, 0.15);\n",
              "      fill: #174EA6;\n",
              "    }\n",
              "\n",
              "    .colab-df-buttons div {\n",
              "      margin-bottom: 4px;\n",
              "    }\n",
              "\n",
              "    [theme=dark] .colab-df-convert {\n",
              "      background-color: #3B4455;\n",
              "      fill: #D2E3FC;\n",
              "    }\n",
              "\n",
              "    [theme=dark] .colab-df-convert:hover {\n",
              "      background-color: #434B5C;\n",
              "      box-shadow: 0px 1px 3px 1px rgba(0, 0, 0, 0.15);\n",
              "      filter: drop-shadow(0px 1px 2px rgba(0, 0, 0, 0.3));\n",
              "      fill: #FFFFFF;\n",
              "    }\n",
              "  </style>\n",
              "\n",
              "    <script>\n",
              "      const buttonEl =\n",
              "        document.querySelector('#df-f7afb4e6-2c22-472d-b8c9-3f311a6db922 button.colab-df-convert');\n",
              "      buttonEl.style.display =\n",
              "        google.colab.kernel.accessAllowed ? 'block' : 'none';\n",
              "\n",
              "      async function convertToInteractive(key) {\n",
              "        const element = document.querySelector('#df-f7afb4e6-2c22-472d-b8c9-3f311a6db922');\n",
              "        const dataTable =\n",
              "          await google.colab.kernel.invokeFunction('convertToInteractive',\n",
              "                                                    [key], {});\n",
              "        if (!dataTable) return;\n",
              "\n",
              "        const docLinkHtml = 'Like what you see? Visit the ' +\n",
              "          '<a target=\"_blank\" href=https://colab.research.google.com/notebooks/data_table.ipynb>data table notebook</a>'\n",
              "          + ' to learn more about interactive tables.';\n",
              "        element.innerHTML = '';\n",
              "        dataTable['output_type'] = 'display_data';\n",
              "        await google.colab.output.renderOutput(dataTable, element);\n",
              "        const docLink = document.createElement('div');\n",
              "        docLink.innerHTML = docLinkHtml;\n",
              "        element.appendChild(docLink);\n",
              "      }\n",
              "    </script>\n",
              "  </div>\n",
              "\n",
              "\n",
              "<div id=\"df-bf197a26-41c6-4649-ac60-138827fa0723\">\n",
              "  <button class=\"colab-df-quickchart\" onclick=\"quickchart('df-bf197a26-41c6-4649-ac60-138827fa0723')\"\n",
              "            title=\"Suggest charts\"\n",
              "            style=\"display:none;\">\n",
              "\n",
              "<svg xmlns=\"http://www.w3.org/2000/svg\" height=\"24px\"viewBox=\"0 0 24 24\"\n",
              "     width=\"24px\">\n",
              "    <g>\n",
              "        <path d=\"M19 3H5c-1.1 0-2 .9-2 2v14c0 1.1.9 2 2 2h14c1.1 0 2-.9 2-2V5c0-1.1-.9-2-2-2zM9 17H7v-7h2v7zm4 0h-2V7h2v10zm4 0h-2v-4h2v4z\"/>\n",
              "    </g>\n",
              "</svg>\n",
              "  </button>\n",
              "\n",
              "<style>\n",
              "  .colab-df-quickchart {\n",
              "      --bg-color: #E8F0FE;\n",
              "      --fill-color: #1967D2;\n",
              "      --hover-bg-color: #E2EBFA;\n",
              "      --hover-fill-color: #174EA6;\n",
              "      --disabled-fill-color: #AAA;\n",
              "      --disabled-bg-color: #DDD;\n",
              "  }\n",
              "\n",
              "  [theme=dark] .colab-df-quickchart {\n",
              "      --bg-color: #3B4455;\n",
              "      --fill-color: #D2E3FC;\n",
              "      --hover-bg-color: #434B5C;\n",
              "      --hover-fill-color: #FFFFFF;\n",
              "      --disabled-bg-color: #3B4455;\n",
              "      --disabled-fill-color: #666;\n",
              "  }\n",
              "\n",
              "  .colab-df-quickchart {\n",
              "    background-color: var(--bg-color);\n",
              "    border: none;\n",
              "    border-radius: 50%;\n",
              "    cursor: pointer;\n",
              "    display: none;\n",
              "    fill: var(--fill-color);\n",
              "    height: 32px;\n",
              "    padding: 0;\n",
              "    width: 32px;\n",
              "  }\n",
              "\n",
              "  .colab-df-quickchart:hover {\n",
              "    background-color: var(--hover-bg-color);\n",
              "    box-shadow: 0 1px 2px rgba(60, 64, 67, 0.3), 0 1px 3px 1px rgba(60, 64, 67, 0.15);\n",
              "    fill: var(--button-hover-fill-color);\n",
              "  }\n",
              "\n",
              "  .colab-df-quickchart-complete:disabled,\n",
              "  .colab-df-quickchart-complete:disabled:hover {\n",
              "    background-color: var(--disabled-bg-color);\n",
              "    fill: var(--disabled-fill-color);\n",
              "    box-shadow: none;\n",
              "  }\n",
              "\n",
              "  .colab-df-spinner {\n",
              "    border: 2px solid var(--fill-color);\n",
              "    border-color: transparent;\n",
              "    border-bottom-color: var(--fill-color);\n",
              "    animation:\n",
              "      spin 1s steps(1) infinite;\n",
              "  }\n",
              "\n",
              "  @keyframes spin {\n",
              "    0% {\n",
              "      border-color: transparent;\n",
              "      border-bottom-color: var(--fill-color);\n",
              "      border-left-color: var(--fill-color);\n",
              "    }\n",
              "    20% {\n",
              "      border-color: transparent;\n",
              "      border-left-color: var(--fill-color);\n",
              "      border-top-color: var(--fill-color);\n",
              "    }\n",
              "    30% {\n",
              "      border-color: transparent;\n",
              "      border-left-color: var(--fill-color);\n",
              "      border-top-color: var(--fill-color);\n",
              "      border-right-color: var(--fill-color);\n",
              "    }\n",
              "    40% {\n",
              "      border-color: transparent;\n",
              "      border-right-color: var(--fill-color);\n",
              "      border-top-color: var(--fill-color);\n",
              "    }\n",
              "    60% {\n",
              "      border-color: transparent;\n",
              "      border-right-color: var(--fill-color);\n",
              "    }\n",
              "    80% {\n",
              "      border-color: transparent;\n",
              "      border-right-color: var(--fill-color);\n",
              "      border-bottom-color: var(--fill-color);\n",
              "    }\n",
              "    90% {\n",
              "      border-color: transparent;\n",
              "      border-bottom-color: var(--fill-color);\n",
              "    }\n",
              "  }\n",
              "</style>\n",
              "\n",
              "  <script>\n",
              "    async function quickchart(key) {\n",
              "      const quickchartButtonEl =\n",
              "        document.querySelector('#' + key + ' button');\n",
              "      quickchartButtonEl.disabled = true;  // To prevent multiple clicks.\n",
              "      quickchartButtonEl.classList.add('colab-df-spinner');\n",
              "      try {\n",
              "        const charts = await google.colab.kernel.invokeFunction(\n",
              "            'suggestCharts', [key], {});\n",
              "      } catch (error) {\n",
              "        console.error('Error during call to suggestCharts:', error);\n",
              "      }\n",
              "      quickchartButtonEl.classList.remove('colab-df-spinner');\n",
              "      quickchartButtonEl.classList.add('colab-df-quickchart-complete');\n",
              "    }\n",
              "    (() => {\n",
              "      let quickchartButtonEl =\n",
              "        document.querySelector('#df-bf197a26-41c6-4649-ac60-138827fa0723 button');\n",
              "      quickchartButtonEl.style.display =\n",
              "        google.colab.kernel.accessAllowed ? 'block' : 'none';\n",
              "    })();\n",
              "  </script>\n",
              "</div>\n",
              "    </div>\n",
              "  </div>\n"
            ],
            "application/vnd.google.colaboratory.intrinsic+json": {
              "type": "dataframe",
              "variable_name": "data",
              "summary": "{\n  \"name\": \"data\",\n  \"rows\": 93055,\n  \"fields\": [\n    {\n      \"column\": \"text\",\n      \"properties\": {\n        \"dtype\": \"string\",\n        \"num_unique_values\": 90616,\n        \"samples\": [\n          \"laws differ greatly on this depending on where you are . some states allow for it and some do not , and in those that do , what you are allowed to do varies greatly . there can be a fine line between citizens arrest and false imprisonment or kidnapping .it has to be a felony that you personally have witnessed . petty crimes do not apply ! some states allow for \\\" breach of peace \\\" as well . i would strongly advise against doing that , especially if in result of violence and have said violence committed on you ( get conceal carry and become proficient ) .if you see someone committing a crime , or running away from a crime they committed , you 're allowed to stop them and hold them until the police arrive . however , there are * not * strong legal protections for this . if it turns out they were n't really committing a crime , they can sue you . if you hurt them in a way that was n't clearly necessary , they can sue you . so you should not do this unless you 're absolutely certain it 's justified .\",\n          \"hey, mrs. johnson! here's my essay about my grandfather and why i want to visit florida:  my grandfather was the coolest person i know. he was always the first one on the soccer field, ready to play and have fun. he taught me how to play when i was five years old, and i've been hooked ever since. he was the one who bought me my first soccer ball, and he cheered me on at every game. even though he's not here anymore, he still has a huge impact on my love for soccer.  my grandfather was born in florida, and he always talked about how beautiful it was there. he said the beaches were amazing, and the weather was perfect. he told me stories about how he used to go fishing with his friends and family, and how they would catch huge fish. i've always wanted to see florida for myself, and i think it would be an awesome place to visit. i would love to go fishing with my grandfather's friends and family, and see the places he used to go.  i think visiting florida would be a great way to honor my grandfather's memory. he was always talking about how much he loved florida, and i know he would want me to see it for myself. plus, it would be a fun adventure to go on with my family. we could spend time together, and make some new memories.  i know my grandfather is always with me in my heart, but i think visiting florida would be a way to honor his memory and keep him close. he was an amazing person, and i'm lucky to have had him in my life. i'm sure he would want me to be happy and have fun, and visiting florida would be a great way to do that.  so, mrs. johnson, i really want to visit florida because of my grandfather. he taught me how to love soccer, and i want to honor his memory by visiting the place he loved so much. plus, it would be a fun adventure with my family!\",\n          \"who knows more, the teacher or the student? that's right, most of the time teachers know more than students with the exception of a few prodigies. teachers are individuals meant to help teach and prepare students for life. a teacher can also help get their students ready for their class by making a summer assignment. these assignments are intended to help students familiarize themselves with the upcoming course they are about to partake in and to keep their young minds active during the break. teachers have many years of experience and they fully understand their course and its materials. therefore, homework given to students in the summer are more beneficial if they are made by the educators because teachers will include all necessary material the student needs to help prepare them for class; teachers will design the review so that it can be used by all students; additionally, teachers can build up or revise their\\u00a0review\\u00a0based on feedback of former students  projects given over the summer are usually big assignments that students dread, however, digesting the contents of project can immensely benefit students because it introduces students to the information they are going to learn over the next year. teachers who make summer assignments include the information they think is crucial for students to know before they enter the class. an example is an ap world history teacher making students memorize the locations of countries all around the world as a part of their summer assignment. by knowing locations of different countries, students can recall the general area and apply the location to the lesson they are learning about, like the capital of constantinople and what countries surround it. teachers may also assign vocabulary words for students to learn. the words in summer assignments are useful\\u00a0because when the specific vocabulary word appears in class, students who did the summer assignment will know the definition and won't get stuck, unlike those who didn't complete the review. similarly, teachers insist that students are familiar with basic math concepts and the properties of exponents and multiplication before entering algebra 2. by knowing the information teachers ask for, students\\u00a0will\\u00a0work faster without having to pause and ask questions in class.  when teachers make the summer assignment, they create it so that all students can understand, review, and gain knowledge by finishing it. teachers focus on all students and their way of learning during the process of developing the work; they don't focus on one specific student because that would be unfair to other students. yes, teachers making customized review for a specific student would help the student tremendously, but that would not accommodate others because it is specific to the one student. a student-designed project would include only the information the former student remembers. sometimes students don't remember certain crucial topics they learn in class. establishing the fact students don't remember the whole course, they will leave the topics out of the review which in turn could affect and hurt future students. this could also mean students will create a review based on their style of learning whether it be more artistic or more reading based. professors and teachers help their students because they have the obligation of educating, unlike students whose jobs are not to make sure other students understand the course material. in short terms, teachers focus on their students and their collective education while students focus on themselves and their individual education.  over the years of teaching, teachers will be able to receive feedback from former students and revise or build up their review. summer projects can be designed to focus on the topics that are harder for students as a whole to understand. through the input of students, teachers will be able to detect the harder subject and include practice for the difficult topic in the summer assignment. students may also suggest ways to make the review more fun or resourceful. teachers will sort through and determine which methods of review are most abundant when it comes to the material by considering the students' recommendations. trial and error over time will help teachers create the most effective summer assignment for students and in turn help both parties.  summer assignments created and designed by teachers will help students and teachers themselves in\\u00a0the upcoming semester through the knowledge they have of their students and their learning habits. teachers are there to help all their students and part of the way they help students is through the preparation for their upcoming course and through the review of essential skills for class. by helping their students with review, they complete a portion of their goal to make students successful in school and in life.\\u00a0\"\n        ],\n        \"semantic_type\": \"\",\n        \"description\": \"\"\n      }\n    },\n    {\n      \"column\": \"generated\",\n      \"properties\": {\n        \"dtype\": \"number\",\n        \"std\": 0,\n        \"min\": 0,\n        \"max\": 1,\n        \"num_unique_values\": 2,\n        \"samples\": [\n          1,\n          0\n        ],\n        \"semantic_type\": \"\",\n        \"description\": \"\"\n      }\n    }\n  ]\n}"
            }
          },
          "metadata": {},
          "execution_count": 7
        }
      ]
    },
    {
      "cell_type": "markdown",
      "metadata": {
        "id": "z5NvrBoIQX3o"
      },
      "source": [
        "# Modeling Preparation"
      ]
    },
    {
      "cell_type": "markdown",
      "metadata": {
        "id": "dfvH_6zzQX3r"
      },
      "source": [
        "## Preparing the ground <a id=\"2.1\"></a>"
      ]
    },
    {
      "cell_type": "markdown",
      "metadata": {
        "id": "XAosWOzmQX3r"
      },
      "source": [
        "### Define ROC-AUC evaluation metric"
      ]
    },
    {
      "cell_type": "code",
      "execution_count": null,
      "metadata": {
        "id": "tVXx-Mn4QX3s"
      },
      "outputs": [],
      "source": [
        "class RocAucEvaluation(Callback):\n",
        "    def __init__(self, validation_data=(), interval=1):\n",
        "        super(Callback, self).__init__()\n",
        "\n",
        "        self.interval = interval\n",
        "        self.X_val, self.y_val = validation_data\n",
        "\n",
        "    def on_epoch_end(self, epoch, logs={}):\n",
        "        if epoch % self.interval == 0:\n",
        "            y_pred = self.model.predict(self.X_val, verbose=0)\n",
        "            score = roc_auc_score(self.y_val, y_pred)\n",
        "            print(\"\\n ROC-AUC - epoch: {:d} - score: {:.6f}\".format(epoch+1, score))"
      ]
    },
    {
      "cell_type": "code",
      "source": [],
      "metadata": {
        "id": "abaEsD-XWi9f"
      },
      "execution_count": null,
      "outputs": []
    },
    {
      "cell_type": "markdown",
      "source": [
        "### DistilBert"
      ],
      "metadata": {
        "id": "VRORewK6arI1"
      }
    },
    {
      "cell_type": "markdown",
      "metadata": {
        "id": "fH1xvlElQX3s"
      },
      "source": [
        "#### Define function to tokenize (encode) comments"
      ]
    },
    {
      "cell_type": "code",
      "execution_count": null,
      "metadata": {
        "id": "su5TWlyxQX3s"
      },
      "outputs": [],
      "source": [
        "def fast_encode(texts, tokenizer, chunk_size=240, maxlen=512):\n",
        "    tokenizer.enable_truncation(max_length=maxlen)\n",
        "    tokenizer.enable_padding(max_length=maxlen)\n",
        "    all_ids = []\n",
        "\n",
        "    for i in range(0, len(texts), chunk_size):\n",
        "        text_chunk = texts[i:i+chunk_size].tolist()\n",
        "        encs = tokenizer.encode_batch(text_chunk)\n",
        "        all_ids.extend([enc.ids for enc in encs])\n",
        "\n",
        "    return np.array(all_ids)"
      ]
    },
    {
      "cell_type": "markdown",
      "metadata": {
        "id": "bU6EufpOQX3s"
      },
      "source": [
        "#### Load BERT tokenizer"
      ]
    },
    {
      "cell_type": "code",
      "execution_count": null,
      "metadata": {
        "colab": {
          "base_uri": "https://localhost:8080/",
          "height": 287,
          "referenced_widgets": [
            "41416fc66b914b5aa9cede79fb592e97",
            "0626214363864c5b841c414577d154d6",
            "5759accb83134b8fa6813de8b950f061",
            "5cc2d7b283d24968ab17009e8ee09245",
            "bcd1de84a6c44aa8ae173df73b42c411",
            "340b1b75aa1c4c298bdf3087a1489c11",
            "13c3535d6f73490c81ba641e521efb2b",
            "09709f94e26449058997303a2dc358d9",
            "096ae471a4434342b48906a415bc676b",
            "ea227765727e461c9f86dabed7ce7193",
            "ce42ab246b1044e7b21e9dd532e4218a",
            "bc64b8efa6624bc8a18fd68e8737f51b",
            "fbad30c7e0594c909d3045a732c00e5b",
            "e8073427d7f8482cbe8939d65a68613f",
            "1acdc0ff51df4301a143ff70925c95db",
            "4a433e9bc6da4b8f9f20da9ee97507f6",
            "6fcd011ed83849e9b1cee1d149f43744",
            "b9c752ee260f45ce9431b4d6cd4f0ef4",
            "3b70edb2e8864ffdae46637e457abde4",
            "72d791ae8773401498456cefc0f229a4",
            "d740c46eeca745bc8d0cbf977cf23a02",
            "3e29e734618547f2ba67eb648ec6b1ef",
            "01a18dba70ae4b31a91a7a1d3d44ff7e",
            "02783d86073043e5a23565834f7558fb",
            "d5b38d7fcf294ebabab9602d743e06b1",
            "e63aeb82baa443779f479364f4639f2e",
            "559718d8e6ac4e508b262c8c18ae2487",
            "5eaad1d147624b158318398ece980d40",
            "75769d0ee93449df8482fe3128b35ea7",
            "f2e269c7f2f948908104ad18197ae295",
            "c85a462180684a819da777c8986fe4e8",
            "404ee222f76e4d75bd152989c93ea5bc",
            "e94b482b48fd44c892af39d5096302f3",
            "ac35890e2a3a48b68d74095ef3988051",
            "b0758e60dcfa447d833fdb351c66aa20",
            "a644292fd7a54781bc9532a1bd71c0fd",
            "5128c13d865740a0946a892a8ea2f8d7",
            "8015f2ada98e4639ba1d839f2e224d11",
            "8dd2544b1e1d411fbfd7ca02b0b3767b",
            "6fed63ca948e4af2b95a30bded9ab443",
            "6b66307bb40a44f0801d57656c536bc6",
            "65fa6ea6a49f41069b04ab7122baf27f",
            "aa3354e100f5409d8f376c6fe384da5a",
            "1b7f140db8984c4daa4900eee150077c"
          ]
        },
        "id": "onh8BWB3gRaW",
        "outputId": "b1160c15-4b26-46fc-cbbe-048f53656631"
      },
      "outputs": [
        {
          "output_type": "display_data",
          "data": {
            "text/plain": [
              "tokenizer_config.json:   0%|          | 0.00/28.0 [00:00<?, ?B/s]"
            ],
            "application/vnd.jupyter.widget-view+json": {
              "version_major": 2,
              "version_minor": 0,
              "model_id": "41416fc66b914b5aa9cede79fb592e97"
            }
          },
          "metadata": {}
        },
        {
          "output_type": "display_data",
          "data": {
            "text/plain": [
              "vocab.txt:   0%|          | 0.00/232k [00:00<?, ?B/s]"
            ],
            "application/vnd.jupyter.widget-view+json": {
              "version_major": 2,
              "version_minor": 0,
              "model_id": "bc64b8efa6624bc8a18fd68e8737f51b"
            }
          },
          "metadata": {}
        },
        {
          "output_type": "display_data",
          "data": {
            "text/plain": [
              "tokenizer.json:   0%|          | 0.00/466k [00:00<?, ?B/s]"
            ],
            "application/vnd.jupyter.widget-view+json": {
              "version_major": 2,
              "version_minor": 0,
              "model_id": "01a18dba70ae4b31a91a7a1d3d44ff7e"
            }
          },
          "metadata": {}
        },
        {
          "output_type": "display_data",
          "data": {
            "text/plain": [
              "config.json:   0%|          | 0.00/483 [00:00<?, ?B/s]"
            ],
            "application/vnd.jupyter.widget-view+json": {
              "version_major": 2,
              "version_minor": 0,
              "model_id": "ac35890e2a3a48b68d74095ef3988051"
            }
          },
          "metadata": {}
        },
        {
          "output_type": "stream",
          "name": "stderr",
          "text": [
            "The tokenizer class you load from this checkpoint is not the same type as the class this function is called from. It may result in unexpected tokenization. \n",
            "The tokenizer class you load from this checkpoint is 'DistilBertTokenizer'. \n",
            "The class this function is called from is 'BertTokenizer'.\n"
          ]
        },
        {
          "output_type": "execute_result",
          "data": {
            "text/plain": [
              "('./distilbert_base_uncased_tokenizer/tokenizer_config.json',\n",
              " './distilbert_base_uncased_tokenizer/special_tokens_map.json',\n",
              " './distilbert_base_uncased_tokenizer/vocab.txt',\n",
              " './distilbert_base_uncased_tokenizer/added_tokens.json')"
            ]
          },
          "metadata": {},
          "execution_count": 10
        }
      ],
      "source": [
        "from transformers import BertTokenizer\n",
        "tokenizer = BertTokenizer.from_pretrained('distilbert-base-uncased')\n",
        "tokenizer.save_pretrained('./distilbert_base_uncased_tokenizer/')"
      ]
    },
    {
      "cell_type": "markdown",
      "metadata": {
        "id": "3B69LCXdQX3s"
      },
      "source": [
        "#### Encode comments and get targets"
      ]
    },
    {
      "cell_type": "code",
      "execution_count": null,
      "metadata": {
        "id": "weVtrFFliSQA"
      },
      "outputs": [],
      "source": [
        "from transformers import BertTokenizer\n",
        "def fast_encode(texts, tokenizer, maxlen=512):\n",
        "    encoded = tokenizer.batch_encode_plus(\n",
        "        texts,\n",
        "        return_attention_mask=False,\n",
        "        return_token_type_ids=False,\n",
        "        pad_to_max_length=True,\n",
        "        max_length=maxlen,\n",
        "        truncation=True\n",
        "    )\n",
        "\n",
        "    return np.array(encoded['input_ids'])"
      ]
    },
    {
      "cell_type": "code",
      "execution_count": null,
      "metadata": {
        "id": "32MDhzAlQX3t"
      },
      "outputs": [],
      "source": [
        "data_encoded = fast_encode(data.text.astype(str), tokenizer, maxlen=512)"
      ]
    },
    {
      "cell_type": "code",
      "source": [
        "encoded_texts_bert = data_encoded"
      ],
      "metadata": {
        "id": "eL82nk0AZIku"
      },
      "execution_count": null,
      "outputs": []
    },
    {
      "cell_type": "code",
      "execution_count": null,
      "metadata": {
        "colab": {
          "base_uri": "https://localhost:8080/"
        },
        "id": "PnOCWGOKGBBL",
        "outputId": "7b01bd13-e7db-42ce-b799-c158df8bbb08"
      },
      "outputs": [
        {
          "output_type": "stream",
          "name": "stdout",
          "text": [
            "ve_distilbert-base-uncased_data.csv has been created and exported successfully.\n"
          ]
        }
      ],
      "source": [
        "import csv\n",
        "filename = 've_distilbert-base-uncased_data.csv'\n",
        "\n",
        "# Writing to the CSV file\n",
        "with open(filename, 'w', newline='') as file:\n",
        "    writer = csv.writer(file)\n",
        "    writer.writerows(data_encoded)\n",
        "\n",
        "print(f'{filename} has been created and exported successfully.')"
      ]
    },
    {
      "cell_type": "markdown",
      "source": [
        "### GloVe"
      ],
      "metadata": {
        "id": "Kdx8CT7NdoyV"
      }
    },
    {
      "cell_type": "markdown",
      "source": [
        "#### Load Required GloVe Embeddings"
      ],
      "metadata": {
        "id": "rWo5Jw9sdri-"
      }
    },
    {
      "cell_type": "code",
      "source": [
        "def load_required_glove_embeddings(path, required_words):\n",
        "    embeddings_index = {}\n",
        "    with open(path, 'r', encoding='utf-8') as file:\n",
        "        for line in file:\n",
        "            values = line.split()\n",
        "            word = values[0]\n",
        "            if word in required_words:\n",
        "                vector = np.asarray(values[1:], dtype='float32')\n",
        "                embeddings_index[word] = vector\n",
        "    return embeddings_index"
      ],
      "metadata": {
        "id": "zjLhhTsEdq12"
      },
      "execution_count": null,
      "outputs": []
    },
    {
      "cell_type": "markdown",
      "source": [
        "#### Encode commets and get targets"
      ],
      "metadata": {
        "id": "Zsmd646Cd6EU"
      }
    },
    {
      "cell_type": "code",
      "source": [
        "import urllib.request\n",
        "import zipfile\n",
        "import os\n",
        "\n",
        "glove_url = \"http://nlp.stanford.edu/data/glove.6B.zip\"\n",
        "glove_zip_path = \"glove.6B.zip\"\n",
        "\n",
        "if not os.path.exists(glove_zip_path):\n",
        "    urllib.request.urlretrieve(glove_url, glove_zip_path)\n",
        "\n",
        "with zipfile.ZipFile(glove_zip_path, 'r') as z:\n",
        "    z.extractall(\"glove\")"
      ],
      "metadata": {
        "id": "S-9-YwQ-0i_3"
      },
      "execution_count": null,
      "outputs": []
    },
    {
      "cell_type": "code",
      "source": [
        "all_words = set()\n",
        "for text in data['text']:\n",
        "    all_words.update(text.lower().split())\n",
        "\n",
        "glove_path = 'glove/glove.6B.50d.txt'\n",
        "required_glove = load_required_glove_embeddings(glove_path, all_words)"
      ],
      "metadata": {
        "id": "gvrSnuNK4IXU"
      },
      "execution_count": null,
      "outputs": []
    },
    {
      "cell_type": "code",
      "source": [
        "import numpy as np\n",
        "\n",
        "def glove_fast_encode(texts, glove_embeddings, max_length=100):\n",
        "    encoded_texts = []\n",
        "    vector_dim = 50\n",
        "\n",
        "    for text in texts:\n",
        "        words = text.lower().split()\n",
        "        word_vectors = [glove_embeddings[word] for word in words if word in glove_embeddings][:max_length]\n",
        "        if word_vectors:\n",
        "            encoded_texts.append(np.array(word_vectors, dtype=float))\n",
        "        else:\n",
        "            encoded_texts.append(np.zeros((1, vector_dim), dtype=float))\n",
        "\n",
        "    actual_max_length = min(max(len(text) for text in encoded_texts), max_length)\n",
        "\n",
        "    padded_texts = [np.pad(text,\n",
        "                           pad_width=((0, actual_max_length - len(text)), (0, 0)),\n",
        "                           mode='constant',\n",
        "                           constant_values=0) for text in encoded_texts]\n",
        "\n",
        "    return np.stack(padded_texts)\n",
        "\n",
        "max_length = 100\n",
        "encoded_texts_glove = glove_fast_encode(data['text'].tolist(), required_glove, max_length=max_length)"
      ],
      "metadata": {
        "id": "kzO0fSCWd5t9"
      },
      "execution_count": null,
      "outputs": []
    },
    {
      "cell_type": "code",
      "source": [
        "import csv\n",
        "filename = 've_glove.6B.50d_data.csv'\n",
        "\n",
        "with open(filename, 'w', newline='') as file:\n",
        "    writer = csv.writer(file)\n",
        "    writer.writerows(encoded_texts_glove)\n",
        "\n",
        "print(f'{filename} has been created and exported successfully.')"
      ],
      "metadata": {
        "id": "BuVjAegKeoFZ"
      },
      "execution_count": null,
      "outputs": []
    },
    {
      "cell_type": "code",
      "source": [
        "from google.colab import files\n",
        "files.download('ve_glove.6B.50d_data.csv')"
      ],
      "metadata": {
        "id": "jyXsFcYWJYPv"
      },
      "execution_count": null,
      "outputs": []
    },
    {
      "cell_type": "code",
      "source": [
        "encoded_texts_glove = pd.read_csv(\"/content/drive/MyDrive/DS301GroupProject/ve_glove.6B.50d_data.csv\")"
      ],
      "metadata": {
        "id": "36MacjVRYwUz"
      },
      "execution_count": null,
      "outputs": []
    },
    {
      "cell_type": "markdown",
      "metadata": {
        "id": "nrmu9TKiQX3t"
      },
      "source": [
        "### Define training, validation, and testing datasets"
      ]
    },
    {
      "cell_type": "code",
      "source": [
        "from sklearn.model_selection import train_test_split\n",
        "x_train, x_test, y_train, y_test = train_test_split(encoded_texts_glove, data['generated'], test_size=0.2, random_state=1)\n",
        "x_train, x_val, y_train, y_val = train_test_split(x_train, y_train, test_size=0.25, random_state=1)"
      ],
      "metadata": {
        "id": "9LVmeaH_kv47"
      },
      "execution_count": null,
      "outputs": []
    },
    {
      "cell_type": "code",
      "execution_count": null,
      "metadata": {
        "id": "DAcvaO6GkkDk"
      },
      "outputs": [],
      "source": [
        "BATCH_SIZE = 32\n",
        "AUTO = tf.data.experimental.AUTOTUNE"
      ]
    },
    {
      "cell_type": "code",
      "execution_count": null,
      "metadata": {
        "id": "Zs-zzpcqQX3t"
      },
      "outputs": [],
      "source": [
        "train_dataset = (\n",
        "    tf.data.Dataset\n",
        "    .from_tensor_slices((x_train, y_train))\n",
        "    .repeat()\n",
        "    .shuffle(2048)\n",
        "    .batch(BATCH_SIZE)\n",
        "    .prefetch(AUTO)\n",
        ")\n",
        "\n",
        "valid_dataset = (\n",
        "    tf.data.Dataset\n",
        "    .from_tensor_slices((x_val, y_val))\n",
        "    .batch(BATCH_SIZE)\n",
        "    .cache()\n",
        "    .prefetch(AUTO)\n",
        ")\n",
        "\n",
        "test_dataset = (\n",
        "    tf.data.Dataset\n",
        "    .from_tensor_slices(x_test)\n",
        "    .batch(BATCH_SIZE)\n",
        ")"
      ]
    },
    {
      "cell_type": "markdown",
      "source": [
        "# Model Tested on Bert Tokenization"
      ],
      "metadata": {
        "id": "xP1ECMIUW2IV"
      }
    },
    {
      "cell_type": "markdown",
      "metadata": {
        "id": "9HNFn8EuXwqV"
      },
      "source": [
        "## Vanilla neural network"
      ]
    },
    {
      "cell_type": "markdown",
      "metadata": {
        "id": "WMMq3M9CXwqY"
      },
      "source": [
        "### Define VNN model"
      ]
    },
    {
      "cell_type": "code",
      "execution_count": null,
      "metadata": {
        "id": "LPSWoqAYXwqY"
      },
      "outputs": [],
      "source": [
        "def build_vnn_model(transformer, max_len):\n",
        "    input_word_ids = Input(shape=(max_len,), dtype=tf.int32, name=\"input_word_ids\")\n",
        "\n",
        "    embed = transformer.weights[0].numpy()\n",
        "    embedding = Embedding(np.shape(embed)[0], np.shape(embed)[1],\n",
        "                          input_length=max_len, weights=[embed],\n",
        "                          trainable=False)(input_word_ids)\n",
        "\n",
        "    conc = K.sum(embedding, axis=2)\n",
        "    conc = Dense(128, activation='relu')(conc)\n",
        "    conc = Dense(1, activation='sigmoid')(conc)\n",
        "\n",
        "    model = Model(inputs=input_word_ids, outputs=conc)\n",
        "\n",
        "    model.compile(Adam(lr=0.01),\n",
        "                  loss='binary_crossentropy',\n",
        "                  metrics=['accuracy'])\n",
        "\n",
        "    return model"
      ]
    },
    {
      "cell_type": "markdown",
      "metadata": {
        "id": "PmiH61T1XwqZ"
      },
      "source": [
        "### Build model and check summary"
      ]
    },
    {
      "cell_type": "code",
      "execution_count": null,
      "metadata": {
        "colab": {
          "base_uri": "https://localhost:8080/"
        },
        "id": "vCUZUvzs73Qj",
        "outputId": "4cfbc302-49ec-4975-9a95-9621f3ffccb4"
      },
      "outputs": [
        {
          "output_type": "stream",
          "name": "stdout",
          "text": [
            "Could not connect to TPU\n"
          ]
        }
      ],
      "source": [
        "import tensorflow as tf\n",
        "\n",
        "try:\n",
        "    tpu = tf.distribute.cluster_resolver.TPUClusterResolver()\n",
        "    tf.config.experimental_connect_to_cluster(tpu)\n",
        "    tf.tpu.experimental.initialize_tpu_system(tpu)\n",
        "    strategy = tf.distribute.experimental.TPUStrategy(tpu)\n",
        "    print(\"Running on TPU:\", tpu.master())\n",
        "except ValueError:\n",
        "    print(\"Could not connect to TPU\")\n",
        "    tpu = None"
      ]
    },
    {
      "cell_type": "code",
      "execution_count": null,
      "metadata": {
        "colab": {
          "base_uri": "https://localhost:8080/",
          "height": 570,
          "referenced_widgets": [
            "e20a1b4fde734eecaa7c06baec7040c1",
            "93d2114aa3224a5097f00f0037f041bb",
            "855a99835a5441898dd83a25ec16c950",
            "08eb272ba1884a6bab43a2634677afff",
            "048a6e94627d45d5b8c40d50c501ecb6",
            "20efa252057f4b54ae1e1e84bf665489",
            "254bac10eb4944d5bf5fb47205fafb46",
            "12f4f4627aaf4f4298d3ee2eab3cba5a",
            "f36491183f4e467d997a47e98268c31d",
            "d9ec487f04a1492aa4deaf76dc105f7f",
            "a31cb22bf9324d8f9ce9c6a747c706f6",
            "e63fd6a6730847178e34225593aefc7b",
            "8c3262ecbbc04e9bb131b6b14bf7ed6a",
            "0507dcaccd834e5a90b1fa49e6403623",
            "08c042cc88c840e8a3fb30223f9965d8",
            "511de4cc8c894dba85ed150fc58f56e2",
            "93293ffb64584167966ece1286e96417",
            "e3c3bb36054d45598abc919abf8e7aa7",
            "ba82f51e1b674a7980b2f80dea988488",
            "a259823f9fb14cf9b788fa37e13986bc",
            "ea4d58cf99a34545b9f645d38efbb8fb",
            "29d4e878b02c48a3bf50f020e1fd03d7"
          ]
        },
        "id": "GOmU-K7_QX3u",
        "outputId": "a9858b69-7898-4139-e1fa-c52368dccc8e"
      },
      "outputs": [
        {
          "output_type": "display_data",
          "data": {
            "text/plain": [
              "config.json:   0%|          | 0.00/466 [00:00<?, ?B/s]"
            ],
            "application/vnd.jupyter.widget-view+json": {
              "version_major": 2,
              "version_minor": 0,
              "model_id": "e20a1b4fde734eecaa7c06baec7040c1"
            }
          },
          "metadata": {}
        },
        {
          "output_type": "display_data",
          "data": {
            "text/plain": [
              "model.safetensors:   0%|          | 0.00/542M [00:00<?, ?B/s]"
            ],
            "application/vnd.jupyter.widget-view+json": {
              "version_major": 2,
              "version_minor": 0,
              "model_id": "e63fd6a6730847178e34225593aefc7b"
            }
          },
          "metadata": {}
        },
        {
          "output_type": "stream",
          "name": "stderr",
          "text": [
            "Some weights of the PyTorch model were not used when initializing the TF 2.0 model TFDistilBertModel: ['vocab_transform.bias', 'vocab_projector.bias', 'vocab_layer_norm.weight', 'vocab_transform.weight', 'vocab_layer_norm.bias']\n",
            "- This IS expected if you are initializing TFDistilBertModel from a PyTorch model trained on another task or with another architecture (e.g. initializing a TFBertForSequenceClassification model from a BertForPreTraining model).\n",
            "- This IS NOT expected if you are initializing TFDistilBertModel from a PyTorch model that you expect to be exactly identical (e.g. initializing a TFBertForSequenceClassification model from a BertForSequenceClassification model).\n",
            "All the weights of TFDistilBertModel were initialized from the PyTorch model.\n",
            "If your task is similar to the task the model of the checkpoint was trained on, you can already use TFDistilBertModel for predictions without further training.\n",
            "WARNING:absl:`lr` is deprecated in Keras optimizer, please use `learning_rate` or use the legacy optimizer, e.g.,tf.keras.optimizers.legacy.Adam.\n"
          ]
        },
        {
          "output_type": "stream",
          "name": "stdout",
          "text": [
            "Model: \"model\"\n",
            "_________________________________________________________________\n",
            " Layer (type)                Output Shape              Param #   \n",
            "=================================================================\n",
            " input_word_ids (InputLayer  [(None, 512)]             0         \n",
            " )                                                               \n",
            "                                                                 \n",
            " embedding (Embedding)       (None, 512, 768)          91812096  \n",
            "                                                                 \n",
            " tf.math.reduce_sum (TFOpLa  (None, 512)               0         \n",
            " mbda)                                                           \n",
            "                                                                 \n",
            " dense (Dense)               (None, 128)               65664     \n",
            "                                                                 \n",
            " dense_1 (Dense)             (None, 1)                 129       \n",
            "                                                                 \n",
            "=================================================================\n",
            "Total params: 91877889 (350.49 MB)\n",
            "Trainable params: 65793 (257.00 KB)\n",
            "Non-trainable params: 91812096 (350.24 MB)\n",
            "_________________________________________________________________\n"
          ]
        }
      ],
      "source": [
        "strategy = tf.distribute.OneDeviceStrategy(device=\"/cpu:0\")\n",
        "with strategy.scope():\n",
        "    transformer_layer = transformers.TFDistilBertModel.\\\n",
        "    from_pretrained('distilbert-base-multilingual-cased')\n",
        "    model_vnn = build_vnn_model(transformer_layer, max_len=512)\n",
        "\n",
        "model_vnn.summary()"
      ]
    },
    {
      "cell_type": "markdown",
      "metadata": {
        "id": "ppf9a2BgXwqc"
      },
      "source": [
        "### Visualize network architecture"
      ]
    },
    {
      "cell_type": "code",
      "execution_count": null,
      "metadata": {
        "colab": {
          "base_uri": "https://localhost:8080/",
          "height": 459
        },
        "outputId": "231aaeac-ad2d-4bb8-972b-9c5b0f83e85d",
        "id": "9rY5PxpYXwqd"
      },
      "outputs": [
        {
          "output_type": "execute_result",
          "data": {
            "text/plain": [
              "<IPython.core.display.SVG object>"
            ],
            "image/svg+xml": "<svg xmlns=\"http://www.w3.org/2000/svg\" xmlns:xlink=\"http://www.w3.org/1999/xlink\" width=\"222pt\" height=\"328pt\" viewBox=\"0.00 0.00 228.00 337.00\">\n<g id=\"graph0\" class=\"graph\" transform=\"scale(1.03 1.03) rotate(0) translate(4 333)\">\n<title>G</title>\n<polygon fill=\"white\" stroke=\"transparent\" points=\"-4,4 -4,-333 224,-333 224,4 -4,4\"/>\n<!-- 133648167179296 -->\n<g id=\"node1\" class=\"node\">\n<title>133648167179296</title>\n<polygon fill=\"none\" stroke=\"black\" points=\"21,-292.5 21,-328.5 199,-328.5 199,-292.5 21,-292.5\"/>\n<text text-anchor=\"middle\" x=\"71.5\" y=\"-306.8\" font-family=\"Times,serif\" font-size=\"14.00\">input_word_ids</text>\n<polyline fill=\"none\" stroke=\"black\" points=\"122,-292.5 122,-328.5 \"/>\n<text text-anchor=\"middle\" x=\"160.5\" y=\"-306.8\" font-family=\"Times,serif\" font-size=\"14.00\">InputLayer</text>\n</g>\n<!-- 133648166927136 -->\n<g id=\"node2\" class=\"node\">\n<title>133648166927136</title>\n<polygon fill=\"none\" stroke=\"black\" points=\"31.5,-219.5 31.5,-255.5 188.5,-255.5 188.5,-219.5 31.5,-219.5\"/>\n<text text-anchor=\"middle\" x=\"70\" y=\"-233.8\" font-family=\"Times,serif\" font-size=\"14.00\">embedding</text>\n<polyline fill=\"none\" stroke=\"black\" points=\"108.5,-219.5 108.5,-255.5 \"/>\n<text text-anchor=\"middle\" x=\"148.5\" y=\"-233.8\" font-family=\"Times,serif\" font-size=\"14.00\">Embedding</text>\n</g>\n<!-- 133648167179296&#45;&gt;133648166927136 -->\n<g id=\"edge1\" class=\"edge\">\n<title>133648167179296-&gt;133648166927136</title>\n<path fill=\"none\" stroke=\"black\" d=\"M110,-292.31C110,-284.29 110,-274.55 110,-265.57\"/>\n<polygon fill=\"black\" stroke=\"black\" points=\"113.5,-265.53 110,-255.53 106.5,-265.53 113.5,-265.53\"/>\n</g>\n<!-- 133647782021680 -->\n<g id=\"node3\" class=\"node\">\n<title>133647782021680</title>\n<polygon fill=\"none\" stroke=\"black\" points=\"0,-146.5 0,-182.5 220,-182.5 220,-146.5 0,-146.5\"/>\n<text text-anchor=\"middle\" x=\"63\" y=\"-160.8\" font-family=\"Times,serif\" font-size=\"14.00\">tf.math.reduce_sum</text>\n<polyline fill=\"none\" stroke=\"black\" points=\"126,-146.5 126,-182.5 \"/>\n<text text-anchor=\"middle\" x=\"173\" y=\"-160.8\" font-family=\"Times,serif\" font-size=\"14.00\">TFOpLambda</text>\n</g>\n<!-- 133648166927136&#45;&gt;133647782021680 -->\n<g id=\"edge2\" class=\"edge\">\n<title>133648166927136-&gt;133647782021680</title>\n<path fill=\"none\" stroke=\"black\" d=\"M110,-219.31C110,-211.29 110,-201.55 110,-192.57\"/>\n<polygon fill=\"black\" stroke=\"black\" points=\"113.5,-192.53 110,-182.53 106.5,-192.53 113.5,-192.53\"/>\n</g>\n<!-- 133647782020480 -->\n<g id=\"node4\" class=\"node\">\n<title>133647782020480</title>\n<polygon fill=\"none\" stroke=\"black\" points=\"61.5,-73.5 61.5,-109.5 158.5,-109.5 158.5,-73.5 61.5,-73.5\"/>\n<text text-anchor=\"middle\" x=\"85\" y=\"-87.8\" font-family=\"Times,serif\" font-size=\"14.00\">dense</text>\n<polyline fill=\"none\" stroke=\"black\" points=\"108.5,-73.5 108.5,-109.5 \"/>\n<text text-anchor=\"middle\" x=\"133.5\" y=\"-87.8\" font-family=\"Times,serif\" font-size=\"14.00\">Dense</text>\n</g>\n<!-- 133647782021680&#45;&gt;133647782020480 -->\n<g id=\"edge3\" class=\"edge\">\n<title>133647782021680-&gt;133647782020480</title>\n<path fill=\"none\" stroke=\"black\" d=\"M110,-146.31C110,-138.29 110,-128.55 110,-119.57\"/>\n<polygon fill=\"black\" stroke=\"black\" points=\"113.5,-119.53 110,-109.53 106.5,-119.53 113.5,-119.53\"/>\n</g>\n<!-- 133647782025136 -->\n<g id=\"node5\" class=\"node\">\n<title>133647782025136</title>\n<polygon fill=\"none\" stroke=\"black\" points=\"54.5,-0.5 54.5,-36.5 165.5,-36.5 165.5,-0.5 54.5,-0.5\"/>\n<text text-anchor=\"middle\" x=\"85\" y=\"-14.8\" font-family=\"Times,serif\" font-size=\"14.00\">dense_1</text>\n<polyline fill=\"none\" stroke=\"black\" points=\"115.5,-0.5 115.5,-36.5 \"/>\n<text text-anchor=\"middle\" x=\"140.5\" y=\"-14.8\" font-family=\"Times,serif\" font-size=\"14.00\">Dense</text>\n</g>\n<!-- 133647782020480&#45;&gt;133647782025136 -->\n<g id=\"edge4\" class=\"edge\">\n<title>133647782020480-&gt;133647782025136</title>\n<path fill=\"none\" stroke=\"black\" d=\"M110,-73.31C110,-65.29 110,-55.55 110,-46.57\"/>\n<polygon fill=\"black\" stroke=\"black\" points=\"113.5,-46.53 110,-36.53 106.5,-46.53 113.5,-46.53\"/>\n</g>\n</g>\n</svg>"
          },
          "metadata": {},
          "execution_count": 26
        }
      ],
      "source": [
        "SVG(tf.keras.utils.model_to_dot(model_vnn, dpi=70).create(prog='dot', format='svg'))"
      ]
    },
    {
      "cell_type": "markdown",
      "metadata": {
        "id": "rhQ_0xRJQX3u"
      },
      "source": [
        "### Define ReduceLROnPlateau callback"
      ]
    },
    {
      "cell_type": "code",
      "execution_count": null,
      "metadata": {
        "id": "DFl50YdQQX3u"
      },
      "outputs": [],
      "source": [
        "def callback():\n",
        "    cb = []\n",
        "\n",
        "    reduceLROnPlat = ReduceLROnPlateau(monitor='val_loss',\n",
        "                                    factor=0.3, patience=3,\n",
        "                                    verbose=1, mode='auto',\n",
        "                                    epsilon=0.0001, cooldown=1, min_lr=0.000001)\n",
        "    cb.append(reduceLROnPlat)\n",
        "    log = CSVLogger('log.csv')\n",
        "    cb.append(log)\n",
        "\n",
        "    RocAuc = RocAucEvaluation(validation_data=(x_val, y_val), interval=1)\n",
        "    cb.append(RocAuc)\n",
        "\n",
        "    return cb"
      ]
    },
    {
      "cell_type": "markdown",
      "metadata": {
        "id": "Om_CSdpUXwqf"
      },
      "source": [
        "### Train the model"
      ]
    },
    {
      "cell_type": "code",
      "execution_count": null,
      "metadata": {
        "colab": {
          "base_uri": "https://localhost:8080/"
        },
        "outputId": "39fe338e-51ca-467a-d8dd-6046cffbcc8b",
        "id": "z6O1EhVoXwqg"
      },
      "outputs": [
        {
          "output_type": "stream",
          "name": "stderr",
          "text": [
            "WARNING:tensorflow:`epsilon` argument is deprecated and will be removed, use `min_delta` instead.\n"
          ]
        },
        {
          "output_type": "stream",
          "name": "stdout",
          "text": [
            "Epoch 1/10\n",
            "1744/1744 [==============================] - ETA: 0s - loss: 0.7591 - accuracy: 0.6100"
          ]
        },
        {
          "output_type": "stream",
          "name": "stderr",
          "text": [
            "WARNING:tensorflow:Learning rate reduction is conditioned on metric `val_loss` which is not available. Available metrics are: loss,accuracy,lr\n"
          ]
        },
        {
          "output_type": "stream",
          "name": "stdout",
          "text": [
            "\n",
            " ROC-AUC - epoch: 1 - score: 0.705137\n",
            "\b\b\b\b\b\b\b\b\b\b\b\b\b\b\b\b\b\b\b\b\b\b\b\b\b\b\b\b\b\b\b\b\b\b\b\b\b\b\b\b\b\b\b\b\b\b\b\b\b\b\b\b\b\b\b\b\b\b\b\b\b\b\b\b\b\b\b\b\b\b\b\b\b\b\b\b\b\b\b\b\b\b\b\b\b\b\r1744/1744 [==============================] - 32s 18ms/step - loss: 0.7591 - accuracy: 0.6100 - lr: 0.0010\n",
            "Epoch 2/10\n",
            "1741/1744 [============================>.] - ETA: 0s - loss: 0.6195 - accuracy: 0.6423"
          ]
        },
        {
          "output_type": "stream",
          "name": "stderr",
          "text": [
            "WARNING:tensorflow:Learning rate reduction is conditioned on metric `val_loss` which is not available. Available metrics are: loss,accuracy,lr\n"
          ]
        },
        {
          "output_type": "stream",
          "name": "stdout",
          "text": [
            "\n",
            " ROC-AUC - epoch: 2 - score: 0.710473\n",
            "\b\b\b\b\b\b\b\b\b\b\b\b\b\b\b\b\b\b\b\b\b\b\b\b\b\b\b\b\b\b\b\b\b\b\b\b\b\b\b\b\b\b\b\b\b\b\b\b\b\b\b\b\b\b\b\b\b\b\b\b\b\b\b\b\b\b\b\b\b\b\b\b\b\b\b\b\b\b\b\b\b\b\b\b\b\b\r1744/1744 [==============================] - 31s 18ms/step - loss: 0.6195 - accuracy: 0.6423 - lr: 0.0010\n",
            "Epoch 3/10\n",
            "1741/1744 [============================>.] - ETA: 0s - loss: 0.6150 - accuracy: 0.6461"
          ]
        },
        {
          "output_type": "stream",
          "name": "stderr",
          "text": [
            "WARNING:tensorflow:Learning rate reduction is conditioned on metric `val_loss` which is not available. Available metrics are: loss,accuracy,lr\n"
          ]
        },
        {
          "output_type": "stream",
          "name": "stdout",
          "text": [
            "\n",
            " ROC-AUC - epoch: 3 - score: 0.709967\n",
            "\b\b\b\b\b\b\b\b\b\b\b\b\b\b\b\b\b\b\b\b\b\b\b\b\b\b\b\b\b\b\b\b\b\b\b\b\b\b\b\b\b\b\b\b\b\b\b\b\b\b\b\b\b\b\b\b\b\b\b\b\b\b\b\b\b\b\b\b\b\b\b\b\b\b\b\b\b\b\b\b\b\b\b\b\b\b\r1744/1744 [==============================] - 30s 17ms/step - loss: 0.6149 - accuracy: 0.6461 - lr: 0.0010\n",
            "Epoch 4/10\n",
            "1743/1744 [============================>.] - ETA: 0s - loss: 0.6127 - accuracy: 0.6475"
          ]
        },
        {
          "output_type": "stream",
          "name": "stderr",
          "text": [
            "WARNING:tensorflow:Learning rate reduction is conditioned on metric `val_loss` which is not available. Available metrics are: loss,accuracy,lr\n"
          ]
        },
        {
          "output_type": "stream",
          "name": "stdout",
          "text": [
            "\n",
            " ROC-AUC - epoch: 4 - score: 0.703699\n",
            "\b\b\b\b\b\b\b\b\b\b\b\b\b\b\b\b\b\b\b\b\b\b\b\b\b\b\b\b\b\b\b\b\b\b\b\b\b\b\b\b\b\b\b\b\b\b\b\b\b\b\b\b\b\b\b\b\b\b\b\b\b\b\b\b\b\b\b\b\b\b\b\b\b\b\b\b\b\b\b\b\b\b\b\b\b\b\r1744/1744 [==============================] - 31s 18ms/step - loss: 0.6127 - accuracy: 0.6475 - lr: 0.0010\n",
            "Epoch 5/10\n",
            "1743/1744 [============================>.] - ETA: 0s - loss: 0.6111 - accuracy: 0.6513"
          ]
        },
        {
          "output_type": "stream",
          "name": "stderr",
          "text": [
            "WARNING:tensorflow:Learning rate reduction is conditioned on metric `val_loss` which is not available. Available metrics are: loss,accuracy,lr\n"
          ]
        },
        {
          "output_type": "stream",
          "name": "stdout",
          "text": [
            "\n",
            " ROC-AUC - epoch: 5 - score: 0.709908\n",
            "\b\b\b\b\b\b\b\b\b\b\b\b\b\b\b\b\b\b\b\b\b\b\b\b\b\b\b\b\b\b\b\b\b\b\b\b\b\b\b\b\b\b\b\b\b\b\b\b\b\b\b\b\b\b\b\b\b\b\b\b\b\b\b\b\b\b\b\b\b\b\b\b\b\b\b\b\b\b\b\b\b\b\b\b\b\b\r1744/1744 [==============================] - 35s 20ms/step - loss: 0.6112 - accuracy: 0.6513 - lr: 0.0010\n",
            "Epoch 6/10\n",
            "1741/1744 [============================>.] - ETA: 0s - loss: 0.6087 - accuracy: 0.6539"
          ]
        },
        {
          "output_type": "stream",
          "name": "stderr",
          "text": [
            "WARNING:tensorflow:Learning rate reduction is conditioned on metric `val_loss` which is not available. Available metrics are: loss,accuracy,lr\n"
          ]
        },
        {
          "output_type": "stream",
          "name": "stdout",
          "text": [
            "\n",
            " ROC-AUC - epoch: 6 - score: 0.710768\n",
            "\b\b\b\b\b\b\b\b\b\b\b\b\b\b\b\b\b\b\b\b\b\b\b\b\b\b\b\b\b\b\b\b\b\b\b\b\b\b\b\b\b\b\b\b\b\b\b\b\b\b\b\b\b\b\b\b\b\b\b\b\b\b\b\b\b\b\b\b\b\b\b\b\b\b\b\b\b\b\b\b\b\b\b\b\b\b\r1744/1744 [==============================] - 35s 20ms/step - loss: 0.6088 - accuracy: 0.6540 - lr: 0.0010\n",
            "Epoch 7/10\n",
            "1742/1744 [============================>.] - ETA: 0s - loss: 0.6065 - accuracy: 0.6569"
          ]
        },
        {
          "output_type": "stream",
          "name": "stderr",
          "text": [
            "WARNING:tensorflow:Learning rate reduction is conditioned on metric `val_loss` which is not available. Available metrics are: loss,accuracy,lr\n"
          ]
        },
        {
          "output_type": "stream",
          "name": "stdout",
          "text": [
            "\n",
            " ROC-AUC - epoch: 7 - score: 0.712407\n",
            "\b\b\b\b\b\b\b\b\b\b\b\b\b\b\b\b\b\b\b\b\b\b\b\b\b\b\b\b\b\b\b\b\b\b\b\b\b\b\b\b\b\b\b\b\b\b\b\b\b\b\b\b\b\b\b\b\b\b\b\b\b\b\b\b\b\b\b\b\b\b\b\b\b\b\b\b\b\b\b\b\b\b\b\b\b\b\r1744/1744 [==============================] - 33s 19ms/step - loss: 0.6066 - accuracy: 0.6568 - lr: 0.0010\n",
            "Epoch 8/10\n",
            "1743/1744 [============================>.] - ETA: 0s - loss: 0.6049 - accuracy: 0.6579"
          ]
        },
        {
          "output_type": "stream",
          "name": "stderr",
          "text": [
            "WARNING:tensorflow:Learning rate reduction is conditioned on metric `val_loss` which is not available. Available metrics are: loss,accuracy,lr\n"
          ]
        },
        {
          "output_type": "stream",
          "name": "stdout",
          "text": [
            "\n",
            " ROC-AUC - epoch: 8 - score: 0.711606\n",
            "\b\b\b\b\b\b\b\b\b\b\b\b\b\b\b\b\b\b\b\b\b\b\b\b\b\b\b\b\b\b\b\b\b\b\b\b\b\b\b\b\b\b\b\b\b\b\b\b\b\b\b\b\b\b\b\b\b\b\b\b\b\b\b\b\b\b\b\b\b\b\b\b\b\b\b\b\b\b\b\b\b\b\b\b\b\b\r1744/1744 [==============================] - 31s 18ms/step - loss: 0.6049 - accuracy: 0.6579 - lr: 0.0010\n",
            "Epoch 9/10\n",
            "1743/1744 [============================>.] - ETA: 0s - loss: 0.6035 - accuracy: 0.6605"
          ]
        },
        {
          "output_type": "stream",
          "name": "stderr",
          "text": [
            "WARNING:tensorflow:Learning rate reduction is conditioned on metric `val_loss` which is not available. Available metrics are: loss,accuracy,lr\n"
          ]
        },
        {
          "output_type": "stream",
          "name": "stdout",
          "text": [
            "\n",
            " ROC-AUC - epoch: 9 - score: 0.712692\n",
            "\b\b\b\b\b\b\b\b\b\b\b\b\b\b\b\b\b\b\b\b\b\b\b\b\b\b\b\b\b\b\b\b\b\b\b\b\b\b\b\b\b\b\b\b\b\b\b\b\b\b\b\b\b\b\b\b\b\b\b\b\b\b\b\b\b\b\b\b\b\b\b\b\b\b\b\b\b\b\b\b\b\b\b\b\b\b\r1744/1744 [==============================] - 33s 19ms/step - loss: 0.6035 - accuracy: 0.6605 - lr: 0.0010\n",
            "Epoch 10/10\n",
            "1743/1744 [============================>.] - ETA: 0s - loss: 0.6027 - accuracy: 0.6613"
          ]
        },
        {
          "output_type": "stream",
          "name": "stderr",
          "text": [
            "WARNING:tensorflow:Learning rate reduction is conditioned on metric `val_loss` which is not available. Available metrics are: loss,accuracy,lr\n"
          ]
        },
        {
          "output_type": "stream",
          "name": "stdout",
          "text": [
            "\n",
            " ROC-AUC - epoch: 10 - score: 0.712310\n",
            "\b\b\b\b\b\b\b\b\b\b\b\b\b\b\b\b\b\b\b\b\b\b\b\b\b\b\b\b\b\b\b\b\b\b\b\b\b\b\b\b\b\b\b\b\b\b\b\b\b\b\b\b\b\b\b\b\b\b\b\b\b\b\b\b\b\b\b\b\b\b\b\b\b\b\b\b\b\b\b\b\b\b\b\b\b\b\r1744/1744 [==============================] - 30s 17ms/step - loss: 0.6027 - accuracy: 0.6613 - lr: 0.0010\n"
          ]
        }
      ],
      "source": [
        "N_STEPS = x_train.shape[0] // BATCH_SIZE\n",
        "calls = callback()\n",
        "EPOCHS = 10\n",
        "\n",
        "train_history = model_vnn.fit(\n",
        "    train_dataset,\n",
        "    steps_per_epoch=N_STEPS,\n",
        "    callbacks = calls,\n",
        "    epochs=EPOCHS\n",
        ")"
      ]
    },
    {
      "cell_type": "markdown",
      "metadata": {
        "id": "2JtJZaUCXwqh"
      },
      "source": [
        "### Visualize model predictions"
      ]
    },
    {
      "cell_type": "code",
      "source": [
        "val_data = pd.DataFrame({\n",
        "    'text': [tokenizer.decode(tokens, skip_special_tokens=True) for tokens in x_val],\n",
        "    'label': y_val\n",
        "})"
      ],
      "metadata": {
        "id": "Qt6H2KmQkRGs"
      },
      "execution_count": null,
      "outputs": []
    },
    {
      "cell_type": "code",
      "execution_count": null,
      "metadata": {
        "colab": {
          "base_uri": "https://localhost:8080/"
        },
        "outputId": "f1f5f393-7631-4a14-a0b2-be88dfe10354",
        "id": "RohxLynWXwqi"
      },
      "outputs": [
        {
          "output_type": "stream",
          "name": "stdout",
          "text": [
            "1/1 [==============================] - 0s 66ms/step\n",
            "\u001b[32m1. Human ✔\n",
            "\u001b[0m\n",
            "ORIGINAL\n",
            "think of your sleep cycle as a roller coaster. you go up, you go down, you go up, you do gown, and you do that many many times during the night. deep sleep, light sleep, deep sleep, light sleep, etc... think of waking up like getting off the roller coaster. if you get off the roller coaster on the bottom near the ground, it's easy, safe, and you feel rejuvenated and fresh. if you try to get off at the top, you'll end up falling a long distance, hit the ground, and you will feel awful. it's important to try and time your alarm clock to wake you up at the proper point on the roller coaster. each \" up and down \" takes about 90 minutes, so try to schedule your wake up time so it's in an interval of 90 minutes from when you fell asleep. that should place you near the ground when you wake up. there are number of factors that could be involved, but three of the most common are : 1 ) * * sleep apnea * * typically needs a doctor's diagnosis and treatment - - this is when you literally stop breathing for a few seconds at a time. as a result, your natural sleep cycle is interrupted, so the restfulness of your sleep goes way down. 2 ) * * poor timing of waking up * * most people's sleep cycles tend go in 1. 5 hour cycles. if something ( say an alarm clock ) wakes you up at a point in your sleep cycle where you are in a deep sleep you will still feel tired / sleepy for quite some time after waking up due to the cycle not being completed. 3 ) * * alcohol / other drugs * * these can cause short - term or long - term chemical imbalances that result in your sleep cycle not going through all of its normal phases for the normal length of time. so even if you don't wake up hungover, you still may wake - up very tired. * * other possibilities * * : teeth grinding, night terrors, circadian rhythm disorders, and a whole host of other possibilities that you'd need a doctor to diagnose and treat. ( edited for clarity of number 2 and bolding \" other possibilities \" ) if you're wondering about sleep cycles, use this website : url _ 0\n",
            "\n",
            "\u001b[32m2. Human ✔\n",
            "\u001b[0m\n",
            "ORIGINAL\n",
            "in the book, we first meet gimli and his father gloin ( famous as one of the 13 companions of thorin oakenshield ) when they've come to rivendell to seek council. at the council of elrond gloin brings two important pieces of information. first, he tells how sauron has sent messengers to dain ( king under the mountain following thorin's death due to severe injuries taken during the battle of five armies ) asking for news of a hobbit \" that was known to you at one time \". the messenger calls the hobbit a thief and claims he stole a ring. they request that dain give them information to find the thief, and in exchange they will return some of the seven ( i think the offer is 3 of them ) to the dwarves. ( the seven refers to the 7 rings of the dwarves referenced in the rhyme at the beginning of the book. ) gloin tells the council that the enemy is seeking for news of bilbo. information which, combined with the fact that frodo was pursued by the nine riders right to the gates of rivendell, tells the council that sauron knows precisely where the one ring is located. this is obviously bad news. the other piece of information he brings is about one of the other companions - balin. he says that several years ago balin led a group of dwarves to retake moria. they received news for a while, but things have gone silent. remember, middle earth is a very big place and technologically it's not progressed past swords and horses. the dwarves of the lonely mountain have no idea what's happened to balin and his folk, and they have a very bad feeling about it. however, they also have no proof that anything particularly terrible has happened, and so they have a little hope. enter the fellowship of the ring. they're headed more or less towards moria, and elrond has chosen gimli to be one of the companions of the ring. gandalf's original plan was to ignore moria entirely and cross over the mountains at the redhorn gate. incidentally, it's mentioned that some of elrond's scouts used it just a few weeks earlier and found it quite safe. but when they are foiled, they reluctantly decide to enter moria. there are several reasons for this. first, they need to get under cover. they've certainly been seen by\n",
            "\n",
            "\u001b[32m3. Human ✔\n",
            "\u001b[0m\n",
            "ORIGINAL\n",
            "in my opinion the use of facisl action coding system is not valuable on a classroom because that is something dumb to do or have in a classroom. a teacher can tell when a student is boring or when he is not paying attention the student might feel embarrased if he gets to take that test becuase, it will be in front of everyone, i think having that in a classroom will be useless but maybe for some students it will be cool getting their faces read by a computer program. the story in paragraph 8 says \" faces don't lie \" and that is true we can fake a smile but not everyday, when we're tired we can't fake that we're not tired our eyes will be slow and we are not wide awake, when we're mad people easly notice it but what im trying to say is that having this technology to read the facial expressions of students in a classroom is really unessesary because our faces don't lie and it will be cool not going to lie but i don't really see the benefits of doing that, is worthless we wont be getting to know or learn from it but students will probably had fun with it and having fun is good in class beacause we get to take a break from school work.\n",
            "\n",
            "\u001b[32m4. Human ✔\n",
            "\u001b[0m\n",
            "ORIGINAL\n",
            "in society today transportation is neccessary to keep most things going. cars are one of the biggest transportation devices used. the advantages of limiting car usage range from taking away stress to lowering air pollution. stress is one of the biggest factors faced while driving. continuously having to check for cars around you, looking for open spaces to race by the car infront of you, and waiting in those horrible traffic jams that waiste useful time in your life. reducing the amount of car usage will lead to exercise which reduces stress and less waiting time for multiple things. as stated in source 1, paragraph 3 a resident of vauban says \" when i had a car i was always tense. \" mentally driving is a lot to handle and always has you worried no matter how comfortable your car is. a really big problem in our environment today is air pollution. reduced car usage leads to less gas having to be drilled from oil mines and places underground. it also comes with a bundle of less smog and a stronger, cleaner, atmosphere. even a businessman in columbia commented \" it's a good opportunity to take away stress and lower air pollution, \" in source 3 paragraph 24 as he participated in the annual car - free day. the better the environment and air pollution the healthier the oxygen. helping the earth is essentially and always will be helping our selves.\n",
            "\n"
          ]
        }
      ],
      "source": [
        "def visualize_model_preds(model, indices=[0, 17, 1, 24]):\n",
        "    texts = val_data.text.iloc[indices].values.tolist()\n",
        "    preds = model.predict(x_val[indices].reshape(len(indices), -1))\n",
        "\n",
        "    for idx, i in enumerate(indices):\n",
        "        label_indicator = y_val.iloc[i]\n",
        "        label = \"Human\" if label_indicator == 0 else \"AI\"\n",
        "        color = Fore.GREEN if label_indicator == 0 else Fore.RED\n",
        "        symbol = '\\u2714' if label_indicator == 0 else '\\u2716'\n",
        "\n",
        "        print('{}{} {}'.format(color, str(idx+1) + \". \" + label, symbol))\n",
        "        print(f'{Style.RESET_ALL}')\n",
        "        print(\"ORIGINAL\")\n",
        "        print(texts[idx]); print(\"\")\n",
        "\n",
        "visualize_model_preds(model_vnn)"
      ]
    },
    {
      "cell_type": "markdown",
      "metadata": {
        "id": "2ACtQppsYW1A"
      },
      "source": [
        "## Convolutional neural network"
      ]
    },
    {
      "cell_type": "markdown",
      "metadata": {
        "id": "Uo18wk2zQX3w"
      },
      "source": [
        "The same logic is implemented below using tf.keras."
      ]
    },
    {
      "cell_type": "markdown",
      "metadata": {
        "id": "v0cFkeQ1YW1C"
      },
      "source": [
        "### Define CNN model"
      ]
    },
    {
      "cell_type": "code",
      "execution_count": null,
      "metadata": {
        "id": "FqrDBOX-YW1D"
      },
      "outputs": [],
      "source": [
        "def build_cnn_model(transformer, max_len):\n",
        "    input_word_ids = Input(shape=(max_len,), dtype=tf.int32, name=\"input_word_ids\")\n",
        "\n",
        "    embed = transformer.weights[0].numpy()\n",
        "    embedding = Embedding(np.shape(embed)[0], np.shape(embed)[1],\n",
        "                          input_length=max_len, weights=[embed],\n",
        "                          trainable=False)(input_word_ids)\n",
        "\n",
        "    embedding = SpatialDropout1D(0.3)(embedding)\n",
        "    conv_1 = Conv1D(64, 2)(embedding)\n",
        "    conv_2 = Conv1D(64, 3)(embedding)\n",
        "    conv_3 = Conv1D(64, 4)(embedding)\n",
        "    conv_4 = Conv1D(64, 5)(embedding)\n",
        "\n",
        "    maxpool_1 = GlobalAveragePooling1D()(conv_1)\n",
        "    maxpool_2 = GlobalAveragePooling1D()(conv_2)\n",
        "    maxpool_3 = GlobalAveragePooling1D()(conv_3)\n",
        "    maxpool_4 = GlobalAveragePooling1D()(conv_4)\n",
        "    conc = concatenate([maxpool_1, maxpool_2, maxpool_3, maxpool_4], axis=1)\n",
        "\n",
        "    conc = Dense(64, activation='relu')(conc)\n",
        "    conc = Dense(1, activation='sigmoid')(conc)\n",
        "\n",
        "    model = Model(inputs=input_word_ids, outputs=conc)\n",
        "\n",
        "    model.compile(Adam(lr=0.01),\n",
        "                  loss='binary_crossentropy',\n",
        "                  metrics=['accuracy'])\n",
        "\n",
        "    return model"
      ]
    },
    {
      "cell_type": "markdown",
      "metadata": {
        "id": "5YxgFH4SYW1E"
      },
      "source": [
        "### Build model and check summary"
      ]
    },
    {
      "cell_type": "code",
      "execution_count": null,
      "metadata": {
        "colab": {
          "base_uri": "https://localhost:8080/"
        },
        "id": "Ocu0pNb2QX3x",
        "outputId": "d183a300-7baf-4ecc-9c85-979f0a8850b0"
      },
      "outputs": [
        {
          "output_type": "stream",
          "name": "stderr",
          "text": [
            "WARNING:absl:`lr` is deprecated in Keras optimizer, please use `learning_rate` or use the legacy optimizer, e.g.,tf.keras.optimizers.legacy.Adam.\n"
          ]
        },
        {
          "output_type": "stream",
          "name": "stdout",
          "text": [
            "Model: \"model_1\"\n",
            "__________________________________________________________________________________________________\n",
            " Layer (type)                Output Shape                 Param #   Connected to                  \n",
            "==================================================================================================\n",
            " input_word_ids (InputLayer  [(None, 512)]                0         []                            \n",
            " )                                                                                                \n",
            "                                                                                                  \n",
            " embedding_1 (Embedding)     (None, 512, 768)             9181209   ['input_word_ids[0][0]']      \n",
            "                                                          6                                       \n",
            "                                                                                                  \n",
            " spatial_dropout1d (Spatial  (None, 512, 768)             0         ['embedding_1[0][0]']         \n",
            " Dropout1D)                                                                                       \n",
            "                                                                                                  \n",
            " conv1d (Conv1D)             (None, 511, 64)              98368     ['spatial_dropout1d[0][0]']   \n",
            "                                                                                                  \n",
            " conv1d_1 (Conv1D)           (None, 510, 64)              147520    ['spatial_dropout1d[0][0]']   \n",
            "                                                                                                  \n",
            " conv1d_2 (Conv1D)           (None, 509, 64)              196672    ['spatial_dropout1d[0][0]']   \n",
            "                                                                                                  \n",
            " conv1d_3 (Conv1D)           (None, 508, 64)              245824    ['spatial_dropout1d[0][0]']   \n",
            "                                                                                                  \n",
            " global_average_pooling1d (  (None, 64)                   0         ['conv1d[0][0]']              \n",
            " GlobalAveragePooling1D)                                                                          \n",
            "                                                                                                  \n",
            " global_average_pooling1d_1  (None, 64)                   0         ['conv1d_1[0][0]']            \n",
            "  (GlobalAveragePooling1D)                                                                        \n",
            "                                                                                                  \n",
            " global_average_pooling1d_2  (None, 64)                   0         ['conv1d_2[0][0]']            \n",
            "  (GlobalAveragePooling1D)                                                                        \n",
            "                                                                                                  \n",
            " global_average_pooling1d_3  (None, 64)                   0         ['conv1d_3[0][0]']            \n",
            "  (GlobalAveragePooling1D)                                                                        \n",
            "                                                                                                  \n",
            " concatenate (Concatenate)   (None, 256)                  0         ['global_average_pooling1d[0][\n",
            "                                                                    0]',                          \n",
            "                                                                     'global_average_pooling1d_1[0\n",
            "                                                                    ][0]',                        \n",
            "                                                                     'global_average_pooling1d_2[0\n",
            "                                                                    ][0]',                        \n",
            "                                                                     'global_average_pooling1d_3[0\n",
            "                                                                    ][0]']                        \n",
            "                                                                                                  \n",
            " dense_2 (Dense)             (None, 64)                   16448     ['concatenate[0][0]']         \n",
            "                                                                                                  \n",
            " dense_3 (Dense)             (None, 1)                    65        ['dense_2[0][0]']             \n",
            "                                                                                                  \n",
            "==================================================================================================\n",
            "Total params: 92516993 (352.92 MB)\n",
            "Trainable params: 704897 (2.69 MB)\n",
            "Non-trainable params: 91812096 (350.24 MB)\n",
            "__________________________________________________________________________________________________\n"
          ]
        }
      ],
      "source": [
        "with strategy.scope():\n",
        "    model_cnn = build_cnn_model(transformer_layer, max_len=512)\n",
        "\n",
        "model_cnn.summary()"
      ]
    },
    {
      "cell_type": "markdown",
      "metadata": {
        "id": "k8ziBz7YYW1H"
      },
      "source": [
        "### Visualize network architecture"
      ]
    },
    {
      "cell_type": "code",
      "execution_count": null,
      "metadata": {
        "colab": {
          "base_uri": "https://localhost:8080/",
          "height": 763
        },
        "outputId": "f5da04ed-1500-4fc9-9ee7-9b2406e4a862",
        "id": "AeLSb-WBYW1I"
      },
      "outputs": [
        {
          "output_type": "execute_result",
          "data": {
            "text/plain": [
              "<IPython.core.display.SVG object>"
            ],
            "image/svg+xml": "<svg xmlns=\"http://www.w3.org/2000/svg\" xmlns:xlink=\"http://www.w3.org/1999/xlink\" width=\"1335pt\" height=\"541pt\" viewBox=\"0.00 0.00 1373.50 556.00\">\n<g id=\"graph0\" class=\"graph\" transform=\"scale(1.03 1.03) rotate(0) translate(4 552)\">\n<title>G</title>\n<polygon fill=\"white\" stroke=\"transparent\" points=\"-4,4 -4,-552 1369.5,-552 1369.5,4 -4,4\"/>\n<!-- 133647707980416 -->\n<g id=\"node1\" class=\"node\">\n<title>133647707980416</title>\n<polygon fill=\"none\" stroke=\"black\" points=\"538,-511.5 538,-547.5 716,-547.5 716,-511.5 538,-511.5\"/>\n<text text-anchor=\"middle\" x=\"588.5\" y=\"-525.8\" font-family=\"Times,serif\" font-size=\"14.00\">input_word_ids</text>\n<polyline fill=\"none\" stroke=\"black\" points=\"639,-511.5 639,-547.5 \"/>\n<text text-anchor=\"middle\" x=\"677.5\" y=\"-525.8\" font-family=\"Times,serif\" font-size=\"14.00\">InputLayer</text>\n</g>\n<!-- 133647708226080 -->\n<g id=\"node2\" class=\"node\">\n<title>133647708226080</title>\n<polygon fill=\"none\" stroke=\"black\" points=\"541.5,-438.5 541.5,-474.5 712.5,-474.5 712.5,-438.5 541.5,-438.5\"/>\n<text text-anchor=\"middle\" x=\"587\" y=\"-452.8\" font-family=\"Times,serif\" font-size=\"14.00\">embedding_1</text>\n<polyline fill=\"none\" stroke=\"black\" points=\"632.5,-438.5 632.5,-474.5 \"/>\n<text text-anchor=\"middle\" x=\"672.5\" y=\"-452.8\" font-family=\"Times,serif\" font-size=\"14.00\">Embedding</text>\n</g>\n<!-- 133647707980416&#45;&gt;133647708226080 -->\n<g id=\"edge1\" class=\"edge\">\n<title>133647707980416-&gt;133647708226080</title>\n<path fill=\"none\" stroke=\"black\" d=\"M627,-511.31C627,-503.29 627,-493.55 627,-484.57\"/>\n<polygon fill=\"black\" stroke=\"black\" points=\"630.5,-484.53 627,-474.53 623.5,-484.53 630.5,-484.53\"/>\n</g>\n<!-- 133647708230448 -->\n<g id=\"node3\" class=\"node\">\n<title>133647708230448</title>\n<polygon fill=\"none\" stroke=\"black\" points=\"512,-365.5 512,-401.5 742,-401.5 742,-365.5 512,-365.5\"/>\n<text text-anchor=\"middle\" x=\"569\" y=\"-379.8\" font-family=\"Times,serif\" font-size=\"14.00\">spatial_dropout1d</text>\n<polyline fill=\"none\" stroke=\"black\" points=\"626,-365.5 626,-401.5 \"/>\n<text text-anchor=\"middle\" x=\"684\" y=\"-379.8\" font-family=\"Times,serif\" font-size=\"14.00\">SpatialDropout1D</text>\n</g>\n<!-- 133647708226080&#45;&gt;133647708230448 -->\n<g id=\"edge2\" class=\"edge\">\n<title>133647708226080-&gt;133647708230448</title>\n<path fill=\"none\" stroke=\"black\" d=\"M627,-438.31C627,-430.29 627,-420.55 627,-411.57\"/>\n<polygon fill=\"black\" stroke=\"black\" points=\"630.5,-411.53 627,-401.53 623.5,-411.53 630.5,-411.53\"/>\n</g>\n<!-- 133652364667984 -->\n<g id=\"node4\" class=\"node\">\n<title>133652364667984</title>\n<polygon fill=\"none\" stroke=\"black\" points=\"250,-292.5 250,-328.5 368,-328.5 368,-292.5 250,-292.5\"/>\n<text text-anchor=\"middle\" x=\"278\" y=\"-306.8\" font-family=\"Times,serif\" font-size=\"14.00\">conv1d</text>\n<polyline fill=\"none\" stroke=\"black\" points=\"306,-292.5 306,-328.5 \"/>\n<text text-anchor=\"middle\" x=\"337\" y=\"-306.8\" font-family=\"Times,serif\" font-size=\"14.00\">Conv1D</text>\n</g>\n<!-- 133647708230448&#45;&gt;133652364667984 -->\n<g id=\"edge3\" class=\"edge\">\n<title>133647708230448-&gt;133652364667984</title>\n<path fill=\"none\" stroke=\"black\" d=\"M550.83,-365.49C498.29,-353.76 429.01,-338.29 378.07,-326.92\"/>\n<polygon fill=\"black\" stroke=\"black\" points=\"378.66,-323.47 368.14,-324.7 377.14,-330.3 378.66,-323.47\"/>\n</g>\n<!-- 133647707985408 -->\n<g id=\"node5\" class=\"node\">\n<title>133647707985408</title>\n<polygon fill=\"none\" stroke=\"black\" points=\"486,-292.5 486,-328.5 618,-328.5 618,-292.5 486,-292.5\"/>\n<text text-anchor=\"middle\" x=\"521\" y=\"-306.8\" font-family=\"Times,serif\" font-size=\"14.00\">conv1d_1</text>\n<polyline fill=\"none\" stroke=\"black\" points=\"556,-292.5 556,-328.5 \"/>\n<text text-anchor=\"middle\" x=\"587\" y=\"-306.8\" font-family=\"Times,serif\" font-size=\"14.00\">Conv1D</text>\n</g>\n<!-- 133647708230448&#45;&gt;133647707985408 -->\n<g id=\"edge4\" class=\"edge\">\n<title>133647708230448-&gt;133647707985408</title>\n<path fill=\"none\" stroke=\"black\" d=\"M608.84,-365.31C599.45,-356.42 587.82,-345.41 577.53,-335.67\"/>\n<polygon fill=\"black\" stroke=\"black\" points=\"579.66,-332.86 569.99,-328.53 574.84,-337.95 579.66,-332.86\"/>\n</g>\n<!-- 133647707981712 -->\n<g id=\"node6\" class=\"node\">\n<title>133647707981712</title>\n<polygon fill=\"none\" stroke=\"black\" points=\"735,-292.5 735,-328.5 867,-328.5 867,-292.5 735,-292.5\"/>\n<text text-anchor=\"middle\" x=\"770\" y=\"-306.8\" font-family=\"Times,serif\" font-size=\"14.00\">conv1d_2</text>\n<polyline fill=\"none\" stroke=\"black\" points=\"805,-292.5 805,-328.5 \"/>\n<text text-anchor=\"middle\" x=\"836\" y=\"-306.8\" font-family=\"Times,serif\" font-size=\"14.00\">Conv1D</text>\n</g>\n<!-- 133647708230448&#45;&gt;133647707981712 -->\n<g id=\"edge5\" class=\"edge\">\n<title>133647708230448-&gt;133647707981712</title>\n<path fill=\"none\" stroke=\"black\" d=\"M668.68,-365.49C693.03,-355.56 723.96,-342.93 749.8,-332.39\"/>\n<polygon fill=\"black\" stroke=\"black\" points=\"751.12,-335.63 759.06,-328.61 748.48,-329.15 751.12,-335.63\"/>\n</g>\n<!-- 133647707992656 -->\n<g id=\"node7\" class=\"node\">\n<title>133647707992656</title>\n<polygon fill=\"none\" stroke=\"black\" points=\"1034,-292.5 1034,-328.5 1166,-328.5 1166,-292.5 1034,-292.5\"/>\n<text text-anchor=\"middle\" x=\"1069\" y=\"-306.8\" font-family=\"Times,serif\" font-size=\"14.00\">conv1d_3</text>\n<polyline fill=\"none\" stroke=\"black\" points=\"1104,-292.5 1104,-328.5 \"/>\n<text text-anchor=\"middle\" x=\"1135\" y=\"-306.8\" font-family=\"Times,serif\" font-size=\"14.00\">Conv1D</text>\n</g>\n<!-- 133647708230448&#45;&gt;133647707992656 -->\n<g id=\"edge6\" class=\"edge\">\n<title>133647708230448-&gt;133647707992656</title>\n<path fill=\"none\" stroke=\"black\" d=\"M740.3,-365.49C828.05,-352.32 947.2,-334.44 1023.86,-322.93\"/>\n<polygon fill=\"black\" stroke=\"black\" points=\"1024.55,-326.36 1033.92,-321.42 1023.51,-319.44 1024.55,-326.36\"/>\n</g>\n<!-- 133647707989152 -->\n<g id=\"node8\" class=\"node\">\n<title>133647707989152</title>\n<polygon fill=\"none\" stroke=\"black\" points=\"0,-219.5 0,-255.5 318,-255.5 318,-219.5 0,-219.5\"/>\n<text text-anchor=\"middle\" x=\"80.5\" y=\"-233.8\" font-family=\"Times,serif\" font-size=\"14.00\">global_average_pooling1d</text>\n<polyline fill=\"none\" stroke=\"black\" points=\"161,-219.5 161,-255.5 \"/>\n<text text-anchor=\"middle\" x=\"239.5\" y=\"-233.8\" font-family=\"Times,serif\" font-size=\"14.00\">GlobalAveragePooling1D</text>\n</g>\n<!-- 133652364667984&#45;&gt;133647707989152 -->\n<g id=\"edge7\" class=\"edge\">\n<title>133652364667984-&gt;133647707989152</title>\n<path fill=\"none\" stroke=\"black\" d=\"M273.07,-292.49C252.44,-282.73 226.34,-270.38 204.32,-259.95\"/>\n<polygon fill=\"black\" stroke=\"black\" points=\"205.69,-256.73 195.16,-255.61 202.7,-263.06 205.69,-256.73\"/>\n</g>\n<!-- 133647708226896 -->\n<g id=\"node9\" class=\"node\">\n<title>133647708226896</title>\n<polygon fill=\"none\" stroke=\"black\" points=\"336.5,-219.5 336.5,-255.5 667.5,-255.5 667.5,-219.5 336.5,-219.5\"/>\n<text text-anchor=\"middle\" x=\"423.5\" y=\"-233.8\" font-family=\"Times,serif\" font-size=\"14.00\">global_average_pooling1d_1</text>\n<polyline fill=\"none\" stroke=\"black\" points=\"510.5,-219.5 510.5,-255.5 \"/>\n<text text-anchor=\"middle\" x=\"589\" y=\"-233.8\" font-family=\"Times,serif\" font-size=\"14.00\">GlobalAveragePooling1D</text>\n</g>\n<!-- 133647707985408&#45;&gt;133647708226896 -->\n<g id=\"edge8\" class=\"edge\">\n<title>133647707985408-&gt;133647708226896</title>\n<path fill=\"none\" stroke=\"black\" d=\"M539.9,-292.31C533.88,-283.77 526.49,-273.27 519.83,-263.82\"/>\n<polygon fill=\"black\" stroke=\"black\" points=\"522.61,-261.69 513.99,-255.53 516.89,-265.72 522.61,-261.69\"/>\n</g>\n<!-- 133647708236304 -->\n<g id=\"node10\" class=\"node\">\n<title>133647708236304</title>\n<polygon fill=\"none\" stroke=\"black\" points=\"685.5,-219.5 685.5,-255.5 1016.5,-255.5 1016.5,-219.5 685.5,-219.5\"/>\n<text text-anchor=\"middle\" x=\"772.5\" y=\"-233.8\" font-family=\"Times,serif\" font-size=\"14.00\">global_average_pooling1d_2</text>\n<polyline fill=\"none\" stroke=\"black\" points=\"859.5,-219.5 859.5,-255.5 \"/>\n<text text-anchor=\"middle\" x=\"938\" y=\"-233.8\" font-family=\"Times,serif\" font-size=\"14.00\">GlobalAveragePooling1D</text>\n</g>\n<!-- 133647707981712&#45;&gt;133647708236304 -->\n<g id=\"edge9\" class=\"edge\">\n<title>133647707981712-&gt;133647708236304</title>\n<path fill=\"none\" stroke=\"black\" d=\"M813.1,-292.31C819.12,-283.77 826.51,-273.27 833.17,-263.82\"/>\n<polygon fill=\"black\" stroke=\"black\" points=\"836.11,-265.72 839.01,-255.53 830.39,-261.69 836.11,-265.72\"/>\n</g>\n<!-- 133647707984784 -->\n<g id=\"node11\" class=\"node\">\n<title>133647707984784</title>\n<polygon fill=\"none\" stroke=\"black\" points=\"1034.5,-219.5 1034.5,-255.5 1365.5,-255.5 1365.5,-219.5 1034.5,-219.5\"/>\n<text text-anchor=\"middle\" x=\"1121.5\" y=\"-233.8\" font-family=\"Times,serif\" font-size=\"14.00\">global_average_pooling1d_3</text>\n<polyline fill=\"none\" stroke=\"black\" points=\"1208.5,-219.5 1208.5,-255.5 \"/>\n<text text-anchor=\"middle\" x=\"1287\" y=\"-233.8\" font-family=\"Times,serif\" font-size=\"14.00\">GlobalAveragePooling1D</text>\n</g>\n<!-- 133647707992656&#45;&gt;133647707984784 -->\n<g id=\"edge10\" class=\"edge\">\n<title>133647707992656-&gt;133647707984784</title>\n<path fill=\"none\" stroke=\"black\" d=\"M1123.95,-292.49C1136.97,-283.25 1153.25,-271.69 1167.41,-261.64\"/>\n<polygon fill=\"black\" stroke=\"black\" points=\"1169.77,-264.26 1175.9,-255.61 1165.72,-258.55 1169.77,-264.26\"/>\n</g>\n<!-- 133647708230352 -->\n<g id=\"node12\" class=\"node\">\n<title>133647708230352</title>\n<polygon fill=\"none\" stroke=\"black\" points=\"594.5,-146.5 594.5,-182.5 757.5,-182.5 757.5,-146.5 594.5,-146.5\"/>\n<text text-anchor=\"middle\" x=\"634.5\" y=\"-160.8\" font-family=\"Times,serif\" font-size=\"14.00\">concatenate</text>\n<polyline fill=\"none\" stroke=\"black\" points=\"674.5,-146.5 674.5,-182.5 \"/>\n<text text-anchor=\"middle\" x=\"716\" y=\"-160.8\" font-family=\"Times,serif\" font-size=\"14.00\">Concatenate</text>\n</g>\n<!-- 133647707989152&#45;&gt;133647708230352 -->\n<g id=\"edge11\" class=\"edge\">\n<title>133647707989152-&gt;133647708230352</title>\n<path fill=\"none\" stroke=\"black\" d=\"M282.83,-219.49C375.56,-206.76 500.35,-189.62 584.25,-178.1\"/>\n<polygon fill=\"black\" stroke=\"black\" points=\"584.84,-181.55 594.27,-176.72 583.89,-174.62 584.84,-181.55\"/>\n</g>\n<!-- 133647708226896&#45;&gt;133647708230352 -->\n<g id=\"edge12\" class=\"edge\">\n<title>133647708226896-&gt;133647708230352</title>\n<path fill=\"none\" stroke=\"black\" d=\"M543.68,-219.49C568.03,-209.56 598.96,-196.93 624.8,-186.39\"/>\n<polygon fill=\"black\" stroke=\"black\" points=\"626.12,-189.63 634.06,-182.61 623.48,-183.15 626.12,-189.63\"/>\n</g>\n<!-- 133647708236304&#45;&gt;133647708230352 -->\n<g id=\"edge13\" class=\"edge\">\n<title>133647708236304-&gt;133647708230352</title>\n<path fill=\"none\" stroke=\"black\" d=\"M809.08,-219.49C784.59,-209.56 753.48,-196.93 727.5,-186.39\"/>\n<polygon fill=\"black\" stroke=\"black\" points=\"728.76,-183.13 718.18,-182.61 726.13,-189.62 728.76,-183.13\"/>\n</g>\n<!-- 133647707984784&#45;&gt;133647708230352 -->\n<g id=\"edge14\" class=\"edge\">\n<title>133647707984784-&gt;133647708230352</title>\n<path fill=\"none\" stroke=\"black\" d=\"M1074.49,-219.49C980.08,-206.7 852.86,-189.46 767.81,-177.94\"/>\n<polygon fill=\"black\" stroke=\"black\" points=\"768.03,-174.44 757.65,-176.56 767.09,-181.37 768.03,-174.44\"/>\n</g>\n<!-- 133647708225648 -->\n<g id=\"node13\" class=\"node\">\n<title>133647708225648</title>\n<polygon fill=\"none\" stroke=\"black\" points=\"620.5,-73.5 620.5,-109.5 731.5,-109.5 731.5,-73.5 620.5,-73.5\"/>\n<text text-anchor=\"middle\" x=\"651\" y=\"-87.8\" font-family=\"Times,serif\" font-size=\"14.00\">dense_2</text>\n<polyline fill=\"none\" stroke=\"black\" points=\"681.5,-73.5 681.5,-109.5 \"/>\n<text text-anchor=\"middle\" x=\"706.5\" y=\"-87.8\" font-family=\"Times,serif\" font-size=\"14.00\">Dense</text>\n</g>\n<!-- 133647708230352&#45;&gt;133647708225648 -->\n<g id=\"edge15\" class=\"edge\">\n<title>133647708230352-&gt;133647708225648</title>\n<path fill=\"none\" stroke=\"black\" d=\"M676,-146.31C676,-138.29 676,-128.55 676,-119.57\"/>\n<polygon fill=\"black\" stroke=\"black\" points=\"679.5,-119.53 676,-109.53 672.5,-119.53 679.5,-119.53\"/>\n</g>\n<!-- 133647782021776 -->\n<g id=\"node14\" class=\"node\">\n<title>133647782021776</title>\n<polygon fill=\"none\" stroke=\"black\" points=\"620.5,-0.5 620.5,-36.5 731.5,-36.5 731.5,-0.5 620.5,-0.5\"/>\n<text text-anchor=\"middle\" x=\"651\" y=\"-14.8\" font-family=\"Times,serif\" font-size=\"14.00\">dense_3</text>\n<polyline fill=\"none\" stroke=\"black\" points=\"681.5,-0.5 681.5,-36.5 \"/>\n<text text-anchor=\"middle\" x=\"706.5\" y=\"-14.8\" font-family=\"Times,serif\" font-size=\"14.00\">Dense</text>\n</g>\n<!-- 133647708225648&#45;&gt;133647782021776 -->\n<g id=\"edge16\" class=\"edge\">\n<title>133647708225648-&gt;133647782021776</title>\n<path fill=\"none\" stroke=\"black\" d=\"M676,-73.31C676,-65.29 676,-55.55 676,-46.57\"/>\n<polygon fill=\"black\" stroke=\"black\" points=\"679.5,-46.53 676,-36.53 672.5,-46.53 679.5,-46.53\"/>\n</g>\n</g>\n</svg>"
          },
          "metadata": {},
          "execution_count": 44
        }
      ],
      "source": [
        "SVG(tf.keras.utils.model_to_dot(model_cnn, dpi=70).create(prog='dot', format='svg'))"
      ]
    },
    {
      "cell_type": "markdown",
      "metadata": {
        "id": "8em7sFYFQX3x"
      },
      "source": [
        "### Train the model"
      ]
    },
    {
      "cell_type": "code",
      "execution_count": null,
      "metadata": {
        "colab": {
          "base_uri": "https://localhost:8080/"
        },
        "id": "WS92YQY9QX3x",
        "outputId": "f8ccdcc5-dbcd-42a9-e4a6-727bf4f87e18"
      },
      "outputs": [
        {
          "output_type": "stream",
          "name": "stderr",
          "text": [
            "WARNING:tensorflow:`epsilon` argument is deprecated and will be removed, use `min_delta` instead.\n"
          ]
        },
        {
          "output_type": "stream",
          "name": "stdout",
          "text": [
            "Epoch 1/2\n",
            "1744/1744 [==============================] - ETA: 0s - loss: 0.4719 - accuracy: 0.7651\n",
            " ROC-AUC - epoch: 1 - score: 0.934770\n",
            "1744/1744 [==============================] - 591s 338ms/step - loss: 0.4719 - accuracy: 0.7651 - val_loss: 0.3731 - val_accuracy: 0.8194 - lr: 0.0010\n",
            "Epoch 2/2\n",
            "1744/1744 [==============================] - ETA: 0s - loss: 0.4085 - accuracy: 0.8146\n",
            " ROC-AUC - epoch: 2 - score: 0.945020\n",
            "1744/1744 [==============================] - 617s 354ms/step - loss: 0.4085 - accuracy: 0.8146 - val_loss: 0.3207 - val_accuracy: 0.8780 - lr: 0.0010\n"
          ]
        }
      ],
      "source": [
        "N_STEPS = x_train.shape[0] // BATCH_SIZE\n",
        "calls = callback()\n",
        "EPOCHS = 2\n",
        "\n",
        "train_history = model_cnn.fit(\n",
        "    train_dataset,\n",
        "    steps_per_epoch=N_STEPS,\n",
        "    validation_data=valid_dataset,\n",
        "    callbacks = calls,\n",
        "    epochs=EPOCHS\n",
        ")"
      ]
    },
    {
      "cell_type": "code",
      "execution_count": null,
      "metadata": {
        "id": "9XOnj8PV7ep0",
        "colab": {
          "base_uri": "https://localhost:8080/",
          "height": 780
        },
        "outputId": "43906759-f937-46bb-b701-acb37713ebca"
      },
      "outputs": [
        {
          "output_type": "display_data",
          "data": {
            "text/plain": [
              "<Figure size 1400x500 with 2 Axes>"
            ],
            "image/png": "[encoded data removed]"
          },
          "metadata": {}
        },
        {
          "output_type": "display_data",
          "data": {
            "text/plain": [
              "<Figure size 700x500 with 1 Axes>"
            ],
            "image/png": "[encoded data removed]"
          },
          "metadata": {}
        }
      ],
      "source": [
        "import matplotlib.pyplot as plt\n",
        "import numpy as np\n",
        "\n",
        "epochs = [1, 2]\n",
        "training_loss = [0.2384, 0.2188]\n",
        "validation_loss = [0.1443, 0.1355]\n",
        "training_accuracy = [0.9022, 0.9114]\n",
        "validation_accuracy = [0.9515, 0.9552]\n",
        "roc_auc_scores = [0.988138, 0.989443]\n",
        "\n",
        "plt.figure(figsize=(14, 5))\n",
        "plt.subplot(1, 2, 1)\n",
        "plt.plot(epochs, training_loss, label='Training Loss')\n",
        "plt.plot(epochs, validation_loss, label='Validation Loss')\n",
        "plt.title('Model Loss')\n",
        "plt.ylabel('Loss')\n",
        "plt.xlabel('Epoch')\n",
        "plt.xticks(epochs)\n",
        "plt.legend()\n",
        "\n",
        "plt.subplot(1, 2, 2)\n",
        "plt.plot(epochs, training_accuracy, label='Training Accuracy')\n",
        "plt.plot(epochs, validation_accuracy, label='Validation Accuracy')\n",
        "plt.title('Model Accuracy')\n",
        "plt.ylabel('Accuracy')\n",
        "plt.xlabel('Epoch')\n",
        "plt.xticks(epochs)\n",
        "plt.legend()\n",
        "\n",
        "plt.tight_layout()\n",
        "plt.show()\n",
        "\n",
        "plt.figure(figsize=(7, 5))\n",
        "plt.plot(epochs, roc_auc_scores, label='ROC-AUC Score', marker='o')\n",
        "plt.title('ROC-AUC Score per Epoch')\n",
        "plt.ylabel('ROC-AUC Score')\n",
        "plt.xlabel('Epoch')\n",
        "plt.xticks(epochs)\n",
        "plt.legend()\n",
        "plt.show()\n"
      ]
    },
    {
      "cell_type": "code",
      "source": [
        "model_path = '/content/drive/My Drive/DS301GroupProject/model_cnn'\n",
        "model_cnn.save(model_path, save_format='tf')"
      ],
      "metadata": {
        "id": "DwWf6QC7YW1N"
      },
      "execution_count": null,
      "outputs": []
    },
    {
      "cell_type": "code",
      "source": [
        "test_dataset"
      ],
      "metadata": {
        "colab": {
          "base_uri": "https://localhost:8080/"
        },
        "id": "StNkM_IOvgIF",
        "outputId": "d2ade5a5-03a4-403e-da09-732296986e8f"
      },
      "execution_count": null,
      "outputs": [
        {
          "output_type": "execute_result",
          "data": {
            "text/plain": [
              "<_BatchDataset element_spec=TensorSpec(shape=(None, 512), dtype=tf.int64, name=None)>"
            ]
          },
          "metadata": {},
          "execution_count": 51
        }
      ]
    },
    {
      "cell_type": "code",
      "source": [
        "test_dataset = tf.data.Dataset.from_tensor_slices((x_test, y_test)).batch(64)\n",
        "test_loss, test_accuracy = model_cnn.evaluate(test_dataset)\n",
        "print(\"Test loss:\", test_loss)\n",
        "print(\"Test accuracy:\", test_accuracy)"
      ],
      "metadata": {
        "colab": {
          "base_uri": "https://localhost:8080/"
        },
        "id": "89IM8HUwvHW6",
        "outputId": "63352c17-e90c-4480-e820-ec8111070d37"
      },
      "execution_count": null,
      "outputs": [
        {
          "output_type": "stream",
          "name": "stdout",
          "text": [
            "291/291 [==============================] - 55s 187ms/step - loss: 0.3214 - accuracy: 0.8728\n",
            "Test loss: 0.32144203782081604\n",
            "Test accuracy: 0.8728171586990356\n"
          ]
        }
      ]
    },
    {
      "cell_type": "code",
      "execution_count": null,
      "metadata": {
        "id": "Z5M7YFLS8XrR",
        "colab": {
          "base_uri": "https://localhost:8080/"
        },
        "outputId": "507ead0f-f5e1-43ef-f7ba-d91ec12d1d07"
      },
      "outputs": [
        {
          "output_type": "stream",
          "name": "stdout",
          "text": [
            "582/582 [==============================] - 56s 96ms/step\n"
          ]
        }
      ],
      "source": [
        "test_predictions = model_cnn.predict(test_dataset)"
      ]
    },
    {
      "cell_type": "code",
      "execution_count": null,
      "metadata": {
        "id": "oOr6V7C69rwF",
        "colab": {
          "base_uri": "https://localhost:8080/"
        },
        "outputId": "24fbd4ec-d076-4262-91f5-30a0d9b5bf2e"
      },
      "outputs": [
        {
          "output_type": "execute_result",
          "data": {
            "text/plain": [
              "array([[0.6358132 ],\n",
              "       [0.22555767],\n",
              "       [0.84061277],\n",
              "       ...,\n",
              "       [0.02535123],\n",
              "       [0.12982261],\n",
              "       [0.316788  ]], dtype=float32)"
            ]
          },
          "metadata": {},
          "execution_count": 48
        }
      ],
      "source": [
        "test_predictions"
      ]
    },
    {
      "cell_type": "markdown",
      "metadata": {
        "id": "jsQl2pd_QX3x"
      },
      "source": [
        "### Visualize model predictions"
      ]
    },
    {
      "cell_type": "code",
      "execution_count": null,
      "metadata": {
        "id": "PUl7Q6C9QX3x",
        "colab": {
          "base_uri": "https://localhost:8080/"
        },
        "outputId": "3a452a96-1721-438c-b9d9-eaaebaf4abcd"
      },
      "outputs": [
        {
          "output_type": "stream",
          "name": "stdout",
          "text": [
            "1/1 [==============================] - 0s 78ms/step\n",
            "\u001b[32m1. Human ✔\n",
            "\u001b[0m\n",
            "ORIGINAL\n",
            "think of your sleep cycle as a roller coaster. you go up, you go down, you go up, you do gown, and you do that many many times during the night. deep sleep, light sleep, deep sleep, light sleep, etc... think of waking up like getting off the roller coaster. if you get off the roller coaster on the bottom near the ground, it's easy, safe, and you feel rejuvenated and fresh. if you try to get off at the top, you'll end up falling a long distance, hit the ground, and you will feel awful. it's important to try and time your alarm clock to wake you up at the proper point on the roller coaster. each \" up and down \" takes about 90 minutes, so try to schedule your wake up time so it's in an interval of 90 minutes from when you fell asleep. that should place you near the ground when you wake up. there are number of factors that could be involved, but three of the most common are : 1 ) * * sleep apnea * * typically needs a doctor's diagnosis and treatment - - this is when you literally stop breathing for a few seconds at a time. as a result, your natural sleep cycle is interrupted, so the restfulness of your sleep goes way down. 2 ) * * poor timing of waking up * * most people's sleep cycles tend go in 1. 5 hour cycles. if something ( say an alarm clock ) wakes you up at a point in your sleep cycle where you are in a deep sleep you will still feel tired / sleepy for quite some time after waking up due to the cycle not being completed. 3 ) * * alcohol / other drugs * * these can cause short - term or long - term chemical imbalances that result in your sleep cycle not going through all of its normal phases for the normal length of time. so even if you don't wake up hungover, you still may wake - up very tired. * * other possibilities * * : teeth grinding, night terrors, circadian rhythm disorders, and a whole host of other possibilities that you'd need a doctor to diagnose and treat. ( edited for clarity of number 2 and bolding \" other possibilities \" ) if you're wondering about sleep cycles, use this website : url _ 0\n",
            "\n",
            "\u001b[32m2. Human ✔\n",
            "\u001b[0m\n",
            "ORIGINAL\n",
            "in the book, we first meet gimli and his father gloin ( famous as one of the 13 companions of thorin oakenshield ) when they've come to rivendell to seek council. at the council of elrond gloin brings two important pieces of information. first, he tells how sauron has sent messengers to dain ( king under the mountain following thorin's death due to severe injuries taken during the battle of five armies ) asking for news of a hobbit \" that was known to you at one time \". the messenger calls the hobbit a thief and claims he stole a ring. they request that dain give them information to find the thief, and in exchange they will return some of the seven ( i think the offer is 3 of them ) to the dwarves. ( the seven refers to the 7 rings of the dwarves referenced in the rhyme at the beginning of the book. ) gloin tells the council that the enemy is seeking for news of bilbo. information which, combined with the fact that frodo was pursued by the nine riders right to the gates of rivendell, tells the council that sauron knows precisely where the one ring is located. this is obviously bad news. the other piece of information he brings is about one of the other companions - balin. he says that several years ago balin led a group of dwarves to retake moria. they received news for a while, but things have gone silent. remember, middle earth is a very big place and technologically it's not progressed past swords and horses. the dwarves of the lonely mountain have no idea what's happened to balin and his folk, and they have a very bad feeling about it. however, they also have no proof that anything particularly terrible has happened, and so they have a little hope. enter the fellowship of the ring. they're headed more or less towards moria, and elrond has chosen gimli to be one of the companions of the ring. gandalf's original plan was to ignore moria entirely and cross over the mountains at the redhorn gate. incidentally, it's mentioned that some of elrond's scouts used it just a few weeks earlier and found it quite safe. but when they are foiled, they reluctantly decide to enter moria. there are several reasons for this. first, they need to get under cover. they've certainly been seen by\n",
            "\n",
            "\u001b[32m3. Human ✔\n",
            "\u001b[0m\n",
            "ORIGINAL\n",
            "in my opinion the use of facisl action coding system is not valuable on a classroom because that is something dumb to do or have in a classroom. a teacher can tell when a student is boring or when he is not paying attention the student might feel embarrased if he gets to take that test becuase, it will be in front of everyone, i think having that in a classroom will be useless but maybe for some students it will be cool getting their faces read by a computer program. the story in paragraph 8 says \" faces don't lie \" and that is true we can fake a smile but not everyday, when we're tired we can't fake that we're not tired our eyes will be slow and we are not wide awake, when we're mad people easly notice it but what im trying to say is that having this technology to read the facial expressions of students in a classroom is really unessesary because our faces don't lie and it will be cool not going to lie but i don't really see the benefits of doing that, is worthless we wont be getting to know or learn from it but students will probably had fun with it and having fun is good in class beacause we get to take a break from school work.\n",
            "\n",
            "\u001b[32m4. Human ✔\n",
            "\u001b[0m\n",
            "ORIGINAL\n",
            "in society today transportation is neccessary to keep most things going. cars are one of the biggest transportation devices used. the advantages of limiting car usage range from taking away stress to lowering air pollution. stress is one of the biggest factors faced while driving. continuously having to check for cars around you, looking for open spaces to race by the car infront of you, and waiting in those horrible traffic jams that waiste useful time in your life. reducing the amount of car usage will lead to exercise which reduces stress and less waiting time for multiple things. as stated in source 1, paragraph 3 a resident of vauban says \" when i had a car i was always tense. \" mentally driving is a lot to handle and always has you worried no matter how comfortable your car is. a really big problem in our environment today is air pollution. reduced car usage leads to less gas having to be drilled from oil mines and places underground. it also comes with a bundle of less smog and a stronger, cleaner, atmosphere. even a businessman in columbia commented \" it's a good opportunity to take away stress and lower air pollution, \" in source 3 paragraph 24 as he participated in the annual car - free day. the better the environment and air pollution the healthier the oxygen. helping the earth is essentially and always will be helping our selves.\n",
            "\n"
          ]
        }
      ],
      "source": [
        "visualize_model_preds(model_cnn)"
      ]
    },
    {
      "cell_type": "markdown",
      "metadata": {
        "id": "oHxVnEubQX3y"
      },
      "source": [
        "We can see the Conv1D model gives much more accurate predictions than the the VNN model. It predicts toxicity correctly for all four validation samples, because it is able to understand spatial relationships better."
      ]
    },
    {
      "cell_type": "markdown",
      "source": [
        "# Model Tested on GloVe Tokenization"
      ],
      "metadata": {
        "id": "C6nE9k-VW8I0"
      }
    },
    {
      "cell_type": "markdown",
      "metadata": {
        "id": "OcuqQ-DEQX3t"
      },
      "source": [
        "## Feedforward Neural Network #1"
      ]
    },
    {
      "cell_type": "markdown",
      "metadata": {
        "id": "7qNl40DCQX3t"
      },
      "source": [
        "### Define Feedforward neural network model"
      ]
    },
    {
      "cell_type": "code",
      "execution_count": null,
      "metadata": {
        "id": "aCX5edBdQX3t"
      },
      "outputs": [],
      "source": [
        "import tensorflow as tf\n",
        "from tensorflow.keras.models import Model\n",
        "from tensorflow.keras.layers import Input, Embedding, Dense, Flatten\n",
        "from tensorflow.keras.optimizers import Adam\n",
        "\n",
        "def build_fnn_model(input_shape):\n",
        "    input_layer = Input(shape=input_shape, dtype=tf.float64, name=\"input\")\n",
        "\n",
        "    flat = Flatten()(input_layer)\n",
        "\n",
        "    conc = Dense(128, activation='relu')(flat)\n",
        "    output = Dense(1, activation='sigmoid')(conc)\n",
        "\n",
        "    model = Model(inputs=input_layer, outputs=output)\n",
        "    model.compile(optimizer='Adam',\n",
        "                  loss='binary_crossentropy',\n",
        "                  metrics=['accuracy'])\n",
        "\n",
        "    return model"
      ]
    },
    {
      "cell_type": "markdown",
      "metadata": {
        "id": "Zqn7dHH8QX3u"
      },
      "source": [
        "### Build model and check summary"
      ]
    },
    {
      "cell_type": "code",
      "source": [
        "model_fnn = build_fnn_model((100, 50))"
      ],
      "metadata": {
        "id": "uAdAoW9P2LeI"
      },
      "execution_count": null,
      "outputs": []
    },
    {
      "cell_type": "code",
      "source": [
        "model_fnn.summary()"
      ],
      "metadata": {
        "colab": {
          "base_uri": "https://localhost:8080/"
        },
        "id": "U-xoE21g2ZHL",
        "outputId": "123b7b2f-80a9-4737-c8d6-9b7f48e20ed2"
      },
      "execution_count": null,
      "outputs": [
        {
          "output_type": "stream",
          "name": "stdout",
          "text": [
            "Model: \"model_3\"\n",
            "_________________________________________________________________\n",
            " Layer (type)                Output Shape              Param #   \n",
            "=================================================================\n",
            " input (InputLayer)          [(None, 100, 50)]         0         \n",
            "                                                                 \n",
            " flatten_2 (Flatten)         (None, 5000)              0         \n",
            "                                                                 \n",
            " dense_6 (Dense)             (None, 128)               640128    \n",
            "                                                                 \n",
            " dense_7 (Dense)             (None, 1)                 129       \n",
            "                                                                 \n",
            "=================================================================\n",
            "Total params: 640257 (2.44 MB)\n",
            "Trainable params: 640257 (2.44 MB)\n",
            "Non-trainable params: 0 (0.00 Byte)\n",
            "_________________________________________________________________\n"
          ]
        }
      ]
    },
    {
      "cell_type": "markdown",
      "metadata": {
        "id": "V8JyUCQGQX3u"
      },
      "source": [
        "### Visualize network architecture"
      ]
    },
    {
      "cell_type": "code",
      "execution_count": null,
      "metadata": {
        "colab": {
          "base_uri": "https://localhost:8080/",
          "height": 364
        },
        "id": "ztug-0WKQX3u",
        "outputId": "cb8fdbe3-e121-4ff1-da99-48222d3cfac6"
      },
      "outputs": [
        {
          "output_type": "execute_result",
          "data": {
            "text/plain": [
              "<IPython.core.display.SVG object>"
            ],
            "image/svg+xml": "<svg xmlns=\"http://www.w3.org/2000/svg\" xmlns:xlink=\"http://www.w3.org/1999/xlink\" width=\"125pt\" height=\"257pt\" viewBox=\"0.00 0.00 129.00 264.00\">\n<g id=\"graph0\" class=\"graph\" transform=\"scale(1.03 1.03) rotate(0) translate(4 260)\">\n<title>G</title>\n<polygon fill=\"white\" stroke=\"transparent\" points=\"-4,4 -4,-260 125,-260 125,4 -4,4\"/>\n<!-- 136651499565840 -->\n<g id=\"node1\" class=\"node\">\n<title>136651499565840</title>\n<polygon fill=\"none\" stroke=\"black\" points=\"0,-219.5 0,-255.5 121,-255.5 121,-219.5 0,-219.5\"/>\n<text text-anchor=\"middle\" x=\"22\" y=\"-233.8\" font-family=\"Times,serif\" font-size=\"14.00\">input</text>\n<polyline fill=\"none\" stroke=\"black\" points=\"44,-219.5 44,-255.5 \"/>\n<text text-anchor=\"middle\" x=\"82.5\" y=\"-233.8\" font-family=\"Times,serif\" font-size=\"14.00\">InputLayer</text>\n</g>\n<!-- 136651499565072 -->\n<g id=\"node2\" class=\"node\">\n<title>136651499565072</title>\n<polygon fill=\"none\" stroke=\"black\" points=\"1,-146.5 1,-182.5 120,-182.5 120,-146.5 1,-146.5\"/>\n<text text-anchor=\"middle\" x=\"33.5\" y=\"-160.8\" font-family=\"Times,serif\" font-size=\"14.00\">flatten_4</text>\n<polyline fill=\"none\" stroke=\"black\" points=\"66,-146.5 66,-182.5 \"/>\n<text text-anchor=\"middle\" x=\"93\" y=\"-160.8\" font-family=\"Times,serif\" font-size=\"14.00\">Flatten</text>\n</g>\n<!-- 136651499565840&#45;&gt;136651499565072 -->\n<g id=\"edge1\" class=\"edge\">\n<title>136651499565840-&gt;136651499565072</title>\n<path fill=\"none\" stroke=\"black\" d=\"M60.5,-219.31C60.5,-211.29 60.5,-201.55 60.5,-192.57\"/>\n<polygon fill=\"black\" stroke=\"black\" points=\"64,-192.53 60.5,-182.53 57,-192.53 64,-192.53\"/>\n</g>\n<!-- 136651499565456 -->\n<g id=\"node3\" class=\"node\">\n<title>136651499565456</title>\n<polygon fill=\"none\" stroke=\"black\" points=\"1.5,-73.5 1.5,-109.5 119.5,-109.5 119.5,-73.5 1.5,-73.5\"/>\n<text text-anchor=\"middle\" x=\"35.5\" y=\"-87.8\" font-family=\"Times,serif\" font-size=\"14.00\">dense_14</text>\n<polyline fill=\"none\" stroke=\"black\" points=\"69.5,-73.5 69.5,-109.5 \"/>\n<text text-anchor=\"middle\" x=\"94.5\" y=\"-87.8\" font-family=\"Times,serif\" font-size=\"14.00\">Dense</text>\n</g>\n<!-- 136651499565072&#45;&gt;136651499565456 -->\n<g id=\"edge2\" class=\"edge\">\n<title>136651499565072-&gt;136651499565456</title>\n<path fill=\"none\" stroke=\"black\" d=\"M60.5,-146.31C60.5,-138.29 60.5,-128.55 60.5,-119.57\"/>\n<polygon fill=\"black\" stroke=\"black\" points=\"64,-119.53 60.5,-109.53 57,-119.53 64,-119.53\"/>\n</g>\n<!-- 136651502200256 -->\n<g id=\"node4\" class=\"node\">\n<title>136651502200256</title>\n<polygon fill=\"none\" stroke=\"black\" points=\"1.5,-0.5 1.5,-36.5 119.5,-36.5 119.5,-0.5 1.5,-0.5\"/>\n<text text-anchor=\"middle\" x=\"35.5\" y=\"-14.8\" font-family=\"Times,serif\" font-size=\"14.00\">dense_15</text>\n<polyline fill=\"none\" stroke=\"black\" points=\"69.5,-0.5 69.5,-36.5 \"/>\n<text text-anchor=\"middle\" x=\"94.5\" y=\"-14.8\" font-family=\"Times,serif\" font-size=\"14.00\">Dense</text>\n</g>\n<!-- 136651499565456&#45;&gt;136651502200256 -->\n<g id=\"edge3\" class=\"edge\">\n<title>136651499565456-&gt;136651502200256</title>\n<path fill=\"none\" stroke=\"black\" d=\"M60.5,-73.31C60.5,-65.29 60.5,-55.55 60.5,-46.57\"/>\n<polygon fill=\"black\" stroke=\"black\" points=\"64,-46.53 60.5,-36.53 57,-46.53 64,-46.53\"/>\n</g>\n</g>\n</svg>"
          },
          "metadata": {},
          "execution_count": 65
        }
      ],
      "source": [
        "SVG(tf.keras.utils.model_to_dot(model_fnn, dpi=70).create(prog='dot', format='svg'))"
      ]
    },
    {
      "cell_type": "markdown",
      "metadata": {
        "id": "dcQEA2HpQX3u"
      },
      "source": [
        "### Train the model"
      ]
    },
    {
      "cell_type": "code",
      "source": [
        "import warnings\n",
        "warnings.filterwarnings(\"ignore\")"
      ],
      "metadata": {
        "id": "AkkWMp5B52jz"
      },
      "execution_count": null,
      "outputs": []
    },
    {
      "cell_type": "code",
      "execution_count": null,
      "metadata": {
        "colab": {
          "base_uri": "https://localhost:8080/"
        },
        "id": "PAD2hip3QX3v",
        "outputId": "766c5559-9811-406f-a05e-4f197d1c74d8"
      },
      "outputs": [
        {
          "output_type": "stream",
          "name": "stdout",
          "text": [
            "Epoch 1/10\n",
            "1731/1744 [============================>.] - ETA: 0s - loss: 0.4128 - accuracy: 0.8162"
          ]
        },
        {
          "output_type": "stream",
          "name": "stderr",
          "text": [
            "WARNING:tensorflow:Learning rate reduction is conditioned on metric `val_loss` which is not available. Available metrics are: loss,accuracy,lr\n"
          ]
        },
        {
          "output_type": "stream",
          "name": "stdout",
          "text": [
            "\b\b\b\b\b\b\b\b\b\b\b\b\b\b\b\b\b\b\b\b\b\b\b\b\b\b\b\b\b\b\b\b\b\b\b\b\b\b\b\b\b\b\b\b\b\b\b\b\b\b\b\b\b\b\b\b\b\b\b\b\b\b\b\b\b\b\b\b\b\b\b\b\b\b\b\b\b\b\b\b\b\b\b\b\b\b\r1744/1744 [==============================] - 6s 3ms/step - loss: 0.4118 - accuracy: 0.8167 - lr: 0.0010\n",
            "Epoch 2/10\n",
            "1736/1744 [============================>.] - ETA: 0s - loss: 0.2811 - accuracy: 0.8826"
          ]
        },
        {
          "output_type": "stream",
          "name": "stderr",
          "text": [
            "WARNING:tensorflow:Learning rate reduction is conditioned on metric `val_loss` which is not available. Available metrics are: loss,accuracy,lr\n"
          ]
        },
        {
          "output_type": "stream",
          "name": "stdout",
          "text": [
            "\b\b\b\b\b\b\b\b\b\b\b\b\b\b\b\b\b\b\b\b\b\b\b\b\b\b\b\b\b\b\b\b\b\b\b\b\b\b\b\b\b\b\b\b\b\b\b\b\b\b\b\b\b\b\b\b\b\b\b\b\b\b\b\b\b\b\b\b\b\b\b\b\b\b\b\b\b\b\b\b\b\b\b\b\b\b\r1744/1744 [==============================] - 6s 3ms/step - loss: 0.2809 - accuracy: 0.8827 - lr: 0.0010\n",
            "Epoch 3/10\n",
            "1741/1744 [============================>.] - ETA: 0s - loss: 0.2053 - accuracy: 0.9180"
          ]
        },
        {
          "output_type": "stream",
          "name": "stderr",
          "text": [
            "WARNING:tensorflow:Learning rate reduction is conditioned on metric `val_loss` which is not available. Available metrics are: loss,accuracy,lr\n"
          ]
        },
        {
          "output_type": "stream",
          "name": "stdout",
          "text": [
            "\b\b\b\b\b\b\b\b\b\b\b\b\b\b\b\b\b\b\b\b\b\b\b\b\b\b\b\b\b\b\b\b\b\b\b\b\b\b\b\b\b\b\b\b\b\b\b\b\b\b\b\b\b\b\b\b\b\b\b\b\b\b\b\b\b\b\b\b\b\b\b\b\b\b\b\b\b\b\b\b\b\b\b\b\b\b\r1744/1744 [==============================] - 6s 3ms/step - loss: 0.2052 - accuracy: 0.9181 - lr: 0.0010\n",
            "Epoch 4/10\n",
            "1741/1744 [============================>.] - ETA: 0s - loss: 0.1422 - accuracy: 0.9451"
          ]
        },
        {
          "output_type": "stream",
          "name": "stderr",
          "text": [
            "WARNING:tensorflow:Learning rate reduction is conditioned on metric `val_loss` which is not available. Available metrics are: loss,accuracy,lr\n"
          ]
        },
        {
          "output_type": "stream",
          "name": "stdout",
          "text": [
            "\b\b\b\b\b\b\b\b\b\b\b\b\b\b\b\b\b\b\b\b\b\b\b\b\b\b\b\b\b\b\b\b\b\b\b\b\b\b\b\b\b\b\b\b\b\b\b\b\b\b\b\b\b\b\b\b\b\b\b\b\b\b\b\b\b\b\b\b\b\b\b\b\b\b\b\b\b\b\b\b\b\b\b\b\b\b\r1744/1744 [==============================] - 6s 3ms/step - loss: 0.1422 - accuracy: 0.9451 - lr: 0.0010\n",
            "Epoch 5/10\n",
            "1728/1744 [============================>.] - ETA: 0s - loss: 0.0983 - accuracy: 0.9631"
          ]
        },
        {
          "output_type": "stream",
          "name": "stderr",
          "text": [
            "WARNING:tensorflow:Learning rate reduction is conditioned on metric `val_loss` which is not available. Available metrics are: loss,accuracy,lr\n"
          ]
        },
        {
          "output_type": "stream",
          "name": "stdout",
          "text": [
            "\b\b\b\b\b\b\b\b\b\b\b\b\b\b\b\b\b\b\b\b\b\b\b\b\b\b\b\b\b\b\b\b\b\b\b\b\b\b\b\b\b\b\b\b\b\b\b\b\b\b\b\b\b\b\b\b\b\b\b\b\b\b\b\b\b\b\b\b\b\b\b\b\b\b\b\b\b\b\b\b\b\b\b\b\b\b\r1744/1744 [==============================] - 5s 3ms/step - loss: 0.0981 - accuracy: 0.9632 - lr: 0.0010\n",
            "Epoch 6/10\n",
            "1740/1744 [============================>.] - ETA: 0s - loss: 0.0665 - accuracy: 0.9759"
          ]
        },
        {
          "output_type": "stream",
          "name": "stderr",
          "text": [
            "WARNING:tensorflow:Learning rate reduction is conditioned on metric `val_loss` which is not available. Available metrics are: loss,accuracy,lr\n"
          ]
        },
        {
          "output_type": "stream",
          "name": "stdout",
          "text": [
            "\b\b\b\b\b\b\b\b\b\b\b\b\b\b\b\b\b\b\b\b\b\b\b\b\b\b\b\b\b\b\b\b\b\b\b\b\b\b\b\b\b\b\b\b\b\b\b\b\b\b\b\b\b\b\b\b\b\b\b\b\b\b\b\b\b\b\b\b\b\b\b\b\b\b\b\b\b\b\b\b\b\b\b\b\b\b\r1744/1744 [==============================] - 5s 3ms/step - loss: 0.0665 - accuracy: 0.9759 - lr: 0.0010\n",
            "Epoch 7/10\n",
            "1740/1744 [============================>.] - ETA: 0s - loss: 0.0511 - accuracy: 0.9817"
          ]
        },
        {
          "output_type": "stream",
          "name": "stderr",
          "text": [
            "WARNING:tensorflow:Learning rate reduction is conditioned on metric `val_loss` which is not available. Available metrics are: loss,accuracy,lr\n"
          ]
        },
        {
          "output_type": "stream",
          "name": "stdout",
          "text": [
            "\b\b\b\b\b\b\b\b\b\b\b\b\b\b\b\b\b\b\b\b\b\b\b\b\b\b\b\b\b\b\b\b\b\b\b\b\b\b\b\b\b\b\b\b\b\b\b\b\b\b\b\b\b\b\b\b\b\b\b\b\b\b\b\b\b\b\b\b\b\b\b\b\b\b\b\b\b\b\b\b\b\b\b\b\b\b\r1744/1744 [==============================] - 6s 3ms/step - loss: 0.0510 - accuracy: 0.9818 - lr: 0.0010\n",
            "Epoch 8/10\n",
            "1736/1744 [============================>.] - ETA: 0s - loss: 0.0429 - accuracy: 0.9847"
          ]
        },
        {
          "output_type": "stream",
          "name": "stderr",
          "text": [
            "WARNING:tensorflow:Learning rate reduction is conditioned on metric `val_loss` which is not available. Available metrics are: loss,accuracy,lr\n"
          ]
        },
        {
          "output_type": "stream",
          "name": "stdout",
          "text": [
            "\b\b\b\b\b\b\b\b\b\b\b\b\b\b\b\b\b\b\b\b\b\b\b\b\b\b\b\b\b\b\b\b\b\b\b\b\b\b\b\b\b\b\b\b\b\b\b\b\b\b\b\b\b\b\b\b\b\b\b\b\b\b\b\b\b\b\b\b\b\b\b\b\b\b\b\b\b\b\b\b\b\b\b\b\b\b\r1744/1744 [==============================] - 6s 3ms/step - loss: 0.0429 - accuracy: 0.9847 - lr: 0.0010\n",
            "Epoch 9/10\n",
            "1730/1744 [============================>.] - ETA: 0s - loss: 0.0373 - accuracy: 0.9866"
          ]
        },
        {
          "output_type": "stream",
          "name": "stderr",
          "text": [
            "WARNING:tensorflow:Learning rate reduction is conditioned on metric `val_loss` which is not available. Available metrics are: loss,accuracy,lr\n"
          ]
        },
        {
          "output_type": "stream",
          "name": "stdout",
          "text": [
            "\b\b\b\b\b\b\b\b\b\b\b\b\b\b\b\b\b\b\b\b\b\b\b\b\b\b\b\b\b\b\b\b\b\b\b\b\b\b\b\b\b\b\b\b\b\b\b\b\b\b\b\b\b\b\b\b\b\b\b\b\b\b\b\b\b\b\b\b\b\b\b\b\b\b\b\b\b\b\b\b\b\b\b\b\b\b\r1744/1744 [==============================] - 5s 3ms/step - loss: 0.0371 - accuracy: 0.9867 - lr: 0.0010\n",
            "Epoch 10/10\n",
            "1734/1744 [============================>.] - ETA: 0s - loss: 0.0288 - accuracy: 0.9899"
          ]
        },
        {
          "output_type": "stream",
          "name": "stderr",
          "text": [
            "WARNING:tensorflow:Learning rate reduction is conditioned on metric `val_loss` which is not available. Available metrics are: loss,accuracy,lr\n"
          ]
        },
        {
          "output_type": "stream",
          "name": "stdout",
          "text": [
            "\b\b\b\b\b\b\b\b\b\b\b\b\b\b\b\b\b\b\b\b\b\b\b\b\b\b\b\b\b\b\b\b\b\b\b\b\b\b\b\b\b\b\b\b\b\b\b\b\b\b\b\b\b\b\b\b\b\b\b\b\b\b\b\b\b\b\b\b\b\b\b\b\b\b\b\b\b\b\b\b\b\b\b\b\b\b\r1744/1744 [==============================] - 5s 3ms/step - loss: 0.0287 - accuracy: 0.9900 - lr: 0.0010\n"
          ]
        }
      ],
      "source": [
        "N_STEPS = x_train.shape[0] // BATCH_SIZE\n",
        "EPOCHS = 10\n",
        "\n",
        "lr_scheduler = ReduceLROnPlateau(\n",
        "    monitor='val_loss',\n",
        "    factor=0.1,\n",
        "    patience=2,\n",
        "    verbose=1,\n",
        "    min_lr=0.00001\n",
        ")\n",
        "\n",
        "train_history = model_fnn.fit(\n",
        "    train_dataset,\n",
        "    steps_per_epoch=N_STEPS,\n",
        "    callbacks = [lr_scheduler],\n",
        "    epochs=EPOCHS\n",
        ")"
      ]
    },
    {
      "cell_type": "markdown",
      "source": [
        "## Feedforward Neural Network #2"
      ],
      "metadata": {
        "id": "1Yvd0CjxOutX"
      }
    },
    {
      "cell_type": "code",
      "source": [
        "import tensorflow as tf\n",
        "from tensorflow.keras.models import Model\n",
        "from tensorflow.keras.layers import Input, Embedding, Dense, Flatten\n",
        "from tensorflow.keras.optimizers import Adam\n",
        "from tensorflow.keras.callbacks import ReduceLROnPlateau\n",
        "\n",
        "def build_fnn_model(input_shape):\n",
        "    input_layer = Input(shape=input_shape, dtype=tf.float64, name=\"input\")\n",
        "    flat = Flatten()(input_layer)\n",
        "    dense_layer = Dense(128, activation='relu')(flat)\n",
        "    output = Dense(1, activation='sigmoid')(dense_layer)\n",
        "    model = Model(inputs=input_layer, outputs=output)\n",
        "    model.compile(optimizer='Adam',\n",
        "                  loss='binary_crossentropy',\n",
        "                  metrics=['accuracy'])\n",
        "    return model\n",
        "\n",
        "BATCH_SIZE = 32\n",
        "N_STEPS = x_train.shape[0] // BATCH_SIZE\n",
        "EPOCHS = 10\n",
        "\n",
        "model_fnn = build_fnn_model((100, 50))\n",
        "\n",
        "lr_scheduler = ReduceLROnPlateau(\n",
        "    monitor='val_loss',\n",
        "    factor=0.1,\n",
        "    patience=2,\n",
        "    verbose=1,\n",
        "    min_lr=0.00001\n",
        ")\n",
        "\n",
        "train_history = model_fnn.fit(\n",
        "    x_train, y_train,\n",
        "    validation_data=(x_val, y_val),\n",
        "    steps_per_epoch=N_STEPS,\n",
        "    epochs=EPOCHS,\n",
        "    callbacks=[lr_scheduler]\n",
        ")\n",
        "\n",
        "test_loss, test_accuracy = model_fnn.evaluate(x_test, y_test)\n",
        "print(\"Test Accuracy: {:.2f}%\".format(test_accuracy * 100))\n",
        "print(\"Test Loss: {:.2f}\".format(test_loss))"
      ],
      "metadata": {
        "colab": {
          "base_uri": "https://localhost:8080/"
        },
        "id": "d4P9-QJLOwPM",
        "outputId": "7fca14fd-ee76-4ae1-9361-3a7a07315622"
      },
      "execution_count": null,
      "outputs": [
        {
          "output_type": "stream",
          "name": "stdout",
          "text": [
            "Epoch 1/10\n",
            "1744/1744 [==============================] - 8s 4ms/step - loss: 0.4095 - accuracy: 0.8173 - val_loss: 0.3618 - val_accuracy: 0.8431 - lr: 0.0010\n",
            "Epoch 2/10\n",
            "1744/1744 [==============================] - 6s 4ms/step - loss: 0.2827 - accuracy: 0.8834 - val_loss: 0.3330 - val_accuracy: 0.8608 - lr: 0.0010\n",
            "Epoch 3/10\n",
            "1744/1744 [==============================] - 6s 4ms/step - loss: 0.2076 - accuracy: 0.9166 - val_loss: 0.3460 - val_accuracy: 0.8664 - lr: 0.0010\n",
            "Epoch 4/10\n",
            "1733/1744 [============================>.] - ETA: 0s - loss: 0.1459 - accuracy: 0.9435\n",
            "Epoch 4: ReduceLROnPlateau reducing learning rate to 0.00010000000474974513.\n",
            "1744/1744 [==============================] - 7s 4ms/step - loss: 0.1454 - accuracy: 0.9438 - val_loss: 0.3914 - val_accuracy: 0.8764 - lr: 0.0010\n",
            "Epoch 5/10\n",
            "1744/1744 [==============================] - 7s 4ms/step - loss: 0.0685 - accuracy: 0.9787 - val_loss: 0.3792 - val_accuracy: 0.8780 - lr: 1.0000e-04\n",
            "Epoch 6/10\n",
            "1737/1744 [============================>.] - ETA: 0s - loss: 0.0495 - accuracy: 0.9875\n",
            "Epoch 6: ReduceLROnPlateau reducing learning rate to 1.0000000474974514e-05.\n",
            "1744/1744 [==============================] - 6s 4ms/step - loss: 0.0494 - accuracy: 0.9875 - val_loss: 0.4040 - val_accuracy: 0.8775 - lr: 1.0000e-04\n",
            "Epoch 7/10\n",
            "1744/1744 [==============================] - 6s 4ms/step - loss: 0.0396 - accuracy: 0.9916 - val_loss: 0.4046 - val_accuracy: 0.8792 - lr: 1.0000e-05\n",
            "Epoch 8/10\n",
            "1730/1744 [============================>.] - ETA: 0s - loss: 0.0375 - accuracy: 0.9925\n",
            "Epoch 8: ReduceLROnPlateau reducing learning rate to 1e-05.\n",
            "1744/1744 [==============================] - 7s 4ms/step - loss: 0.0374 - accuracy: 0.9925 - val_loss: 0.4062 - val_accuracy: 0.8794 - lr: 1.0000e-05\n",
            "Epoch 9/10\n",
            "1744/1744 [==============================] - 7s 4ms/step - loss: 0.0355 - accuracy: 0.9930 - val_loss: 0.4102 - val_accuracy: 0.8794 - lr: 1.0000e-05\n",
            "Epoch 10/10\n",
            "1223/1744 [====================>.........] - ETA: 1s - loss: 0.0342 - accuracy: 0.9934"
          ]
        },
        {
          "output_type": "stream",
          "name": "stderr",
          "text": [
            "WARNING:tensorflow:Your input ran out of data; interrupting training. Make sure that your dataset or generator can generate at least `steps_per_epoch * epochs` batches (in this case, 17440 batches). You may need to use the repeat() function when building your dataset.\n"
          ]
        },
        {
          "output_type": "stream",
          "name": "stdout",
          "text": [
            "1744/1744 [==============================] - 5s 3ms/step - loss: 0.0343 - accuracy: 0.9933 - val_loss: 0.4124 - val_accuracy: 0.8794 - lr: 1.0000e-05\n",
            "582/582 [==============================] - 1s 2ms/step - loss: 0.4083 - accuracy: 0.8801\n",
            "Test Accuracy: 88.01%\n",
            "Test Loss: 0.41\n"
          ]
        }
      ]
    },
    {
      "cell_type": "markdown",
      "source": [
        "## Feadforward Neural Network #3 with confusion matrix"
      ],
      "metadata": {
        "id": "uPw4AjHGT_Ol"
      }
    },
    {
      "cell_type": "code",
      "source": [
        "import tensorflow as tf\n",
        "from tensorflow.keras.models import Model\n",
        "from tensorflow.keras.layers import Input, Flatten, Dense\n",
        "from tensorflow.keras.optimizers import Adam\n",
        "from tensorflow.keras.callbacks import ReduceLROnPlateau\n",
        "from tensorflow.keras.metrics import Precision, Recall\n",
        "from sklearn.metrics import confusion_matrix, classification_report\n",
        "import numpy as np\n",
        "\n",
        "def build_fnn_model(input_shape):\n",
        "    input_layer = Input(shape=input_shape, dtype=tf.float64, name=\"input\")\n",
        "    flat = Flatten()(input_layer)\n",
        "    dense_layer = Dense(128, activation='relu')(flat)\n",
        "    output = Dense(1, activation='sigmoid')(dense_layer)\n",
        "    model = Model(inputs=input_layer, outputs=output)\n",
        "    model.compile(optimizer='Adam',\n",
        "                  loss='binary_crossentropy',\n",
        "                  metrics=['accuracy', Precision(name='precision'), Recall(name='recall')])\n",
        "    return model\n",
        "\n",
        "BATCH_SIZE = 32\n",
        "N_STEPS = x_train.shape[0] // BATCH_SIZE\n",
        "EPOCHS = 10\n",
        "\n",
        "model_fnn = build_fnn_model((100, 50))\n",
        "\n",
        "lr_scheduler = ReduceLROnPlateau(\n",
        "    monitor='val_loss',\n",
        "    factor=0.1,\n",
        "    patience=2,\n",
        "    verbose=1,\n",
        "    min_lr=0.00001\n",
        ")\n",
        "\n",
        "train_history = model_fnn.fit(\n",
        "    x_train, y_train,\n",
        "    validation_data=(x_val, y_val),\n",
        "    steps_per_epoch=N_STEPS,\n",
        "    epochs=EPOCHS,\n",
        "    callbacks=[lr_scheduler]\n",
        ")\n",
        "\n",
        "test_loss, test_accuracy, test_precision, test_recall = model_fnn.evaluate(x_test, y_test)\n",
        "print(f\"Test Accuracy: {test_accuracy * 100:.2f}%\")\n",
        "print(f\"Test Loss: {test_loss:.2f}\")\n",
        "print(f\"Test Precision: {test_precision:.2f}\")\n",
        "print(f\"Test Recall: {test_recall:.2f}\")\n",
        "\n",
        "y_pred = model_fnn.predict(x_test)\n",
        "y_pred_classes = (y_pred > 0.5).astype(\"int32\")\n",
        "\n",
        "conf_matrix = confusion_matrix(y_test, y_pred_classes)\n",
        "print(\"Confusion Matrix:\")\n",
        "print(conf_matrix)\n",
        "\n",
        "class_report = classification_report(y_test, y_pred_classes, target_names=['Class 0', 'Class 1'])\n",
        "print(\"Classification Report:\")\n",
        "print(class_report)"
      ],
      "metadata": {
        "colab": {
          "base_uri": "https://localhost:8080/"
        },
        "id": "JrMeYq_rSvsx",
        "outputId": "d118e8df-a04e-4a46-b7b7-f0c7fca63703"
      },
      "execution_count": null,
      "outputs": [
        {
          "output_type": "stream",
          "name": "stdout",
          "text": [
            "Epoch 1/10\n",
            "1744/1744 [==============================] - 10s 5ms/step - loss: 0.4103 - accuracy: 0.8178 - precision: 0.8106 - recall: 0.7726 - val_loss: 0.3511 - val_accuracy: 0.8480 - val_precision: 0.8066 - val_recall: 0.8710 - lr: 0.0010\n",
            "Epoch 2/10\n",
            "1744/1744 [==============================] - 7s 4ms/step - loss: 0.2832 - accuracy: 0.8837 - precision: 0.8790 - recall: 0.8562 - val_loss: 0.3206 - val_accuracy: 0.8700 - val_precision: 0.8686 - val_recall: 0.8377 - lr: 0.0010\n",
            "Epoch 3/10\n",
            "1744/1744 [==============================] - 7s 4ms/step - loss: 0.2096 - accuracy: 0.9163 - precision: 0.9137 - recall: 0.8968 - val_loss: 0.3347 - val_accuracy: 0.8728 - val_precision: 0.8629 - val_recall: 0.8526 - lr: 0.0010\n",
            "Epoch 4/10\n",
            "1736/1744 [============================>.] - ETA: 0s - loss: 0.1538 - accuracy: 0.9400 - precision: 0.9388 - recall: 0.9258\n",
            "Epoch 4: ReduceLROnPlateau reducing learning rate to 0.00010000000474974513.\n",
            "1744/1744 [==============================] - 7s 4ms/step - loss: 0.1534 - accuracy: 0.9402 - precision: 0.9391 - recall: 0.9261 - val_loss: 0.3676 - val_accuracy: 0.8701 - val_precision: 0.8495 - val_recall: 0.8643 - lr: 0.0010\n",
            "Epoch 5/10\n",
            "1744/1744 [==============================] - 7s 4ms/step - loss: 0.0810 - accuracy: 0.9739 - precision: 0.9756 - recall: 0.9654 - val_loss: 0.3737 - val_accuracy: 0.8748 - val_precision: 0.8609 - val_recall: 0.8607 - lr: 1.0000e-04\n",
            "Epoch 6/10\n",
            "1743/1744 [============================>.] - ETA: 0s - loss: 0.0634 - accuracy: 0.9815 - precision: 0.9835 - recall: 0.9750\n",
            "Epoch 6: ReduceLROnPlateau reducing learning rate to 1.0000000474974514e-05.\n",
            "1744/1744 [==============================] - 7s 4ms/step - loss: 0.0634 - accuracy: 0.9815 - precision: 0.9835 - recall: 0.9750 - val_loss: 0.3880 - val_accuracy: 0.8764 - val_precision: 0.8656 - val_recall: 0.8585 - lr: 1.0000e-04\n",
            "Epoch 7/10\n",
            "1744/1744 [==============================] - 7s 4ms/step - loss: 0.0534 - accuracy: 0.9868 - precision: 0.9890 - recall: 0.9815 - val_loss: 0.3896 - val_accuracy: 0.8764 - val_precision: 0.8601 - val_recall: 0.8660 - lr: 1.0000e-05\n",
            "Epoch 8/10\n",
            "1733/1744 [============================>.] - ETA: 0s - loss: 0.0517 - accuracy: 0.9871 - precision: 0.9887 - recall: 0.9822\n",
            "Epoch 8: ReduceLROnPlateau reducing learning rate to 1e-05.\n",
            "1744/1744 [==============================] - 7s 4ms/step - loss: 0.0517 - accuracy: 0.9871 - precision: 0.9888 - recall: 0.9822 - val_loss: 0.3913 - val_accuracy: 0.8761 - val_precision: 0.8604 - val_recall: 0.8649 - lr: 1.0000e-05\n",
            "Epoch 9/10\n",
            "1744/1744 [==============================] - 7s 4ms/step - loss: 0.0497 - accuracy: 0.9881 - precision: 0.9899 - recall: 0.9834 - val_loss: 0.3937 - val_accuracy: 0.8765 - val_precision: 0.8641 - val_recall: 0.8610 - lr: 1.0000e-05\n",
            "Epoch 10/10\n",
            "1222/1744 [====================>.........] - ETA: 1s - loss: 0.0503 - accuracy: 0.9879 - precision: 0.9898 - recall: 0.9830"
          ]
        },
        {
          "output_type": "stream",
          "name": "stderr",
          "text": [
            "WARNING:tensorflow:Your input ran out of data; interrupting training. Make sure that your dataset or generator can generate at least `steps_per_epoch * epochs` batches (in this case, 17440 batches). You may need to use the repeat() function when building your dataset.\n"
          ]
        },
        {
          "output_type": "stream",
          "name": "stdout",
          "text": [
            "1744/1744 [==============================] - 5s 3ms/step - loss: 0.0503 - accuracy: 0.9879 - precision: 0.9899 - recall: 0.9830 - val_loss: 0.3949 - val_accuracy: 0.8768 - val_precision: 0.8617 - val_recall: 0.8649 - lr: 1.0000e-05\n",
            "582/582 [==============================] - 2s 3ms/step - loss: 0.3933 - accuracy: 0.8799 - precision: 0.8585 - recall: 0.8666\n",
            "Test Accuracy: 87.99%\n",
            "Test Loss: 0.39\n",
            "Test Precision: 0.86\n",
            "Test Recall: 0.87\n",
            "582/582 [==============================] - 1s 2ms/step\n",
            "Confusion Matrix:\n",
            "[[9360 1156]\n",
            " [1080 7015]]\n",
            "Classification Report:\n",
            "              precision    recall  f1-score   support\n",
            "\n",
            "     Class 0       0.90      0.89      0.89     10516\n",
            "     Class 1       0.86      0.87      0.86      8095\n",
            "\n",
            "    accuracy                           0.88     18611\n",
            "   macro avg       0.88      0.88      0.88     18611\n",
            "weighted avg       0.88      0.88      0.88     18611\n",
            "\n"
          ]
        }
      ]
    },
    {
      "cell_type": "code",
      "source": [
        "import tensorflow as tf\n",
        "from tensorflow.keras.models import Model\n",
        "from tensorflow.keras.layers import Input, Flatten, Dense\n",
        "from tensorflow.keras.optimizers import Adam\n",
        "from keras_tuner import HyperModel, Hyperband\n",
        "from tensorflow.keras.metrics import Precision, Recall\n",
        "\n",
        "class MyHyperModel(HyperModel):\n",
        "    def __init__(self, input_shape):\n",
        "        self.input_shape = input_shape\n",
        "\n",
        "    def build(self, hp):\n",
        "        input_layer = Input(shape=self.input_shape, dtype=tf.float64, name=\"input\")\n",
        "        flat = Flatten()(input_layer)\n",
        "        dense_layer = Dense(\n",
        "            units=hp.Int('units', min_value=64, max_value=256, step=32),\n",
        "            activation='relu'\n",
        "        )(flat)\n",
        "        output = Dense(1, activation='sigmoid')(dense_layer)\n",
        "        model = Model(inputs=input_layer, outputs=output)\n",
        "\n",
        "        model.compile(\n",
        "            optimizer=Adam(learning_rate=hp.Float('learning_rate', min_value=1e-4, max_value=1e-2, sampling='log')),\n",
        "            loss='binary_crossentropy',\n",
        "            metrics=['accuracy', Precision(), Recall()]\n",
        "        )\n",
        "        return model\n",
        "\n",
        "    def fit(self, hp, model, *args, **kwargs):\n",
        "        return model.fit(\n",
        "            *args,\n",
        "            batch_size=hp.Choice('batch_size', values=[32, 64, 128]),\n",
        "            **kwargs\n",
        "        )\n",
        "\n",
        "hypermodel = MyHyperModel((100, 50))\n",
        "\n",
        "tuner = Hyperband(\n",
        "    hypermodel,\n",
        "    objective='val_accuracy',\n",
        "    max_epochs=10,\n",
        "    hyperband_iterations=2,\n",
        "    directory='my_dir',\n",
        "    project_name='hyperparam_tuning'\n",
        ")\n",
        "\n",
        "tuner.search(x_train, y_train, validation_data=(x_val, y_val), epochs=10)\n",
        "\n",
        "best_model = tuner.get_best_models(num_models=1)[0]\n",
        "\n",
        "test_loss, test_accuracy, test_precision, test_recall = best_model.evaluate(x_test, y_test)\n",
        "print(f\"Test Accuracy: {test_accuracy * 100:.2f}%\")\n",
        "print(f\"Test Precision: {test_precision:.2f}\")\n",
        "print(f\"Test Recall: {test_recall:.2f}\")"
      ],
      "metadata": {
        "colab": {
          "base_uri": "https://localhost:8080/",
          "height": 1000
        },
        "id": "tAinVWtiT7e7",
        "outputId": "c7198ca2-fd7e-4a61-ee9a-87ab846639b6"
      },
      "execution_count": null,
      "outputs": [
        {
          "output_type": "stream",
          "name": "stdout",
          "text": [
            "Trial 167 Complete [00h 03m 27s]\n",
            "val_accuracy: 0.8827574849128723\n",
            "\n",
            "Best val_accuracy So Far: 0.8827574849128723\n",
            "Total elapsed time: 01h 53m 21s\n",
            "\n",
            "Search: Running Trial #168\n",
            "\n",
            "Value             |Best Value So Far |Hyperparameter\n",
            "96                |224               |units\n",
            "tanh              |tanh              |activation\n",
            "rmsprop           |rmsprop           |optimizer\n",
            "0.0057044         |0.000663          |initial_lr\n",
            "0.00070378        |0.0015202         |lr\n",
            "0.00017971        |0.00027451        |learning_rate\n",
            "64                |32                |batch_size\n",
            "40                |40                |tuner/epochs\n",
            "14                |14                |tuner/initial_epoch\n",
            "1                 |1                 |tuner/bracket\n",
            "1                 |1                 |tuner/round\n",
            "0159              |0161              |tuner/trial_id\n",
            "\n",
            "Epoch 15/40\n",
            "873/873 [==============================] - 6s 6ms/step - loss: 0.0059 - accuracy: 0.9999 - precision: 0.9999 - recall: 0.9999 - val_loss: 0.4428 - val_accuracy: 0.8742 - val_precision: 0.8709 - val_recall: 0.8458\n",
            "Epoch 16/40\n",
            "873/873 [==============================] - 4s 4ms/step - loss: 0.0042 - accuracy: 0.9998 - precision: 0.9999 - recall: 0.9998 - val_loss: 0.4723 - val_accuracy: 0.8749 - val_precision: 0.8890 - val_recall: 0.8249\n",
            "Epoch 17/40\n",
            "873/873 [==============================] - 4s 4ms/step - loss: 0.0086 - accuracy: 0.9993 - precision: 0.9993 - recall: 0.9992 - val_loss: 0.5130 - val_accuracy: 0.8719 - val_precision: 0.8755 - val_recall: 0.8339\n",
            "Epoch 18/40\n",
            "873/873 [==============================] - 4s 4ms/step - loss: 0.0031 - accuracy: 0.9999 - precision: 0.9999 - recall: 0.9999 - val_loss: 0.5219 - val_accuracy: 0.8746 - val_precision: 0.8706 - val_recall: 0.8471\n",
            "Epoch 19/40\n",
            "873/873 [==============================] - 4s 5ms/step - loss: 0.0018 - accuracy: 0.9999 - precision: 1.0000 - recall: 0.9999 - val_loss: 0.5152 - val_accuracy: 0.8752 - val_precision: 0.8675 - val_recall: 0.8530\n",
            "Epoch 20/40\n",
            "873/873 [==============================] - 4s 5ms/step - loss: 0.0028 - accuracy: 0.9999 - precision: 0.9998 - recall: 0.9999 - val_loss: 0.5504 - val_accuracy: 0.8766 - val_precision: 0.8800 - val_recall: 0.8404\n",
            "Epoch 21/40\n",
            "873/873 [==============================] - 4s 5ms/step - loss: 0.0010 - accuracy: 1.0000 - precision: 1.0000 - recall: 1.0000 - val_loss: 0.5484 - val_accuracy: 0.8758 - val_precision: 0.8606 - val_recall: 0.8638\n",
            "Epoch 22/40\n",
            "873/873 [==============================] - 4s 4ms/step - loss: 0.0023 - accuracy: 0.9995 - precision: 0.9996 - recall: 0.9993 - val_loss: 0.5799 - val_accuracy: 0.8549 - val_precision: 0.8004 - val_recall: 0.9024\n",
            "Epoch 23/40\n",
            "873/873 [==============================] - 4s 4ms/step - loss: 0.0100 - accuracy: 0.9978 - precision: 0.9975 - recall: 0.9975 - val_loss: 0.5830 - val_accuracy: 0.8761 - val_precision: 0.8574 - val_recall: 0.8691\n",
            "Epoch 24/40\n",
            "873/873 [==============================] - 4s 4ms/step - loss: 0.0019 - accuracy: 0.9999 - precision: 0.9999 - recall: 0.9998 - val_loss: 0.5831 - val_accuracy: 0.8759 - val_precision: 0.8569 - val_recall: 0.8695\n",
            "Epoch 25/40\n",
            "873/873 [==============================] - 4s 5ms/step - loss: 7.4435e-04 - accuracy: 1.0000 - precision: 1.0000 - recall: 0.9999 - val_loss: 0.6046 - val_accuracy: 0.8765 - val_precision: 0.8678 - val_recall: 0.8560\n",
            "Epoch 26/40\n",
            "873/873 [==============================] - 4s 5ms/step - loss: 9.5120e-04 - accuracy: 1.0000 - precision: 1.0000 - recall: 1.0000 - val_loss: 0.6062 - val_accuracy: 0.8767 - val_precision: 0.8609 - val_recall: 0.8660\n",
            "Epoch 27/40\n",
            "873/873 [==============================] - 4s 5ms/step - loss: 0.0078 - accuracy: 0.9980 - precision: 0.9978 - recall: 0.9978 - val_loss: 0.6459 - val_accuracy: 0.8721 - val_precision: 0.8696 - val_recall: 0.8419\n",
            "Epoch 28/40\n",
            "873/873 [==============================] - 4s 5ms/step - loss: 0.0019 - accuracy: 0.9998 - precision: 0.9999 - recall: 0.9997 - val_loss: 0.6312 - val_accuracy: 0.8742 - val_precision: 0.8607 - val_recall: 0.8595\n",
            "Epoch 29/40\n",
            "873/873 [==============================] - 4s 4ms/step - loss: 0.0013 - accuracy: 0.9999 - precision: 1.0000 - recall: 0.9999 - val_loss: 0.6495 - val_accuracy: 0.8758 - val_precision: 0.8731 - val_recall: 0.8470\n",
            "Epoch 30/40\n",
            "873/873 [==============================] - 4s 4ms/step - loss: 0.0013 - accuracy: 0.9999 - precision: 0.9999 - recall: 0.9999 - val_loss: 0.6446 - val_accuracy: 0.8756 - val_precision: 0.8644 - val_recall: 0.8580\n",
            "Epoch 31/40\n",
            "873/873 [==============================] - 4s 5ms/step - loss: 8.0279e-04 - accuracy: 1.0000 - precision: 1.0000 - recall: 0.9999 - val_loss: 0.6628 - val_accuracy: 0.8761 - val_precision: 0.8641 - val_recall: 0.8599\n",
            "Epoch 32/40\n",
            "873/873 [==============================] - 4s 5ms/step - loss: 0.0029 - accuracy: 0.9992 - precision: 0.9992 - recall: 0.9990 - val_loss: 0.7496 - val_accuracy: 0.8533 - val_precision: 0.7939 - val_recall: 0.9103\n",
            "Epoch 33/40\n",
            "873/873 [==============================] - 4s 5ms/step - loss: 0.0109 - accuracy: 0.9972 - precision: 0.9967 - recall: 0.9969 - val_loss: 0.6628 - val_accuracy: 0.8710 - val_precision: 0.8635 - val_recall: 0.8474\n",
            "Epoch 34/40\n",
            "873/873 [==============================] - 4s 5ms/step - loss: 0.0012 - accuracy: 0.9999 - precision: 1.0000 - recall: 0.9999 - val_loss: 0.6730 - val_accuracy: 0.8728 - val_precision: 0.8628 - val_recall: 0.8527\n",
            "Epoch 35/40\n",
            "873/873 [==============================] - 4s 4ms/step - loss: 8.7486e-04 - accuracy: 0.9999 - precision: 1.0000 - recall: 0.9999 - val_loss: 0.6958 - val_accuracy: 0.8728 - val_precision: 0.8587 - val_recall: 0.8585\n",
            "Epoch 36/40\n",
            "873/873 [==============================] - 4s 4ms/step - loss: 9.0399e-04 - accuracy: 0.9999 - precision: 1.0000 - recall: 0.9999 - val_loss: 0.6927 - val_accuracy: 0.8727 - val_precision: 0.8613 - val_recall: 0.8545\n",
            "Epoch 37/40\n",
            "873/873 [==============================] - 4s 4ms/step - loss: 0.0042 - accuracy: 0.9988 - precision: 0.9987 - recall: 0.9986 - val_loss: 0.6706 - val_accuracy: 0.8709 - val_precision: 0.8794 - val_recall: 0.8265\n",
            "Epoch 38/40\n",
            "547/873 [=================>............] - ETA: 1s - loss: 0.0028 - accuracy: 0.9994 - precision: 0.9996 - recall: 0.9992"
          ]
        },
        {
          "output_type": "error",
          "ename": "KeyboardInterrupt",
          "evalue": "",
          "traceback": [
            "\u001b[0;31m---------------------------------------------------------------------------\u001b[0m",
            "\u001b[0;31mKeyboardInterrupt\u001b[0m                         Traceback (most recent call last)",
            "\u001b[0;32m<ipython-input-106-2ddef7282852>\u001b[0m in \u001b[0;36m<cell line: 48>\u001b[0;34m()\u001b[0m\n\u001b[1;32m     46\u001b[0m \u001b[0;34m\u001b[0m\u001b[0m\n\u001b[1;32m     47\u001b[0m \u001b[0;31m# Assuming x_train, y_train, x_val, y_val are properly defined\u001b[0m\u001b[0;34m\u001b[0m\u001b[0;34m\u001b[0m\u001b[0m\n\u001b[0;32m---> 48\u001b[0;31m \u001b[0mtuner\u001b[0m\u001b[0;34m.\u001b[0m\u001b[0msearch\u001b[0m\u001b[0;34m(\u001b[0m\u001b[0mx_train\u001b[0m\u001b[0;34m,\u001b[0m \u001b[0my_train\u001b[0m\u001b[0;34m,\u001b[0m \u001b[0mvalidation_data\u001b[0m\u001b[0;34m=\u001b[0m\u001b[0;34m(\u001b[0m\u001b[0mx_val\u001b[0m\u001b[0;34m,\u001b[0m \u001b[0my_val\u001b[0m\u001b[0;34m)\u001b[0m\u001b[0;34m,\u001b[0m \u001b[0mepochs\u001b[0m\u001b[0;34m=\u001b[0m\u001b[0;36m10\u001b[0m\u001b[0;34m)\u001b[0m\u001b[0;34m\u001b[0m\u001b[0;34m\u001b[0m\u001b[0m\n\u001b[0m\u001b[1;32m     49\u001b[0m \u001b[0;34m\u001b[0m\u001b[0m\n\u001b[1;32m     50\u001b[0m \u001b[0;31m# Get the best model\u001b[0m\u001b[0;34m\u001b[0m\u001b[0;34m\u001b[0m\u001b[0m\n",
            "\u001b[0;32m/usr/local/lib/python3.10/dist-packages/keras_tuner/src/engine/base_tuner.py\u001b[0m in \u001b[0;36msearch\u001b[0;34m(self, *fit_args, **fit_kwargs)\u001b[0m\n\u001b[1;32m    232\u001b[0m \u001b[0;34m\u001b[0m\u001b[0m\n\u001b[1;32m    233\u001b[0m             \u001b[0mself\u001b[0m\u001b[0;34m.\u001b[0m\u001b[0mon_trial_begin\u001b[0m\u001b[0;34m(\u001b[0m\u001b[0mtrial\u001b[0m\u001b[0;34m)\u001b[0m\u001b[0;34m\u001b[0m\u001b[0;34m\u001b[0m\u001b[0m\n\u001b[0;32m--> 234\u001b[0;31m             \u001b[0mself\u001b[0m\u001b[0;34m.\u001b[0m\u001b[0m_try_run_and_update_trial\u001b[0m\u001b[0;34m(\u001b[0m\u001b[0mtrial\u001b[0m\u001b[0;34m,\u001b[0m \u001b[0;34m*\u001b[0m\u001b[0mfit_args\u001b[0m\u001b[0;34m,\u001b[0m \u001b[0;34m**\u001b[0m\u001b[0mfit_kwargs\u001b[0m\u001b[0;34m)\u001b[0m\u001b[0;34m\u001b[0m\u001b[0;34m\u001b[0m\u001b[0m\n\u001b[0m\u001b[1;32m    235\u001b[0m             \u001b[0mself\u001b[0m\u001b[0;34m.\u001b[0m\u001b[0mon_trial_end\u001b[0m\u001b[0;34m(\u001b[0m\u001b[0mtrial\u001b[0m\u001b[0;34m)\u001b[0m\u001b[0;34m\u001b[0m\u001b[0;34m\u001b[0m\u001b[0m\n\u001b[1;32m    236\u001b[0m         \u001b[0mself\u001b[0m\u001b[0;34m.\u001b[0m\u001b[0mon_search_end\u001b[0m\u001b[0;34m(\u001b[0m\u001b[0;34m)\u001b[0m\u001b[0;34m\u001b[0m\u001b[0;34m\u001b[0m\u001b[0m\n",
            "\u001b[0;32m/usr/local/lib/python3.10/dist-packages/keras_tuner/src/engine/base_tuner.py\u001b[0m in \u001b[0;36m_try_run_and_update_trial\u001b[0;34m(self, trial, *fit_args, **fit_kwargs)\u001b[0m\n\u001b[1;32m    272\u001b[0m     \u001b[0;32mdef\u001b[0m \u001b[0m_try_run_and_update_trial\u001b[0m\u001b[0;34m(\u001b[0m\u001b[0mself\u001b[0m\u001b[0;34m,\u001b[0m \u001b[0mtrial\u001b[0m\u001b[0;34m,\u001b[0m \u001b[0;34m*\u001b[0m\u001b[0mfit_args\u001b[0m\u001b[0;34m,\u001b[0m \u001b[0;34m**\u001b[0m\u001b[0mfit_kwargs\u001b[0m\u001b[0;34m)\u001b[0m\u001b[0;34m:\u001b[0m\u001b[0;34m\u001b[0m\u001b[0;34m\u001b[0m\u001b[0m\n\u001b[1;32m    273\u001b[0m         \u001b[0;32mtry\u001b[0m\u001b[0;34m:\u001b[0m\u001b[0;34m\u001b[0m\u001b[0;34m\u001b[0m\u001b[0m\n\u001b[0;32m--> 274\u001b[0;31m             \u001b[0mself\u001b[0m\u001b[0;34m.\u001b[0m\u001b[0m_run_and_update_trial\u001b[0m\u001b[0;34m(\u001b[0m\u001b[0mtrial\u001b[0m\u001b[0;34m,\u001b[0m \u001b[0;34m*\u001b[0m\u001b[0mfit_args\u001b[0m\u001b[0;34m,\u001b[0m \u001b[0;34m**\u001b[0m\u001b[0mfit_kwargs\u001b[0m\u001b[0;34m)\u001b[0m\u001b[0;34m\u001b[0m\u001b[0;34m\u001b[0m\u001b[0m\n\u001b[0m\u001b[1;32m    275\u001b[0m             \u001b[0mtrial\u001b[0m\u001b[0;34m.\u001b[0m\u001b[0mstatus\u001b[0m \u001b[0;34m=\u001b[0m \u001b[0mtrial_module\u001b[0m\u001b[0;34m.\u001b[0m\u001b[0mTrialStatus\u001b[0m\u001b[0;34m.\u001b[0m\u001b[0mCOMPLETED\u001b[0m\u001b[0;34m\u001b[0m\u001b[0;34m\u001b[0m\u001b[0m\n\u001b[1;32m    276\u001b[0m             \u001b[0;32mreturn\u001b[0m\u001b[0;34m\u001b[0m\u001b[0;34m\u001b[0m\u001b[0m\n",
            "\u001b[0;32m/usr/local/lib/python3.10/dist-packages/keras_tuner/src/engine/base_tuner.py\u001b[0m in \u001b[0;36m_run_and_update_trial\u001b[0;34m(self, trial, *fit_args, **fit_kwargs)\u001b[0m\n\u001b[1;32m    237\u001b[0m \u001b[0;34m\u001b[0m\u001b[0m\n\u001b[1;32m    238\u001b[0m     \u001b[0;32mdef\u001b[0m \u001b[0m_run_and_update_trial\u001b[0m\u001b[0;34m(\u001b[0m\u001b[0mself\u001b[0m\u001b[0;34m,\u001b[0m \u001b[0mtrial\u001b[0m\u001b[0;34m,\u001b[0m \u001b[0;34m*\u001b[0m\u001b[0mfit_args\u001b[0m\u001b[0;34m,\u001b[0m \u001b[0;34m**\u001b[0m\u001b[0mfit_kwargs\u001b[0m\u001b[0;34m)\u001b[0m\u001b[0;34m:\u001b[0m\u001b[0;34m\u001b[0m\u001b[0;34m\u001b[0m\u001b[0m\n\u001b[0;32m--> 239\u001b[0;31m         \u001b[0mresults\u001b[0m \u001b[0;34m=\u001b[0m \u001b[0mself\u001b[0m\u001b[0;34m.\u001b[0m\u001b[0mrun_trial\u001b[0m\u001b[0;34m(\u001b[0m\u001b[0mtrial\u001b[0m\u001b[0;34m,\u001b[0m \u001b[0;34m*\u001b[0m\u001b[0mfit_args\u001b[0m\u001b[0;34m,\u001b[0m \u001b[0;34m**\u001b[0m\u001b[0mfit_kwargs\u001b[0m\u001b[0;34m)\u001b[0m\u001b[0;34m\u001b[0m\u001b[0;34m\u001b[0m\u001b[0m\n\u001b[0m\u001b[1;32m    240\u001b[0m         if self.oracle.get_trial(trial.trial_id).metrics.exists(\n\u001b[1;32m    241\u001b[0m             \u001b[0mself\u001b[0m\u001b[0;34m.\u001b[0m\u001b[0moracle\u001b[0m\u001b[0;34m.\u001b[0m\u001b[0mobjective\u001b[0m\u001b[0;34m.\u001b[0m\u001b[0mname\u001b[0m\u001b[0;34m\u001b[0m\u001b[0;34m\u001b[0m\u001b[0m\n",
            "\u001b[0;32m/usr/local/lib/python3.10/dist-packages/keras_tuner/src/tuners/hyperband.py\u001b[0m in \u001b[0;36mrun_trial\u001b[0;34m(self, trial, *fit_args, **fit_kwargs)\u001b[0m\n\u001b[1;32m    425\u001b[0m             \u001b[0mfit_kwargs\u001b[0m\u001b[0;34m[\u001b[0m\u001b[0;34m\"epochs\"\u001b[0m\u001b[0;34m]\u001b[0m \u001b[0;34m=\u001b[0m \u001b[0mhp\u001b[0m\u001b[0;34m.\u001b[0m\u001b[0mvalues\u001b[0m\u001b[0;34m[\u001b[0m\u001b[0;34m\"tuner/epochs\"\u001b[0m\u001b[0;34m]\u001b[0m\u001b[0;34m\u001b[0m\u001b[0;34m\u001b[0m\u001b[0m\n\u001b[1;32m    426\u001b[0m             \u001b[0mfit_kwargs\u001b[0m\u001b[0;34m[\u001b[0m\u001b[0;34m\"initial_epoch\"\u001b[0m\u001b[0;34m]\u001b[0m \u001b[0;34m=\u001b[0m \u001b[0mhp\u001b[0m\u001b[0;34m.\u001b[0m\u001b[0mvalues\u001b[0m\u001b[0;34m[\u001b[0m\u001b[0;34m\"tuner/initial_epoch\"\u001b[0m\u001b[0;34m]\u001b[0m\u001b[0;34m\u001b[0m\u001b[0;34m\u001b[0m\u001b[0m\n\u001b[0;32m--> 427\u001b[0;31m         \u001b[0;32mreturn\u001b[0m \u001b[0msuper\u001b[0m\u001b[0;34m(\u001b[0m\u001b[0;34m)\u001b[0m\u001b[0;34m.\u001b[0m\u001b[0mrun_trial\u001b[0m\u001b[0;34m(\u001b[0m\u001b[0mtrial\u001b[0m\u001b[0;34m,\u001b[0m \u001b[0;34m*\u001b[0m\u001b[0mfit_args\u001b[0m\u001b[0;34m,\u001b[0m \u001b[0;34m**\u001b[0m\u001b[0mfit_kwargs\u001b[0m\u001b[0;34m)\u001b[0m\u001b[0;34m\u001b[0m\u001b[0;34m\u001b[0m\u001b[0m\n\u001b[0m\u001b[1;32m    428\u001b[0m \u001b[0;34m\u001b[0m\u001b[0m\n\u001b[1;32m    429\u001b[0m     \u001b[0;32mdef\u001b[0m \u001b[0m_build_hypermodel\u001b[0m\u001b[0;34m(\u001b[0m\u001b[0mself\u001b[0m\u001b[0;34m,\u001b[0m \u001b[0mhp\u001b[0m\u001b[0;34m)\u001b[0m\u001b[0;34m:\u001b[0m\u001b[0;34m\u001b[0m\u001b[0;34m\u001b[0m\u001b[0m\n",
            "\u001b[0;32m/usr/local/lib/python3.10/dist-packages/keras_tuner/src/engine/tuner.py\u001b[0m in \u001b[0;36mrun_trial\u001b[0;34m(self, trial, *args, **kwargs)\u001b[0m\n\u001b[1;32m    312\u001b[0m             \u001b[0mcallbacks\u001b[0m\u001b[0;34m.\u001b[0m\u001b[0mappend\u001b[0m\u001b[0;34m(\u001b[0m\u001b[0mmodel_checkpoint\u001b[0m\u001b[0;34m)\u001b[0m\u001b[0;34m\u001b[0m\u001b[0;34m\u001b[0m\u001b[0m\n\u001b[1;32m    313\u001b[0m             \u001b[0mcopied_kwargs\u001b[0m\u001b[0;34m[\u001b[0m\u001b[0;34m\"callbacks\"\u001b[0m\u001b[0;34m]\u001b[0m \u001b[0;34m=\u001b[0m \u001b[0mcallbacks\u001b[0m\u001b[0;34m\u001b[0m\u001b[0;34m\u001b[0m\u001b[0m\n\u001b[0;32m--> 314\u001b[0;31m             \u001b[0mobj_value\u001b[0m \u001b[0;34m=\u001b[0m \u001b[0mself\u001b[0m\u001b[0;34m.\u001b[0m\u001b[0m_build_and_fit_model\u001b[0m\u001b[0;34m(\u001b[0m\u001b[0mtrial\u001b[0m\u001b[0;34m,\u001b[0m \u001b[0;34m*\u001b[0m\u001b[0margs\u001b[0m\u001b[0;34m,\u001b[0m \u001b[0;34m**\u001b[0m\u001b[0mcopied_kwargs\u001b[0m\u001b[0;34m)\u001b[0m\u001b[0;34m\u001b[0m\u001b[0;34m\u001b[0m\u001b[0m\n\u001b[0m\u001b[1;32m    315\u001b[0m \u001b[0;34m\u001b[0m\u001b[0m\n\u001b[1;32m    316\u001b[0m             \u001b[0mhistories\u001b[0m\u001b[0;34m.\u001b[0m\u001b[0mappend\u001b[0m\u001b[0;34m(\u001b[0m\u001b[0mobj_value\u001b[0m\u001b[0;34m)\u001b[0m\u001b[0;34m\u001b[0m\u001b[0;34m\u001b[0m\u001b[0m\n",
            "\u001b[0;32m/usr/local/lib/python3.10/dist-packages/keras_tuner/src/engine/tuner.py\u001b[0m in \u001b[0;36m_build_and_fit_model\u001b[0;34m(self, trial, *args, **kwargs)\u001b[0m\n\u001b[1;32m    231\u001b[0m         \u001b[0mhp\u001b[0m \u001b[0;34m=\u001b[0m \u001b[0mtrial\u001b[0m\u001b[0;34m.\u001b[0m\u001b[0mhyperparameters\u001b[0m\u001b[0;34m\u001b[0m\u001b[0;34m\u001b[0m\u001b[0m\n\u001b[1;32m    232\u001b[0m         \u001b[0mmodel\u001b[0m \u001b[0;34m=\u001b[0m \u001b[0mself\u001b[0m\u001b[0;34m.\u001b[0m\u001b[0m_try_build\u001b[0m\u001b[0;34m(\u001b[0m\u001b[0mhp\u001b[0m\u001b[0;34m)\u001b[0m\u001b[0;34m\u001b[0m\u001b[0;34m\u001b[0m\u001b[0m\n\u001b[0;32m--> 233\u001b[0;31m         \u001b[0mresults\u001b[0m \u001b[0;34m=\u001b[0m \u001b[0mself\u001b[0m\u001b[0;34m.\u001b[0m\u001b[0mhypermodel\u001b[0m\u001b[0;34m.\u001b[0m\u001b[0mfit\u001b[0m\u001b[0;34m(\u001b[0m\u001b[0mhp\u001b[0m\u001b[0;34m,\u001b[0m \u001b[0mmodel\u001b[0m\u001b[0;34m,\u001b[0m \u001b[0;34m*\u001b[0m\u001b[0margs\u001b[0m\u001b[0;34m,\u001b[0m \u001b[0;34m**\u001b[0m\u001b[0mkwargs\u001b[0m\u001b[0;34m)\u001b[0m\u001b[0;34m\u001b[0m\u001b[0;34m\u001b[0m\u001b[0m\n\u001b[0m\u001b[1;32m    234\u001b[0m \u001b[0;34m\u001b[0m\u001b[0m\n\u001b[1;32m    235\u001b[0m         \u001b[0;31m# Save the build config for model loading later.\u001b[0m\u001b[0;34m\u001b[0m\u001b[0;34m\u001b[0m\u001b[0m\n",
            "\u001b[0;32m<ipython-input-106-2ddef7282852>\u001b[0m in \u001b[0;36mfit\u001b[0;34m(self, hp, model, *args, **kwargs)\u001b[0m\n\u001b[1;32m     28\u001b[0m \u001b[0;34m\u001b[0m\u001b[0m\n\u001b[1;32m     29\u001b[0m     \u001b[0;32mdef\u001b[0m \u001b[0mfit\u001b[0m\u001b[0;34m(\u001b[0m\u001b[0mself\u001b[0m\u001b[0;34m,\u001b[0m \u001b[0mhp\u001b[0m\u001b[0;34m,\u001b[0m \u001b[0mmodel\u001b[0m\u001b[0;34m,\u001b[0m \u001b[0;34m*\u001b[0m\u001b[0margs\u001b[0m\u001b[0;34m,\u001b[0m \u001b[0;34m**\u001b[0m\u001b[0mkwargs\u001b[0m\u001b[0;34m)\u001b[0m\u001b[0;34m:\u001b[0m\u001b[0;34m\u001b[0m\u001b[0;34m\u001b[0m\u001b[0m\n\u001b[0;32m---> 30\u001b[0;31m         return model.fit(\n\u001b[0m\u001b[1;32m     31\u001b[0m             \u001b[0;34m*\u001b[0m\u001b[0margs\u001b[0m\u001b[0;34m,\u001b[0m\u001b[0;34m\u001b[0m\u001b[0;34m\u001b[0m\u001b[0m\n\u001b[1;32m     32\u001b[0m             \u001b[0mbatch_size\u001b[0m\u001b[0;34m=\u001b[0m\u001b[0mhp\u001b[0m\u001b[0;34m.\u001b[0m\u001b[0mChoice\u001b[0m\u001b[0;34m(\u001b[0m\u001b[0;34m'batch_size'\u001b[0m\u001b[0;34m,\u001b[0m \u001b[0mvalues\u001b[0m\u001b[0;34m=\u001b[0m\u001b[0;34m[\u001b[0m\u001b[0;36m32\u001b[0m\u001b[0;34m,\u001b[0m \u001b[0;36m64\u001b[0m\u001b[0;34m,\u001b[0m \u001b[0;36m128\u001b[0m\u001b[0;34m]\u001b[0m\u001b[0;34m)\u001b[0m\u001b[0;34m,\u001b[0m\u001b[0;34m\u001b[0m\u001b[0;34m\u001b[0m\u001b[0m\n",
            "\u001b[0;32m/usr/local/lib/python3.10/dist-packages/keras/src/utils/traceback_utils.py\u001b[0m in \u001b[0;36merror_handler\u001b[0;34m(*args, **kwargs)\u001b[0m\n\u001b[1;32m     63\u001b[0m         \u001b[0mfiltered_tb\u001b[0m \u001b[0;34m=\u001b[0m \u001b[0;32mNone\u001b[0m\u001b[0;34m\u001b[0m\u001b[0;34m\u001b[0m\u001b[0m\n\u001b[1;32m     64\u001b[0m         \u001b[0;32mtry\u001b[0m\u001b[0;34m:\u001b[0m\u001b[0;34m\u001b[0m\u001b[0;34m\u001b[0m\u001b[0m\n\u001b[0;32m---> 65\u001b[0;31m             \u001b[0;32mreturn\u001b[0m \u001b[0mfn\u001b[0m\u001b[0;34m(\u001b[0m\u001b[0;34m*\u001b[0m\u001b[0margs\u001b[0m\u001b[0;34m,\u001b[0m \u001b[0;34m**\u001b[0m\u001b[0mkwargs\u001b[0m\u001b[0;34m)\u001b[0m\u001b[0;34m\u001b[0m\u001b[0;34m\u001b[0m\u001b[0m\n\u001b[0m\u001b[1;32m     66\u001b[0m         \u001b[0;32mexcept\u001b[0m \u001b[0mException\u001b[0m \u001b[0;32mas\u001b[0m \u001b[0me\u001b[0m\u001b[0;34m:\u001b[0m\u001b[0;34m\u001b[0m\u001b[0;34m\u001b[0m\u001b[0m\n\u001b[1;32m     67\u001b[0m             \u001b[0mfiltered_tb\u001b[0m \u001b[0;34m=\u001b[0m \u001b[0m_process_traceback_frames\u001b[0m\u001b[0;34m(\u001b[0m\u001b[0me\u001b[0m\u001b[0;34m.\u001b[0m\u001b[0m__traceback__\u001b[0m\u001b[0;34m)\u001b[0m\u001b[0;34m\u001b[0m\u001b[0;34m\u001b[0m\u001b[0m\n",
            "\u001b[0;32m/usr/local/lib/python3.10/dist-packages/keras/src/engine/training.py\u001b[0m in \u001b[0;36mfit\u001b[0;34m(self, x, y, batch_size, epochs, verbose, callbacks, validation_split, validation_data, shuffle, class_weight, sample_weight, initial_epoch, steps_per_epoch, validation_steps, validation_batch_size, validation_freq, max_queue_size, workers, use_multiprocessing)\u001b[0m\n\u001b[1;32m   1805\u001b[0m                         ):\n\u001b[1;32m   1806\u001b[0m                             \u001b[0mcallbacks\u001b[0m\u001b[0;34m.\u001b[0m\u001b[0mon_train_batch_begin\u001b[0m\u001b[0;34m(\u001b[0m\u001b[0mstep\u001b[0m\u001b[0;34m)\u001b[0m\u001b[0;34m\u001b[0m\u001b[0;34m\u001b[0m\u001b[0m\n\u001b[0;32m-> 1807\u001b[0;31m                             \u001b[0mtmp_logs\u001b[0m \u001b[0;34m=\u001b[0m \u001b[0mself\u001b[0m\u001b[0;34m.\u001b[0m\u001b[0mtrain_function\u001b[0m\u001b[0;34m(\u001b[0m\u001b[0miterator\u001b[0m\u001b[0;34m)\u001b[0m\u001b[0;34m\u001b[0m\u001b[0;34m\u001b[0m\u001b[0m\n\u001b[0m\u001b[1;32m   1808\u001b[0m                             \u001b[0;32mif\u001b[0m \u001b[0mdata_handler\u001b[0m\u001b[0;34m.\u001b[0m\u001b[0mshould_sync\u001b[0m\u001b[0;34m:\u001b[0m\u001b[0;34m\u001b[0m\u001b[0;34m\u001b[0m\u001b[0m\n\u001b[1;32m   1809\u001b[0m                                 \u001b[0mcontext\u001b[0m\u001b[0;34m.\u001b[0m\u001b[0masync_wait\u001b[0m\u001b[0;34m(\u001b[0m\u001b[0;34m)\u001b[0m\u001b[0;34m\u001b[0m\u001b[0;34m\u001b[0m\u001b[0m\n",
            "\u001b[0;32m/usr/local/lib/python3.10/dist-packages/tensorflow/python/util/traceback_utils.py\u001b[0m in \u001b[0;36merror_handler\u001b[0;34m(*args, **kwargs)\u001b[0m\n\u001b[1;32m    148\u001b[0m     \u001b[0mfiltered_tb\u001b[0m \u001b[0;34m=\u001b[0m \u001b[0;32mNone\u001b[0m\u001b[0;34m\u001b[0m\u001b[0;34m\u001b[0m\u001b[0m\n\u001b[1;32m    149\u001b[0m     \u001b[0;32mtry\u001b[0m\u001b[0;34m:\u001b[0m\u001b[0;34m\u001b[0m\u001b[0;34m\u001b[0m\u001b[0m\n\u001b[0;32m--> 150\u001b[0;31m       \u001b[0;32mreturn\u001b[0m \u001b[0mfn\u001b[0m\u001b[0;34m(\u001b[0m\u001b[0;34m*\u001b[0m\u001b[0margs\u001b[0m\u001b[0;34m,\u001b[0m \u001b[0;34m**\u001b[0m\u001b[0mkwargs\u001b[0m\u001b[0;34m)\u001b[0m\u001b[0;34m\u001b[0m\u001b[0;34m\u001b[0m\u001b[0m\n\u001b[0m\u001b[1;32m    151\u001b[0m     \u001b[0;32mexcept\u001b[0m \u001b[0mException\u001b[0m \u001b[0;32mas\u001b[0m \u001b[0me\u001b[0m\u001b[0;34m:\u001b[0m\u001b[0;34m\u001b[0m\u001b[0;34m\u001b[0m\u001b[0m\n\u001b[1;32m    152\u001b[0m       \u001b[0mfiltered_tb\u001b[0m \u001b[0;34m=\u001b[0m \u001b[0m_process_traceback_frames\u001b[0m\u001b[0;34m(\u001b[0m\u001b[0me\u001b[0m\u001b[0;34m.\u001b[0m\u001b[0m__traceback__\u001b[0m\u001b[0;34m)\u001b[0m\u001b[0;34m\u001b[0m\u001b[0;34m\u001b[0m\u001b[0m\n",
            "\u001b[0;32m/usr/local/lib/python3.10/dist-packages/tensorflow/python/eager/polymorphic_function/polymorphic_function.py\u001b[0m in \u001b[0;36m__call__\u001b[0;34m(self, *args, **kwds)\u001b[0m\n\u001b[1;32m    830\u001b[0m \u001b[0;34m\u001b[0m\u001b[0m\n\u001b[1;32m    831\u001b[0m       \u001b[0;32mwith\u001b[0m \u001b[0mOptionalXlaContext\u001b[0m\u001b[0;34m(\u001b[0m\u001b[0mself\u001b[0m\u001b[0;34m.\u001b[0m\u001b[0m_jit_compile\u001b[0m\u001b[0;34m)\u001b[0m\u001b[0;34m:\u001b[0m\u001b[0;34m\u001b[0m\u001b[0;34m\u001b[0m\u001b[0m\n\u001b[0;32m--> 832\u001b[0;31m         \u001b[0mresult\u001b[0m \u001b[0;34m=\u001b[0m \u001b[0mself\u001b[0m\u001b[0;34m.\u001b[0m\u001b[0m_call\u001b[0m\u001b[0;34m(\u001b[0m\u001b[0;34m*\u001b[0m\u001b[0margs\u001b[0m\u001b[0;34m,\u001b[0m \u001b[0;34m**\u001b[0m\u001b[0mkwds\u001b[0m\u001b[0;34m)\u001b[0m\u001b[0;34m\u001b[0m\u001b[0;34m\u001b[0m\u001b[0m\n\u001b[0m\u001b[1;32m    833\u001b[0m \u001b[0;34m\u001b[0m\u001b[0m\n\u001b[1;32m    834\u001b[0m       \u001b[0mnew_tracing_count\u001b[0m \u001b[0;34m=\u001b[0m \u001b[0mself\u001b[0m\u001b[0;34m.\u001b[0m\u001b[0mexperimental_get_tracing_count\u001b[0m\u001b[0;34m(\u001b[0m\u001b[0;34m)\u001b[0m\u001b[0;34m\u001b[0m\u001b[0;34m\u001b[0m\u001b[0m\n",
            "\u001b[0;32m/usr/local/lib/python3.10/dist-packages/tensorflow/python/eager/polymorphic_function/polymorphic_function.py\u001b[0m in \u001b[0;36m_call\u001b[0;34m(self, *args, **kwds)\u001b[0m\n\u001b[1;32m    866\u001b[0m       \u001b[0;31m# In this case we have created variables on the first call, so we run the\u001b[0m\u001b[0;34m\u001b[0m\u001b[0;34m\u001b[0m\u001b[0m\n\u001b[1;32m    867\u001b[0m       \u001b[0;31m# defunned version which is guaranteed to never create variables.\u001b[0m\u001b[0;34m\u001b[0m\u001b[0;34m\u001b[0m\u001b[0m\n\u001b[0;32m--> 868\u001b[0;31m       return tracing_compilation.call_function(\n\u001b[0m\u001b[1;32m    869\u001b[0m           \u001b[0margs\u001b[0m\u001b[0;34m,\u001b[0m \u001b[0mkwds\u001b[0m\u001b[0;34m,\u001b[0m \u001b[0mself\u001b[0m\u001b[0;34m.\u001b[0m\u001b[0m_no_variable_creation_config\u001b[0m\u001b[0;34m\u001b[0m\u001b[0;34m\u001b[0m\u001b[0m\n\u001b[1;32m    870\u001b[0m       )\n",
            "\u001b[0;32m/usr/local/lib/python3.10/dist-packages/tensorflow/python/eager/polymorphic_function/tracing_compilation.py\u001b[0m in \u001b[0;36mcall_function\u001b[0;34m(args, kwargs, tracing_options)\u001b[0m\n\u001b[1;32m    137\u001b[0m   \u001b[0mbound_args\u001b[0m \u001b[0;34m=\u001b[0m \u001b[0mfunction\u001b[0m\u001b[0;34m.\u001b[0m\u001b[0mfunction_type\u001b[0m\u001b[0;34m.\u001b[0m\u001b[0mbind\u001b[0m\u001b[0;34m(\u001b[0m\u001b[0;34m*\u001b[0m\u001b[0margs\u001b[0m\u001b[0;34m,\u001b[0m \u001b[0;34m**\u001b[0m\u001b[0mkwargs\u001b[0m\u001b[0;34m)\u001b[0m\u001b[0;34m\u001b[0m\u001b[0;34m\u001b[0m\u001b[0m\n\u001b[1;32m    138\u001b[0m   \u001b[0mflat_inputs\u001b[0m \u001b[0;34m=\u001b[0m \u001b[0mfunction\u001b[0m\u001b[0;34m.\u001b[0m\u001b[0mfunction_type\u001b[0m\u001b[0;34m.\u001b[0m\u001b[0munpack_inputs\u001b[0m\u001b[0;34m(\u001b[0m\u001b[0mbound_args\u001b[0m\u001b[0;34m)\u001b[0m\u001b[0;34m\u001b[0m\u001b[0;34m\u001b[0m\u001b[0m\n\u001b[0;32m--> 139\u001b[0;31m   return function._call_flat(  # pylint: disable=protected-access\n\u001b[0m\u001b[1;32m    140\u001b[0m       \u001b[0mflat_inputs\u001b[0m\u001b[0;34m,\u001b[0m \u001b[0mcaptured_inputs\u001b[0m\u001b[0;34m=\u001b[0m\u001b[0mfunction\u001b[0m\u001b[0;34m.\u001b[0m\u001b[0mcaptured_inputs\u001b[0m\u001b[0;34m\u001b[0m\u001b[0;34m\u001b[0m\u001b[0m\n\u001b[1;32m    141\u001b[0m   )\n",
            "\u001b[0;32m/usr/local/lib/python3.10/dist-packages/tensorflow/python/eager/polymorphic_function/concrete_function.py\u001b[0m in \u001b[0;36m_call_flat\u001b[0;34m(self, tensor_inputs, captured_inputs)\u001b[0m\n\u001b[1;32m   1321\u001b[0m         and executing_eagerly):\n\u001b[1;32m   1322\u001b[0m       \u001b[0;31m# No tape is watching; skip to running the function.\u001b[0m\u001b[0;34m\u001b[0m\u001b[0;34m\u001b[0m\u001b[0m\n\u001b[0;32m-> 1323\u001b[0;31m       \u001b[0;32mreturn\u001b[0m \u001b[0mself\u001b[0m\u001b[0;34m.\u001b[0m\u001b[0m_inference_function\u001b[0m\u001b[0;34m.\u001b[0m\u001b[0mcall_preflattened\u001b[0m\u001b[0;34m(\u001b[0m\u001b[0margs\u001b[0m\u001b[0;34m)\u001b[0m\u001b[0;34m\u001b[0m\u001b[0;34m\u001b[0m\u001b[0m\n\u001b[0m\u001b[1;32m   1324\u001b[0m     forward_backward = self._select_forward_and_backward_functions(\n\u001b[1;32m   1325\u001b[0m         \u001b[0margs\u001b[0m\u001b[0;34m,\u001b[0m\u001b[0;34m\u001b[0m\u001b[0;34m\u001b[0m\u001b[0m\n",
            "\u001b[0;32m/usr/local/lib/python3.10/dist-packages/tensorflow/python/eager/polymorphic_function/atomic_function.py\u001b[0m in \u001b[0;36mcall_preflattened\u001b[0;34m(self, args)\u001b[0m\n\u001b[1;32m    214\u001b[0m   \u001b[0;32mdef\u001b[0m \u001b[0mcall_preflattened\u001b[0m\u001b[0;34m(\u001b[0m\u001b[0mself\u001b[0m\u001b[0;34m,\u001b[0m \u001b[0margs\u001b[0m\u001b[0;34m:\u001b[0m \u001b[0mSequence\u001b[0m\u001b[0;34m[\u001b[0m\u001b[0mcore\u001b[0m\u001b[0;34m.\u001b[0m\u001b[0mTensor\u001b[0m\u001b[0;34m]\u001b[0m\u001b[0;34m)\u001b[0m \u001b[0;34m->\u001b[0m \u001b[0mAny\u001b[0m\u001b[0;34m:\u001b[0m\u001b[0;34m\u001b[0m\u001b[0;34m\u001b[0m\u001b[0m\n\u001b[1;32m    215\u001b[0m     \u001b[0;34m\"\"\"Calls with flattened tensor inputs and returns the structured output.\"\"\"\u001b[0m\u001b[0;34m\u001b[0m\u001b[0;34m\u001b[0m\u001b[0m\n\u001b[0;32m--> 216\u001b[0;31m     \u001b[0mflat_outputs\u001b[0m \u001b[0;34m=\u001b[0m \u001b[0mself\u001b[0m\u001b[0;34m.\u001b[0m\u001b[0mcall_flat\u001b[0m\u001b[0;34m(\u001b[0m\u001b[0;34m*\u001b[0m\u001b[0margs\u001b[0m\u001b[0;34m)\u001b[0m\u001b[0;34m\u001b[0m\u001b[0;34m\u001b[0m\u001b[0m\n\u001b[0m\u001b[1;32m    217\u001b[0m     \u001b[0;32mreturn\u001b[0m \u001b[0mself\u001b[0m\u001b[0;34m.\u001b[0m\u001b[0mfunction_type\u001b[0m\u001b[0;34m.\u001b[0m\u001b[0mpack_output\u001b[0m\u001b[0;34m(\u001b[0m\u001b[0mflat_outputs\u001b[0m\u001b[0;34m)\u001b[0m\u001b[0;34m\u001b[0m\u001b[0;34m\u001b[0m\u001b[0m\n\u001b[1;32m    218\u001b[0m \u001b[0;34m\u001b[0m\u001b[0m\n",
            "\u001b[0;32m/usr/local/lib/python3.10/dist-packages/tensorflow/python/eager/polymorphic_function/atomic_function.py\u001b[0m in \u001b[0;36mcall_flat\u001b[0;34m(self, *args)\u001b[0m\n\u001b[1;32m    249\u001b[0m         \u001b[0;32mwith\u001b[0m \u001b[0mrecord\u001b[0m\u001b[0;34m.\u001b[0m\u001b[0mstop_recording\u001b[0m\u001b[0;34m(\u001b[0m\u001b[0;34m)\u001b[0m\u001b[0;34m:\u001b[0m\u001b[0;34m\u001b[0m\u001b[0;34m\u001b[0m\u001b[0m\n\u001b[1;32m    250\u001b[0m           \u001b[0;32mif\u001b[0m \u001b[0mself\u001b[0m\u001b[0;34m.\u001b[0m\u001b[0m_bound_context\u001b[0m\u001b[0;34m.\u001b[0m\u001b[0mexecuting_eagerly\u001b[0m\u001b[0;34m(\u001b[0m\u001b[0;34m)\u001b[0m\u001b[0;34m:\u001b[0m\u001b[0;34m\u001b[0m\u001b[0;34m\u001b[0m\u001b[0m\n\u001b[0;32m--> 251\u001b[0;31m             outputs = self._bound_context.call_function(\n\u001b[0m\u001b[1;32m    252\u001b[0m                 \u001b[0mself\u001b[0m\u001b[0;34m.\u001b[0m\u001b[0mname\u001b[0m\u001b[0;34m,\u001b[0m\u001b[0;34m\u001b[0m\u001b[0;34m\u001b[0m\u001b[0m\n\u001b[1;32m    253\u001b[0m                 \u001b[0mlist\u001b[0m\u001b[0;34m(\u001b[0m\u001b[0margs\u001b[0m\u001b[0;34m)\u001b[0m\u001b[0;34m,\u001b[0m\u001b[0;34m\u001b[0m\u001b[0;34m\u001b[0m\u001b[0m\n",
            "\u001b[0;32m/usr/local/lib/python3.10/dist-packages/tensorflow/python/eager/context.py\u001b[0m in \u001b[0;36mcall_function\u001b[0;34m(self, name, tensor_inputs, num_outputs)\u001b[0m\n\u001b[1;32m   1484\u001b[0m     \u001b[0mcancellation_context\u001b[0m \u001b[0;34m=\u001b[0m \u001b[0mcancellation\u001b[0m\u001b[0;34m.\u001b[0m\u001b[0mcontext\u001b[0m\u001b[0;34m(\u001b[0m\u001b[0;34m)\u001b[0m\u001b[0;34m\u001b[0m\u001b[0;34m\u001b[0m\u001b[0m\n\u001b[1;32m   1485\u001b[0m     \u001b[0;32mif\u001b[0m \u001b[0mcancellation_context\u001b[0m \u001b[0;32mis\u001b[0m \u001b[0;32mNone\u001b[0m\u001b[0;34m:\u001b[0m\u001b[0;34m\u001b[0m\u001b[0;34m\u001b[0m\u001b[0m\n\u001b[0;32m-> 1486\u001b[0;31m       outputs = execute.execute(\n\u001b[0m\u001b[1;32m   1487\u001b[0m           \u001b[0mname\u001b[0m\u001b[0;34m.\u001b[0m\u001b[0mdecode\u001b[0m\u001b[0;34m(\u001b[0m\u001b[0;34m\"utf-8\"\u001b[0m\u001b[0;34m)\u001b[0m\u001b[0;34m,\u001b[0m\u001b[0;34m\u001b[0m\u001b[0;34m\u001b[0m\u001b[0m\n\u001b[1;32m   1488\u001b[0m           \u001b[0mnum_outputs\u001b[0m\u001b[0;34m=\u001b[0m\u001b[0mnum_outputs\u001b[0m\u001b[0;34m,\u001b[0m\u001b[0;34m\u001b[0m\u001b[0;34m\u001b[0m\u001b[0m\n",
            "\u001b[0;32m/usr/local/lib/python3.10/dist-packages/tensorflow/python/eager/execute.py\u001b[0m in \u001b[0;36mquick_execute\u001b[0;34m(op_name, num_outputs, inputs, attrs, ctx, name)\u001b[0m\n\u001b[1;32m     51\u001b[0m   \u001b[0;32mtry\u001b[0m\u001b[0;34m:\u001b[0m\u001b[0;34m\u001b[0m\u001b[0;34m\u001b[0m\u001b[0m\n\u001b[1;32m     52\u001b[0m     \u001b[0mctx\u001b[0m\u001b[0;34m.\u001b[0m\u001b[0mensure_initialized\u001b[0m\u001b[0;34m(\u001b[0m\u001b[0;34m)\u001b[0m\u001b[0;34m\u001b[0m\u001b[0;34m\u001b[0m\u001b[0m\n\u001b[0;32m---> 53\u001b[0;31m     tensors = pywrap_tfe.TFE_Py_Execute(ctx._handle, device_name, op_name,\n\u001b[0m\u001b[1;32m     54\u001b[0m                                         inputs, attrs, num_outputs)\n\u001b[1;32m     55\u001b[0m   \u001b[0;32mexcept\u001b[0m \u001b[0mcore\u001b[0m\u001b[0;34m.\u001b[0m\u001b[0m_NotOkStatusException\u001b[0m \u001b[0;32mas\u001b[0m \u001b[0me\u001b[0m\u001b[0;34m:\u001b[0m\u001b[0;34m\u001b[0m\u001b[0;34m\u001b[0m\u001b[0m\n",
            "\u001b[0;31mKeyboardInterrupt\u001b[0m: "
          ]
        }
      ]
    },
    {
      "cell_type": "code",
      "source": [
        "N_STEPS = x_train.shape[0] // BATCH_SIZE\n",
        "EPOCHS = 10\n",
        "\n",
        "lr_scheduler = ReduceLROnPlateau(\n",
        "    monitor='val_loss',\n",
        "    factor=0.1,\n",
        "    patience=2,\n",
        "    verbose=1,\n",
        "    min_lr=0.00001\n",
        ")\n",
        "\n",
        "train_history = model_fnn.fit(\n",
        "    train_dataset,\n",
        "    steps_per_epoch=N_STEPS,\n",
        "    callbacks = [lr_scheduler],\n",
        "    epochs=EPOCHS\n",
        ")"
      ],
      "metadata": {
        "colab": {
          "base_uri": "https://localhost:8080/"
        },
        "id": "xnAPahJbEMSb",
        "outputId": "89da41cc-1743-46b5-d3ac-07c588173bb8"
      },
      "execution_count": null,
      "outputs": [
        {
          "output_type": "stream",
          "name": "stdout",
          "text": [
            "Epoch 1/10\n",
            "1737/1744 [============================>.] - ETA: 0s - loss: 0.0243 - accuracy: 0.9916"
          ]
        },
        {
          "output_type": "stream",
          "name": "stderr",
          "text": [
            "WARNING:tensorflow:Learning rate reduction is conditioned on metric `val_loss` which is not available. Available metrics are: loss,accuracy,lr\n"
          ]
        },
        {
          "output_type": "stream",
          "name": "stdout",
          "text": [
            "\b\b\b\b\b\b\b\b\b\b\b\b\b\b\b\b\b\b\b\b\b\b\b\b\b\b\b\b\b\b\b\b\b\b\b\b\b\b\b\b\b\b\b\b\b\b\b\b\b\b\b\b\b\b\b\b\b\b\b\b\b\b\b\b\b\b\b\b\b\b\b\b\b\b\b\b\b\b\b\b\b\b\b\b\b\b\r1744/1744 [==============================] - 6s 4ms/step - loss: 0.0242 - accuracy: 0.9916 - lr: 0.0010\n",
            "Epoch 2/10\n",
            "1740/1744 [============================>.] - ETA: 0s - loss: 0.0237 - accuracy: 0.9914"
          ]
        },
        {
          "output_type": "stream",
          "name": "stderr",
          "text": [
            "WARNING:tensorflow:Learning rate reduction is conditioned on metric `val_loss` which is not available. Available metrics are: loss,accuracy,lr\n"
          ]
        },
        {
          "output_type": "stream",
          "name": "stdout",
          "text": [
            "\b\b\b\b\b\b\b\b\b\b\b\b\b\b\b\b\b\b\b\b\b\b\b\b\b\b\b\b\b\b\b\b\b\b\b\b\b\b\b\b\b\b\b\b\b\b\b\b\b\b\b\b\b\b\b\b\b\b\b\b\b\b\b\b\b\b\b\b\b\b\b\b\b\b\b\b\b\b\b\b\b\b\b\b\b\b\r1744/1744 [==============================] - 5s 3ms/step - loss: 0.0237 - accuracy: 0.9914 - lr: 0.0010\n",
            "Epoch 3/10\n",
            "1743/1744 [============================>.] - ETA: 0s - loss: 0.0246 - accuracy: 0.9918"
          ]
        },
        {
          "output_type": "stream",
          "name": "stderr",
          "text": [
            "WARNING:tensorflow:Learning rate reduction is conditioned on metric `val_loss` which is not available. Available metrics are: loss,accuracy,lr\n"
          ]
        },
        {
          "output_type": "stream",
          "name": "stdout",
          "text": [
            "\b\b\b\b\b\b\b\b\b\b\b\b\b\b\b\b\b\b\b\b\b\b\b\b\b\b\b\b\b\b\b\b\b\b\b\b\b\b\b\b\b\b\b\b\b\b\b\b\b\b\b\b\b\b\b\b\b\b\b\b\b\b\b\b\b\b\b\b\b\b\b\b\b\b\b\b\b\b\b\b\b\b\b\b\b\b\r1744/1744 [==============================] - 6s 3ms/step - loss: 0.0246 - accuracy: 0.9918 - lr: 0.0010\n",
            "Epoch 4/10\n",
            "1736/1744 [============================>.] - ETA: 0s - loss: 0.0224 - accuracy: 0.9925"
          ]
        },
        {
          "output_type": "stream",
          "name": "stderr",
          "text": [
            "WARNING:tensorflow:Learning rate reduction is conditioned on metric `val_loss` which is not available. Available metrics are: loss,accuracy,lr\n"
          ]
        },
        {
          "output_type": "stream",
          "name": "stdout",
          "text": [
            "\b\b\b\b\b\b\b\b\b\b\b\b\b\b\b\b\b\b\b\b\b\b\b\b\b\b\b\b\b\b\b\b\b\b\b\b\b\b\b\b\b\b\b\b\b\b\b\b\b\b\b\b\b\b\b\b\b\b\b\b\b\b\b\b\b\b\b\b\b\b\b\b\b\b\b\b\b\b\b\b\b\b\b\b\b\b\r1744/1744 [==============================] - 6s 3ms/step - loss: 0.0223 - accuracy: 0.9925 - lr: 0.0010\n",
            "Epoch 5/10\n",
            "1740/1744 [============================>.] - ETA: 0s - loss: 0.0213 - accuracy: 0.9927"
          ]
        },
        {
          "output_type": "stream",
          "name": "stderr",
          "text": [
            "WARNING:tensorflow:Learning rate reduction is conditioned on metric `val_loss` which is not available. Available metrics are: loss,accuracy,lr\n"
          ]
        },
        {
          "output_type": "stream",
          "name": "stdout",
          "text": [
            "\b\b\b\b\b\b\b\b\b\b\b\b\b\b\b\b\b\b\b\b\b\b\b\b\b\b\b\b\b\b\b\b\b\b\b\b\b\b\b\b\b\b\b\b\b\b\b\b\b\b\b\b\b\b\b\b\b\b\b\b\b\b\b\b\b\b\b\b\b\b\b\b\b\b\b\b\b\b\b\b\b\b\b\b\b\b\r1744/1744 [==============================] - 6s 3ms/step - loss: 0.0212 - accuracy: 0.9927 - lr: 0.0010\n",
            "Epoch 6/10\n",
            "1734/1744 [============================>.] - ETA: 0s - loss: 0.0220 - accuracy: 0.9924"
          ]
        },
        {
          "output_type": "stream",
          "name": "stderr",
          "text": [
            "WARNING:tensorflow:Learning rate reduction is conditioned on metric `val_loss` which is not available. Available metrics are: loss,accuracy,lr\n"
          ]
        },
        {
          "output_type": "stream",
          "name": "stdout",
          "text": [
            "\b\b\b\b\b\b\b\b\b\b\b\b\b\b\b\b\b\b\b\b\b\b\b\b\b\b\b\b\b\b\b\b\b\b\b\b\b\b\b\b\b\b\b\b\b\b\b\b\b\b\b\b\b\b\b\b\b\b\b\b\b\b\b\b\b\b\b\b\b\b\b\b\b\b\b\b\b\b\b\b\b\b\b\b\b\b\r1744/1744 [==============================] - 5s 3ms/step - loss: 0.0219 - accuracy: 0.9924 - lr: 0.0010\n",
            "Epoch 7/10\n",
            "1730/1744 [============================>.] - ETA: 0s - loss: 0.0193 - accuracy: 0.9932"
          ]
        },
        {
          "output_type": "stream",
          "name": "stderr",
          "text": [
            "WARNING:tensorflow:Learning rate reduction is conditioned on metric `val_loss` which is not available. Available metrics are: loss,accuracy,lr\n"
          ]
        },
        {
          "output_type": "stream",
          "name": "stdout",
          "text": [
            "\b\b\b\b\b\b\b\b\b\b\b\b\b\b\b\b\b\b\b\b\b\b\b\b\b\b\b\b\b\b\b\b\b\b\b\b\b\b\b\b\b\b\b\b\b\b\b\b\b\b\b\b\b\b\b\b\b\b\b\b\b\b\b\b\b\b\b\b\b\b\b\b\b\b\b\b\b\b\b\b\b\b\b\b\b\b\r1744/1744 [==============================] - 5s 3ms/step - loss: 0.0192 - accuracy: 0.9933 - lr: 0.0010\n",
            "Epoch 8/10\n",
            "1732/1744 [============================>.] - ETA: 0s - loss: 0.0147 - accuracy: 0.9949"
          ]
        },
        {
          "output_type": "stream",
          "name": "stderr",
          "text": [
            "WARNING:tensorflow:Learning rate reduction is conditioned on metric `val_loss` which is not available. Available metrics are: loss,accuracy,lr\n"
          ]
        },
        {
          "output_type": "stream",
          "name": "stdout",
          "text": [
            "\b\b\b\b\b\b\b\b\b\b\b\b\b\b\b\b\b\b\b\b\b\b\b\b\b\b\b\b\b\b\b\b\b\b\b\b\b\b\b\b\b\b\b\b\b\b\b\b\b\b\b\b\b\b\b\b\b\b\b\b\b\b\b\b\b\b\b\b\b\b\b\b\b\b\b\b\b\b\b\b\b\b\b\b\b\b\r1744/1744 [==============================] - 6s 3ms/step - loss: 0.0147 - accuracy: 0.9949 - lr: 0.0010\n",
            "Epoch 9/10\n",
            "1739/1744 [============================>.] - ETA: 0s - loss: 0.0147 - accuracy: 0.9950"
          ]
        },
        {
          "output_type": "stream",
          "name": "stderr",
          "text": [
            "WARNING:tensorflow:Learning rate reduction is conditioned on metric `val_loss` which is not available. Available metrics are: loss,accuracy,lr\n"
          ]
        },
        {
          "output_type": "stream",
          "name": "stdout",
          "text": [
            "\b\b\b\b\b\b\b\b\b\b\b\b\b\b\b\b\b\b\b\b\b\b\b\b\b\b\b\b\b\b\b\b\b\b\b\b\b\b\b\b\b\b\b\b\b\b\b\b\b\b\b\b\b\b\b\b\b\b\b\b\b\b\b\b\b\b\b\b\b\b\b\b\b\b\b\b\b\b\b\b\b\b\b\b\b\b\r1744/1744 [==============================] - 6s 3ms/step - loss: 0.0146 - accuracy: 0.9950 - lr: 0.0010\n",
            "Epoch 10/10\n",
            "1743/1744 [============================>.] - ETA: 0s - loss: 0.0175 - accuracy: 0.9940"
          ]
        },
        {
          "output_type": "stream",
          "name": "stderr",
          "text": [
            "WARNING:tensorflow:Learning rate reduction is conditioned on metric `val_loss` which is not available. Available metrics are: loss,accuracy,lr\n"
          ]
        },
        {
          "output_type": "stream",
          "name": "stdout",
          "text": [
            "\b\b\b\b\b\b\b\b\b\b\b\b\b\b\b\b\b\b\b\b\b\b\b\b\b\b\b\b\b\b\b\b\b\b\b\b\b\b\b\b\b\b\b\b\b\b\b\b\b\b\b\b\b\b\b\b\b\b\b\b\b\b\b\b\b\b\b\b\b\b\b\b\b\b\b\b\b\b\b\b\b\b\b\b\b\b\r1744/1744 [==============================] - 6s 3ms/step - loss: 0.0175 - accuracy: 0.9940 - lr: 0.0010\n"
          ]
        }
      ]
    },
    {
      "cell_type": "code",
      "source": [
        "import tensorflow as tf\n",
        "from tensorflow.keras.models import Model\n",
        "from tensorflow.keras.layers import Input, Flatten, Dense\n",
        "from tensorflow.keras.optimizers import Adam\n",
        "\n",
        "def build_fnn_model(input_shape):\n",
        "    input_layer = Input(shape=input_shape, dtype=tf.float64, name=\"input\")\n",
        "    flat = Flatten()(input_layer)\n",
        "\n",
        "    conc = Dense(128, activation='relu')(flat)\n",
        "    output = Dense(1, activation='sigmoid')(conc)\n",
        "\n",
        "    model = Model(inputs=input_layer, outputs=output)\n",
        "    model.compile(optimizer='Adam',\n",
        "                  loss='binary_crossentropy',\n",
        "                  metrics=['accuracy'])\n",
        "\n",
        "    return model\n",
        "\n",
        "from tensorflow.keras.callbacks import EarlyStopping\n",
        "import tensorflow as tf\n",
        "from tensorflow.keras.callbacks import EarlyStopping, ReduceLROnPlateau\n",
        "\n",
        "early_stopping = EarlyStopping(\n",
        "    monitor='val_loss',\n",
        "    patience=10,\n",
        "    verbose=1,\n",
        "    restore_best_weights=True\n",
        ")\n",
        "\n",
        "reduce_lr = ReduceLROnPlateau(\n",
        "    monitor='val_loss',\n",
        "    factor=0.2,\n",
        "    patience=5,\n",
        "    verbose=1,\n",
        "    min_lr=0.001\n",
        ")\n",
        "\n",
        "model = build_fnn_model((100, 50))\n",
        "\n",
        "history = model.fit(\n",
        "    train_dataset,\n",
        "    validation_data=valid_dataset,\n",
        "    epochs=10,\n",
        "    steps_per_epoch=N_STEPS,\n",
        "    callbacks=[early_stopping, reduce_lr]\n",
        ")"
      ],
      "metadata": {
        "colab": {
          "base_uri": "https://localhost:8080/"
        },
        "id": "iWwZ3P5__ThM",
        "outputId": "dd79c196-9cea-41bc-cdf9-abb2248c6082"
      },
      "execution_count": null,
      "outputs": [
        {
          "output_type": "stream",
          "name": "stdout",
          "text": [
            "Epoch 1/10\n",
            "1744/1744 [==============================] - 8s 4ms/step - loss: 0.4058 - accuracy: 0.8200 - val_loss: 0.3546 - val_accuracy: 0.8457 - lr: 0.0010\n",
            "Epoch 2/10\n",
            "1744/1744 [==============================] - 7s 4ms/step - loss: 0.2800 - accuracy: 0.8829 - val_loss: 0.3301 - val_accuracy: 0.8687 - lr: 0.0010\n",
            "Epoch 3/10\n",
            "1744/1744 [==============================] - 7s 4ms/step - loss: 0.2035 - accuracy: 0.9182 - val_loss: 0.3453 - val_accuracy: 0.8658 - lr: 0.0010\n",
            "Epoch 4/10\n",
            "1744/1744 [==============================] - 7s 4ms/step - loss: 0.1404 - accuracy: 0.9459 - val_loss: 0.4118 - val_accuracy: 0.8655 - lr: 0.0010\n",
            "Epoch 5/10\n",
            "1744/1744 [==============================] - 6s 4ms/step - loss: 0.0947 - accuracy: 0.9643 - val_loss: 0.4438 - val_accuracy: 0.8685 - lr: 0.0010\n",
            "Epoch 6/10\n",
            "1744/1744 [==============================] - 7s 4ms/step - loss: 0.0643 - accuracy: 0.9768 - val_loss: 0.5231 - val_accuracy: 0.8696 - lr: 0.0010\n",
            "Epoch 7/10\n",
            "1744/1744 [==============================] - 8s 4ms/step - loss: 0.0521 - accuracy: 0.9816 - val_loss: 0.6121 - val_accuracy: 0.8650 - lr: 0.0010\n",
            "Epoch 8/10\n",
            "1744/1744 [==============================] - 7s 4ms/step - loss: 0.0374 - accuracy: 0.9868 - val_loss: 0.6762 - val_accuracy: 0.8690 - lr: 0.0010\n",
            "Epoch 9/10\n",
            "1744/1744 [==============================] - 7s 4ms/step - loss: 0.0327 - accuracy: 0.9884 - val_loss: 0.6435 - val_accuracy: 0.8693 - lr: 0.0010\n",
            "Epoch 10/10\n",
            "1744/1744 [==============================] - 8s 4ms/step - loss: 0.0281 - accuracy: 0.9903 - val_loss: 0.7281 - val_accuracy: 0.8696 - lr: 0.0010\n"
          ]
        }
      ]
    },
    {
      "cell_type": "markdown",
      "source": [
        "### Hyperparameter Tuning"
      ],
      "metadata": {
        "id": "oRV_j-hJ89Ab"
      }
    },
    {
      "cell_type": "code",
      "source": [
        "pip install keras-tuner"
      ],
      "metadata": {
        "colab": {
          "base_uri": "https://localhost:8080/"
        },
        "id": "tcUNtOHR9D8L",
        "outputId": "c3a9d369-7548-4dd2-9189-6f8dad9e6d0c"
      },
      "execution_count": null,
      "outputs": [
        {
          "output_type": "stream",
          "name": "stdout",
          "text": [
            "Collecting keras-tuner\n",
            "  Downloading keras_tuner-1.4.7-py3-none-any.whl (129 kB)\n",
            "\u001b[?25l     \u001b[90m━━━━━━━━━━━━━━━━━━━━━━━━━━━━━━━━━━━━━━━━\u001b[0m \u001b[32m0.0/129.1 kB\u001b[0m \u001b[31m?\u001b[0m eta \u001b[36m-:--:--\u001b[0m\r\u001b[2K     \u001b[90m━━━━━━━━━━━━━━━━━━━━━━━━━━━━━━━━━━━━━━━━\u001b[0m \u001b[32m129.1/129.1 kB\u001b[0m \u001b[31m4.6 MB/s\u001b[0m eta \u001b[36m0:00:00\u001b[0m\n",
            "\u001b[?25hRequirement already satisfied: keras in /usr/local/lib/python3.10/dist-packages (from keras-tuner) (2.15.0)\n",
            "Requirement already satisfied: packaging in /usr/local/lib/python3.10/dist-packages (from keras-tuner) (24.0)\n",
            "Requirement already satisfied: requests in /usr/local/lib/python3.10/dist-packages (from keras-tuner) (2.31.0)\n",
            "Collecting kt-legacy (from keras-tuner)\n",
            "  Downloading kt_legacy-1.0.5-py3-none-any.whl (9.6 kB)\n",
            "Requirement already satisfied: charset-normalizer<4,>=2 in /usr/local/lib/python3.10/dist-packages (from requests->keras-tuner) (3.3.2)\n",
            "Requirement already satisfied: idna<4,>=2.5 in /usr/local/lib/python3.10/dist-packages (from requests->keras-tuner) (2.10)\n",
            "Requirement already satisfied: urllib3<3,>=1.21.1 in /usr/local/lib/python3.10/dist-packages (from requests->keras-tuner) (2.0.7)\n",
            "Requirement already satisfied: certifi>=2017.4.17 in /usr/local/lib/python3.10/dist-packages (from requests->keras-tuner) (2024.2.2)\n",
            "Installing collected packages: kt-legacy, keras-tuner\n",
            "Successfully installed keras-tuner-1.4.7 kt-legacy-1.0.5\n"
          ]
        }
      ]
    },
    {
      "cell_type": "code",
      "source": [
        "import tensorflow as tf\n",
        "from kerastuner import HyperModel\n",
        "from tensorflow.keras.layers import Input, Flatten, Dense\n",
        "from tensorflow.keras.models import Model\n",
        "\n",
        "class MyHyperModel(HyperModel):\n",
        "    def __init__(self, input_shape, total_samples, batch_size):\n",
        "        self.input_shape = input_shape\n",
        "        self.steps_per_epoch = total_samples // batch_size\n",
        "\n",
        "    def build(self, hp):\n",
        "        input_layer = Input(shape=self.input_shape)\n",
        "        flat = Flatten()(input_layer)\n",
        "        dense = Dense(\n",
        "            units=hp.Int('units', min_value=32, max_value=256, step=32),\n",
        "            activation=hp.Choice('activation', values=['relu', 'tanh', 'sigmoid'])\n",
        "        )(flat)\n",
        "        output = Dense(1, activation='sigmoid')(dense)\n",
        "        model = Model(inputs=input_layer, outputs=output)\n",
        "\n",
        "        optimizer = hp.Choice('optimizer', ['adam', 'sgd', 'rmsprop'])\n",
        "        model.compile(\n",
        "            optimizer=optimizer,\n",
        "            loss='binary_crossentropy',\n",
        "            metrics=['accuracy']\n",
        "        )\n",
        "        return model\n",
        "\n",
        "    def fit(self, hp, model, *args, **kwargs):\n",
        "        kwargs['steps_per_epoch'] = self.steps_per_epoch\n",
        "        return model.fit(*args, **kwargs)\n",
        "\n",
        "total_samples = 1000\n",
        "batch_size = 32\n",
        "hypermodel = MyHyperModel(input_shape=(100, 50), total_samples=total_samples, batch_size=batch_size)\n",
        "\n",
        "from kerastuner.tuners import Hyperband\n",
        "\n",
        "tuner = Hyperband(\n",
        "    hypermodel,\n",
        "    objective='val_accuracy',\n",
        "    max_epochs=10,\n",
        "    hyperband_iterations=2,\n",
        "    directory='my_dir',\n",
        "    project_name='hyperparam_tuning'\n",
        ")\n",
        "\n",
        "tuner.search(train_dataset, validation_data=valid_dataset, epochs=10)"
      ],
      "metadata": {
        "colab": {
          "base_uri": "https://localhost:8080/",
          "height": 1018
        },
        "id": "Rl9wY80M9Gxu",
        "outputId": "5f6eabe3-ed5d-47f8-8466-17a43e48d68b"
      },
      "execution_count": null,
      "outputs": [
        {
          "output_type": "stream",
          "name": "stdout",
          "text": [
            "Trial 156 Complete [00h 00m 14s]\n",
            "val_accuracy: 0.8040406107902527\n",
            "\n",
            "Best val_accuracy So Far: 0.8438557982444763\n",
            "Total elapsed time: 00h 27m 27s\n",
            "\n",
            "Search: Running Trial #157\n",
            "\n",
            "Value             |Best Value So Far |Hyperparameter\n",
            "64                |160               |units\n",
            "relu              |relu              |activation\n",
            "rmsprop           |rmsprop           |optimizer\n",
            "0.0039729         |0.0051101         |initial_lr\n",
            "0.0021849         |0.008402          |lr\n",
            "40                |40                |tuner/epochs\n",
            "14                |14                |tuner/initial_epoch\n",
            "2                 |1                 |tuner/bracket\n",
            "2                 |1                 |tuner/round\n",
            "0155              |0070              |tuner/trial_id\n",
            "\n",
            "Epoch 15/40\n",
            "31/31 [==============================] - 2s 49ms/step - loss: 0.3211 - accuracy: 0.8508 - val_loss: 0.4476 - val_accuracy: 0.8051\n",
            "Epoch 16/40\n",
            "31/31 [==============================] - 1s 43ms/step - loss: 0.3498 - accuracy: 0.8478 - val_loss: 0.4864 - val_accuracy: 0.7745\n",
            "Epoch 17/40\n",
            "31/31 [==============================] - 1s 43ms/step - loss: 0.3600 - accuracy: 0.8518 - val_loss: 0.7123 - val_accuracy: 0.7053\n",
            "Epoch 18/40\n",
            "31/31 [==============================] - 1s 44ms/step - loss: 0.3464 - accuracy: 0.8448 - val_loss: 0.4969 - val_accuracy: 0.7776\n",
            "Epoch 19/40\n",
            "31/31 [==============================] - 1s 44ms/step - loss: 0.3281 - accuracy: 0.8488 - val_loss: 0.5619 - val_accuracy: 0.7618\n",
            "Epoch 20/40\n",
            "31/31 [==============================] - 1s 43ms/step - loss: 0.3502 - accuracy: 0.8488 - val_loss: 0.5992 - val_accuracy: 0.7333\n",
            "Epoch 21/40\n",
            "31/31 [==============================] - 1s 45ms/step - loss: 0.3618 - accuracy: 0.8569 - val_loss: 0.5115 - val_accuracy: 0.7745\n",
            "Epoch 22/40\n",
            "31/31 [==============================] - 1s 45ms/step - loss: 0.4088 - accuracy: 0.8165 - val_loss: 0.4422 - val_accuracy: 0.8055\n",
            "Epoch 23/40\n",
            "18/31 [================>.............] - ETA: 0s - loss: 0.4058 - accuracy: 0.8281"
          ]
        },
        {
          "output_type": "error",
          "ename": "KeyboardInterrupt",
          "evalue": "",
          "traceback": [
            "\u001b[0;31m---------------------------------------------------------------------------\u001b[0m",
            "\u001b[0;31mKeyboardInterrupt\u001b[0m                         Traceback (most recent call last)",
            "\u001b[0;32m<ipython-input-70-3b78e1c1829e>\u001b[0m in \u001b[0;36m<cell line: 52>\u001b[0;34m()\u001b[0m\n\u001b[1;32m     50\u001b[0m \u001b[0;34m\u001b[0m\u001b[0m\n\u001b[1;32m     51\u001b[0m \u001b[0;31m# Assuming valid_dataset is defined properly\u001b[0m\u001b[0;34m\u001b[0m\u001b[0;34m\u001b[0m\u001b[0m\n\u001b[0;32m---> 52\u001b[0;31m \u001b[0mtuner\u001b[0m\u001b[0;34m.\u001b[0m\u001b[0msearch\u001b[0m\u001b[0;34m(\u001b[0m\u001b[0mtrain_dataset\u001b[0m\u001b[0;34m,\u001b[0m \u001b[0mvalidation_data\u001b[0m\u001b[0;34m=\u001b[0m\u001b[0mvalid_dataset\u001b[0m\u001b[0;34m,\u001b[0m \u001b[0mepochs\u001b[0m\u001b[0;34m=\u001b[0m\u001b[0;36m10\u001b[0m\u001b[0;34m)\u001b[0m\u001b[0;34m\u001b[0m\u001b[0;34m\u001b[0m\u001b[0m\n\u001b[0m",
            "\u001b[0;32m/usr/local/lib/python3.10/dist-packages/keras_tuner/src/engine/base_tuner.py\u001b[0m in \u001b[0;36msearch\u001b[0;34m(self, *fit_args, **fit_kwargs)\u001b[0m\n\u001b[1;32m    232\u001b[0m \u001b[0;34m\u001b[0m\u001b[0m\n\u001b[1;32m    233\u001b[0m             \u001b[0mself\u001b[0m\u001b[0;34m.\u001b[0m\u001b[0mon_trial_begin\u001b[0m\u001b[0;34m(\u001b[0m\u001b[0mtrial\u001b[0m\u001b[0;34m)\u001b[0m\u001b[0;34m\u001b[0m\u001b[0;34m\u001b[0m\u001b[0m\n\u001b[0;32m--> 234\u001b[0;31m             \u001b[0mself\u001b[0m\u001b[0;34m.\u001b[0m\u001b[0m_try_run_and_update_trial\u001b[0m\u001b[0;34m(\u001b[0m\u001b[0mtrial\u001b[0m\u001b[0;34m,\u001b[0m \u001b[0;34m*\u001b[0m\u001b[0mfit_args\u001b[0m\u001b[0;34m,\u001b[0m \u001b[0;34m**\u001b[0m\u001b[0mfit_kwargs\u001b[0m\u001b[0;34m)\u001b[0m\u001b[0;34m\u001b[0m\u001b[0;34m\u001b[0m\u001b[0m\n\u001b[0m\u001b[1;32m    235\u001b[0m             \u001b[0mself\u001b[0m\u001b[0;34m.\u001b[0m\u001b[0mon_trial_end\u001b[0m\u001b[0;34m(\u001b[0m\u001b[0mtrial\u001b[0m\u001b[0;34m)\u001b[0m\u001b[0;34m\u001b[0m\u001b[0;34m\u001b[0m\u001b[0m\n\u001b[1;32m    236\u001b[0m         \u001b[0mself\u001b[0m\u001b[0;34m.\u001b[0m\u001b[0mon_search_end\u001b[0m\u001b[0;34m(\u001b[0m\u001b[0;34m)\u001b[0m\u001b[0;34m\u001b[0m\u001b[0;34m\u001b[0m\u001b[0m\n",
            "\u001b[0;32m/usr/local/lib/python3.10/dist-packages/keras_tuner/src/engine/base_tuner.py\u001b[0m in \u001b[0;36m_try_run_and_update_trial\u001b[0;34m(self, trial, *fit_args, **fit_kwargs)\u001b[0m\n\u001b[1;32m    272\u001b[0m     \u001b[0;32mdef\u001b[0m \u001b[0m_try_run_and_update_trial\u001b[0m\u001b[0;34m(\u001b[0m\u001b[0mself\u001b[0m\u001b[0;34m,\u001b[0m \u001b[0mtrial\u001b[0m\u001b[0;34m,\u001b[0m \u001b[0;34m*\u001b[0m\u001b[0mfit_args\u001b[0m\u001b[0;34m,\u001b[0m \u001b[0;34m**\u001b[0m\u001b[0mfit_kwargs\u001b[0m\u001b[0;34m)\u001b[0m\u001b[0;34m:\u001b[0m\u001b[0;34m\u001b[0m\u001b[0;34m\u001b[0m\u001b[0m\n\u001b[1;32m    273\u001b[0m         \u001b[0;32mtry\u001b[0m\u001b[0;34m:\u001b[0m\u001b[0;34m\u001b[0m\u001b[0;34m\u001b[0m\u001b[0m\n\u001b[0;32m--> 274\u001b[0;31m             \u001b[0mself\u001b[0m\u001b[0;34m.\u001b[0m\u001b[0m_run_and_update_trial\u001b[0m\u001b[0;34m(\u001b[0m\u001b[0mtrial\u001b[0m\u001b[0;34m,\u001b[0m \u001b[0;34m*\u001b[0m\u001b[0mfit_args\u001b[0m\u001b[0;34m,\u001b[0m \u001b[0;34m**\u001b[0m\u001b[0mfit_kwargs\u001b[0m\u001b[0;34m)\u001b[0m\u001b[0;34m\u001b[0m\u001b[0;34m\u001b[0m\u001b[0m\n\u001b[0m\u001b[1;32m    275\u001b[0m             \u001b[0mtrial\u001b[0m\u001b[0;34m.\u001b[0m\u001b[0mstatus\u001b[0m \u001b[0;34m=\u001b[0m \u001b[0mtrial_module\u001b[0m\u001b[0;34m.\u001b[0m\u001b[0mTrialStatus\u001b[0m\u001b[0;34m.\u001b[0m\u001b[0mCOMPLETED\u001b[0m\u001b[0;34m\u001b[0m\u001b[0;34m\u001b[0m\u001b[0m\n\u001b[1;32m    276\u001b[0m             \u001b[0;32mreturn\u001b[0m\u001b[0;34m\u001b[0m\u001b[0;34m\u001b[0m\u001b[0m\n",
            "\u001b[0;32m/usr/local/lib/python3.10/dist-packages/keras_tuner/src/engine/base_tuner.py\u001b[0m in \u001b[0;36m_run_and_update_trial\u001b[0;34m(self, trial, *fit_args, **fit_kwargs)\u001b[0m\n\u001b[1;32m    237\u001b[0m \u001b[0;34m\u001b[0m\u001b[0m\n\u001b[1;32m    238\u001b[0m     \u001b[0;32mdef\u001b[0m \u001b[0m_run_and_update_trial\u001b[0m\u001b[0;34m(\u001b[0m\u001b[0mself\u001b[0m\u001b[0;34m,\u001b[0m \u001b[0mtrial\u001b[0m\u001b[0;34m,\u001b[0m \u001b[0;34m*\u001b[0m\u001b[0mfit_args\u001b[0m\u001b[0;34m,\u001b[0m \u001b[0;34m**\u001b[0m\u001b[0mfit_kwargs\u001b[0m\u001b[0;34m)\u001b[0m\u001b[0;34m:\u001b[0m\u001b[0;34m\u001b[0m\u001b[0;34m\u001b[0m\u001b[0m\n\u001b[0;32m--> 239\u001b[0;31m         \u001b[0mresults\u001b[0m \u001b[0;34m=\u001b[0m \u001b[0mself\u001b[0m\u001b[0;34m.\u001b[0m\u001b[0mrun_trial\u001b[0m\u001b[0;34m(\u001b[0m\u001b[0mtrial\u001b[0m\u001b[0;34m,\u001b[0m \u001b[0;34m*\u001b[0m\u001b[0mfit_args\u001b[0m\u001b[0;34m,\u001b[0m \u001b[0;34m**\u001b[0m\u001b[0mfit_kwargs\u001b[0m\u001b[0;34m)\u001b[0m\u001b[0;34m\u001b[0m\u001b[0;34m\u001b[0m\u001b[0m\n\u001b[0m\u001b[1;32m    240\u001b[0m         if self.oracle.get_trial(trial.trial_id).metrics.exists(\n\u001b[1;32m    241\u001b[0m             \u001b[0mself\u001b[0m\u001b[0;34m.\u001b[0m\u001b[0moracle\u001b[0m\u001b[0;34m.\u001b[0m\u001b[0mobjective\u001b[0m\u001b[0;34m.\u001b[0m\u001b[0mname\u001b[0m\u001b[0;34m\u001b[0m\u001b[0;34m\u001b[0m\u001b[0m\n",
            "\u001b[0;32m/usr/local/lib/python3.10/dist-packages/keras_tuner/src/tuners/hyperband.py\u001b[0m in \u001b[0;36mrun_trial\u001b[0;34m(self, trial, *fit_args, **fit_kwargs)\u001b[0m\n\u001b[1;32m    425\u001b[0m             \u001b[0mfit_kwargs\u001b[0m\u001b[0;34m[\u001b[0m\u001b[0;34m\"epochs\"\u001b[0m\u001b[0;34m]\u001b[0m \u001b[0;34m=\u001b[0m \u001b[0mhp\u001b[0m\u001b[0;34m.\u001b[0m\u001b[0mvalues\u001b[0m\u001b[0;34m[\u001b[0m\u001b[0;34m\"tuner/epochs\"\u001b[0m\u001b[0;34m]\u001b[0m\u001b[0;34m\u001b[0m\u001b[0;34m\u001b[0m\u001b[0m\n\u001b[1;32m    426\u001b[0m             \u001b[0mfit_kwargs\u001b[0m\u001b[0;34m[\u001b[0m\u001b[0;34m\"initial_epoch\"\u001b[0m\u001b[0;34m]\u001b[0m \u001b[0;34m=\u001b[0m \u001b[0mhp\u001b[0m\u001b[0;34m.\u001b[0m\u001b[0mvalues\u001b[0m\u001b[0;34m[\u001b[0m\u001b[0;34m\"tuner/initial_epoch\"\u001b[0m\u001b[0;34m]\u001b[0m\u001b[0;34m\u001b[0m\u001b[0;34m\u001b[0m\u001b[0m\n\u001b[0;32m--> 427\u001b[0;31m         \u001b[0;32mreturn\u001b[0m \u001b[0msuper\u001b[0m\u001b[0;34m(\u001b[0m\u001b[0;34m)\u001b[0m\u001b[0;34m.\u001b[0m\u001b[0mrun_trial\u001b[0m\u001b[0;34m(\u001b[0m\u001b[0mtrial\u001b[0m\u001b[0;34m,\u001b[0m \u001b[0;34m*\u001b[0m\u001b[0mfit_args\u001b[0m\u001b[0;34m,\u001b[0m \u001b[0;34m**\u001b[0m\u001b[0mfit_kwargs\u001b[0m\u001b[0;34m)\u001b[0m\u001b[0;34m\u001b[0m\u001b[0;34m\u001b[0m\u001b[0m\n\u001b[0m\u001b[1;32m    428\u001b[0m \u001b[0;34m\u001b[0m\u001b[0m\n\u001b[1;32m    429\u001b[0m     \u001b[0;32mdef\u001b[0m \u001b[0m_build_hypermodel\u001b[0m\u001b[0;34m(\u001b[0m\u001b[0mself\u001b[0m\u001b[0;34m,\u001b[0m \u001b[0mhp\u001b[0m\u001b[0;34m)\u001b[0m\u001b[0;34m:\u001b[0m\u001b[0;34m\u001b[0m\u001b[0;34m\u001b[0m\u001b[0m\n",
            "\u001b[0;32m/usr/local/lib/python3.10/dist-packages/keras_tuner/src/engine/tuner.py\u001b[0m in \u001b[0;36mrun_trial\u001b[0;34m(self, trial, *args, **kwargs)\u001b[0m\n\u001b[1;32m    312\u001b[0m             \u001b[0mcallbacks\u001b[0m\u001b[0;34m.\u001b[0m\u001b[0mappend\u001b[0m\u001b[0;34m(\u001b[0m\u001b[0mmodel_checkpoint\u001b[0m\u001b[0;34m)\u001b[0m\u001b[0;34m\u001b[0m\u001b[0;34m\u001b[0m\u001b[0m\n\u001b[1;32m    313\u001b[0m             \u001b[0mcopied_kwargs\u001b[0m\u001b[0;34m[\u001b[0m\u001b[0;34m\"callbacks\"\u001b[0m\u001b[0;34m]\u001b[0m \u001b[0;34m=\u001b[0m \u001b[0mcallbacks\u001b[0m\u001b[0;34m\u001b[0m\u001b[0;34m\u001b[0m\u001b[0m\n\u001b[0;32m--> 314\u001b[0;31m             \u001b[0mobj_value\u001b[0m \u001b[0;34m=\u001b[0m \u001b[0mself\u001b[0m\u001b[0;34m.\u001b[0m\u001b[0m_build_and_fit_model\u001b[0m\u001b[0;34m(\u001b[0m\u001b[0mtrial\u001b[0m\u001b[0;34m,\u001b[0m \u001b[0;34m*\u001b[0m\u001b[0margs\u001b[0m\u001b[0;34m,\u001b[0m \u001b[0;34m**\u001b[0m\u001b[0mcopied_kwargs\u001b[0m\u001b[0;34m)\u001b[0m\u001b[0;34m\u001b[0m\u001b[0;34m\u001b[0m\u001b[0m\n\u001b[0m\u001b[1;32m    315\u001b[0m \u001b[0;34m\u001b[0m\u001b[0m\n\u001b[1;32m    316\u001b[0m             \u001b[0mhistories\u001b[0m\u001b[0;34m.\u001b[0m\u001b[0mappend\u001b[0m\u001b[0;34m(\u001b[0m\u001b[0mobj_value\u001b[0m\u001b[0;34m)\u001b[0m\u001b[0;34m\u001b[0m\u001b[0;34m\u001b[0m\u001b[0m\n",
            "\u001b[0;32m/usr/local/lib/python3.10/dist-packages/keras_tuner/src/engine/tuner.py\u001b[0m in \u001b[0;36m_build_and_fit_model\u001b[0;34m(self, trial, *args, **kwargs)\u001b[0m\n\u001b[1;32m    231\u001b[0m         \u001b[0mhp\u001b[0m \u001b[0;34m=\u001b[0m \u001b[0mtrial\u001b[0m\u001b[0;34m.\u001b[0m\u001b[0mhyperparameters\u001b[0m\u001b[0;34m\u001b[0m\u001b[0;34m\u001b[0m\u001b[0m\n\u001b[1;32m    232\u001b[0m         \u001b[0mmodel\u001b[0m \u001b[0;34m=\u001b[0m \u001b[0mself\u001b[0m\u001b[0;34m.\u001b[0m\u001b[0m_try_build\u001b[0m\u001b[0;34m(\u001b[0m\u001b[0mhp\u001b[0m\u001b[0;34m)\u001b[0m\u001b[0;34m\u001b[0m\u001b[0;34m\u001b[0m\u001b[0m\n\u001b[0;32m--> 233\u001b[0;31m         \u001b[0mresults\u001b[0m \u001b[0;34m=\u001b[0m \u001b[0mself\u001b[0m\u001b[0;34m.\u001b[0m\u001b[0mhypermodel\u001b[0m\u001b[0;34m.\u001b[0m\u001b[0mfit\u001b[0m\u001b[0;34m(\u001b[0m\u001b[0mhp\u001b[0m\u001b[0;34m,\u001b[0m \u001b[0mmodel\u001b[0m\u001b[0;34m,\u001b[0m \u001b[0;34m*\u001b[0m\u001b[0margs\u001b[0m\u001b[0;34m,\u001b[0m \u001b[0;34m**\u001b[0m\u001b[0mkwargs\u001b[0m\u001b[0;34m)\u001b[0m\u001b[0;34m\u001b[0m\u001b[0;34m\u001b[0m\u001b[0m\n\u001b[0m\u001b[1;32m    234\u001b[0m \u001b[0;34m\u001b[0m\u001b[0m\n\u001b[1;32m    235\u001b[0m         \u001b[0;31m# Save the build config for model loading later.\u001b[0m\u001b[0;34m\u001b[0m\u001b[0;34m\u001b[0m\u001b[0m\n",
            "\u001b[0;32m<ipython-input-70-3b78e1c1829e>\u001b[0m in \u001b[0;36mfit\u001b[0;34m(self, hp, model, *args, **kwargs)\u001b[0m\n\u001b[1;32m     30\u001b[0m         \u001b[0;31m# Ensure steps_per_epoch is set for infinite datasets\u001b[0m\u001b[0;34m\u001b[0m\u001b[0;34m\u001b[0m\u001b[0m\n\u001b[1;32m     31\u001b[0m         \u001b[0mkwargs\u001b[0m\u001b[0;34m[\u001b[0m\u001b[0;34m'steps_per_epoch'\u001b[0m\u001b[0;34m]\u001b[0m \u001b[0;34m=\u001b[0m \u001b[0mself\u001b[0m\u001b[0;34m.\u001b[0m\u001b[0msteps_per_epoch\u001b[0m\u001b[0;34m\u001b[0m\u001b[0;34m\u001b[0m\u001b[0m\n\u001b[0;32m---> 32\u001b[0;31m         \u001b[0;32mreturn\u001b[0m \u001b[0mmodel\u001b[0m\u001b[0;34m.\u001b[0m\u001b[0mfit\u001b[0m\u001b[0;34m(\u001b[0m\u001b[0;34m*\u001b[0m\u001b[0margs\u001b[0m\u001b[0;34m,\u001b[0m \u001b[0;34m**\u001b[0m\u001b[0mkwargs\u001b[0m\u001b[0;34m)\u001b[0m\u001b[0;34m\u001b[0m\u001b[0;34m\u001b[0m\u001b[0m\n\u001b[0m\u001b[1;32m     33\u001b[0m \u001b[0;34m\u001b[0m\u001b[0m\n\u001b[1;32m     34\u001b[0m \u001b[0;31m# Setup your HyperModel\u001b[0m\u001b[0;34m\u001b[0m\u001b[0;34m\u001b[0m\u001b[0m\n",
            "\u001b[0;32m/usr/local/lib/python3.10/dist-packages/keras/src/utils/traceback_utils.py\u001b[0m in \u001b[0;36merror_handler\u001b[0;34m(*args, **kwargs)\u001b[0m\n\u001b[1;32m     63\u001b[0m         \u001b[0mfiltered_tb\u001b[0m \u001b[0;34m=\u001b[0m \u001b[0;32mNone\u001b[0m\u001b[0;34m\u001b[0m\u001b[0;34m\u001b[0m\u001b[0m\n\u001b[1;32m     64\u001b[0m         \u001b[0;32mtry\u001b[0m\u001b[0;34m:\u001b[0m\u001b[0;34m\u001b[0m\u001b[0;34m\u001b[0m\u001b[0m\n\u001b[0;32m---> 65\u001b[0;31m             \u001b[0;32mreturn\u001b[0m \u001b[0mfn\u001b[0m\u001b[0;34m(\u001b[0m\u001b[0;34m*\u001b[0m\u001b[0margs\u001b[0m\u001b[0;34m,\u001b[0m \u001b[0;34m**\u001b[0m\u001b[0mkwargs\u001b[0m\u001b[0;34m)\u001b[0m\u001b[0;34m\u001b[0m\u001b[0;34m\u001b[0m\u001b[0m\n\u001b[0m\u001b[1;32m     66\u001b[0m         \u001b[0;32mexcept\u001b[0m \u001b[0mException\u001b[0m \u001b[0;32mas\u001b[0m \u001b[0me\u001b[0m\u001b[0;34m:\u001b[0m\u001b[0;34m\u001b[0m\u001b[0;34m\u001b[0m\u001b[0m\n\u001b[1;32m     67\u001b[0m             \u001b[0mfiltered_tb\u001b[0m \u001b[0;34m=\u001b[0m \u001b[0m_process_traceback_frames\u001b[0m\u001b[0;34m(\u001b[0m\u001b[0me\u001b[0m\u001b[0;34m.\u001b[0m\u001b[0m__traceback__\u001b[0m\u001b[0;34m)\u001b[0m\u001b[0;34m\u001b[0m\u001b[0;34m\u001b[0m\u001b[0m\n",
            "\u001b[0;32m/usr/local/lib/python3.10/dist-packages/keras/src/engine/training.py\u001b[0m in \u001b[0;36mfit\u001b[0;34m(self, x, y, batch_size, epochs, verbose, callbacks, validation_split, validation_data, shuffle, class_weight, sample_weight, initial_epoch, steps_per_epoch, validation_steps, validation_batch_size, validation_freq, max_queue_size, workers, use_multiprocessing)\u001b[0m\n\u001b[1;32m   1854\u001b[0m                             \u001b[0mpss_evaluation_shards\u001b[0m\u001b[0;34m=\u001b[0m\u001b[0mself\u001b[0m\u001b[0;34m.\u001b[0m\u001b[0m_pss_evaluation_shards\u001b[0m\u001b[0;34m,\u001b[0m\u001b[0;34m\u001b[0m\u001b[0;34m\u001b[0m\u001b[0m\n\u001b[1;32m   1855\u001b[0m                         )\n\u001b[0;32m-> 1856\u001b[0;31m                     val_logs = self.evaluate(\n\u001b[0m\u001b[1;32m   1857\u001b[0m                         \u001b[0mx\u001b[0m\u001b[0;34m=\u001b[0m\u001b[0mval_x\u001b[0m\u001b[0;34m,\u001b[0m\u001b[0;34m\u001b[0m\u001b[0;34m\u001b[0m\u001b[0m\n\u001b[1;32m   1858\u001b[0m                         \u001b[0my\u001b[0m\u001b[0;34m=\u001b[0m\u001b[0mval_y\u001b[0m\u001b[0;34m,\u001b[0m\u001b[0;34m\u001b[0m\u001b[0;34m\u001b[0m\u001b[0m\n",
            "\u001b[0;32m/usr/local/lib/python3.10/dist-packages/keras/src/utils/traceback_utils.py\u001b[0m in \u001b[0;36merror_handler\u001b[0;34m(*args, **kwargs)\u001b[0m\n\u001b[1;32m     63\u001b[0m         \u001b[0mfiltered_tb\u001b[0m \u001b[0;34m=\u001b[0m \u001b[0;32mNone\u001b[0m\u001b[0;34m\u001b[0m\u001b[0;34m\u001b[0m\u001b[0m\n\u001b[1;32m     64\u001b[0m         \u001b[0;32mtry\u001b[0m\u001b[0;34m:\u001b[0m\u001b[0;34m\u001b[0m\u001b[0;34m\u001b[0m\u001b[0m\n\u001b[0;32m---> 65\u001b[0;31m             \u001b[0;32mreturn\u001b[0m \u001b[0mfn\u001b[0m\u001b[0;34m(\u001b[0m\u001b[0;34m*\u001b[0m\u001b[0margs\u001b[0m\u001b[0;34m,\u001b[0m \u001b[0;34m**\u001b[0m\u001b[0mkwargs\u001b[0m\u001b[0;34m)\u001b[0m\u001b[0;34m\u001b[0m\u001b[0;34m\u001b[0m\u001b[0m\n\u001b[0m\u001b[1;32m     66\u001b[0m         \u001b[0;32mexcept\u001b[0m \u001b[0mException\u001b[0m \u001b[0;32mas\u001b[0m \u001b[0me\u001b[0m\u001b[0;34m:\u001b[0m\u001b[0;34m\u001b[0m\u001b[0;34m\u001b[0m\u001b[0m\n\u001b[1;32m     67\u001b[0m             \u001b[0mfiltered_tb\u001b[0m \u001b[0;34m=\u001b[0m \u001b[0m_process_traceback_frames\u001b[0m\u001b[0;34m(\u001b[0m\u001b[0me\u001b[0m\u001b[0;34m.\u001b[0m\u001b[0m__traceback__\u001b[0m\u001b[0;34m)\u001b[0m\u001b[0;34m\u001b[0m\u001b[0;34m\u001b[0m\u001b[0m\n",
            "\u001b[0;32m/usr/local/lib/python3.10/dist-packages/keras/src/engine/training.py\u001b[0m in \u001b[0;36mevaluate\u001b[0;34m(self, x, y, batch_size, verbose, sample_weight, steps, callbacks, max_queue_size, workers, use_multiprocessing, return_dict, **kwargs)\u001b[0m\n\u001b[1;32m   2294\u001b[0m                         ):\n\u001b[1;32m   2295\u001b[0m                             \u001b[0mcallbacks\u001b[0m\u001b[0;34m.\u001b[0m\u001b[0mon_test_batch_begin\u001b[0m\u001b[0;34m(\u001b[0m\u001b[0mstep\u001b[0m\u001b[0;34m)\u001b[0m\u001b[0;34m\u001b[0m\u001b[0;34m\u001b[0m\u001b[0m\n\u001b[0;32m-> 2296\u001b[0;31m                             logs = test_function_runner.run_step(\n\u001b[0m\u001b[1;32m   2297\u001b[0m                                 \u001b[0mdataset_or_iterator\u001b[0m\u001b[0;34m,\u001b[0m\u001b[0;34m\u001b[0m\u001b[0;34m\u001b[0m\u001b[0m\n\u001b[1;32m   2298\u001b[0m                                 \u001b[0mdata_handler\u001b[0m\u001b[0;34m,\u001b[0m\u001b[0;34m\u001b[0m\u001b[0;34m\u001b[0m\u001b[0m\n",
            "\u001b[0;32m/usr/local/lib/python3.10/dist-packages/keras/src/engine/training.py\u001b[0m in \u001b[0;36mrun_step\u001b[0;34m(self, dataset_or_iterator, data_handler, step, unused_shards)\u001b[0m\n\u001b[1;32m   4106\u001b[0m \u001b[0;34m\u001b[0m\u001b[0m\n\u001b[1;32m   4107\u001b[0m     \u001b[0;32mdef\u001b[0m \u001b[0mrun_step\u001b[0m\u001b[0;34m(\u001b[0m\u001b[0mself\u001b[0m\u001b[0;34m,\u001b[0m \u001b[0mdataset_or_iterator\u001b[0m\u001b[0;34m,\u001b[0m \u001b[0mdata_handler\u001b[0m\u001b[0;34m,\u001b[0m \u001b[0mstep\u001b[0m\u001b[0;34m,\u001b[0m \u001b[0munused_shards\u001b[0m\u001b[0;34m)\u001b[0m\u001b[0;34m:\u001b[0m\u001b[0;34m\u001b[0m\u001b[0;34m\u001b[0m\u001b[0m\n\u001b[0;32m-> 4108\u001b[0;31m         \u001b[0mtmp_logs\u001b[0m \u001b[0;34m=\u001b[0m \u001b[0mself\u001b[0m\u001b[0;34m.\u001b[0m\u001b[0m_function\u001b[0m\u001b[0;34m(\u001b[0m\u001b[0mdataset_or_iterator\u001b[0m\u001b[0;34m)\u001b[0m\u001b[0;34m\u001b[0m\u001b[0;34m\u001b[0m\u001b[0m\n\u001b[0m\u001b[1;32m   4109\u001b[0m         \u001b[0;32mif\u001b[0m \u001b[0mdata_handler\u001b[0m\u001b[0;34m.\u001b[0m\u001b[0mshould_sync\u001b[0m\u001b[0;34m:\u001b[0m\u001b[0;34m\u001b[0m\u001b[0;34m\u001b[0m\u001b[0m\n\u001b[1;32m   4110\u001b[0m             \u001b[0mcontext\u001b[0m\u001b[0;34m.\u001b[0m\u001b[0masync_wait\u001b[0m\u001b[0;34m(\u001b[0m\u001b[0;34m)\u001b[0m\u001b[0;34m\u001b[0m\u001b[0;34m\u001b[0m\u001b[0m\n",
            "\u001b[0;32m/usr/local/lib/python3.10/dist-packages/tensorflow/python/util/traceback_utils.py\u001b[0m in \u001b[0;36merror_handler\u001b[0;34m(*args, **kwargs)\u001b[0m\n\u001b[1;32m    148\u001b[0m     \u001b[0mfiltered_tb\u001b[0m \u001b[0;34m=\u001b[0m \u001b[0;32mNone\u001b[0m\u001b[0;34m\u001b[0m\u001b[0;34m\u001b[0m\u001b[0m\n\u001b[1;32m    149\u001b[0m     \u001b[0;32mtry\u001b[0m\u001b[0;34m:\u001b[0m\u001b[0;34m\u001b[0m\u001b[0;34m\u001b[0m\u001b[0m\n\u001b[0;32m--> 150\u001b[0;31m       \u001b[0;32mreturn\u001b[0m \u001b[0mfn\u001b[0m\u001b[0;34m(\u001b[0m\u001b[0;34m*\u001b[0m\u001b[0margs\u001b[0m\u001b[0;34m,\u001b[0m \u001b[0;34m**\u001b[0m\u001b[0mkwargs\u001b[0m\u001b[0;34m)\u001b[0m\u001b[0;34m\u001b[0m\u001b[0;34m\u001b[0m\u001b[0m\n\u001b[0m\u001b[1;32m    151\u001b[0m     \u001b[0;32mexcept\u001b[0m \u001b[0mException\u001b[0m \u001b[0;32mas\u001b[0m \u001b[0me\u001b[0m\u001b[0;34m:\u001b[0m\u001b[0;34m\u001b[0m\u001b[0;34m\u001b[0m\u001b[0m\n\u001b[1;32m    152\u001b[0m       \u001b[0mfiltered_tb\u001b[0m \u001b[0;34m=\u001b[0m \u001b[0m_process_traceback_frames\u001b[0m\u001b[0;34m(\u001b[0m\u001b[0me\u001b[0m\u001b[0;34m.\u001b[0m\u001b[0m__traceback__\u001b[0m\u001b[0;34m)\u001b[0m\u001b[0;34m\u001b[0m\u001b[0;34m\u001b[0m\u001b[0m\n",
            "\u001b[0;32m/usr/local/lib/python3.10/dist-packages/tensorflow/python/eager/polymorphic_function/polymorphic_function.py\u001b[0m in \u001b[0;36m__call__\u001b[0;34m(self, *args, **kwds)\u001b[0m\n\u001b[1;32m    830\u001b[0m \u001b[0;34m\u001b[0m\u001b[0m\n\u001b[1;32m    831\u001b[0m       \u001b[0;32mwith\u001b[0m \u001b[0mOptionalXlaContext\u001b[0m\u001b[0;34m(\u001b[0m\u001b[0mself\u001b[0m\u001b[0;34m.\u001b[0m\u001b[0m_jit_compile\u001b[0m\u001b[0;34m)\u001b[0m\u001b[0;34m:\u001b[0m\u001b[0;34m\u001b[0m\u001b[0;34m\u001b[0m\u001b[0m\n\u001b[0;32m--> 832\u001b[0;31m         \u001b[0mresult\u001b[0m \u001b[0;34m=\u001b[0m \u001b[0mself\u001b[0m\u001b[0;34m.\u001b[0m\u001b[0m_call\u001b[0m\u001b[0;34m(\u001b[0m\u001b[0;34m*\u001b[0m\u001b[0margs\u001b[0m\u001b[0;34m,\u001b[0m \u001b[0;34m**\u001b[0m\u001b[0mkwds\u001b[0m\u001b[0;34m)\u001b[0m\u001b[0;34m\u001b[0m\u001b[0;34m\u001b[0m\u001b[0m\n\u001b[0m\u001b[1;32m    833\u001b[0m \u001b[0;34m\u001b[0m\u001b[0m\n\u001b[1;32m    834\u001b[0m       \u001b[0mnew_tracing_count\u001b[0m \u001b[0;34m=\u001b[0m \u001b[0mself\u001b[0m\u001b[0;34m.\u001b[0m\u001b[0mexperimental_get_tracing_count\u001b[0m\u001b[0;34m(\u001b[0m\u001b[0;34m)\u001b[0m\u001b[0;34m\u001b[0m\u001b[0;34m\u001b[0m\u001b[0m\n",
            "\u001b[0;32m/usr/local/lib/python3.10/dist-packages/tensorflow/python/eager/polymorphic_function/polymorphic_function.py\u001b[0m in \u001b[0;36m_call\u001b[0;34m(self, *args, **kwds)\u001b[0m\n\u001b[1;32m    875\u001b[0m       \u001b[0;31m# In this case we have not created variables on the first call. So we can\u001b[0m\u001b[0;34m\u001b[0m\u001b[0;34m\u001b[0m\u001b[0m\n\u001b[1;32m    876\u001b[0m       \u001b[0;31m# run the first trace but we should fail if variables are created.\u001b[0m\u001b[0;34m\u001b[0m\u001b[0;34m\u001b[0m\u001b[0m\n\u001b[0;32m--> 877\u001b[0;31m       results = tracing_compilation.call_function(\n\u001b[0m\u001b[1;32m    878\u001b[0m           \u001b[0margs\u001b[0m\u001b[0;34m,\u001b[0m \u001b[0mkwds\u001b[0m\u001b[0;34m,\u001b[0m \u001b[0mself\u001b[0m\u001b[0;34m.\u001b[0m\u001b[0m_variable_creation_config\u001b[0m\u001b[0;34m\u001b[0m\u001b[0;34m\u001b[0m\u001b[0m\n\u001b[1;32m    879\u001b[0m       )\n",
            "\u001b[0;32m/usr/local/lib/python3.10/dist-packages/tensorflow/python/eager/polymorphic_function/tracing_compilation.py\u001b[0m in \u001b[0;36mcall_function\u001b[0;34m(args, kwargs, tracing_options)\u001b[0m\n\u001b[1;32m    137\u001b[0m   \u001b[0mbound_args\u001b[0m \u001b[0;34m=\u001b[0m \u001b[0mfunction\u001b[0m\u001b[0;34m.\u001b[0m\u001b[0mfunction_type\u001b[0m\u001b[0;34m.\u001b[0m\u001b[0mbind\u001b[0m\u001b[0;34m(\u001b[0m\u001b[0;34m*\u001b[0m\u001b[0margs\u001b[0m\u001b[0;34m,\u001b[0m \u001b[0;34m**\u001b[0m\u001b[0mkwargs\u001b[0m\u001b[0;34m)\u001b[0m\u001b[0;34m\u001b[0m\u001b[0;34m\u001b[0m\u001b[0m\n\u001b[1;32m    138\u001b[0m   \u001b[0mflat_inputs\u001b[0m \u001b[0;34m=\u001b[0m \u001b[0mfunction\u001b[0m\u001b[0;34m.\u001b[0m\u001b[0mfunction_type\u001b[0m\u001b[0;34m.\u001b[0m\u001b[0munpack_inputs\u001b[0m\u001b[0;34m(\u001b[0m\u001b[0mbound_args\u001b[0m\u001b[0;34m)\u001b[0m\u001b[0;34m\u001b[0m\u001b[0;34m\u001b[0m\u001b[0m\n\u001b[0;32m--> 139\u001b[0;31m   return function._call_flat(  # pylint: disable=protected-access\n\u001b[0m\u001b[1;32m    140\u001b[0m       \u001b[0mflat_inputs\u001b[0m\u001b[0;34m,\u001b[0m \u001b[0mcaptured_inputs\u001b[0m\u001b[0;34m=\u001b[0m\u001b[0mfunction\u001b[0m\u001b[0;34m.\u001b[0m\u001b[0mcaptured_inputs\u001b[0m\u001b[0;34m\u001b[0m\u001b[0;34m\u001b[0m\u001b[0m\n\u001b[1;32m    141\u001b[0m   )\n",
            "\u001b[0;32m/usr/local/lib/python3.10/dist-packages/tensorflow/python/eager/polymorphic_function/concrete_function.py\u001b[0m in \u001b[0;36m_call_flat\u001b[0;34m(self, tensor_inputs, captured_inputs)\u001b[0m\n\u001b[1;32m   1321\u001b[0m         and executing_eagerly):\n\u001b[1;32m   1322\u001b[0m       \u001b[0;31m# No tape is watching; skip to running the function.\u001b[0m\u001b[0;34m\u001b[0m\u001b[0;34m\u001b[0m\u001b[0m\n\u001b[0;32m-> 1323\u001b[0;31m       \u001b[0;32mreturn\u001b[0m \u001b[0mself\u001b[0m\u001b[0;34m.\u001b[0m\u001b[0m_inference_function\u001b[0m\u001b[0;34m.\u001b[0m\u001b[0mcall_preflattened\u001b[0m\u001b[0;34m(\u001b[0m\u001b[0margs\u001b[0m\u001b[0;34m)\u001b[0m\u001b[0;34m\u001b[0m\u001b[0;34m\u001b[0m\u001b[0m\n\u001b[0m\u001b[1;32m   1324\u001b[0m     forward_backward = self._select_forward_and_backward_functions(\n\u001b[1;32m   1325\u001b[0m         \u001b[0margs\u001b[0m\u001b[0;34m,\u001b[0m\u001b[0;34m\u001b[0m\u001b[0;34m\u001b[0m\u001b[0m\n",
            "\u001b[0;32m/usr/local/lib/python3.10/dist-packages/tensorflow/python/eager/polymorphic_function/atomic_function.py\u001b[0m in \u001b[0;36mcall_preflattened\u001b[0;34m(self, args)\u001b[0m\n\u001b[1;32m    214\u001b[0m   \u001b[0;32mdef\u001b[0m \u001b[0mcall_preflattened\u001b[0m\u001b[0;34m(\u001b[0m\u001b[0mself\u001b[0m\u001b[0;34m,\u001b[0m \u001b[0margs\u001b[0m\u001b[0;34m:\u001b[0m \u001b[0mSequence\u001b[0m\u001b[0;34m[\u001b[0m\u001b[0mcore\u001b[0m\u001b[0;34m.\u001b[0m\u001b[0mTensor\u001b[0m\u001b[0;34m]\u001b[0m\u001b[0;34m)\u001b[0m \u001b[0;34m->\u001b[0m \u001b[0mAny\u001b[0m\u001b[0;34m:\u001b[0m\u001b[0;34m\u001b[0m\u001b[0;34m\u001b[0m\u001b[0m\n\u001b[1;32m    215\u001b[0m     \u001b[0;34m\"\"\"Calls with flattened tensor inputs and returns the structured output.\"\"\"\u001b[0m\u001b[0;34m\u001b[0m\u001b[0;34m\u001b[0m\u001b[0m\n\u001b[0;32m--> 216\u001b[0;31m     \u001b[0mflat_outputs\u001b[0m \u001b[0;34m=\u001b[0m \u001b[0mself\u001b[0m\u001b[0;34m.\u001b[0m\u001b[0mcall_flat\u001b[0m\u001b[0;34m(\u001b[0m\u001b[0;34m*\u001b[0m\u001b[0margs\u001b[0m\u001b[0;34m)\u001b[0m\u001b[0;34m\u001b[0m\u001b[0;34m\u001b[0m\u001b[0m\n\u001b[0m\u001b[1;32m    217\u001b[0m     \u001b[0;32mreturn\u001b[0m \u001b[0mself\u001b[0m\u001b[0;34m.\u001b[0m\u001b[0mfunction_type\u001b[0m\u001b[0;34m.\u001b[0m\u001b[0mpack_output\u001b[0m\u001b[0;34m(\u001b[0m\u001b[0mflat_outputs\u001b[0m\u001b[0;34m)\u001b[0m\u001b[0;34m\u001b[0m\u001b[0;34m\u001b[0m\u001b[0m\n\u001b[1;32m    218\u001b[0m \u001b[0;34m\u001b[0m\u001b[0m\n",
            "\u001b[0;32m/usr/local/lib/python3.10/dist-packages/tensorflow/python/eager/polymorphic_function/atomic_function.py\u001b[0m in \u001b[0;36mcall_flat\u001b[0;34m(self, *args)\u001b[0m\n\u001b[1;32m    249\u001b[0m         \u001b[0;32mwith\u001b[0m \u001b[0mrecord\u001b[0m\u001b[0;34m.\u001b[0m\u001b[0mstop_recording\u001b[0m\u001b[0;34m(\u001b[0m\u001b[0;34m)\u001b[0m\u001b[0;34m:\u001b[0m\u001b[0;34m\u001b[0m\u001b[0;34m\u001b[0m\u001b[0m\n\u001b[1;32m    250\u001b[0m           \u001b[0;32mif\u001b[0m \u001b[0mself\u001b[0m\u001b[0;34m.\u001b[0m\u001b[0m_bound_context\u001b[0m\u001b[0;34m.\u001b[0m\u001b[0mexecuting_eagerly\u001b[0m\u001b[0;34m(\u001b[0m\u001b[0;34m)\u001b[0m\u001b[0;34m:\u001b[0m\u001b[0;34m\u001b[0m\u001b[0;34m\u001b[0m\u001b[0m\n\u001b[0;32m--> 251\u001b[0;31m             outputs = self._bound_context.call_function(\n\u001b[0m\u001b[1;32m    252\u001b[0m                 \u001b[0mself\u001b[0m\u001b[0;34m.\u001b[0m\u001b[0mname\u001b[0m\u001b[0;34m,\u001b[0m\u001b[0;34m\u001b[0m\u001b[0;34m\u001b[0m\u001b[0m\n\u001b[1;32m    253\u001b[0m                 \u001b[0mlist\u001b[0m\u001b[0;34m(\u001b[0m\u001b[0margs\u001b[0m\u001b[0;34m)\u001b[0m\u001b[0;34m,\u001b[0m\u001b[0;34m\u001b[0m\u001b[0;34m\u001b[0m\u001b[0m\n",
            "\u001b[0;32m/usr/local/lib/python3.10/dist-packages/tensorflow/python/eager/context.py\u001b[0m in \u001b[0;36mcall_function\u001b[0;34m(self, name, tensor_inputs, num_outputs)\u001b[0m\n\u001b[1;32m   1484\u001b[0m     \u001b[0mcancellation_context\u001b[0m \u001b[0;34m=\u001b[0m \u001b[0mcancellation\u001b[0m\u001b[0;34m.\u001b[0m\u001b[0mcontext\u001b[0m\u001b[0;34m(\u001b[0m\u001b[0;34m)\u001b[0m\u001b[0;34m\u001b[0m\u001b[0;34m\u001b[0m\u001b[0m\n\u001b[1;32m   1485\u001b[0m     \u001b[0;32mif\u001b[0m \u001b[0mcancellation_context\u001b[0m \u001b[0;32mis\u001b[0m \u001b[0;32mNone\u001b[0m\u001b[0;34m:\u001b[0m\u001b[0;34m\u001b[0m\u001b[0;34m\u001b[0m\u001b[0m\n\u001b[0;32m-> 1486\u001b[0;31m       outputs = execute.execute(\n\u001b[0m\u001b[1;32m   1487\u001b[0m           \u001b[0mname\u001b[0m\u001b[0;34m.\u001b[0m\u001b[0mdecode\u001b[0m\u001b[0;34m(\u001b[0m\u001b[0;34m\"utf-8\"\u001b[0m\u001b[0;34m)\u001b[0m\u001b[0;34m,\u001b[0m\u001b[0;34m\u001b[0m\u001b[0;34m\u001b[0m\u001b[0m\n\u001b[1;32m   1488\u001b[0m           \u001b[0mnum_outputs\u001b[0m\u001b[0;34m=\u001b[0m\u001b[0mnum_outputs\u001b[0m\u001b[0;34m,\u001b[0m\u001b[0;34m\u001b[0m\u001b[0;34m\u001b[0m\u001b[0m\n",
            "\u001b[0;32m/usr/local/lib/python3.10/dist-packages/tensorflow/python/eager/execute.py\u001b[0m in \u001b[0;36mquick_execute\u001b[0;34m(op_name, num_outputs, inputs, attrs, ctx, name)\u001b[0m\n\u001b[1;32m     51\u001b[0m   \u001b[0;32mtry\u001b[0m\u001b[0;34m:\u001b[0m\u001b[0;34m\u001b[0m\u001b[0;34m\u001b[0m\u001b[0m\n\u001b[1;32m     52\u001b[0m     \u001b[0mctx\u001b[0m\u001b[0;34m.\u001b[0m\u001b[0mensure_initialized\u001b[0m\u001b[0;34m(\u001b[0m\u001b[0;34m)\u001b[0m\u001b[0;34m\u001b[0m\u001b[0;34m\u001b[0m\u001b[0m\n\u001b[0;32m---> 53\u001b[0;31m     tensors = pywrap_tfe.TFE_Py_Execute(ctx._handle, device_name, op_name,\n\u001b[0m\u001b[1;32m     54\u001b[0m                                         inputs, attrs, num_outputs)\n\u001b[1;32m     55\u001b[0m   \u001b[0;32mexcept\u001b[0m \u001b[0mcore\u001b[0m\u001b[0;34m.\u001b[0m\u001b[0m_NotOkStatusException\u001b[0m \u001b[0;32mas\u001b[0m \u001b[0me\u001b[0m\u001b[0;34m:\u001b[0m\u001b[0;34m\u001b[0m\u001b[0;34m\u001b[0m\u001b[0m\n",
            "\u001b[0;31mKeyboardInterrupt\u001b[0m: "
          ]
        }
      ]
    },
    {
      "cell_type": "markdown",
      "metadata": {
        "id": "ZO5aiRIcQX3v"
      },
      "source": [
        "## Convolutional neural network"
      ]
    },
    {
      "cell_type": "markdown",
      "metadata": {
        "id": "q4CSv_i2QX3w"
      },
      "source": [
        "### Define CNN model"
      ]
    },
    {
      "cell_type": "code",
      "execution_count": null,
      "metadata": {
        "id": "l9_UH8NzQX3w",
        "colab": {
          "base_uri": "https://localhost:8080/"
        },
        "outputId": "fe510d49-fb54-4b98-dece-513e89f66c79"
      },
      "outputs": [
        {
          "output_type": "stream",
          "name": "stdout",
          "text": [
            "Model: \"model_2\"\n",
            "__________________________________________________________________________________________________\n",
            " Layer (type)                Output Shape                 Param #   Connected to                  \n",
            "==================================================================================================\n",
            " input_word_ids (InputLayer  [(None, 100, 50)]            0         []                            \n",
            " )                                                                                                \n",
            "                                                                                                  \n",
            " spatial_dropout1d_1 (Spati  (None, 100, 50)              0         ['input_word_ids[0][0]']      \n",
            " alDropout1D)                                                                                     \n",
            "                                                                                                  \n",
            " conv1d_4 (Conv1D)           (None, 99, 64)               6464      ['spatial_dropout1d_1[0][0]'] \n",
            "                                                                                                  \n",
            " conv1d_5 (Conv1D)           (None, 98, 64)               9664      ['spatial_dropout1d_1[0][0]'] \n",
            "                                                                                                  \n",
            " conv1d_6 (Conv1D)           (None, 97, 64)               12864     ['spatial_dropout1d_1[0][0]'] \n",
            "                                                                                                  \n",
            " conv1d_7 (Conv1D)           (None, 96, 64)               16064     ['spatial_dropout1d_1[0][0]'] \n",
            "                                                                                                  \n",
            " global_average_pooling1d_4  (None, 64)                   0         ['conv1d_4[0][0]']            \n",
            "  (GlobalAveragePooling1D)                                                                        \n",
            "                                                                                                  \n",
            " global_average_pooling1d_5  (None, 64)                   0         ['conv1d_5[0][0]']            \n",
            "  (GlobalAveragePooling1D)                                                                        \n",
            "                                                                                                  \n",
            " global_average_pooling1d_6  (None, 64)                   0         ['conv1d_6[0][0]']            \n",
            "  (GlobalAveragePooling1D)                                                                        \n",
            "                                                                                                  \n",
            " global_average_pooling1d_7  (None, 64)                   0         ['conv1d_7[0][0]']            \n",
            "  (GlobalAveragePooling1D)                                                                        \n",
            "                                                                                                  \n",
            " concatenate_1 (Concatenate  (None, 256)                  0         ['global_average_pooling1d_4[0\n",
            " )                                                                  ][0]',                        \n",
            "                                                                     'global_average_pooling1d_5[0\n",
            "                                                                    ][0]',                        \n",
            "                                                                     'global_average_pooling1d_6[0\n",
            "                                                                    ][0]',                        \n",
            "                                                                     'global_average_pooling1d_7[0\n",
            "                                                                    ][0]']                        \n",
            "                                                                                                  \n",
            " dense_4 (Dense)             (None, 64)                   16448     ['concatenate_1[0][0]']       \n",
            "                                                                                                  \n",
            " dense_5 (Dense)             (None, 1)                    65        ['dense_4[0][0]']             \n",
            "                                                                                                  \n",
            "==================================================================================================\n",
            "Total params: 61569 (240.50 KB)\n",
            "Trainable params: 61569 (240.50 KB)\n",
            "Non-trainable params: 0 (0.00 Byte)\n",
            "__________________________________________________________________________________________________\n"
          ]
        }
      ],
      "source": [
        "import tensorflow as tf\n",
        "from tensorflow.keras.models import Model\n",
        "from tensorflow.keras.layers import Input, Embedding, Conv1D, GlobalAveragePooling1D, Dense, SpatialDropout1D, concatenate\n",
        "from tensorflow.keras.optimizers import Adam\n",
        "\n",
        "def build_cnn_model(transformer, max_len):\n",
        "    input_word_ids = Input(shape=(max_len, 50), dtype=tf.float32, name=\"input_word_ids\")\n",
        "\n",
        "    if transformer:\n",
        "        embedding = transformer(input_word_ids)\n",
        "    else:\n",
        "        embedding = input_word_ids\n",
        "\n",
        "    embedding = SpatialDropout1D(0.3)(embedding)\n",
        "\n",
        "    conv_1 = Conv1D(64, 2, activation='relu')(embedding)\n",
        "    conv_2 = Conv1D(64, 3, activation='relu')(embedding)\n",
        "    conv_3 = Conv1D(64, 4, activation='relu')(embedding)\n",
        "    conv_4 = Conv1D(64, 5, activation='relu')(embedding)\n",
        "\n",
        "    maxpool_1 = GlobalAveragePooling1D()(conv_1)\n",
        "    maxpool_2 = GlobalAveragePooling1D()(conv_2)\n",
        "    maxpool_3 = GlobalAveragePooling1D()(conv_3)\n",
        "    maxpool_4 = GlobalAveragePooling1D()(conv_4)\n",
        "\n",
        "    conc = concatenate([maxpool_1, maxpool_2, maxpool_3, maxpool_4], axis=1)\n",
        "\n",
        "    conc = Dense(64, activation='relu')(conc)\n",
        "    output = Dense(1, activation='sigmoid')(conc)\n",
        "\n",
        "    model = Model(inputs=input_word_ids, outputs=output)\n",
        "    model.compile(optimizer=Adam(learning_rate=0.01),\n",
        "                  loss='binary_crossentropy',\n",
        "                  metrics=['accuracy'])\n",
        "\n",
        "    return model\n",
        "\n",
        "transformer_layer = None\n",
        "model_cnn = build_cnn_model(transformer_layer, max_len=100)\n",
        "model_cnn.summary()"
      ]
    },
    {
      "cell_type": "markdown",
      "metadata": {
        "id": "BZoVnrpzQX3w"
      },
      "source": [
        "### Build model and check summary"
      ]
    },
    {
      "cell_type": "code",
      "execution_count": null,
      "metadata": {
        "colab": {
          "base_uri": "https://localhost:8080/",
          "height": 668
        },
        "id": "YWG8VllPQX3x",
        "outputId": "98f5fd1d-4e84-41ba-ee58-0327d1d1937e"
      },
      "outputs": [
        {
          "output_type": "execute_result",
          "data": {
            "text/plain": [
              "<IPython.core.display.SVG object>"
            ],
            "image/svg+xml": "<svg xmlns=\"http://www.w3.org/2000/svg\" xmlns:xlink=\"http://www.w3.org/1999/xlink\" width=\"1348pt\" height=\"470pt\" viewBox=\"0.00 0.00 1386.00 483.00\">\n<g id=\"graph0\" class=\"graph\" transform=\"scale(1.03 1.03) rotate(0) translate(4 479)\">\n<title>G</title>\n<polygon fill=\"white\" stroke=\"transparent\" points=\"-4,4 -4,-479 1382,-479 1382,4 -4,4\"/>\n<!-- 136648727523488 -->\n<g id=\"node1\" class=\"node\">\n<title>136648727523488</title>\n<polygon fill=\"none\" stroke=\"black\" points=\"599.5,-438.5 599.5,-474.5 777.5,-474.5 777.5,-438.5 599.5,-438.5\"/>\n<text text-anchor=\"middle\" x=\"650\" y=\"-452.8\" font-family=\"Times,serif\" font-size=\"14.00\">input_word_ids</text>\n<polyline fill=\"none\" stroke=\"black\" points=\"700.5,-438.5 700.5,-474.5 \"/>\n<text text-anchor=\"middle\" x=\"739\" y=\"-452.8\" font-family=\"Times,serif\" font-size=\"14.00\">InputLayer</text>\n</g>\n<!-- 136648727516960 -->\n<g id=\"node2\" class=\"node\">\n<title>136648727516960</title>\n<polygon fill=\"none\" stroke=\"black\" points=\"566.5,-365.5 566.5,-401.5 810.5,-401.5 810.5,-365.5 566.5,-365.5\"/>\n<text text-anchor=\"middle\" x=\"630.5\" y=\"-379.8\" font-family=\"Times,serif\" font-size=\"14.00\">spatial_dropout1d_1</text>\n<polyline fill=\"none\" stroke=\"black\" points=\"694.5,-365.5 694.5,-401.5 \"/>\n<text text-anchor=\"middle\" x=\"752.5\" y=\"-379.8\" font-family=\"Times,serif\" font-size=\"14.00\">SpatialDropout1D</text>\n</g>\n<!-- 136648727523488&#45;&gt;136648727516960 -->\n<g id=\"edge1\" class=\"edge\">\n<title>136648727523488-&gt;136648727516960</title>\n<path fill=\"none\" stroke=\"black\" d=\"M688.5,-438.31C688.5,-430.29 688.5,-420.55 688.5,-411.57\"/>\n<polygon fill=\"black\" stroke=\"black\" points=\"692,-411.53 688.5,-401.53 685,-411.53 692,-411.53\"/>\n</g>\n<!-- 136648727524016 -->\n<g id=\"node3\" class=\"node\">\n<title>136648727524016</title>\n<polygon fill=\"none\" stroke=\"black\" points=\"198.5,-292.5 198.5,-328.5 330.5,-328.5 330.5,-292.5 198.5,-292.5\"/>\n<text text-anchor=\"middle\" x=\"233.5\" y=\"-306.8\" font-family=\"Times,serif\" font-size=\"14.00\">conv1d_4</text>\n<polyline fill=\"none\" stroke=\"black\" points=\"268.5,-292.5 268.5,-328.5 \"/>\n<text text-anchor=\"middle\" x=\"299.5\" y=\"-306.8\" font-family=\"Times,serif\" font-size=\"14.00\">Conv1D</text>\n</g>\n<!-- 136648727516960&#45;&gt;136648727524016 -->\n<g id=\"edge2\" class=\"edge\">\n<title>136648727516960-&gt;136648727524016</title>\n<path fill=\"none\" stroke=\"black\" d=\"M586.94,-365.49C511.17,-352.81 409.28,-335.74 340.47,-324.22\"/>\n<polygon fill=\"black\" stroke=\"black\" points=\"341.01,-320.76 330.57,-322.56 339.86,-327.67 341.01,-320.76\"/>\n</g>\n<!-- 136648727679696 -->\n<g id=\"node4\" class=\"node\">\n<title>136648727679696</title>\n<polygon fill=\"none\" stroke=\"black\" points=\"498.5,-292.5 498.5,-328.5 630.5,-328.5 630.5,-292.5 498.5,-292.5\"/>\n<text text-anchor=\"middle\" x=\"533.5\" y=\"-306.8\" font-family=\"Times,serif\" font-size=\"14.00\">conv1d_5</text>\n<polyline fill=\"none\" stroke=\"black\" points=\"568.5,-292.5 568.5,-328.5 \"/>\n<text text-anchor=\"middle\" x=\"599.5\" y=\"-306.8\" font-family=\"Times,serif\" font-size=\"14.00\">Conv1D</text>\n</g>\n<!-- 136648727516960&#45;&gt;136648727679696 -->\n<g id=\"edge3\" class=\"edge\">\n<title>136648727516960-&gt;136648727679696</title>\n<path fill=\"none\" stroke=\"black\" d=\"M658.8,-365.49C642.2,-355.99 621.32,-344.04 603.43,-333.79\"/>\n<polygon fill=\"black\" stroke=\"black\" points=\"604.81,-330.55 594.39,-328.61 601.33,-336.62 604.81,-330.55\"/>\n</g>\n<!-- 136648727680224 -->\n<g id=\"node5\" class=\"node\">\n<title>136648727680224</title>\n<polygon fill=\"none\" stroke=\"black\" points=\"747.5,-292.5 747.5,-328.5 879.5,-328.5 879.5,-292.5 747.5,-292.5\"/>\n<text text-anchor=\"middle\" x=\"782.5\" y=\"-306.8\" font-family=\"Times,serif\" font-size=\"14.00\">conv1d_6</text>\n<polyline fill=\"none\" stroke=\"black\" points=\"817.5,-292.5 817.5,-328.5 \"/>\n<text text-anchor=\"middle\" x=\"848.5\" y=\"-306.8\" font-family=\"Times,serif\" font-size=\"14.00\">Conv1D</text>\n</g>\n<!-- 136648727516960&#45;&gt;136648727680224 -->\n<g id=\"edge4\" class=\"edge\">\n<title>136648727516960-&gt;136648727680224</title>\n<path fill=\"none\" stroke=\"black\" d=\"M718.44,-365.49C735.17,-355.99 756.22,-344.04 774.25,-333.79\"/>\n<polygon fill=\"black\" stroke=\"black\" points=\"776.4,-336.6 783.37,-328.61 772.95,-330.51 776.4,-336.6\"/>\n</g>\n<!-- 136652976618656 -->\n<g id=\"node6\" class=\"node\">\n<title>136652976618656</title>\n<polygon fill=\"none\" stroke=\"black\" points=\"1096.5,-292.5 1096.5,-328.5 1228.5,-328.5 1228.5,-292.5 1096.5,-292.5\"/>\n<text text-anchor=\"middle\" x=\"1131.5\" y=\"-306.8\" font-family=\"Times,serif\" font-size=\"14.00\">conv1d_7</text>\n<polyline fill=\"none\" stroke=\"black\" points=\"1166.5,-292.5 1166.5,-328.5 \"/>\n<text text-anchor=\"middle\" x=\"1197.5\" y=\"-306.8\" font-family=\"Times,serif\" font-size=\"14.00\">Conv1D</text>\n</g>\n<!-- 136648727516960&#45;&gt;136652976618656 -->\n<g id=\"edge5\" class=\"edge\">\n<title>136648727516960-&gt;136652976618656</title>\n<path fill=\"none\" stroke=\"black\" d=\"M802.03,-365.49C889.97,-352.32 1009.38,-334.44 1086.2,-322.93\"/>\n<polygon fill=\"black\" stroke=\"black\" points=\"1086.91,-326.36 1096.28,-321.42 1085.88,-319.44 1086.91,-326.36\"/>\n</g>\n<!-- 136647618188896 -->\n<g id=\"node7\" class=\"node\">\n<title>136647618188896</title>\n<polygon fill=\"none\" stroke=\"black\" points=\"0,-219.5 0,-255.5 331,-255.5 331,-219.5 0,-219.5\"/>\n<text text-anchor=\"middle\" x=\"87\" y=\"-233.8\" font-family=\"Times,serif\" font-size=\"14.00\">global_average_pooling1d_4</text>\n<polyline fill=\"none\" stroke=\"black\" points=\"174,-219.5 174,-255.5 \"/>\n<text text-anchor=\"middle\" x=\"252.5\" y=\"-233.8\" font-family=\"Times,serif\" font-size=\"14.00\">GlobalAveragePooling1D</text>\n</g>\n<!-- 136648727524016&#45;&gt;136647618188896 -->\n<g id=\"edge6\" class=\"edge\">\n<title>136648727524016-&gt;136647618188896</title>\n<path fill=\"none\" stroke=\"black\" d=\"M240.79,-292.49C227.9,-283.25 211.78,-271.69 197.77,-261.64\"/>\n<polygon fill=\"black\" stroke=\"black\" points=\"199.53,-258.6 189.36,-255.61 195.45,-264.29 199.53,-258.6\"/>\n</g>\n<!-- 136656963280400 -->\n<g id=\"node8\" class=\"node\">\n<title>136656963280400</title>\n<polygon fill=\"none\" stroke=\"black\" points=\"349,-219.5 349,-255.5 680,-255.5 680,-219.5 349,-219.5\"/>\n<text text-anchor=\"middle\" x=\"436\" y=\"-233.8\" font-family=\"Times,serif\" font-size=\"14.00\">global_average_pooling1d_5</text>\n<polyline fill=\"none\" stroke=\"black\" points=\"523,-219.5 523,-255.5 \"/>\n<text text-anchor=\"middle\" x=\"601.5\" y=\"-233.8\" font-family=\"Times,serif\" font-size=\"14.00\">GlobalAveragePooling1D</text>\n</g>\n<!-- 136648727679696&#45;&gt;136656963280400 -->\n<g id=\"edge7\" class=\"edge\">\n<title>136648727679696-&gt;136656963280400</title>\n<path fill=\"none\" stroke=\"black\" d=\"M552.4,-292.31C546.38,-283.77 538.99,-273.27 532.33,-263.82\"/>\n<polygon fill=\"black\" stroke=\"black\" points=\"535.11,-261.69 526.49,-255.53 529.39,-265.72 535.11,-261.69\"/>\n</g>\n<!-- 136656964001680 -->\n<g id=\"node9\" class=\"node\">\n<title>136656964001680</title>\n<polygon fill=\"none\" stroke=\"black\" points=\"698,-219.5 698,-255.5 1029,-255.5 1029,-219.5 698,-219.5\"/>\n<text text-anchor=\"middle\" x=\"785\" y=\"-233.8\" font-family=\"Times,serif\" font-size=\"14.00\">global_average_pooling1d_6</text>\n<polyline fill=\"none\" stroke=\"black\" points=\"872,-219.5 872,-255.5 \"/>\n<text text-anchor=\"middle\" x=\"950.5\" y=\"-233.8\" font-family=\"Times,serif\" font-size=\"14.00\">GlobalAveragePooling1D</text>\n</g>\n<!-- 136648727680224&#45;&gt;136656964001680 -->\n<g id=\"edge8\" class=\"edge\">\n<title>136648727680224-&gt;136656964001680</title>\n<path fill=\"none\" stroke=\"black\" d=\"M825.6,-292.31C831.62,-283.77 839.01,-273.27 845.67,-263.82\"/>\n<polygon fill=\"black\" stroke=\"black\" points=\"848.61,-265.72 851.51,-255.53 842.89,-261.69 848.61,-265.72\"/>\n</g>\n<!-- 136656967555280 -->\n<g id=\"node10\" class=\"node\">\n<title>136656967555280</title>\n<polygon fill=\"none\" stroke=\"black\" points=\"1047,-219.5 1047,-255.5 1378,-255.5 1378,-219.5 1047,-219.5\"/>\n<text text-anchor=\"middle\" x=\"1134\" y=\"-233.8\" font-family=\"Times,serif\" font-size=\"14.00\">global_average_pooling1d_7</text>\n<polyline fill=\"none\" stroke=\"black\" points=\"1221,-219.5 1221,-255.5 \"/>\n<text text-anchor=\"middle\" x=\"1299.5\" y=\"-233.8\" font-family=\"Times,serif\" font-size=\"14.00\">GlobalAveragePooling1D</text>\n</g>\n<!-- 136652976618656&#45;&gt;136656967555280 -->\n<g id=\"edge9\" class=\"edge\">\n<title>136652976618656-&gt;136656967555280</title>\n<path fill=\"none\" stroke=\"black\" d=\"M1174.6,-292.31C1180.62,-283.77 1188.01,-273.27 1194.67,-263.82\"/>\n<polygon fill=\"black\" stroke=\"black\" points=\"1197.61,-265.72 1200.51,-255.53 1191.89,-261.69 1197.61,-265.72\"/>\n</g>\n<!-- 136656967565264 -->\n<g id=\"node11\" class=\"node\">\n<title>136656967565264</title>\n<polygon fill=\"none\" stroke=\"black\" points=\"600,-146.5 600,-182.5 777,-182.5 777,-146.5 600,-146.5\"/>\n<text text-anchor=\"middle\" x=\"647\" y=\"-160.8\" font-family=\"Times,serif\" font-size=\"14.00\">concatenate_1</text>\n<polyline fill=\"none\" stroke=\"black\" points=\"694,-146.5 694,-182.5 \"/>\n<text text-anchor=\"middle\" x=\"735.5\" y=\"-160.8\" font-family=\"Times,serif\" font-size=\"14.00\">Concatenate</text>\n</g>\n<!-- 136647618188896&#45;&gt;136656967565264 -->\n<g id=\"edge10\" class=\"edge\">\n<title>136647618188896-&gt;136656967565264</title>\n<path fill=\"none\" stroke=\"black\" d=\"M290.77,-219.49C382.39,-207.06 504.96,-190.42 589.71,-178.91\"/>\n<polygon fill=\"black\" stroke=\"black\" points=\"590.41,-182.35 599.85,-177.53 589.47,-175.41 590.41,-182.35\"/>\n</g>\n<!-- 136656963280400&#45;&gt;136656967565264 -->\n<g id=\"edge11\" class=\"edge\">\n<title>136656963280400-&gt;136656967565264</title>\n<path fill=\"none\" stroke=\"black\" d=\"M556.18,-219.49C580.53,-209.56 611.46,-196.93 637.3,-186.39\"/>\n<polygon fill=\"black\" stroke=\"black\" points=\"638.62,-189.63 646.56,-182.61 635.98,-183.15 638.62,-189.63\"/>\n</g>\n<!-- 136656964001680&#45;&gt;136656967565264 -->\n<g id=\"edge12\" class=\"edge\">\n<title>136656964001680-&gt;136656967565264</title>\n<path fill=\"none\" stroke=\"black\" d=\"M821.58,-219.49C797.09,-209.56 765.98,-196.93 740,-186.39\"/>\n<polygon fill=\"black\" stroke=\"black\" points=\"741.26,-183.13 730.68,-182.61 738.63,-189.62 741.26,-183.13\"/>\n</g>\n<!-- 136656967555280&#45;&gt;136656967565264 -->\n<g id=\"edge13\" class=\"edge\">\n<title>136656967555280-&gt;136656967565264</title>\n<path fill=\"none\" stroke=\"black\" d=\"M1086.99,-219.49C995.19,-207.06 872.39,-190.42 787.48,-178.91\"/>\n<polygon fill=\"black\" stroke=\"black\" points=\"787.7,-175.41 777.32,-177.53 786.76,-182.35 787.7,-175.41\"/>\n</g>\n<!-- 136656967555328 -->\n<g id=\"node12\" class=\"node\">\n<title>136656967555328</title>\n<polygon fill=\"none\" stroke=\"black\" points=\"633,-73.5 633,-109.5 744,-109.5 744,-73.5 633,-73.5\"/>\n<text text-anchor=\"middle\" x=\"663.5\" y=\"-87.8\" font-family=\"Times,serif\" font-size=\"14.00\">dense_4</text>\n<polyline fill=\"none\" stroke=\"black\" points=\"694,-73.5 694,-109.5 \"/>\n<text text-anchor=\"middle\" x=\"719\" y=\"-87.8\" font-family=\"Times,serif\" font-size=\"14.00\">Dense</text>\n</g>\n<!-- 136656967565264&#45;&gt;136656967555328 -->\n<g id=\"edge14\" class=\"edge\">\n<title>136656967565264-&gt;136656967555328</title>\n<path fill=\"none\" stroke=\"black\" d=\"M688.5,-146.31C688.5,-138.29 688.5,-128.55 688.5,-119.57\"/>\n<polygon fill=\"black\" stroke=\"black\" points=\"692,-119.53 688.5,-109.53 685,-119.53 692,-119.53\"/>\n</g>\n<!-- 136656967554944 -->\n<g id=\"node13\" class=\"node\">\n<title>136656967554944</title>\n<polygon fill=\"none\" stroke=\"black\" points=\"633,-0.5 633,-36.5 744,-36.5 744,-0.5 633,-0.5\"/>\n<text text-anchor=\"middle\" x=\"663.5\" y=\"-14.8\" font-family=\"Times,serif\" font-size=\"14.00\">dense_5</text>\n<polyline fill=\"none\" stroke=\"black\" points=\"694,-0.5 694,-36.5 \"/>\n<text text-anchor=\"middle\" x=\"719\" y=\"-14.8\" font-family=\"Times,serif\" font-size=\"14.00\">Dense</text>\n</g>\n<!-- 136656967555328&#45;&gt;136656967554944 -->\n<g id=\"edge15\" class=\"edge\">\n<title>136656967555328-&gt;136656967554944</title>\n<path fill=\"none\" stroke=\"black\" d=\"M688.5,-73.31C688.5,-65.29 688.5,-55.55 688.5,-46.57\"/>\n<polygon fill=\"black\" stroke=\"black\" points=\"692,-46.53 688.5,-36.53 685,-46.53 692,-46.53\"/>\n</g>\n</g>\n</svg>"
          },
          "metadata": {},
          "execution_count": 112
        }
      ],
      "source": [
        "SVG(tf.keras.utils.model_to_dot(model_cnn, dpi=70).create(prog='dot', format='svg'))"
      ]
    },
    {
      "cell_type": "markdown",
      "source": [
        "## CNN with More Metrics"
      ],
      "metadata": {
        "id": "DOg7BXnTZuQF"
      }
    },
    {
      "cell_type": "code",
      "source": [
        "import tensorflow as tf\n",
        "from tensorflow.keras.models import Model\n",
        "from tensorflow.keras.layers import Input, Embedding, Conv1D, GlobalAveragePooling1D, Dense, SpatialDropout1D, concatenate\n",
        "from tensorflow.keras.optimizers import Adam\n",
        "from tensorflow.keras.metrics import Precision, Recall\n",
        "from sklearn.metrics import confusion_matrix, classification_report\n",
        "import numpy as np\n",
        "\n",
        "class F1Score(tf.keras.metrics.Metric):\n",
        "    def __init__(self, name='f1_score', **kwargs):\n",
        "        super(F1Score, self).__init__(name=name, **kwargs)\n",
        "        self.precision = Precision()\n",
        "        self.recall = Recall()\n",
        "\n",
        "    def update_state(self, y_true, y_pred, sample_weight=None):\n",
        "        self.precision.update_state(y_true, y_pred, sample_weight)\n",
        "        self.recall.update_state(y_true, y_pred, sample_weight)\n",
        "\n",
        "    def result(self):\n",
        "        p = self.precision.result()\n",
        "        r = self.recall.result()\n",
        "        return 2 * ((p * r) / (p + r + tf.keras.backend.epsilon()))\n",
        "\n",
        "    def reset_states(self):\n",
        "        self.precision.reset_states()\n",
        "        self.recall.reset_states()\n",
        "\n",
        "def build_cnn_model(transformer, max_len):\n",
        "    input_word_ids = Input(shape=(max_len, 50), dtype=tf.float32, name=\"input_word_ids\")\n",
        "    embedding = transformer(input_word_ids) if transformer else input_word_ids\n",
        "    embedding = SpatialDropout1D(0.3)(embedding)\n",
        "    conv_layers = [Conv1D(64, size, activation='relu')(embedding) for size in [2, 3, 4, 5]]\n",
        "    pooled_outputs = [GlobalAveragePooling1D()(conv) for conv in conv_layers]\n",
        "    conc = concatenate(pooled_outputs, axis=1)\n",
        "    conc = Dense(64, activation='relu')(conc)\n",
        "    output = Dense(1, activation='sigmoid')(conc)\n",
        "    model = Model(inputs=input_word_ids, outputs=output)\n",
        "    model.compile(optimizer=Adam(learning_rate=0.01),\n",
        "                  loss='binary_crossentropy',\n",
        "                  metrics=['accuracy', Precision(name='precision'), Recall(name='recall'), F1Score()])\n",
        "    return model\n",
        "\n",
        "model_cnn = build_cnn_model(None, max_len=100)\n",
        "\n",
        "BATCH_SIZE = 32\n",
        "N_STEPS = len(x_train) // BATCH_SIZE\n",
        "EPOCHS = 10\n",
        "\n",
        "train_history = model_cnn.fit(\n",
        "    train_dataset,\n",
        "    steps_per_epoch=N_STEPS,\n",
        "    validation_data=valid_dataset,\n",
        "    epochs=EPOCHS\n",
        ")\n",
        "\n",
        "results = model_cnn.evaluate(x_test, y_test)\n",
        "print(\"Loss: {:.4f}, Accuracy: {:.4f}, Precision: {:.4f}, Recall: {:.4f}, F1 Score: {:.4f}\".format(*results))\n",
        "\n",
        "y_pred = model_cnn.predict(x_test)\n",
        "y_pred_classes = (y_pred > 0.5).astype(int)\n",
        "conf_matrix = confusion_matrix(y_test, y_pred_classes)\n",
        "class_report = classification_report(y_test, y_pred_classes)\n",
        "print(\"Confusion Matrix:\\n\", conf_matrix)\n",
        "print(\"Classification Report:\\n\", class_report)"
      ],
      "metadata": {
        "colab": {
          "base_uri": "https://localhost:8080/"
        },
        "id": "HgYxTLG3Ztzl",
        "outputId": "25aebd6a-e8c7-430a-80e4-ec029cfea4e8"
      },
      "execution_count": null,
      "outputs": [
        {
          "output_type": "stream",
          "name": "stdout",
          "text": [
            "Epoch 1/10\n",
            "1744/1744 [==============================] - 15s 7ms/step - loss: 0.3787 - accuracy: 0.8320 - precision: 0.8239 - recall: 0.7916 - f1_score: 0.8074 - val_loss: 0.2351 - val_accuracy: 0.9046 - val_precision: 0.8540 - val_recall: 0.9504 - val_f1_score: 0.8997\n",
            "Epoch 2/10\n",
            "1744/1744 [==============================] - 11s 6ms/step - loss: 0.2586 - accuracy: 0.8945 - precision: 0.8867 - recall: 0.8756 - f1_score: 0.8811 - val_loss: 0.1833 - val_accuracy: 0.9335 - val_precision: 0.9321 - val_recall: 0.9193 - val_f1_score: 0.9256\n",
            "Epoch 3/10\n",
            "1744/1744 [==============================] - 11s 6ms/step - loss: 0.2271 - accuracy: 0.9106 - precision: 0.9020 - recall: 0.8973 - f1_score: 0.8997 - val_loss: 0.1618 - val_accuracy: 0.9397 - val_precision: 0.9186 - val_recall: 0.9502 - val_f1_score: 0.9341\n",
            "Epoch 4/10\n",
            "1744/1744 [==============================] - 11s 6ms/step - loss: 0.2063 - accuracy: 0.9184 - precision: 0.9118 - recall: 0.9043 - f1_score: 0.9081 - val_loss: 0.1547 - val_accuracy: 0.9407 - val_precision: 0.9594 - val_recall: 0.9065 - val_f1_score: 0.9322\n",
            "Epoch 5/10\n",
            "1744/1744 [==============================] - 11s 7ms/step - loss: 0.1997 - accuracy: 0.9217 - precision: 0.9164 - recall: 0.9071 - f1_score: 0.9117 - val_loss: 0.1343 - val_accuracy: 0.9486 - val_precision: 0.9441 - val_recall: 0.9416 - val_f1_score: 0.9428\n",
            "Epoch 6/10\n",
            "1744/1744 [==============================] - 11s 6ms/step - loss: 0.1851 - accuracy: 0.9275 - precision: 0.9231 - recall: 0.9133 - f1_score: 0.9182 - val_loss: 0.1366 - val_accuracy: 0.9477 - val_precision: 0.9488 - val_recall: 0.9342 - val_f1_score: 0.9414\n",
            "Epoch 7/10\n",
            "1744/1744 [==============================] - 11s 6ms/step - loss: 0.1786 - accuracy: 0.9302 - precision: 0.9259 - recall: 0.9168 - f1_score: 0.9213 - val_loss: 0.1317 - val_accuracy: 0.9496 - val_precision: 0.9270 - val_recall: 0.9639 - val_f1_score: 0.9451\n",
            "Epoch 8/10\n",
            "1744/1744 [==============================] - 11s 6ms/step - loss: 0.1663 - accuracy: 0.9352 - precision: 0.9326 - recall: 0.9216 - f1_score: 0.9270 - val_loss: 0.1402 - val_accuracy: 0.9481 - val_precision: 0.9176 - val_recall: 0.9719 - val_f1_score: 0.9440\n",
            "Epoch 9/10\n",
            "1744/1744 [==============================] - 11s 6ms/step - loss: 0.1653 - accuracy: 0.9356 - precision: 0.9320 - recall: 0.9227 - f1_score: 0.9273 - val_loss: 0.1124 - val_accuracy: 0.9583 - val_precision: 0.9534 - val_recall: 0.9538 - val_f1_score: 0.9536\n",
            "Epoch 10/10\n",
            "1744/1744 [==============================] - 11s 6ms/step - loss: 0.1564 - accuracy: 0.9394 - precision: 0.9355 - recall: 0.9281 - f1_score: 0.9318 - val_loss: 0.1321 - val_accuracy: 0.9499 - val_precision: 0.9167 - val_recall: 0.9774 - val_f1_score: 0.9461\n",
            "582/582 [==============================] - 2s 3ms/step - loss: 0.1403 - accuracy: 0.9470 - precision: 0.9075 - recall: 0.9778 - f1_score: 0.9413\n",
            "Loss: 0.1403, Accuracy: 0.9470, Precision: 0.9075, Recall: 0.9778, F1 Score: 0.9413\n",
            "582/582 [==============================] - 1s 2ms/step\n",
            "Confusion Matrix:\n",
            " [[9709  807]\n",
            " [ 180 7915]]\n",
            "Classification Report:\n",
            "               precision    recall  f1-score   support\n",
            "\n",
            "           0       0.98      0.92      0.95     10516\n",
            "           1       0.91      0.98      0.94      8095\n",
            "\n",
            "    accuracy                           0.95     18611\n",
            "   macro avg       0.94      0.95      0.95     18611\n",
            "weighted avg       0.95      0.95      0.95     18611\n",
            "\n"
          ]
        }
      ]
    },
    {
      "cell_type": "markdown",
      "source": [
        "### Model Export"
      ],
      "metadata": {
        "id": "7N0Zt-lavxKu"
      }
    },
    {
      "cell_type": "code",
      "source": [
        "model_path = '/content/drive/My Drive/DS301GroupProject/model_cnn_glove'\n",
        "model_cnn.save(model_path, save_format='tf')"
      ],
      "metadata": {
        "id": "K7xCFQmJwN2M"
      },
      "execution_count": null,
      "outputs": []
    },
    {
      "cell_type": "markdown",
      "metadata": {
        "id": "fcoGhavnQX3x"
      },
      "source": [
        "### Visualize network architecture + data visualization"
      ]
    },
    {
      "cell_type": "markdown",
      "source": [
        "#### Model Summary"
      ],
      "metadata": {
        "id": "QhOblPv7uohS"
      }
    },
    {
      "cell_type": "code",
      "source": [
        "model_cnn.summary()"
      ],
      "metadata": {
        "colab": {
          "base_uri": "https://localhost:8080/"
        },
        "id": "frx5ccvLcb-1",
        "outputId": "5c635f23-14d1-4e32-96f5-3598ce09cf5b"
      },
      "execution_count": null,
      "outputs": [
        {
          "output_type": "stream",
          "name": "stdout",
          "text": [
            "Model: \"model_3\"\n",
            "__________________________________________________________________________________________________\n",
            " Layer (type)                Output Shape                 Param #   Connected to                  \n",
            "==================================================================================================\n",
            " input_word_ids (InputLayer  [(None, 100, 50)]            0         []                            \n",
            " )                                                                                                \n",
            "                                                                                                  \n",
            " spatial_dropout1d_3 (Spati  (None, 100, 50)              0         ['input_word_ids[0][0]']      \n",
            " alDropout1D)                                                                                     \n",
            "                                                                                                  \n",
            " conv1d_8 (Conv1D)           (None, 99, 64)               6464      ['spatial_dropout1d_3[0][0]'] \n",
            "                                                                                                  \n",
            " conv1d_9 (Conv1D)           (None, 98, 64)               9664      ['spatial_dropout1d_3[0][0]'] \n",
            "                                                                                                  \n",
            " conv1d_10 (Conv1D)          (None, 97, 64)               12864     ['spatial_dropout1d_3[0][0]'] \n",
            "                                                                                                  \n",
            " conv1d_11 (Conv1D)          (None, 96, 64)               16064     ['spatial_dropout1d_3[0][0]'] \n",
            "                                                                                                  \n",
            " global_average_pooling1d_8  (None, 64)                   0         ['conv1d_8[0][0]']            \n",
            "  (GlobalAveragePooling1D)                                                                        \n",
            "                                                                                                  \n",
            " global_average_pooling1d_9  (None, 64)                   0         ['conv1d_9[0][0]']            \n",
            "  (GlobalAveragePooling1D)                                                                        \n",
            "                                                                                                  \n",
            " global_average_pooling1d_1  (None, 64)                   0         ['conv1d_10[0][0]']           \n",
            " 0 (GlobalAveragePooling1D)                                                                       \n",
            "                                                                                                  \n",
            " global_average_pooling1d_1  (None, 64)                   0         ['conv1d_11[0][0]']           \n",
            " 1 (GlobalAveragePooling1D)                                                                       \n",
            "                                                                                                  \n",
            " concatenate_2 (Concatenate  (None, 256)                  0         ['global_average_pooling1d_8[0\n",
            " )                                                                  ][0]',                        \n",
            "                                                                     'global_average_pooling1d_9[0\n",
            "                                                                    ][0]',                        \n",
            "                                                                     'global_average_pooling1d_10[\n",
            "                                                                    0][0]',                       \n",
            "                                                                     'global_average_pooling1d_11[\n",
            "                                                                    0][0]']                       \n",
            "                                                                                                  \n",
            " dense_6 (Dense)             (None, 64)                   16448     ['concatenate_2[0][0]']       \n",
            "                                                                                                  \n",
            " dense_7 (Dense)             (None, 1)                    65        ['dense_6[0][0]']             \n",
            "                                                                                                  \n",
            "==================================================================================================\n",
            "Total params: 61569 (240.50 KB)\n",
            "Trainable params: 61569 (240.50 KB)\n",
            "Non-trainable params: 0 (0.00 Byte)\n",
            "__________________________________________________________________________________________________\n"
          ]
        }
      ]
    },
    {
      "cell_type": "markdown",
      "source": [
        "#### Model Structure"
      ],
      "metadata": {
        "id": "7FEOcFukus2Z"
      }
    },
    {
      "cell_type": "code",
      "source": [
        "SVG(tf.keras.utils.model_to_dot(model_cnn, dpi=70).create(prog='dot', format='svg'))"
      ],
      "metadata": {
        "colab": {
          "base_uri": "https://localhost:8080/",
          "height": 668
        },
        "id": "DwmnM2d0ceEV",
        "outputId": "e63cf183-9130-437b-91ae-7b3acbc103fe"
      },
      "execution_count": null,
      "outputs": [
        {
          "output_type": "execute_result",
          "data": {
            "text/plain": [
              "<IPython.core.display.SVG object>"
            ],
            "image/svg+xml": "<svg xmlns=\"http://www.w3.org/2000/svg\" xmlns:xlink=\"http://www.w3.org/1999/xlink\" width=\"1362pt\" height=\"470pt\" viewBox=\"0.00 0.00 1400.50 483.00\">\n<g id=\"graph0\" class=\"graph\" transform=\"scale(1.03 1.03) rotate(0) translate(4 479)\">\n<title>G</title>\n<polygon fill=\"white\" stroke=\"transparent\" points=\"-4,4 -4,-479 1396.5,-479 1396.5,4 -4,4\"/>\n<!-- 136647897288128 -->\n<g id=\"node1\" class=\"node\">\n<title>136647897288128</title>\n<polygon fill=\"none\" stroke=\"black\" points=\"552.5,-438.5 552.5,-474.5 730.5,-474.5 730.5,-438.5 552.5,-438.5\"/>\n<text text-anchor=\"middle\" x=\"603\" y=\"-452.8\" font-family=\"Times,serif\" font-size=\"14.00\">input_word_ids</text>\n<polyline fill=\"none\" stroke=\"black\" points=\"653.5,-438.5 653.5,-474.5 \"/>\n<text text-anchor=\"middle\" x=\"692\" y=\"-452.8\" font-family=\"Times,serif\" font-size=\"14.00\">InputLayer</text>\n</g>\n<!-- 136647897395936 -->\n<g id=\"node2\" class=\"node\">\n<title>136647897395936</title>\n<polygon fill=\"none\" stroke=\"black\" points=\"519.5,-365.5 519.5,-401.5 763.5,-401.5 763.5,-365.5 519.5,-365.5\"/>\n<text text-anchor=\"middle\" x=\"583.5\" y=\"-379.8\" font-family=\"Times,serif\" font-size=\"14.00\">spatial_dropout1d_3</text>\n<polyline fill=\"none\" stroke=\"black\" points=\"647.5,-365.5 647.5,-401.5 \"/>\n<text text-anchor=\"middle\" x=\"705.5\" y=\"-379.8\" font-family=\"Times,serif\" font-size=\"14.00\">SpatialDropout1D</text>\n</g>\n<!-- 136647897288128&#45;&gt;136647897395936 -->\n<g id=\"edge1\" class=\"edge\">\n<title>136647897288128-&gt;136647897395936</title>\n<path fill=\"none\" stroke=\"black\" d=\"M641.5,-438.31C641.5,-430.29 641.5,-420.55 641.5,-411.57\"/>\n<polygon fill=\"black\" stroke=\"black\" points=\"645,-411.53 641.5,-401.53 638,-411.53 645,-411.53\"/>\n</g>\n<!-- 136647897395264 -->\n<g id=\"node3\" class=\"node\">\n<title>136647897395264</title>\n<polygon fill=\"none\" stroke=\"black\" points=\"249.5,-292.5 249.5,-328.5 381.5,-328.5 381.5,-292.5 249.5,-292.5\"/>\n<text text-anchor=\"middle\" x=\"284.5\" y=\"-306.8\" font-family=\"Times,serif\" font-size=\"14.00\">conv1d_8</text>\n<polyline fill=\"none\" stroke=\"black\" points=\"319.5,-292.5 319.5,-328.5 \"/>\n<text text-anchor=\"middle\" x=\"350.5\" y=\"-306.8\" font-family=\"Times,serif\" font-size=\"14.00\">Conv1D</text>\n</g>\n<!-- 136647897395936&#45;&gt;136647897395264 -->\n<g id=\"edge2\" class=\"edge\">\n<title>136647897395936-&gt;136647897395264</title>\n<path fill=\"none\" stroke=\"black\" d=\"M563.41,-365.49C511.3,-354.14 443.12,-339.29 391.45,-328.04\"/>\n<polygon fill=\"black\" stroke=\"black\" points=\"392.19,-324.62 381.67,-325.91 390.7,-331.46 392.19,-324.62\"/>\n</g>\n<!-- 136647897294800 -->\n<g id=\"node4\" class=\"node\">\n<title>136647897294800</title>\n<polygon fill=\"none\" stroke=\"black\" points=\"498.5,-292.5 498.5,-328.5 630.5,-328.5 630.5,-292.5 498.5,-292.5\"/>\n<text text-anchor=\"middle\" x=\"533.5\" y=\"-306.8\" font-family=\"Times,serif\" font-size=\"14.00\">conv1d_9</text>\n<polyline fill=\"none\" stroke=\"black\" points=\"568.5,-292.5 568.5,-328.5 \"/>\n<text text-anchor=\"middle\" x=\"599.5\" y=\"-306.8\" font-family=\"Times,serif\" font-size=\"14.00\">Conv1D</text>\n</g>\n<!-- 136647897395936&#45;&gt;136647897294800 -->\n<g id=\"edge3\" class=\"edge\">\n<title>136647897395936-&gt;136647897294800</title>\n<path fill=\"none\" stroke=\"black\" d=\"M622.86,-365.31C613.12,-356.33 601.04,-345.19 590.4,-335.39\"/>\n<polygon fill=\"black\" stroke=\"black\" points=\"592.69,-332.73 582.97,-328.53 587.95,-337.88 592.69,-332.73\"/>\n</g>\n<!-- 136647897393968 -->\n<g id=\"node5\" class=\"node\">\n<title>136647897393968</title>\n<polygon fill=\"none\" stroke=\"black\" points=\"748,-292.5 748,-328.5 887,-328.5 887,-292.5 748,-292.5\"/>\n<text text-anchor=\"middle\" x=\"786.5\" y=\"-306.8\" font-family=\"Times,serif\" font-size=\"14.00\">conv1d_10</text>\n<polyline fill=\"none\" stroke=\"black\" points=\"825,-292.5 825,-328.5 \"/>\n<text text-anchor=\"middle\" x=\"856\" y=\"-306.8\" font-family=\"Times,serif\" font-size=\"14.00\">Conv1D</text>\n</g>\n<!-- 136647897395936&#45;&gt;136647897393968 -->\n<g id=\"edge4\" class=\"edge\">\n<title>136647897395936-&gt;136647897393968</title>\n<path fill=\"none\" stroke=\"black\" d=\"M683.66,-365.49C708.29,-355.56 739.58,-342.93 765.71,-332.39\"/>\n<polygon fill=\"black\" stroke=\"black\" points=\"767.11,-335.6 775.08,-328.61 764.49,-329.11 767.11,-335.6\"/>\n</g>\n<!-- 136647612401312 -->\n<g id=\"node6\" class=\"node\">\n<title>136647612401312</title>\n<polygon fill=\"none\" stroke=\"black\" points=\"1054,-292.5 1054,-328.5 1193,-328.5 1193,-292.5 1054,-292.5\"/>\n<text text-anchor=\"middle\" x=\"1092.5\" y=\"-306.8\" font-family=\"Times,serif\" font-size=\"14.00\">conv1d_11</text>\n<polyline fill=\"none\" stroke=\"black\" points=\"1131,-292.5 1131,-328.5 \"/>\n<text text-anchor=\"middle\" x=\"1162\" y=\"-306.8\" font-family=\"Times,serif\" font-size=\"14.00\">Conv1D</text>\n</g>\n<!-- 136647897395936&#45;&gt;136647612401312 -->\n<g id=\"edge5\" class=\"edge\">\n<title>136647897395936-&gt;136647612401312</title>\n<path fill=\"none\" stroke=\"black\" d=\"M756.95,-365.49C845.44,-352.46 965.27,-334.81 1043.45,-323.29\"/>\n<polygon fill=\"black\" stroke=\"black\" points=\"1044.34,-326.7 1053.73,-321.78 1043.32,-319.77 1044.34,-326.7\"/>\n</g>\n<!-- 136656965326048 -->\n<g id=\"node7\" class=\"node\">\n<title>136656965326048</title>\n<polygon fill=\"none\" stroke=\"black\" points=\"0,-219.5 0,-255.5 331,-255.5 331,-219.5 0,-219.5\"/>\n<text text-anchor=\"middle\" x=\"87\" y=\"-233.8\" font-family=\"Times,serif\" font-size=\"14.00\">global_average_pooling1d_8</text>\n<polyline fill=\"none\" stroke=\"black\" points=\"174,-219.5 174,-255.5 \"/>\n<text text-anchor=\"middle\" x=\"252.5\" y=\"-233.8\" font-family=\"Times,serif\" font-size=\"14.00\">GlobalAveragePooling1D</text>\n</g>\n<!-- 136647897395264&#45;&gt;136656965326048 -->\n<g id=\"edge6\" class=\"edge\">\n<title>136647897395264-&gt;136656965326048</title>\n<path fill=\"none\" stroke=\"black\" d=\"M279.57,-292.49C258.94,-282.73 232.84,-270.38 210.82,-259.95\"/>\n<polygon fill=\"black\" stroke=\"black\" points=\"212.19,-256.73 201.66,-255.61 209.2,-263.06 212.19,-256.73\"/>\n</g>\n<!-- 136656967553120 -->\n<g id=\"node8\" class=\"node\">\n<title>136656967553120</title>\n<polygon fill=\"none\" stroke=\"black\" points=\"349,-219.5 349,-255.5 680,-255.5 680,-219.5 349,-219.5\"/>\n<text text-anchor=\"middle\" x=\"436\" y=\"-233.8\" font-family=\"Times,serif\" font-size=\"14.00\">global_average_pooling1d_9</text>\n<polyline fill=\"none\" stroke=\"black\" points=\"523,-219.5 523,-255.5 \"/>\n<text text-anchor=\"middle\" x=\"601.5\" y=\"-233.8\" font-family=\"Times,serif\" font-size=\"14.00\">GlobalAveragePooling1D</text>\n</g>\n<!-- 136647897294800&#45;&gt;136656967553120 -->\n<g id=\"edge7\" class=\"edge\">\n<title>136647897294800-&gt;136656967553120</title>\n<path fill=\"none\" stroke=\"black\" d=\"M552.4,-292.31C546.38,-283.77 538.99,-273.27 532.33,-263.82\"/>\n<polygon fill=\"black\" stroke=\"black\" points=\"535.11,-261.69 526.49,-255.53 529.39,-265.72 535.11,-261.69\"/>\n</g>\n<!-- 136647897428416 -->\n<g id=\"node9\" class=\"node\">\n<title>136647897428416</title>\n<polygon fill=\"none\" stroke=\"black\" points=\"698.5,-219.5 698.5,-255.5 1036.5,-255.5 1036.5,-219.5 698.5,-219.5\"/>\n<text text-anchor=\"middle\" x=\"789\" y=\"-233.8\" font-family=\"Times,serif\" font-size=\"14.00\">global_average_pooling1d_10</text>\n<polyline fill=\"none\" stroke=\"black\" points=\"879.5,-219.5 879.5,-255.5 \"/>\n<text text-anchor=\"middle\" x=\"958\" y=\"-233.8\" font-family=\"Times,serif\" font-size=\"14.00\">GlobalAveragePooling1D</text>\n</g>\n<!-- 136647897393968&#45;&gt;136647897428416 -->\n<g id=\"edge8\" class=\"edge\">\n<title>136647897393968-&gt;136647897428416</title>\n<path fill=\"none\" stroke=\"black\" d=\"M829.6,-292.31C835.62,-283.77 843.01,-273.27 849.67,-263.82\"/>\n<polygon fill=\"black\" stroke=\"black\" points=\"852.61,-265.72 855.51,-255.53 846.89,-261.69 852.61,-265.72\"/>\n</g>\n<!-- 136647897419008 -->\n<g id=\"node10\" class=\"node\">\n<title>136647897419008</title>\n<polygon fill=\"none\" stroke=\"black\" points=\"1054.5,-219.5 1054.5,-255.5 1392.5,-255.5 1392.5,-219.5 1054.5,-219.5\"/>\n<text text-anchor=\"middle\" x=\"1145\" y=\"-233.8\" font-family=\"Times,serif\" font-size=\"14.00\">global_average_pooling1d_11</text>\n<polyline fill=\"none\" stroke=\"black\" points=\"1235.5,-219.5 1235.5,-255.5 \"/>\n<text text-anchor=\"middle\" x=\"1314\" y=\"-233.8\" font-family=\"Times,serif\" font-size=\"14.00\">GlobalAveragePooling1D</text>\n</g>\n<!-- 136647612401312&#45;&gt;136647897419008 -->\n<g id=\"edge9\" class=\"edge\">\n<title>136647612401312-&gt;136647897419008</title>\n<path fill=\"none\" stroke=\"black\" d=\"M1147.45,-292.49C1160.47,-283.25 1176.75,-271.69 1190.91,-261.64\"/>\n<polygon fill=\"black\" stroke=\"black\" points=\"1193.27,-264.26 1199.4,-255.61 1189.22,-258.55 1193.27,-264.26\"/>\n</g>\n<!-- 136647898574000 -->\n<g id=\"node11\" class=\"node\">\n<title>136647898574000</title>\n<polygon fill=\"none\" stroke=\"black\" points=\"602,-146.5 602,-182.5 779,-182.5 779,-146.5 602,-146.5\"/>\n<text text-anchor=\"middle\" x=\"649\" y=\"-160.8\" font-family=\"Times,serif\" font-size=\"14.00\">concatenate_2</text>\n<polyline fill=\"none\" stroke=\"black\" points=\"696,-146.5 696,-182.5 \"/>\n<text text-anchor=\"middle\" x=\"737.5\" y=\"-160.8\" font-family=\"Times,serif\" font-size=\"14.00\">Concatenate</text>\n</g>\n<!-- 136656965326048&#45;&gt;136647898574000 -->\n<g id=\"edge10\" class=\"edge\">\n<title>136656965326048-&gt;136647898574000</title>\n<path fill=\"none\" stroke=\"black\" d=\"M291.25,-219.49C383.46,-207.02 506.9,-190.33 591.99,-178.82\"/>\n<polygon fill=\"black\" stroke=\"black\" points=\"592.47,-182.29 601.91,-177.48 591.54,-175.35 592.47,-182.29\"/>\n</g>\n<!-- 136656967553120&#45;&gt;136647898574000 -->\n<g id=\"edge11\" class=\"edge\">\n<title>136656967553120-&gt;136647898574000</title>\n<path fill=\"none\" stroke=\"black\" d=\"M556.66,-219.49C581.29,-209.56 612.58,-196.93 638.71,-186.39\"/>\n<polygon fill=\"black\" stroke=\"black\" points=\"640.11,-189.6 648.08,-182.61 637.49,-183.11 640.11,-189.6\"/>\n</g>\n<!-- 136647897428416&#45;&gt;136647898574000 -->\n<g id=\"edge12\" class=\"edge\">\n<title>136647897428416-&gt;136647898574000</title>\n<path fill=\"none\" stroke=\"black\" d=\"M825.1,-219.49C800.33,-209.56 768.86,-196.93 742.59,-186.39\"/>\n<polygon fill=\"black\" stroke=\"black\" points=\"743.75,-183.09 733.16,-182.61 741.14,-189.58 743.75,-183.09\"/>\n</g>\n<!-- 136647897419008&#45;&gt;136647898574000 -->\n<g id=\"edge13\" class=\"edge\">\n<title>136647897419008-&gt;136647898574000</title>\n<path fill=\"none\" stroke=\"black\" d=\"M1095.83,-219.49C1001.78,-206.96 875.71,-190.17 789.28,-178.66\"/>\n<polygon fill=\"black\" stroke=\"black\" points=\"789.58,-175.17 779.21,-177.32 788.66,-182.11 789.58,-175.17\"/>\n</g>\n<!-- 136647897430144 -->\n<g id=\"node12\" class=\"node\">\n<title>136647897430144</title>\n<polygon fill=\"none\" stroke=\"black\" points=\"635,-73.5 635,-109.5 746,-109.5 746,-73.5 635,-73.5\"/>\n<text text-anchor=\"middle\" x=\"665.5\" y=\"-87.8\" font-family=\"Times,serif\" font-size=\"14.00\">dense_6</text>\n<polyline fill=\"none\" stroke=\"black\" points=\"696,-73.5 696,-109.5 \"/>\n<text text-anchor=\"middle\" x=\"721\" y=\"-87.8\" font-family=\"Times,serif\" font-size=\"14.00\">Dense</text>\n</g>\n<!-- 136647898574000&#45;&gt;136647897430144 -->\n<g id=\"edge14\" class=\"edge\">\n<title>136647898574000-&gt;136647897430144</title>\n<path fill=\"none\" stroke=\"black\" d=\"M690.5,-146.31C690.5,-138.29 690.5,-128.55 690.5,-119.57\"/>\n<polygon fill=\"black\" stroke=\"black\" points=\"694,-119.53 690.5,-109.53 687,-119.53 694,-119.53\"/>\n</g>\n<!-- 136647897430624 -->\n<g id=\"node13\" class=\"node\">\n<title>136647897430624</title>\n<polygon fill=\"none\" stroke=\"black\" points=\"635,-0.5 635,-36.5 746,-36.5 746,-0.5 635,-0.5\"/>\n<text text-anchor=\"middle\" x=\"665.5\" y=\"-14.8\" font-family=\"Times,serif\" font-size=\"14.00\">dense_7</text>\n<polyline fill=\"none\" stroke=\"black\" points=\"696,-0.5 696,-36.5 \"/>\n<text text-anchor=\"middle\" x=\"721\" y=\"-14.8\" font-family=\"Times,serif\" font-size=\"14.00\">Dense</text>\n</g>\n<!-- 136647897430144&#45;&gt;136647897430624 -->\n<g id=\"edge15\" class=\"edge\">\n<title>136647897430144-&gt;136647897430624</title>\n<path fill=\"none\" stroke=\"black\" d=\"M690.5,-73.31C690.5,-65.29 690.5,-55.55 690.5,-46.57\"/>\n<polygon fill=\"black\" stroke=\"black\" points=\"694,-46.53 690.5,-36.53 687,-46.53 694,-46.53\"/>\n</g>\n</g>\n</svg>"
          },
          "metadata": {},
          "execution_count": 117
        }
      ]
    },
    {
      "cell_type": "markdown",
      "source": [
        "#### AUC ROC"
      ],
      "metadata": {
        "id": "7ppCbeOIux_K"
      }
    },
    {
      "cell_type": "code",
      "source": [
        "import numpy as np\n",
        "import matplotlib.pyplot as plt\n",
        "from sklearn.metrics import roc_curve, auc\n",
        "\n",
        "y_pred_probs = model_cnn.predict(x_test).ravel()\n",
        "\n",
        "fpr, tpr, thresholds = roc_curve(y_test, y_pred_probs)\n",
        "roc_auc = auc(fpr, tpr)\n",
        "\n",
        "plt.figure(figsize=(8, 6))\n",
        "plt.plot(fpr, tpr, color='darkorange', lw=2, label='ROC curve (area = %0.2f)' % roc_auc)\n",
        "plt.plot([0, 1], [0, 1], color='navy', lw=2, linestyle='--')\n",
        "plt.xlim([0.0, 1.0])\n",
        "plt.ylim([0.0, 1.05])\n",
        "plt.xlabel('False Positive Rate')\n",
        "plt.ylabel('True Positive Rate')\n",
        "plt.title('Receiver Operating Characteristic')\n",
        "plt.legend(loc=\"lower right\")\n",
        "plt.show()"
      ],
      "metadata": {
        "colab": {
          "base_uri": "https://localhost:8080/",
          "height": 576
        },
        "id": "-0WxR1k3dh75",
        "outputId": "4c0b4552-a87c-4ed8-a2d0-d0a6b32ffdcd"
      },
      "execution_count": null,
      "outputs": [
        {
          "output_type": "stream",
          "name": "stdout",
          "text": [
            "582/582 [==============================] - 2s 3ms/step\n"
          ]
        },
        {
          "output_type": "display_data",
          "data": {
            "text/plain": [
              "<Figure size 800x600 with 1 Axes>"
            ],
            "image/png": "[encoded data removed]"
          },
          "metadata": {}
        }
      ]
    },
    {
      "cell_type": "markdown",
      "source": [
        "#### Training and Validation Loss Over Epochs"
      ],
      "metadata": {
        "id": "9-CDUps0u2Iq"
      }
    },
    {
      "cell_type": "code",
      "execution_count": null,
      "metadata": {
        "id": "u0xyOaWA6x7N",
        "colab": {
          "base_uri": "https://localhost:8080/",
          "height": 462
        },
        "outputId": "43d198a0-9a12-4728-a647-b4d3a8876296"
      },
      "outputs": [
        {
          "output_type": "display_data",
          "data": {
            "text/plain": [
              "<Figure size 1000x600 with 1 Axes>"
            ],
            "image/png": "[encoded data removed]"
          },
          "metadata": {}
        }
      ],
      "source": [
        "import matplotlib.pyplot as plt\n",
        "\n",
        "train_loss = train_history.history['loss']\n",
        "val_loss = train_history.history['val_loss']\n",
        "epochs = range(1, len(train_loss) + 1)\n",
        "\n",
        "plt.figure(figsize=(10, 6))\n",
        "plt.plot(epochs, train_loss, 'bo-', label='Training Loss')\n",
        "plt.plot(epochs, val_loss, 'ro-', label='Validation Loss')\n",
        "plt.title('Training and Validation Loss Over Epochs')\n",
        "plt.xlabel('Epochs')\n",
        "plt.ylabel('Loss')\n",
        "plt.legend()\n",
        "\n",
        "plt.show()"
      ]
    },
    {
      "cell_type": "markdown",
      "source": [
        "#### Training and Validation Accuracy Over Epochs"
      ],
      "metadata": {
        "id": "mbskRnMbu7RC"
      }
    },
    {
      "cell_type": "code",
      "source": [
        "import matplotlib.pyplot as plt\n",
        "\n",
        "train_accuracy = train_history.history['accuracy']\n",
        "val_accuracy = train_history.history['val_accuracy']\n",
        "epochs = range(1, len(train_accuracy) + 1)\n",
        "\n",
        "plt.figure(figsize=(10, 6))\n",
        "plt.plot(epochs, train_accuracy, 'bo-', label='Training Accuracy')\n",
        "plt.plot(epochs, val_accuracy, 'ro-', label='Validation Accuracy')\n",
        "plt.title('Training and Validation Accuracy Over Epochs')\n",
        "plt.xlabel('Epochs')\n",
        "plt.ylabel('Accuracy')\n",
        "plt.legend()\n",
        "\n",
        "plt.show()"
      ],
      "metadata": {
        "colab": {
          "base_uri": "https://localhost:8080/",
          "height": 584
        },
        "id": "S2krZgsltlSK",
        "outputId": "fdc0a3c4-9bfd-47d3-b555-a86c9a888fcd"
      },
      "execution_count": null,
      "outputs": [
        {
          "output_type": "display_data",
          "data": {
            "text/plain": [
              "<Figure size 1000x600 with 1 Axes>"
            ],
            "image/png": "[encoded data removed]"
          },
          "metadata": {}
        }
      ]
    },
    {
      "cell_type": "markdown",
      "source": [
        "### CNN with HyperParameter Tuning"
      ],
      "metadata": {
        "id": "qfcPihyau_FR"
      }
    },
    {
      "cell_type": "code",
      "source": [
        "from tensorflow.keras.models import Model\n",
        "from tensorflow.keras.layers import Input, Embedding, Conv1D, GlobalAveragePooling1D, Dense, SpatialDropout1D, Concatenate\n",
        "from tensorflow.keras.optimizers import Adam\n",
        "from keras_tuner import HyperModel, Hyperband\n",
        "\n",
        "class CNNHyperModel(HyperModel):\n",
        "    def __init__(self, input_shape):\n",
        "        self.input_shape = input_shape\n",
        "\n",
        "    def build(self, hp):\n",
        "        input_word_ids = Input(shape=self.input_shape, dtype=tf.float32, name=\"input_word_ids\")\n",
        "        embedding = SpatialDropout1D(0.3)(input_word_ids)\n",
        "\n",
        "        for i in range(hp.Int('num_conv_layers', 1, 3)):\n",
        "            num_filters = hp.Int('filters_' + str(i), min_value=32, max_value=128, step=32)\n",
        "            kernel_size = hp.Choice('kernel_size_' + str(i), values=[2, 3, 4, 5])\n",
        "            embedding = Conv1D(filters=num_filters, kernel_size=kernel_size, activation='relu')(embedding)\n",
        "\n",
        "        conc = GlobalAveragePooling1D()(embedding)\n",
        "        conc = Dense(units=hp.Int('units', min_value=64, max_value=256, step=64), activation='relu')(conc)\n",
        "        output = Dense(1, activation='sigmoid')(conc)\n",
        "\n",
        "        model = Model(inputs=input_word_ids, outputs=output)\n",
        "        model.compile(\n",
        "            optimizer=Adam(\n",
        "                hp.Float('learning_rate', min_value=1e-4, max_value=1e-2, sampling='log')\n",
        "            ),\n",
        "            loss='binary_crossentropy',\n",
        "            metrics=['accuracy']\n",
        "        )\n",
        "        return model\n",
        "\n",
        "input_shape = (100, 50)\n",
        "\n",
        "tuner = Hyperband(\n",
        "    hypermodel,\n",
        "    objective='val_accuracy',\n",
        "    max_epochs=10,\n",
        "    hyperband_iterations=2,\n",
        "    directory='hyperband',\n",
        "    project_name='cnn_tuning'\n",
        ")\n",
        "\n",
        "tuner.search(\n",
        "    x_train, y_train,\n",
        "    epochs=10,\n",
        "    validation_data=(x_val, y_val),\n",
        "    callbacks=[tf.keras.callbacks.EarlyStopping(patience=1)]\n",
        ")\n",
        "\n",
        "best_model = tuner.get_best_models(num_models=1)[0]\n",
        "\n",
        "best_model.evaluate(x_test, y_test)"
      ],
      "metadata": {
        "id": "usgYU1k-762_",
        "colab": {
          "base_uri": "https://localhost:8080/"
        },
        "outputId": "75d9c977-37c8-46a1-9880-f9bfa555edac"
      },
      "execution_count": null,
      "outputs": [
        {
          "output_type": "stream",
          "name": "stdout",
          "text": [
            "Trial 60 Complete [00h 01m 04s]\n",
            "val_accuracy: 0.9515340328216553\n",
            "\n",
            "Best val_accuracy So Far: 0.9650207161903381\n",
            "Total elapsed time: 00h 34m 37s\n",
            "582/582 [==============================] - 2s 2ms/step - loss: 0.0942 - accuracy: 0.9653\n"
          ]
        },
        {
          "output_type": "execute_result",
          "data": {
            "text/plain": [
              "[0.0942266583442688, 0.9652893543243408]"
            ]
          },
          "metadata": {},
          "execution_count": 122
        }
      ]
    },
    {
      "cell_type": "code",
      "source": [
        "best_model."
      ],
      "metadata": {
        "colab": {
          "base_uri": "https://localhost:8080/"
        },
        "id": "SAaf4R0b_-9X",
        "outputId": "3e84e76f-b25e-41ce-b56c-9d115180a86c"
      },
      "execution_count": null,
      "outputs": [
        {
          "output_type": "execute_result",
          "data": {
            "text/plain": [
              "<keras.src.callbacks.History at 0x7c47d1521e10>"
            ]
          },
          "metadata": {},
          "execution_count": 140
        }
      ]
    },
    {
      "cell_type": "code",
      "source": [
        "model_path_hyperband = '/content/drive/My Drive/DS301GroupProject/model_cnn_glove_hyperband'\n",
        "best_model.save(model_path_hyperband, save_format='tf')"
      ],
      "metadata": {
        "id": "hk-M8W-1syS4"
      },
      "execution_count": null,
      "outputs": []
    },
    {
      "cell_type": "markdown",
      "metadata": {
        "id": "y-0SK-UjvWbY"
      },
      "source": [
        "### Visualize network architecture + data visualization"
      ]
    },
    {
      "cell_type": "markdown",
      "source": [
        "#### Model Summary"
      ],
      "metadata": {
        "id": "3QcS15XSvWbZ"
      }
    },
    {
      "cell_type": "code",
      "source": [
        "best_model.summary()"
      ],
      "metadata": {
        "colab": {
          "base_uri": "https://localhost:8080/"
        },
        "outputId": "18a63336-f431-4750-c877-f1a677617659",
        "id": "6aPTzcAlvWbZ"
      },
      "execution_count": null,
      "outputs": [
        {
          "output_type": "stream",
          "name": "stdout",
          "text": [
            "Model: \"model\"\n",
            "_________________________________________________________________\n",
            " Layer (type)                Output Shape              Param #   \n",
            "=================================================================\n",
            " input_word_ids (InputLayer  [(None, 100, 50)]         0         \n",
            " )                                                               \n",
            "                                                                 \n",
            " spatial_dropout1d (Spatial  (None, 100, 50)           0         \n",
            " Dropout1D)                                                      \n",
            "                                                                 \n",
            " conv1d (Conv1D)             (None, 98, 96)            14496     \n",
            "                                                                 \n",
            " conv1d_1 (Conv1D)           (None, 95, 64)            24640     \n",
            "                                                                 \n",
            " global_average_pooling1d (  (None, 64)                0         \n",
            " GlobalAveragePooling1D)                                         \n",
            "                                                                 \n",
            " dense (Dense)               (None, 128)               8320      \n",
            "                                                                 \n",
            " dense_1 (Dense)             (None, 1)                 129       \n",
            "                                                                 \n",
            "=================================================================\n",
            "Total params: 47585 (185.88 KB)\n",
            "Trainable params: 47585 (185.88 KB)\n",
            "Non-trainable params: 0 (0.00 Byte)\n",
            "_________________________________________________________________\n"
          ]
        }
      ]
    },
    {
      "cell_type": "markdown",
      "source": [
        "#### Model Structure"
      ],
      "metadata": {
        "id": "NF-2-CNQvWba"
      }
    },
    {
      "cell_type": "code",
      "source": [
        "SVG(tf.keras.utils.model_to_dot(best_model, dpi=70).create(prog='dot', format='svg'))"
      ],
      "metadata": {
        "colab": {
          "base_uri": "https://localhost:8080/",
          "height": 648
        },
        "outputId": "5da70a13-5c55-4700-f34e-54792ea65941",
        "id": "2d6M5TYEvWba"
      },
      "execution_count": null,
      "outputs": [
        {
          "output_type": "execute_result",
          "data": {
            "text/plain": [
              "<IPython.core.display.SVG object>"
            ],
            "image/svg+xml": "<svg xmlns=\"http://www.w3.org/2000/svg\" xmlns:xlink=\"http://www.w3.org/1999/xlink\" width=\"317pt\" height=\"470pt\" viewBox=\"0.00 0.00 326.00 483.00\">\n<g id=\"graph0\" class=\"graph\" transform=\"scale(1.03 1.03) rotate(0) translate(4 479)\">\n<title>G</title>\n<polygon fill=\"white\" stroke=\"transparent\" points=\"-4,4 -4,-479 322,-479 322,4 -4,4\"/>\n<!-- 136638790467648 -->\n<g id=\"node1\" class=\"node\">\n<title>136638790467648</title>\n<polygon fill=\"none\" stroke=\"black\" points=\"70,-438.5 70,-474.5 248,-474.5 248,-438.5 70,-438.5\"/>\n<text text-anchor=\"middle\" x=\"120.5\" y=\"-452.8\" font-family=\"Times,serif\" font-size=\"14.00\">input_word_ids</text>\n<polyline fill=\"none\" stroke=\"black\" points=\"171,-438.5 171,-474.5 \"/>\n<text text-anchor=\"middle\" x=\"209.5\" y=\"-452.8\" font-family=\"Times,serif\" font-size=\"14.00\">InputLayer</text>\n</g>\n<!-- 136638790472352 -->\n<g id=\"node2\" class=\"node\">\n<title>136638790472352</title>\n<polygon fill=\"none\" stroke=\"black\" points=\"44,-365.5 44,-401.5 274,-401.5 274,-365.5 44,-365.5\"/>\n<text text-anchor=\"middle\" x=\"101\" y=\"-379.8\" font-family=\"Times,serif\" font-size=\"14.00\">spatial_dropout1d</text>\n<polyline fill=\"none\" stroke=\"black\" points=\"158,-365.5 158,-401.5 \"/>\n<text text-anchor=\"middle\" x=\"216\" y=\"-379.8\" font-family=\"Times,serif\" font-size=\"14.00\">SpatialDropout1D</text>\n</g>\n<!-- 136638790467648&#45;&gt;136638790472352 -->\n<g id=\"edge1\" class=\"edge\">\n<title>136638790467648-&gt;136638790472352</title>\n<path fill=\"none\" stroke=\"black\" d=\"M159,-438.31C159,-430.29 159,-420.55 159,-411.57\"/>\n<polygon fill=\"black\" stroke=\"black\" points=\"162.5,-411.53 159,-401.53 155.5,-411.53 162.5,-411.53\"/>\n</g>\n<!-- 136638790473312 -->\n<g id=\"node3\" class=\"node\">\n<title>136638790473312</title>\n<polygon fill=\"none\" stroke=\"black\" points=\"100,-292.5 100,-328.5 218,-328.5 218,-292.5 100,-292.5\"/>\n<text text-anchor=\"middle\" x=\"128\" y=\"-306.8\" font-family=\"Times,serif\" font-size=\"14.00\">conv1d</text>\n<polyline fill=\"none\" stroke=\"black\" points=\"156,-292.5 156,-328.5 \"/>\n<text text-anchor=\"middle\" x=\"187\" y=\"-306.8\" font-family=\"Times,serif\" font-size=\"14.00\">Conv1D</text>\n</g>\n<!-- 136638790472352&#45;&gt;136638790473312 -->\n<g id=\"edge2\" class=\"edge\">\n<title>136638790472352-&gt;136638790473312</title>\n<path fill=\"none\" stroke=\"black\" d=\"M159,-365.31C159,-357.29 159,-347.55 159,-338.57\"/>\n<polygon fill=\"black\" stroke=\"black\" points=\"162.5,-338.53 159,-328.53 155.5,-338.53 162.5,-338.53\"/>\n</g>\n<!-- 136638790475376 -->\n<g id=\"node4\" class=\"node\">\n<title>136638790475376</title>\n<polygon fill=\"none\" stroke=\"black\" points=\"93,-219.5 93,-255.5 225,-255.5 225,-219.5 93,-219.5\"/>\n<text text-anchor=\"middle\" x=\"128\" y=\"-233.8\" font-family=\"Times,serif\" font-size=\"14.00\">conv1d_1</text>\n<polyline fill=\"none\" stroke=\"black\" points=\"163,-219.5 163,-255.5 \"/>\n<text text-anchor=\"middle\" x=\"194\" y=\"-233.8\" font-family=\"Times,serif\" font-size=\"14.00\">Conv1D</text>\n</g>\n<!-- 136638790473312&#45;&gt;136638790475376 -->\n<g id=\"edge3\" class=\"edge\">\n<title>136638790473312-&gt;136638790475376</title>\n<path fill=\"none\" stroke=\"black\" d=\"M159,-292.31C159,-284.29 159,-274.55 159,-265.57\"/>\n<polygon fill=\"black\" stroke=\"black\" points=\"162.5,-265.53 159,-255.53 155.5,-265.53 162.5,-265.53\"/>\n</g>\n<!-- 136638790473360 -->\n<g id=\"node5\" class=\"node\">\n<title>136638790473360</title>\n<polygon fill=\"none\" stroke=\"black\" points=\"0,-146.5 0,-182.5 318,-182.5 318,-146.5 0,-146.5\"/>\n<text text-anchor=\"middle\" x=\"80.5\" y=\"-160.8\" font-family=\"Times,serif\" font-size=\"14.00\">global_average_pooling1d</text>\n<polyline fill=\"none\" stroke=\"black\" points=\"161,-146.5 161,-182.5 \"/>\n<text text-anchor=\"middle\" x=\"239.5\" y=\"-160.8\" font-family=\"Times,serif\" font-size=\"14.00\">GlobalAveragePooling1D</text>\n</g>\n<!-- 136638790475376&#45;&gt;136638790473360 -->\n<g id=\"edge4\" class=\"edge\">\n<title>136638790475376-&gt;136638790473360</title>\n<path fill=\"none\" stroke=\"black\" d=\"M159,-219.31C159,-211.29 159,-201.55 159,-192.57\"/>\n<polygon fill=\"black\" stroke=\"black\" points=\"162.5,-192.53 159,-182.53 155.5,-192.53 162.5,-192.53\"/>\n</g>\n<!-- 136638790480656 -->\n<g id=\"node6\" class=\"node\">\n<title>136638790480656</title>\n<polygon fill=\"none\" stroke=\"black\" points=\"110.5,-73.5 110.5,-109.5 207.5,-109.5 207.5,-73.5 110.5,-73.5\"/>\n<text text-anchor=\"middle\" x=\"134\" y=\"-87.8\" font-family=\"Times,serif\" font-size=\"14.00\">dense</text>\n<polyline fill=\"none\" stroke=\"black\" points=\"157.5,-73.5 157.5,-109.5 \"/>\n<text text-anchor=\"middle\" x=\"182.5\" y=\"-87.8\" font-family=\"Times,serif\" font-size=\"14.00\">Dense</text>\n</g>\n<!-- 136638790473360&#45;&gt;136638790480656 -->\n<g id=\"edge5\" class=\"edge\">\n<title>136638790473360-&gt;136638790480656</title>\n<path fill=\"none\" stroke=\"black\" d=\"M159,-146.31C159,-138.29 159,-128.55 159,-119.57\"/>\n<polygon fill=\"black\" stroke=\"black\" points=\"162.5,-119.53 159,-109.53 155.5,-119.53 162.5,-119.53\"/>\n</g>\n<!-- 136638790478160 -->\n<g id=\"node7\" class=\"node\">\n<title>136638790478160</title>\n<polygon fill=\"none\" stroke=\"black\" points=\"103.5,-0.5 103.5,-36.5 214.5,-36.5 214.5,-0.5 103.5,-0.5\"/>\n<text text-anchor=\"middle\" x=\"134\" y=\"-14.8\" font-family=\"Times,serif\" font-size=\"14.00\">dense_1</text>\n<polyline fill=\"none\" stroke=\"black\" points=\"164.5,-0.5 164.5,-36.5 \"/>\n<text text-anchor=\"middle\" x=\"189.5\" y=\"-14.8\" font-family=\"Times,serif\" font-size=\"14.00\">Dense</text>\n</g>\n<!-- 136638790480656&#45;&gt;136638790478160 -->\n<g id=\"edge6\" class=\"edge\">\n<title>136638790480656-&gt;136638790478160</title>\n<path fill=\"none\" stroke=\"black\" d=\"M159,-73.31C159,-65.29 159,-55.55 159,-46.57\"/>\n<polygon fill=\"black\" stroke=\"black\" points=\"162.5,-46.53 159,-36.53 155.5,-46.53 162.5,-46.53\"/>\n</g>\n</g>\n</svg>"
          },
          "metadata": {},
          "execution_count": 130
        }
      ]
    },
    {
      "cell_type": "markdown",
      "source": [
        "#### AUC ROC"
      ],
      "metadata": {
        "id": "QPdufxzPvWba"
      }
    },
    {
      "cell_type": "code",
      "source": [
        "import numpy as np\n",
        "import matplotlib.pyplot as plt\n",
        "from sklearn.metrics import roc_curve, auc\n",
        "\n",
        "y_pred_probs = best_model.predict(x_test).ravel()\n",
        "\n",
        "fpr, tpr, thresholds = roc_curve(y_test, y_pred_probs)\n",
        "roc_auc = auc(fpr, tpr)\n",
        "\n",
        "plt.figure(figsize=(8, 6))\n",
        "plt.plot(fpr, tpr, color='darkorange', lw=2, label='ROC curve (area = %0.2f)' % roc_auc)\n",
        "plt.plot([0, 1], [0, 1], color='navy', lw=2, linestyle='--')\n",
        "plt.xlim([0.0, 1.0])\n",
        "plt.ylim([0.0, 1.05])\n",
        "plt.xlabel('False Positive Rate')\n",
        "plt.ylabel('True Positive Rate')\n",
        "plt.title('Receiver Operating Characteristic')\n",
        "plt.legend(loc=\"lower right\")\n",
        "plt.show()"
      ],
      "metadata": {
        "colab": {
          "base_uri": "https://localhost:8080/",
          "height": 576
        },
        "outputId": "ae8744bc-1deb-4b34-b541-5257fb121a45",
        "id": "HinJDfcSvWba"
      },
      "execution_count": null,
      "outputs": [
        {
          "output_type": "stream",
          "name": "stdout",
          "text": [
            "582/582 [==============================] - 1s 2ms/step\n"
          ]
        },
        {
          "output_type": "display_data",
          "data": {
            "text/plain": [
              "<Figure size 800x600 with 1 Axes>"
            ],
            "image/png": "[encoded data removed]"
          },
          "metadata": {}
        }
      ]
    },
    {
      "cell_type": "code",
      "source": [
        "best_model.metrics"
      ],
      "metadata": {
        "colab": {
          "base_uri": "https://localhost:8080/"
        },
        "id": "-n7JCvXJxDOm",
        "outputId": "12bae47d-95a5-4a32-b7ea-8180b8e932b9"
      },
      "execution_count": null,
      "outputs": [
        {
          "output_type": "execute_result",
          "data": {
            "text/plain": [
              "[<keras.src.metrics.base_metric.Mean at 0x7c45b2941c30>,\n",
              " <keras.src.metrics.base_metric.MeanMetricWrapper at 0x7c45b2952da0>]"
            ]
          },
          "metadata": {},
          "execution_count": 133
        }
      ]
    },
    {
      "cell_type": "code",
      "source": [
        "model_path = '/content/drive/My Drive/DS301GroupProject/model_cnn_glove'\n",
        "model_cnn.save(model_path, save_format='tf')"
      ],
      "metadata": {
        "id": "fc6TGnfLvWbb"
      },
      "execution_count": null,
      "outputs": []
    },
    {
      "cell_type": "code",
      "source": [],
      "metadata": {
        "id": "PbLjPOp0RwIb"
      },
      "execution_count": null,
      "outputs": []
    },
    {
      "cell_type": "code",
      "source": [
        "y_pred = best_model.predict(x_test)\n",
        "y_pred_classes = (y_pred > 0.5).astype(\"int32\")\n",
        "\n",
        "conf_matrix = confusion_matrix(y_test, y_pred_classes)\n",
        "print(\"Confusion Matrix:\")\n",
        "print(conf_matrix)\n",
        "print()\n",
        "\n",
        "clf_report = classification_report(y_test, y_pred_classes)\n",
        "print(\"Classification Report:\")\n",
        "print(clf_report)\n",
        "print()\n",
        "\n",
        "loss, accuracy = best_model.evaluate(x_test, y_test)\n",
        "print(\"Test Accuracy:\", accuracy)"
      ],
      "metadata": {
        "colab": {
          "base_uri": "https://localhost:8080/"
        },
        "id": "8WDa7XpitdwQ",
        "outputId": "b3527e68-2c3c-4611-f8af-007b6750af12"
      },
      "execution_count": null,
      "outputs": [
        {
          "output_type": "stream",
          "name": "stdout",
          "text": [
            "582/582 [==============================] - 1s 2ms/step\n",
            "Confusion Matrix:\n",
            "[[10211   305]\n",
            " [  341  7754]]\n",
            "\n",
            "Classification Report:\n",
            "              precision    recall  f1-score   support\n",
            "\n",
            "           0       0.97      0.97      0.97     10516\n",
            "           1       0.96      0.96      0.96      8095\n",
            "\n",
            "    accuracy                           0.97     18611\n",
            "   macro avg       0.96      0.96      0.96     18611\n",
            "weighted avg       0.97      0.97      0.97     18611\n",
            "\n",
            "\n",
            "582/582 [==============================] - 2s 3ms/step - loss: 0.0942 - accuracy: 0.9653\n",
            "Test Accuracy: 0.9652893543243408\n"
          ]
        }
      ]
    },
    {
      "cell_type": "markdown",
      "source": [
        "## Generalization Test"
      ],
      "metadata": {
        "id": "8kNwzVCTRVDT"
      }
    },
    {
      "cell_type": "code",
      "source": [
        "from google.colab import drive\n",
        "drive.mount('/content/drive')"
      ],
      "metadata": {
        "colab": {
          "base_uri": "https://localhost:8080/"
        },
        "id": "Uol6qLjmR1R4",
        "outputId": "d42716e6-377c-4a88-d298-e322c48852cf"
      },
      "execution_count": 2,
      "outputs": [
        {
          "output_type": "stream",
          "name": "stdout",
          "text": [
            "Mounted at /content/drive\n"
          ]
        }
      ]
    },
    {
      "cell_type": "code",
      "source": [
        "import pandas as pd\n",
        "file_path = '/content/drive/MyDrive/DS301GroupProject/tweepfake_deepfake_text_detection_test.csv'\n",
        "datatweep = pd.read_csv(file_path, sep=';')"
      ],
      "metadata": {
        "id": "I6BKceQ0RVDU"
      },
      "execution_count": 3,
      "outputs": []
    },
    {
      "cell_type": "code",
      "source": [
        "filtered_datatweep = datatweep.loc[datatweep['class_type'] == 'human', ['text', 'class_type']]\n",
        "filtered_datatweep.rename(columns={'class_type': 'generated'}, inplace=True)\n",
        "filtered_datatweep['generated'] = 0\n",
        "filtered_datatweep"
      ],
      "metadata": {
        "colab": {
          "base_uri": "https://localhost:8080/",
          "height": 411
        },
        "id": "xsHTK3HlaCXK",
        "outputId": "9bd79437-f720-4e29-e21e-30fe50b4b9c0"
      },
      "execution_count": 4,
      "outputs": [
        {
          "output_type": "execute_result",
          "data": {
            "text/plain": [
              "                                                   text  generated\n",
              "0     justin timberlake really one of the goats if y...          0\n",
              "1     Thank you @PMBhutan for your gracious prayers ...          0\n",
              "2     Theory: the number of red lights you will hit ...          0\n",
              "4     Might give the BASIC #10Liner game contest ano...          0\n",
              "7              I Wanna See Some Rainbows Out There Boys          0\n",
              "...                                                 ...        ...\n",
              "2550  Took stock of the situation in the wake of cyc...          0\n",
              "2552  #NowPlaying \"Uno Dos (feat. Jaden)\" by ¿Téo? i...          0\n",
              "2554  Love the Choose your own adventure style of th...          0\n",
              "2556  These deeply discounted 256GB SanDisk flash dr...          0\n",
              "2557  @deleonfc6 diamond pearl and platinum were hon...          0\n",
              "\n",
              "[1278 rows x 2 columns]"
            ],
            "text/html": [
              "\n",
              "  <div id=\"df-c237a2c0-0056-42f9-ab8a-e6111160b05c\" class=\"colab-df-container\">\n",
              "    <div>\n",
              "<style scoped>\n",
              "    .dataframe tbody tr th:only-of-type {\n",
              "        vertical-align: middle;\n",
              "    }\n",
              "\n",
              "    .dataframe tbody tr th {\n",
              "        vertical-align: top;\n",
              "    }\n",
              "\n",
              "    .dataframe thead th {\n",
              "        text-align: right;\n",
              "    }\n",
              "</style>\n",
              "<table border=\"1\" class=\"dataframe\">\n",
              "  <thead>\n",
              "    <tr style=\"text-align: right;\">\n",
              "      <th></th>\n",
              "      <th>text</th>\n",
              "      <th>generated</th>\n",
              "    </tr>\n",
              "  </thead>\n",
              "  <tbody>\n",
              "    <tr>\n",
              "      <th>0</th>\n",
              "      <td>justin timberlake really one of the goats if y...</td>\n",
              "      <td>0</td>\n",
              "    </tr>\n",
              "    <tr>\n",
              "      <th>1</th>\n",
              "      <td>Thank you @PMBhutan for your gracious prayers ...</td>\n",
              "      <td>0</td>\n",
              "    </tr>\n",
              "    <tr>\n",
              "      <th>2</th>\n",
              "      <td>Theory: the number of red lights you will hit ...</td>\n",
              "      <td>0</td>\n",
              "    </tr>\n",
              "    <tr>\n",
              "      <th>4</th>\n",
              "      <td>Might give the BASIC #10Liner game contest ano...</td>\n",
              "      <td>0</td>\n",
              "    </tr>\n",
              "    <tr>\n",
              "      <th>7</th>\n",
              "      <td>I Wanna See Some Rainbows Out There Boys</td>\n",
              "      <td>0</td>\n",
              "    </tr>\n",
              "    <tr>\n",
              "      <th>...</th>\n",
              "      <td>...</td>\n",
              "      <td>...</td>\n",
              "    </tr>\n",
              "    <tr>\n",
              "      <th>2550</th>\n",
              "      <td>Took stock of the situation in the wake of cyc...</td>\n",
              "      <td>0</td>\n",
              "    </tr>\n",
              "    <tr>\n",
              "      <th>2552</th>\n",
              "      <td>#NowPlaying \"Uno Dos (feat. Jaden)\" by ¿Téo? i...</td>\n",
              "      <td>0</td>\n",
              "    </tr>\n",
              "    <tr>\n",
              "      <th>2554</th>\n",
              "      <td>Love the Choose your own adventure style of th...</td>\n",
              "      <td>0</td>\n",
              "    </tr>\n",
              "    <tr>\n",
              "      <th>2556</th>\n",
              "      <td>These deeply discounted 256GB SanDisk flash dr...</td>\n",
              "      <td>0</td>\n",
              "    </tr>\n",
              "    <tr>\n",
              "      <th>2557</th>\n",
              "      <td>@deleonfc6 diamond pearl and platinum were hon...</td>\n",
              "      <td>0</td>\n",
              "    </tr>\n",
              "  </tbody>\n",
              "</table>\n",
              "<p>1278 rows × 2 columns</p>\n",
              "</div>\n",
              "    <div class=\"colab-df-buttons\">\n",
              "\n",
              "  <div class=\"colab-df-container\">\n",
              "    <button class=\"colab-df-convert\" onclick=\"convertToInteractive('df-c237a2c0-0056-42f9-ab8a-e6111160b05c')\"\n",
              "            title=\"Convert this dataframe to an interactive table.\"\n",
              "            style=\"display:none;\">\n",
              "\n",
              "  <svg xmlns=\"http://www.w3.org/2000/svg\" height=\"24px\" viewBox=\"0 -960 960 960\">\n",
              "    <path d=\"M120-120v-720h720v720H120Zm60-500h600v-160H180v160Zm220 220h160v-160H400v160Zm0 220h160v-160H400v160ZM180-400h160v-160H180v160Zm440 0h160v-160H620v160ZM180-180h160v-160H180v160Zm440 0h160v-160H620v160Z\"/>\n",
              "  </svg>\n",
              "    </button>\n",
              "\n",
              "  <style>\n",
              "    .colab-df-container {\n",
              "      display:flex;\n",
              "      gap: 12px;\n",
              "    }\n",
              "\n",
              "    .colab-df-convert {\n",
              "      background-color: #E8F0FE;\n",
              "      border: none;\n",
              "      border-radius: 50%;\n",
              "      cursor: pointer;\n",
              "      display: none;\n",
              "      fill: #1967D2;\n",
              "      height: 32px;\n",
              "      padding: 0 0 0 0;\n",
              "      width: 32px;\n",
              "    }\n",
              "\n",
              "    .colab-df-convert:hover {\n",
              "      background-color: #E2EBFA;\n",
              "      box-shadow: 0px 1px 2px rgba(60, 64, 67, 0.3), 0px 1px 3px 1px rgba(60, 64, 67, 0.15);\n",
              "      fill: #174EA6;\n",
              "    }\n",
              "\n",
              "    .colab-df-buttons div {\n",
              "      margin-bottom: 4px;\n",
              "    }\n",
              "\n",
              "    [theme=dark] .colab-df-convert {\n",
              "      background-color: #3B4455;\n",
              "      fill: #D2E3FC;\n",
              "    }\n",
              "\n",
              "    [theme=dark] .colab-df-convert:hover {\n",
              "      background-color: #434B5C;\n",
              "      box-shadow: 0px 1px 3px 1px rgba(0, 0, 0, 0.15);\n",
              "      filter: drop-shadow(0px 1px 2px rgba(0, 0, 0, 0.3));\n",
              "      fill: #FFFFFF;\n",
              "    }\n",
              "  </style>\n",
              "\n",
              "    <script>\n",
              "      const buttonEl =\n",
              "        document.querySelector('#df-c237a2c0-0056-42f9-ab8a-e6111160b05c button.colab-df-convert');\n",
              "      buttonEl.style.display =\n",
              "        google.colab.kernel.accessAllowed ? 'block' : 'none';\n",
              "\n",
              "      async function convertToInteractive(key) {\n",
              "        const element = document.querySelector('#df-c237a2c0-0056-42f9-ab8a-e6111160b05c');\n",
              "        const dataTable =\n",
              "          await google.colab.kernel.invokeFunction('convertToInteractive',\n",
              "                                                    [key], {});\n",
              "        if (!dataTable) return;\n",
              "\n",
              "        const docLinkHtml = 'Like what you see? Visit the ' +\n",
              "          '<a target=\"_blank\" href=https://colab.research.google.com/notebooks/data_table.ipynb>data table notebook</a>'\n",
              "          + ' to learn more about interactive tables.';\n",
              "        element.innerHTML = '';\n",
              "        dataTable['output_type'] = 'display_data';\n",
              "        await google.colab.output.renderOutput(dataTable, element);\n",
              "        const docLink = document.createElement('div');\n",
              "        docLink.innerHTML = docLinkHtml;\n",
              "        element.appendChild(docLink);\n",
              "      }\n",
              "    </script>\n",
              "  </div>\n",
              "\n",
              "\n",
              "<div id=\"df-3509ce9f-7828-4aa6-b85d-335308c1a839\">\n",
              "  <button class=\"colab-df-quickchart\" onclick=\"quickchart('df-3509ce9f-7828-4aa6-b85d-335308c1a839')\"\n",
              "            title=\"Suggest charts\"\n",
              "            style=\"display:none;\">\n",
              "\n",
              "<svg xmlns=\"http://www.w3.org/2000/svg\" height=\"24px\"viewBox=\"0 0 24 24\"\n",
              "     width=\"24px\">\n",
              "    <g>\n",
              "        <path d=\"M19 3H5c-1.1 0-2 .9-2 2v14c0 1.1.9 2 2 2h14c1.1 0 2-.9 2-2V5c0-1.1-.9-2-2-2zM9 17H7v-7h2v7zm4 0h-2V7h2v10zm4 0h-2v-4h2v4z\"/>\n",
              "    </g>\n",
              "</svg>\n",
              "  </button>\n",
              "\n",
              "<style>\n",
              "  .colab-df-quickchart {\n",
              "      --bg-color: #E8F0FE;\n",
              "      --fill-color: #1967D2;\n",
              "      --hover-bg-color: #E2EBFA;\n",
              "      --hover-fill-color: #174EA6;\n",
              "      --disabled-fill-color: #AAA;\n",
              "      --disabled-bg-color: #DDD;\n",
              "  }\n",
              "\n",
              "  [theme=dark] .colab-df-quickchart {\n",
              "      --bg-color: #3B4455;\n",
              "      --fill-color: #D2E3FC;\n",
              "      --hover-bg-color: #434B5C;\n",
              "      --hover-fill-color: #FFFFFF;\n",
              "      --disabled-bg-color: #3B4455;\n",
              "      --disabled-fill-color: #666;\n",
              "  }\n",
              "\n",
              "  .colab-df-quickchart {\n",
              "    background-color: var(--bg-color);\n",
              "    border: none;\n",
              "    border-radius: 50%;\n",
              "    cursor: pointer;\n",
              "    display: none;\n",
              "    fill: var(--fill-color);\n",
              "    height: 32px;\n",
              "    padding: 0;\n",
              "    width: 32px;\n",
              "  }\n",
              "\n",
              "  .colab-df-quickchart:hover {\n",
              "    background-color: var(--hover-bg-color);\n",
              "    box-shadow: 0 1px 2px rgba(60, 64, 67, 0.3), 0 1px 3px 1px rgba(60, 64, 67, 0.15);\n",
              "    fill: var(--button-hover-fill-color);\n",
              "  }\n",
              "\n",
              "  .colab-df-quickchart-complete:disabled,\n",
              "  .colab-df-quickchart-complete:disabled:hover {\n",
              "    background-color: var(--disabled-bg-color);\n",
              "    fill: var(--disabled-fill-color);\n",
              "    box-shadow: none;\n",
              "  }\n",
              "\n",
              "  .colab-df-spinner {\n",
              "    border: 2px solid var(--fill-color);\n",
              "    border-color: transparent;\n",
              "    border-bottom-color: var(--fill-color);\n",
              "    animation:\n",
              "      spin 1s steps(1) infinite;\n",
              "  }\n",
              "\n",
              "  @keyframes spin {\n",
              "    0% {\n",
              "      border-color: transparent;\n",
              "      border-bottom-color: var(--fill-color);\n",
              "      border-left-color: var(--fill-color);\n",
              "    }\n",
              "    20% {\n",
              "      border-color: transparent;\n",
              "      border-left-color: var(--fill-color);\n",
              "      border-top-color: var(--fill-color);\n",
              "    }\n",
              "    30% {\n",
              "      border-color: transparent;\n",
              "      border-left-color: var(--fill-color);\n",
              "      border-top-color: var(--fill-color);\n",
              "      border-right-color: var(--fill-color);\n",
              "    }\n",
              "    40% {\n",
              "      border-color: transparent;\n",
              "      border-right-color: var(--fill-color);\n",
              "      border-top-color: var(--fill-color);\n",
              "    }\n",
              "    60% {\n",
              "      border-color: transparent;\n",
              "      border-right-color: var(--fill-color);\n",
              "    }\n",
              "    80% {\n",
              "      border-color: transparent;\n",
              "      border-right-color: var(--fill-color);\n",
              "      border-bottom-color: var(--fill-color);\n",
              "    }\n",
              "    90% {\n",
              "      border-color: transparent;\n",
              "      border-bottom-color: var(--fill-color);\n",
              "    }\n",
              "  }\n",
              "</style>\n",
              "\n",
              "  <script>\n",
              "    async function quickchart(key) {\n",
              "      const quickchartButtonEl =\n",
              "        document.querySelector('#' + key + ' button');\n",
              "      quickchartButtonEl.disabled = true;  // To prevent multiple clicks.\n",
              "      quickchartButtonEl.classList.add('colab-df-spinner');\n",
              "      try {\n",
              "        const charts = await google.colab.kernel.invokeFunction(\n",
              "            'suggestCharts', [key], {});\n",
              "      } catch (error) {\n",
              "        console.error('Error during call to suggestCharts:', error);\n",
              "      }\n",
              "      quickchartButtonEl.classList.remove('colab-df-spinner');\n",
              "      quickchartButtonEl.classList.add('colab-df-quickchart-complete');\n",
              "    }\n",
              "    (() => {\n",
              "      let quickchartButtonEl =\n",
              "        document.querySelector('#df-3509ce9f-7828-4aa6-b85d-335308c1a839 button');\n",
              "      quickchartButtonEl.style.display =\n",
              "        google.colab.kernel.accessAllowed ? 'block' : 'none';\n",
              "    })();\n",
              "  </script>\n",
              "</div>\n",
              "    </div>\n",
              "  </div>\n"
            ],
            "application/vnd.google.colaboratory.intrinsic+json": {
              "type": "dataframe",
              "variable_name": "filtered_datatweep",
              "summary": "{\n  \"name\": \"filtered_datatweep\",\n  \"rows\": 1278,\n  \"fields\": [\n    {\n      \"column\": \"text\",\n      \"properties\": {\n        \"dtype\": \"string\",\n        \"num_unique_values\": 1278,\n        \"samples\": [\n          \"Working Apple-1 retro fossil auctioned off to mystery bidder for $375,000 https://t.co/C7eT8h29fE via @theregister\",\n          \"can it thunder storm already\",\n          \"pringles caliphate\"\n        ],\n        \"semantic_type\": \"\",\n        \"description\": \"\"\n      }\n    },\n    {\n      \"column\": \"generated\",\n      \"properties\": {\n        \"dtype\": \"number\",\n        \"std\": 0,\n        \"min\": 0,\n        \"max\": 0,\n        \"num_unique_values\": 1,\n        \"samples\": [\n          0\n        ],\n        \"semantic_type\": \"\",\n        \"description\": \"\"\n      }\n    }\n  ]\n}"
            }
          },
          "metadata": {},
          "execution_count": 4
        }
      ]
    },
    {
      "cell_type": "code",
      "source": [
        "file_path2 = '/content/drive/MyDrive/DS301GroupProject/train_essays_v1.csv'\n",
        "gemini = pd.read_csv(file_path2, sep=';')\n",
        "gemini.rename(columns={'text,label,prompt_name,source,RDizzl3_seven': 'text'}, inplace=True)\n",
        "gemini['generated'] = 1\n",
        "gemini"
      ],
      "metadata": {
        "id": "EBFXCHeZY7x5",
        "colab": {
          "base_uri": "https://localhost:8080/",
          "height": 411
        },
        "outputId": "9c4de947-41ce-40b3-d03f-28b00760ada9"
      },
      "execution_count": 5,
      "outputs": [
        {
          "output_type": "execute_result",
          "data": {
            "text/plain": [
              "                                                   text  generated\n",
              "0     The Electoral College is a complex system that...          1\n",
              "1     The exploration of Venus, Earth's closest plan...          1\n",
              "2     ## Does the Electoral College Work?\\n\\nThe Ele...          1\n",
              "3     In the vast realm of literature, there exists ...          1\n",
              "4     In the realm of modern transportation, the adv...          1\n",
              "...                                                 ...        ...\n",
              "3495  The Electoral College, a distinctive feature o...          1\n",
              "3496  The Electoral College is a system of indirect ...          1\n",
              "3497  The electoral College, an integral part of the...          1\n",
              "3498  The Electoral College, a distinctive feature o...          1\n",
              "3499  Title: Does the Electoral College Work? Examin...          1\n",
              "\n",
              "[3500 rows x 2 columns]"
            ],
            "text/html": [
              "\n",
              "  <div id=\"df-73b1778e-5c96-44af-ac14-348afbcbca0e\" class=\"colab-df-container\">\n",
              "    <div>\n",
              "<style scoped>\n",
              "    .dataframe tbody tr th:only-of-type {\n",
              "        vertical-align: middle;\n",
              "    }\n",
              "\n",
              "    .dataframe tbody tr th {\n",
              "        vertical-align: top;\n",
              "    }\n",
              "\n",
              "    .dataframe thead th {\n",
              "        text-align: right;\n",
              "    }\n",
              "</style>\n",
              "<table border=\"1\" class=\"dataframe\">\n",
              "  <thead>\n",
              "    <tr style=\"text-align: right;\">\n",
              "      <th></th>\n",
              "      <th>text</th>\n",
              "      <th>generated</th>\n",
              "    </tr>\n",
              "  </thead>\n",
              "  <tbody>\n",
              "    <tr>\n",
              "      <th>0</th>\n",
              "      <td>The Electoral College is a complex system that...</td>\n",
              "      <td>1</td>\n",
              "    </tr>\n",
              "    <tr>\n",
              "      <th>1</th>\n",
              "      <td>The exploration of Venus, Earth's closest plan...</td>\n",
              "      <td>1</td>\n",
              "    </tr>\n",
              "    <tr>\n",
              "      <th>2</th>\n",
              "      <td>## Does the Electoral College Work?\\n\\nThe Ele...</td>\n",
              "      <td>1</td>\n",
              "    </tr>\n",
              "    <tr>\n",
              "      <th>3</th>\n",
              "      <td>In the vast realm of literature, there exists ...</td>\n",
              "      <td>1</td>\n",
              "    </tr>\n",
              "    <tr>\n",
              "      <th>4</th>\n",
              "      <td>In the realm of modern transportation, the adv...</td>\n",
              "      <td>1</td>\n",
              "    </tr>\n",
              "    <tr>\n",
              "      <th>...</th>\n",
              "      <td>...</td>\n",
              "      <td>...</td>\n",
              "    </tr>\n",
              "    <tr>\n",
              "      <th>3495</th>\n",
              "      <td>The Electoral College, a distinctive feature o...</td>\n",
              "      <td>1</td>\n",
              "    </tr>\n",
              "    <tr>\n",
              "      <th>3496</th>\n",
              "      <td>The Electoral College is a system of indirect ...</td>\n",
              "      <td>1</td>\n",
              "    </tr>\n",
              "    <tr>\n",
              "      <th>3497</th>\n",
              "      <td>The electoral College, an integral part of the...</td>\n",
              "      <td>1</td>\n",
              "    </tr>\n",
              "    <tr>\n",
              "      <th>3498</th>\n",
              "      <td>The Electoral College, a distinctive feature o...</td>\n",
              "      <td>1</td>\n",
              "    </tr>\n",
              "    <tr>\n",
              "      <th>3499</th>\n",
              "      <td>Title: Does the Electoral College Work? Examin...</td>\n",
              "      <td>1</td>\n",
              "    </tr>\n",
              "  </tbody>\n",
              "</table>\n",
              "<p>3500 rows × 2 columns</p>\n",
              "</div>\n",
              "    <div class=\"colab-df-buttons\">\n",
              "\n",
              "  <div class=\"colab-df-container\">\n",
              "    <button class=\"colab-df-convert\" onclick=\"convertToInteractive('df-73b1778e-5c96-44af-ac14-348afbcbca0e')\"\n",
              "            title=\"Convert this dataframe to an interactive table.\"\n",
              "            style=\"display:none;\">\n",
              "\n",
              "  <svg xmlns=\"http://www.w3.org/2000/svg\" height=\"24px\" viewBox=\"0 -960 960 960\">\n",
              "    <path d=\"M120-120v-720h720v720H120Zm60-500h600v-160H180v160Zm220 220h160v-160H400v160Zm0 220h160v-160H400v160ZM180-400h160v-160H180v160Zm440 0h160v-160H620v160ZM180-180h160v-160H180v160Zm440 0h160v-160H620v160Z\"/>\n",
              "  </svg>\n",
              "    </button>\n",
              "\n",
              "  <style>\n",
              "    .colab-df-container {\n",
              "      display:flex;\n",
              "      gap: 12px;\n",
              "    }\n",
              "\n",
              "    .colab-df-convert {\n",
              "      background-color: #E8F0FE;\n",
              "      border: none;\n",
              "      border-radius: 50%;\n",
              "      cursor: pointer;\n",
              "      display: none;\n",
              "      fill: #1967D2;\n",
              "      height: 32px;\n",
              "      padding: 0 0 0 0;\n",
              "      width: 32px;\n",
              "    }\n",
              "\n",
              "    .colab-df-convert:hover {\n",
              "      background-color: #E2EBFA;\n",
              "      box-shadow: 0px 1px 2px rgba(60, 64, 67, 0.3), 0px 1px 3px 1px rgba(60, 64, 67, 0.15);\n",
              "      fill: #174EA6;\n",
              "    }\n",
              "\n",
              "    .colab-df-buttons div {\n",
              "      margin-bottom: 4px;\n",
              "    }\n",
              "\n",
              "    [theme=dark] .colab-df-convert {\n",
              "      background-color: #3B4455;\n",
              "      fill: #D2E3FC;\n",
              "    }\n",
              "\n",
              "    [theme=dark] .colab-df-convert:hover {\n",
              "      background-color: #434B5C;\n",
              "      box-shadow: 0px 1px 3px 1px rgba(0, 0, 0, 0.15);\n",
              "      filter: drop-shadow(0px 1px 2px rgba(0, 0, 0, 0.3));\n",
              "      fill: #FFFFFF;\n",
              "    }\n",
              "  </style>\n",
              "\n",
              "    <script>\n",
              "      const buttonEl =\n",
              "        document.querySelector('#df-73b1778e-5c96-44af-ac14-348afbcbca0e button.colab-df-convert');\n",
              "      buttonEl.style.display =\n",
              "        google.colab.kernel.accessAllowed ? 'block' : 'none';\n",
              "\n",
              "      async function convertToInteractive(key) {\n",
              "        const element = document.querySelector('#df-73b1778e-5c96-44af-ac14-348afbcbca0e');\n",
              "        const dataTable =\n",
              "          await google.colab.kernel.invokeFunction('convertToInteractive',\n",
              "                                                    [key], {});\n",
              "        if (!dataTable) return;\n",
              "\n",
              "        const docLinkHtml = 'Like what you see? Visit the ' +\n",
              "          '<a target=\"_blank\" href=https://colab.research.google.com/notebooks/data_table.ipynb>data table notebook</a>'\n",
              "          + ' to learn more about interactive tables.';\n",
              "        element.innerHTML = '';\n",
              "        dataTable['output_type'] = 'display_data';\n",
              "        await google.colab.output.renderOutput(dataTable, element);\n",
              "        const docLink = document.createElement('div');\n",
              "        docLink.innerHTML = docLinkHtml;\n",
              "        element.appendChild(docLink);\n",
              "      }\n",
              "    </script>\n",
              "  </div>\n",
              "\n",
              "\n",
              "<div id=\"df-ca611d5d-618e-48d0-9f39-ab5b7b726fb7\">\n",
              "  <button class=\"colab-df-quickchart\" onclick=\"quickchart('df-ca611d5d-618e-48d0-9f39-ab5b7b726fb7')\"\n",
              "            title=\"Suggest charts\"\n",
              "            style=\"display:none;\">\n",
              "\n",
              "<svg xmlns=\"http://www.w3.org/2000/svg\" height=\"24px\"viewBox=\"0 0 24 24\"\n",
              "     width=\"24px\">\n",
              "    <g>\n",
              "        <path d=\"M19 3H5c-1.1 0-2 .9-2 2v14c0 1.1.9 2 2 2h14c1.1 0 2-.9 2-2V5c0-1.1-.9-2-2-2zM9 17H7v-7h2v7zm4 0h-2V7h2v10zm4 0h-2v-4h2v4z\"/>\n",
              "    </g>\n",
              "</svg>\n",
              "  </button>\n",
              "\n",
              "<style>\n",
              "  .colab-df-quickchart {\n",
              "      --bg-color: #E8F0FE;\n",
              "      --fill-color: #1967D2;\n",
              "      --hover-bg-color: #E2EBFA;\n",
              "      --hover-fill-color: #174EA6;\n",
              "      --disabled-fill-color: #AAA;\n",
              "      --disabled-bg-color: #DDD;\n",
              "  }\n",
              "\n",
              "  [theme=dark] .colab-df-quickchart {\n",
              "      --bg-color: #3B4455;\n",
              "      --fill-color: #D2E3FC;\n",
              "      --hover-bg-color: #434B5C;\n",
              "      --hover-fill-color: #FFFFFF;\n",
              "      --disabled-bg-color: #3B4455;\n",
              "      --disabled-fill-color: #666;\n",
              "  }\n",
              "\n",
              "  .colab-df-quickchart {\n",
              "    background-color: var(--bg-color);\n",
              "    border: none;\n",
              "    border-radius: 50%;\n",
              "    cursor: pointer;\n",
              "    display: none;\n",
              "    fill: var(--fill-color);\n",
              "    height: 32px;\n",
              "    padding: 0;\n",
              "    width: 32px;\n",
              "  }\n",
              "\n",
              "  .colab-df-quickchart:hover {\n",
              "    background-color: var(--hover-bg-color);\n",
              "    box-shadow: 0 1px 2px rgba(60, 64, 67, 0.3), 0 1px 3px 1px rgba(60, 64, 67, 0.15);\n",
              "    fill: var(--button-hover-fill-color);\n",
              "  }\n",
              "\n",
              "  .colab-df-quickchart-complete:disabled,\n",
              "  .colab-df-quickchart-complete:disabled:hover {\n",
              "    background-color: var(--disabled-bg-color);\n",
              "    fill: var(--disabled-fill-color);\n",
              "    box-shadow: none;\n",
              "  }\n",
              "\n",
              "  .colab-df-spinner {\n",
              "    border: 2px solid var(--fill-color);\n",
              "    border-color: transparent;\n",
              "    border-bottom-color: var(--fill-color);\n",
              "    animation:\n",
              "      spin 1s steps(1) infinite;\n",
              "  }\n",
              "\n",
              "  @keyframes spin {\n",
              "    0% {\n",
              "      border-color: transparent;\n",
              "      border-bottom-color: var(--fill-color);\n",
              "      border-left-color: var(--fill-color);\n",
              "    }\n",
              "    20% {\n",
              "      border-color: transparent;\n",
              "      border-left-color: var(--fill-color);\n",
              "      border-top-color: var(--fill-color);\n",
              "    }\n",
              "    30% {\n",
              "      border-color: transparent;\n",
              "      border-left-color: var(--fill-color);\n",
              "      border-top-color: var(--fill-color);\n",
              "      border-right-color: var(--fill-color);\n",
              "    }\n",
              "    40% {\n",
              "      border-color: transparent;\n",
              "      border-right-color: var(--fill-color);\n",
              "      border-top-color: var(--fill-color);\n",
              "    }\n",
              "    60% {\n",
              "      border-color: transparent;\n",
              "      border-right-color: var(--fill-color);\n",
              "    }\n",
              "    80% {\n",
              "      border-color: transparent;\n",
              "      border-right-color: var(--fill-color);\n",
              "      border-bottom-color: var(--fill-color);\n",
              "    }\n",
              "    90% {\n",
              "      border-color: transparent;\n",
              "      border-bottom-color: var(--fill-color);\n",
              "    }\n",
              "  }\n",
              "</style>\n",
              "\n",
              "  <script>\n",
              "    async function quickchart(key) {\n",
              "      const quickchartButtonEl =\n",
              "        document.querySelector('#' + key + ' button');\n",
              "      quickchartButtonEl.disabled = true;  // To prevent multiple clicks.\n",
              "      quickchartButtonEl.classList.add('colab-df-spinner');\n",
              "      try {\n",
              "        const charts = await google.colab.kernel.invokeFunction(\n",
              "            'suggestCharts', [key], {});\n",
              "      } catch (error) {\n",
              "        console.error('Error during call to suggestCharts:', error);\n",
              "      }\n",
              "      quickchartButtonEl.classList.remove('colab-df-spinner');\n",
              "      quickchartButtonEl.classList.add('colab-df-quickchart-complete');\n",
              "    }\n",
              "    (() => {\n",
              "      let quickchartButtonEl =\n",
              "        document.querySelector('#df-ca611d5d-618e-48d0-9f39-ab5b7b726fb7 button');\n",
              "      quickchartButtonEl.style.display =\n",
              "        google.colab.kernel.accessAllowed ? 'block' : 'none';\n",
              "    })();\n",
              "  </script>\n",
              "</div>\n",
              "    </div>\n",
              "  </div>\n"
            ],
            "application/vnd.google.colaboratory.intrinsic+json": {
              "type": "dataframe",
              "variable_name": "gemini",
              "summary": "{\n  \"name\": \"gemini\",\n  \"rows\": 3500,\n  \"fields\": [\n    {\n      \"column\": \"text\",\n      \"properties\": {\n        \"dtype\": \"string\",\n        \"num_unique_values\": 3500,\n        \"samples\": [\n          \"The Electoral College, a system rooted in the foundations of American democracy, has been a subject of ongoing debate and contention. Its proponents extol its virtues, emphasizing its ability to protect the interests of smaller states and prevent the tyranny of the majority. Opponents, on the other hand, denounce its flaws, arguing that it is undemocratic, disenfranchises millions of voters, and can lead to outcomes that are not reflective of the popular will. The question of whether the Electoral College works is a complex one, requiring careful examination of its history, functions, and consequences.\\n\\nThe Electoral College was established by Article II, Section 1 of the United States Constitution. It was designed as a compromise between those who wanted to elect the president by a popular vote and those who wanted to have Congress choose the president. The Electoral College system allocates a certain number of electoral votes to each state, based on its population. The number of electoral votes is equal to the number of senators and representatives in Congress, plus three. The candidate who wins the most electoral votes in a state wins all of that state's electoral votes. To win the presidency, a candidate must win a majority of the electoral votes, which is currently 270 out of a total of 538.\\n\\nProponents of the Electoral College argue that it is a necessary safeguard for the interests of smaller states. They point out that in a direct popular vote system, candidates would only campaign in large, populous states, ignoring the needs and concerns of rural and less populated areas. The Electoral College, they argue, ensures that all states have a say in the election and prevents any one state or region from dominating the process.\\n\\nAnother argument in favor of the Electoral College is that it prevents the tyranny of the majority. In a direct popular vote system, it is possible for a candidate to win the presidency with a bare majority of the vote, even if a large number of people oppose that candidate. The Electoral College, however, requires a candidate to win a majority of the electoral votes, which makes it more difficult for a candidate to win without broad support across the country.\\n\\nOpponents of the Electoral College argue that it is undemocratic and disenfranchises millions of voters. They point out that the Electoral College system can result in a candidate winning the presidency even if they lose the popular vote. This happened in 2016, when Donald Trump won the presidency even though Hillary Clinton won the popular vote by nearly 3 million votes.\\n\\nOpponents also argue that the Electoral College gives too much power to swing states, such as Florida and Ohio, which can often determine the outcome of an election. This means that candidates can focus their campaigns on a small number of states, ignoring the needs of voters in other states.\\n\\nThe Electoral College has been the subject of numerous reform proposals over the years. Some proposals would abolish the Electoral College altogether and replace it with a direct popular vote system. Others would make changes to the Electoral College system, such as allocating electoral votes proportionally based on the popular vote in each state.\\n\\nThe Electoral College is a complex system with both advantages and disadvantages. It is important to understand the arguments for and against the Electoral College in order to form an informed opinion about its merits. Ultimately, the question of whether the Electoral College works is a matter of opinion, and there is no easy answer.,1,Does the electoral college work?,gemini_pro,True\",\n          \"In the vast expanse of the cosmos, the human gaze has been captivated by celestial wonders, seeking out signs of life beyond our earthly realm. Among these cosmic enigmas, the Face on Mars has ignited both fascination and debate, challenging our understanding of Mars and the possibility of extraterrestrial intelligence. In this essay, I will argue that the Face on Mars, an intriguing formation resembling a human face on the Red Planet, is a natural geological feature rather than evidence of an ancient Martian civilization.\\n\\nThe initial discovery of the Face on Mars dates back to 1976 when the Viking 1 orbiter captured images of the Cydonia region, revealing a peculiar mesa that appeared to resemble a human face. This striking formation, reminiscent of the Sphinx in Egypt, sparked widespread speculation and captured the public's imagination. However, as subsequent missions to Mars provided higher-resolution images and more detailed data, the consensus among scientists shifted toward a more terrestrial explanation for the Face's origins.\\n\\nOne of the strongest arguments against the artificial nature of the Face on Mars lies in its geological context. The Cydonia region is known for its complex geological history, characterized by erosion, tectonic activity, and the formation of various landforms. The mesa that appears to resemble a face is believed to be the result of natural geological processes, such as wind erosion and weathering. The intricate interplay of these processes over millions of years can produce remarkably lifelike formations without requiring any external intervention from intelligent beings.\\n\\nSupporting this geological explanation is the lack of evidence suggesting the presence of an ancient Martian civilization. Despite extensive exploration and analysis of the Martian surface, no conclusive signs of past or present life have been discovered. The absence of any accompanying artifacts, structures, or evidence of intelligent activity further weakens the argument for a man-made Face on Mars.\\n\\nFurthermore, the Face's perceived symmetry and resemblance to a human face can be attributed to pareidolia, a psychological phenomenon where individuals tend to perceive meaningful patterns or faces in random or ambiguous stimuli. Our brains are wired to recognize faces, and this natural tendency can lead us to interpret ordinary objects or formations as resembling human features. This phenomenon is not unique to the Face on Mars and has been observed in other instances of perceived faces in clouds, rocks, and even everyday objects.\\n\\nWhile the Face on Mars has captured the human imagination and fueled speculation about extraterrestrial life, the scientific evidence overwhelmingly supports a natural geological explanation for its formation. The absence of supporting evidence for an ancient Martian civilization, coupled with the geological context and the phenomenon of pareidolia, strongly suggests that the Face on Mars is a product of natural processes rather than an artifact of intelligent design.\\n\\nIn conclusion, the Face on Mars, once considered a tantalizing clue to extraterrestrial life, has been demystified by scientific investigation and geological understanding. The compelling illusion of a human face is likely the result of natural geological processes and pareidolia, highlighting the limitations of our perception and the vastness of the natural wonders that the universe holds.,1,The Face on Mars,gemini_pro,True\",\n          \"The Facial Action Coding System (FACS), developed by Paul Ekman and Wallace V. Friesen in the 1970s, is an objective and comprehensive method for analyzing and describing facial expressions. This system has gained significant recognition and widespread applications across various fields, including psychology, neuroscience, computer vision, and animation. Despite its valuable contributions, FACS has been the subject of criticism and debate, primarily due to its complexity and potential limitations. This essay aims to explore the arguments for and against the use of FACS in the analysis of facial expressions.\\n\\nOne of the primary strengths of FACS lies in its objectivity and systematic approach. The system provides a standardized framework for describing facial movements based on the contraction and relaxation of specific facial muscles. This enables researchers and practitioners to communicate and compare facial expressions across different studies and contexts consistently. The objectivity of FACS also reduces the influence of subjective interpretations and biases that may arise when relying solely on verbal descriptions or subjective ratings of facial expressions.\\n\\nFACS has demonstrated its utility in various research applications. It has been successfully employed to investigate the relationship between facial expressions and emotions, including the identification and classification of basic emotions such as happiness, sadness, anger, surprise, fear, and disgust. FACS has also been used to study the development of facial expressions in infants and children, as well as the impact of cultural and social factors on facial expression patterns. Furthermore, FACS has been applied in clinical settings to assess emotional disorders, such as depression and autism, where difficulties in recognizing and expressing emotions are common.\\n\\nHowever, FACS is not without its limitations and criticisms. One of the main concerns raised is its complexity and the extensive training required to become proficient in using the system. The FACS manual comprises over 500 action units, each representing a specific facial movement. This complexity can be daunting for researchers and practitioners who may not have the time or resources to undergo extensive training. Moreover, the coding process itself can be time-consuming, especially when analyzing lengthy video recordings or large datasets.\\n\\nAnother criticism of FACS is that it focuses primarily on the physical manifestation of facial expressions without considering the underlying emotional state or intention behind them. While FACS can accurately describe the facial movements, it does not provide direct insight into the subjective experiences or emotional processes associated with those expressions. This limitation has led to debates about the ecological validity of FACS, as it may not fully capture the richness and complexity of real-world facial expressions.\\n\\nFurthermore, FACS has been criticized for its cultural bias. The system was developed based on data collected primarily from Western cultures, raising concerns about its applicability and generalizability to individuals from diverse cultural backgrounds. Cultural variations in facial expression patterns and the social norms surrounding emotional expression may limit the accuracy and validity of FACS when applied to non-Western populations.\\n\\nIn conclusion, the Facial Action Coding System (FACS) remains a valuable tool for analyzing and describing facial expressions, particularly in research settings. Its objectivity, standardization, and wide range of applications have made it a dominant approach in the field. However, FACS is not without its limitations, including its complexity, focus on physical movements rather than emotional states, and potential cultural bias. Researchers and practitioners should be aware of these limitations and consider alternative methods or complementary approaches when appropriate. Future research and developments in the field of facial expression analysis may address these limitations and enhance the ecological validity and applicability of FACS to diverse populations and contexts.,1,Facial action coding system,gemini_pro,True\"\n        ],\n        \"semantic_type\": \"\",\n        \"description\": \"\"\n      }\n    },\n    {\n      \"column\": \"generated\",\n      \"properties\": {\n        \"dtype\": \"number\",\n        \"std\": 0,\n        \"min\": 1,\n        \"max\": 1,\n        \"num_unique_values\": 1,\n        \"samples\": [\n          1\n        ],\n        \"semantic_type\": \"\",\n        \"description\": \"\"\n      }\n    }\n  ]\n}"
            }
          },
          "metadata": {},
          "execution_count": 5
        }
      ]
    },
    {
      "cell_type": "code",
      "source": [
        "gemini_test_df = pd.concat([filtered_datatweep, gemini], ignore_index=True)\n",
        "gemini_test_df"
      ],
      "metadata": {
        "colab": {
          "base_uri": "https://localhost:8080/",
          "height": 411
        },
        "id": "MkMEuYaQbKMi",
        "outputId": "515106bb-7abf-433d-b147-a673a3d0c382"
      },
      "execution_count": 6,
      "outputs": [
        {
          "output_type": "execute_result",
          "data": {
            "text/plain": [
              "                                                   text  generated\n",
              "0     justin timberlake really one of the goats if y...          0\n",
              "1     Thank you @PMBhutan for your gracious prayers ...          0\n",
              "2     Theory: the number of red lights you will hit ...          0\n",
              "3     Might give the BASIC #10Liner game contest ano...          0\n",
              "4              I Wanna See Some Rainbows Out There Boys          0\n",
              "...                                                 ...        ...\n",
              "4773  The Electoral College, a distinctive feature o...          1\n",
              "4774  The Electoral College is a system of indirect ...          1\n",
              "4775  The electoral College, an integral part of the...          1\n",
              "4776  The Electoral College, a distinctive feature o...          1\n",
              "4777  Title: Does the Electoral College Work? Examin...          1\n",
              "\n",
              "[4778 rows x 2 columns]"
            ],
            "text/html": [
              "\n",
              "  <div id=\"df-857329e9-d0d3-4918-b3cc-35a93f556601\" class=\"colab-df-container\">\n",
              "    <div>\n",
              "<style scoped>\n",
              "    .dataframe tbody tr th:only-of-type {\n",
              "        vertical-align: middle;\n",
              "    }\n",
              "\n",
              "    .dataframe tbody tr th {\n",
              "        vertical-align: top;\n",
              "    }\n",
              "\n",
              "    .dataframe thead th {\n",
              "        text-align: right;\n",
              "    }\n",
              "</style>\n",
              "<table border=\"1\" class=\"dataframe\">\n",
              "  <thead>\n",
              "    <tr style=\"text-align: right;\">\n",
              "      <th></th>\n",
              "      <th>text</th>\n",
              "      <th>generated</th>\n",
              "    </tr>\n",
              "  </thead>\n",
              "  <tbody>\n",
              "    <tr>\n",
              "      <th>0</th>\n",
              "      <td>justin timberlake really one of the goats if y...</td>\n",
              "      <td>0</td>\n",
              "    </tr>\n",
              "    <tr>\n",
              "      <th>1</th>\n",
              "      <td>Thank you @PMBhutan for your gracious prayers ...</td>\n",
              "      <td>0</td>\n",
              "    </tr>\n",
              "    <tr>\n",
              "      <th>2</th>\n",
              "      <td>Theory: the number of red lights you will hit ...</td>\n",
              "      <td>0</td>\n",
              "    </tr>\n",
              "    <tr>\n",
              "      <th>3</th>\n",
              "      <td>Might give the BASIC #10Liner game contest ano...</td>\n",
              "      <td>0</td>\n",
              "    </tr>\n",
              "    <tr>\n",
              "      <th>4</th>\n",
              "      <td>I Wanna See Some Rainbows Out There Boys</td>\n",
              "      <td>0</td>\n",
              "    </tr>\n",
              "    <tr>\n",
              "      <th>...</th>\n",
              "      <td>...</td>\n",
              "      <td>...</td>\n",
              "    </tr>\n",
              "    <tr>\n",
              "      <th>4773</th>\n",
              "      <td>The Electoral College, a distinctive feature o...</td>\n",
              "      <td>1</td>\n",
              "    </tr>\n",
              "    <tr>\n",
              "      <th>4774</th>\n",
              "      <td>The Electoral College is a system of indirect ...</td>\n",
              "      <td>1</td>\n",
              "    </tr>\n",
              "    <tr>\n",
              "      <th>4775</th>\n",
              "      <td>The electoral College, an integral part of the...</td>\n",
              "      <td>1</td>\n",
              "    </tr>\n",
              "    <tr>\n",
              "      <th>4776</th>\n",
              "      <td>The Electoral College, a distinctive feature o...</td>\n",
              "      <td>1</td>\n",
              "    </tr>\n",
              "    <tr>\n",
              "      <th>4777</th>\n",
              "      <td>Title: Does the Electoral College Work? Examin...</td>\n",
              "      <td>1</td>\n",
              "    </tr>\n",
              "  </tbody>\n",
              "</table>\n",
              "<p>4778 rows × 2 columns</p>\n",
              "</div>\n",
              "    <div class=\"colab-df-buttons\">\n",
              "\n",
              "  <div class=\"colab-df-container\">\n",
              "    <button class=\"colab-df-convert\" onclick=\"convertToInteractive('df-857329e9-d0d3-4918-b3cc-35a93f556601')\"\n",
              "            title=\"Convert this dataframe to an interactive table.\"\n",
              "            style=\"display:none;\">\n",
              "\n",
              "  <svg xmlns=\"http://www.w3.org/2000/svg\" height=\"24px\" viewBox=\"0 -960 960 960\">\n",
              "    <path d=\"M120-120v-720h720v720H120Zm60-500h600v-160H180v160Zm220 220h160v-160H400v160Zm0 220h160v-160H400v160ZM180-400h160v-160H180v160Zm440 0h160v-160H620v160ZM180-180h160v-160H180v160Zm440 0h160v-160H620v160Z\"/>\n",
              "  </svg>\n",
              "    </button>\n",
              "\n",
              "  <style>\n",
              "    .colab-df-container {\n",
              "      display:flex;\n",
              "      gap: 12px;\n",
              "    }\n",
              "\n",
              "    .colab-df-convert {\n",
              "      background-color: #E8F0FE;\n",
              "      border: none;\n",
              "      border-radius: 50%;\n",
              "      cursor: pointer;\n",
              "      display: none;\n",
              "      fill: #1967D2;\n",
              "      height: 32px;\n",
              "      padding: 0 0 0 0;\n",
              "      width: 32px;\n",
              "    }\n",
              "\n",
              "    .colab-df-convert:hover {\n",
              "      background-color: #E2EBFA;\n",
              "      box-shadow: 0px 1px 2px rgba(60, 64, 67, 0.3), 0px 1px 3px 1px rgba(60, 64, 67, 0.15);\n",
              "      fill: #174EA6;\n",
              "    }\n",
              "\n",
              "    .colab-df-buttons div {\n",
              "      margin-bottom: 4px;\n",
              "    }\n",
              "\n",
              "    [theme=dark] .colab-df-convert {\n",
              "      background-color: #3B4455;\n",
              "      fill: #D2E3FC;\n",
              "    }\n",
              "\n",
              "    [theme=dark] .colab-df-convert:hover {\n",
              "      background-color: #434B5C;\n",
              "      box-shadow: 0px 1px 3px 1px rgba(0, 0, 0, 0.15);\n",
              "      filter: drop-shadow(0px 1px 2px rgba(0, 0, 0, 0.3));\n",
              "      fill: #FFFFFF;\n",
              "    }\n",
              "  </style>\n",
              "\n",
              "    <script>\n",
              "      const buttonEl =\n",
              "        document.querySelector('#df-857329e9-d0d3-4918-b3cc-35a93f556601 button.colab-df-convert');\n",
              "      buttonEl.style.display =\n",
              "        google.colab.kernel.accessAllowed ? 'block' : 'none';\n",
              "\n",
              "      async function convertToInteractive(key) {\n",
              "        const element = document.querySelector('#df-857329e9-d0d3-4918-b3cc-35a93f556601');\n",
              "        const dataTable =\n",
              "          await google.colab.kernel.invokeFunction('convertToInteractive',\n",
              "                                                    [key], {});\n",
              "        if (!dataTable) return;\n",
              "\n",
              "        const docLinkHtml = 'Like what you see? Visit the ' +\n",
              "          '<a target=\"_blank\" href=https://colab.research.google.com/notebooks/data_table.ipynb>data table notebook</a>'\n",
              "          + ' to learn more about interactive tables.';\n",
              "        element.innerHTML = '';\n",
              "        dataTable['output_type'] = 'display_data';\n",
              "        await google.colab.output.renderOutput(dataTable, element);\n",
              "        const docLink = document.createElement('div');\n",
              "        docLink.innerHTML = docLinkHtml;\n",
              "        element.appendChild(docLink);\n",
              "      }\n",
              "    </script>\n",
              "  </div>\n",
              "\n",
              "\n",
              "<div id=\"df-aa31842a-a24a-4ea2-9d03-0bedafc7d082\">\n",
              "  <button class=\"colab-df-quickchart\" onclick=\"quickchart('df-aa31842a-a24a-4ea2-9d03-0bedafc7d082')\"\n",
              "            title=\"Suggest charts\"\n",
              "            style=\"display:none;\">\n",
              "\n",
              "<svg xmlns=\"http://www.w3.org/2000/svg\" height=\"24px\"viewBox=\"0 0 24 24\"\n",
              "     width=\"24px\">\n",
              "    <g>\n",
              "        <path d=\"M19 3H5c-1.1 0-2 .9-2 2v14c0 1.1.9 2 2 2h14c1.1 0 2-.9 2-2V5c0-1.1-.9-2-2-2zM9 17H7v-7h2v7zm4 0h-2V7h2v10zm4 0h-2v-4h2v4z\"/>\n",
              "    </g>\n",
              "</svg>\n",
              "  </button>\n",
              "\n",
              "<style>\n",
              "  .colab-df-quickchart {\n",
              "      --bg-color: #E8F0FE;\n",
              "      --fill-color: #1967D2;\n",
              "      --hover-bg-color: #E2EBFA;\n",
              "      --hover-fill-color: #174EA6;\n",
              "      --disabled-fill-color: #AAA;\n",
              "      --disabled-bg-color: #DDD;\n",
              "  }\n",
              "\n",
              "  [theme=dark] .colab-df-quickchart {\n",
              "      --bg-color: #3B4455;\n",
              "      --fill-color: #D2E3FC;\n",
              "      --hover-bg-color: #434B5C;\n",
              "      --hover-fill-color: #FFFFFF;\n",
              "      --disabled-bg-color: #3B4455;\n",
              "      --disabled-fill-color: #666;\n",
              "  }\n",
              "\n",
              "  .colab-df-quickchart {\n",
              "    background-color: var(--bg-color);\n",
              "    border: none;\n",
              "    border-radius: 50%;\n",
              "    cursor: pointer;\n",
              "    display: none;\n",
              "    fill: var(--fill-color);\n",
              "    height: 32px;\n",
              "    padding: 0;\n",
              "    width: 32px;\n",
              "  }\n",
              "\n",
              "  .colab-df-quickchart:hover {\n",
              "    background-color: var(--hover-bg-color);\n",
              "    box-shadow: 0 1px 2px rgba(60, 64, 67, 0.3), 0 1px 3px 1px rgba(60, 64, 67, 0.15);\n",
              "    fill: var(--button-hover-fill-color);\n",
              "  }\n",
              "\n",
              "  .colab-df-quickchart-complete:disabled,\n",
              "  .colab-df-quickchart-complete:disabled:hover {\n",
              "    background-color: var(--disabled-bg-color);\n",
              "    fill: var(--disabled-fill-color);\n",
              "    box-shadow: none;\n",
              "  }\n",
              "\n",
              "  .colab-df-spinner {\n",
              "    border: 2px solid var(--fill-color);\n",
              "    border-color: transparent;\n",
              "    border-bottom-color: var(--fill-color);\n",
              "    animation:\n",
              "      spin 1s steps(1) infinite;\n",
              "  }\n",
              "\n",
              "  @keyframes spin {\n",
              "    0% {\n",
              "      border-color: transparent;\n",
              "      border-bottom-color: var(--fill-color);\n",
              "      border-left-color: var(--fill-color);\n",
              "    }\n",
              "    20% {\n",
              "      border-color: transparent;\n",
              "      border-left-color: var(--fill-color);\n",
              "      border-top-color: var(--fill-color);\n",
              "    }\n",
              "    30% {\n",
              "      border-color: transparent;\n",
              "      border-left-color: var(--fill-color);\n",
              "      border-top-color: var(--fill-color);\n",
              "      border-right-color: var(--fill-color);\n",
              "    }\n",
              "    40% {\n",
              "      border-color: transparent;\n",
              "      border-right-color: var(--fill-color);\n",
              "      border-top-color: var(--fill-color);\n",
              "    }\n",
              "    60% {\n",
              "      border-color: transparent;\n",
              "      border-right-color: var(--fill-color);\n",
              "    }\n",
              "    80% {\n",
              "      border-color: transparent;\n",
              "      border-right-color: var(--fill-color);\n",
              "      border-bottom-color: var(--fill-color);\n",
              "    }\n",
              "    90% {\n",
              "      border-color: transparent;\n",
              "      border-bottom-color: var(--fill-color);\n",
              "    }\n",
              "  }\n",
              "</style>\n",
              "\n",
              "  <script>\n",
              "    async function quickchart(key) {\n",
              "      const quickchartButtonEl =\n",
              "        document.querySelector('#' + key + ' button');\n",
              "      quickchartButtonEl.disabled = true;  // To prevent multiple clicks.\n",
              "      quickchartButtonEl.classList.add('colab-df-spinner');\n",
              "      try {\n",
              "        const charts = await google.colab.kernel.invokeFunction(\n",
              "            'suggestCharts', [key], {});\n",
              "      } catch (error) {\n",
              "        console.error('Error during call to suggestCharts:', error);\n",
              "      }\n",
              "      quickchartButtonEl.classList.remove('colab-df-spinner');\n",
              "      quickchartButtonEl.classList.add('colab-df-quickchart-complete');\n",
              "    }\n",
              "    (() => {\n",
              "      let quickchartButtonEl =\n",
              "        document.querySelector('#df-aa31842a-a24a-4ea2-9d03-0bedafc7d082 button');\n",
              "      quickchartButtonEl.style.display =\n",
              "        google.colab.kernel.accessAllowed ? 'block' : 'none';\n",
              "    })();\n",
              "  </script>\n",
              "</div>\n",
              "    </div>\n",
              "  </div>\n"
            ],
            "application/vnd.google.colaboratory.intrinsic+json": {
              "type": "dataframe",
              "variable_name": "gemini_test_df",
              "summary": "{\n  \"name\": \"gemini_test_df\",\n  \"rows\": 4778,\n  \"fields\": [\n    {\n      \"column\": \"text\",\n      \"properties\": {\n        \"dtype\": \"string\",\n        \"num_unique_values\": 4778,\n        \"samples\": [\n          \"@NatGeo <U+0001F60D><U+0001F60D><U+0001F60D><U+0001F60D><U+0001F60D><U+0001F60D>\",\n          \"Thank you https://t.co/VpswC4rFBx\",\n          \"Title: Embracing the Untamed Spirit: A Cowboy's Journey on the Waves\\n\\nIn the annals of American history, the image of the cowboy evokes a sense of rugged individualism, boundless freedom, and a deep connection with the untamed wilderness. However, in the story \\\"A Cowboy Who Rode the Waves,\\\" author Steven Raichlen introduces us to a unique blend of the Western frontier and the vastness of the ocean, challenging our traditional notions of what it means to be a cowboy. Through the protagonist's remarkable journey, Raichlen invites us to embrace the untamed spirit that lies within us all, regardless of our background or circumstances.\\n\\nThe protagonist, a young cowboy named Jack, finds himself drawn to the allure of the sea. His curiosity and adventurous spirit lead him to leave behind the familiar landscapes of the Wild West and embark on a voyage across the open waters. As he navigates the unpredictable nature of the ocean, Jack encounters challenges that test his resilience and resourcefulness. Through his interactions with the sea and the people he meets along the way, he discovers a new sense of purpose and identity.\\n\\nOne of the key themes explored in the story is the idea of embracing the unknown. Jack's decision to venture into uncharted territory, both physically and figuratively, demonstrates his willingness to step outside of his comfort zone and challenge himself in new ways. His journey serves as a reminder that true growth and fulfillment often come from stepping into the unknown and embracing the uncertainty that lies ahead.\\n\\nAnother important aspect of the story is the connection between the cowboy and the sea. Traditionally associated with the land, the cowboy figure is often seen as a symbol of the American frontier. However, Raichlen's portrayal of Jack as a cowboy who rides the waves blurs the boundaries between the land and the sea, suggesting that the spirit of adventure and the pursuit of freedom can be found in any realm.\\n\\nThrough Jack's transformative journey, the story also highlights the importance of embracing one's unique identity. Jack's initial hesitation to share his cowboy heritage with the people he meets on his travels reflects his fear of being judged or misunderstood. However, as he gains confidence and learns to appreciate the value of his experiences, he comes to realize that his cowboy identity is an integral part of who he is.\\n\\nIn conclusion, \\\"A Cowboy Who Rode the Waves\\\" offers a powerful and inspiring message about embracing the untamed spirit within us. Through Jack's remarkable journey, Raichlen challenges traditional notions of what it means to be a cowboy and encourages us to embrace the unknown, forge our own paths, and celebrate our unique identities. The story serves as a reminder that true freedom and fulfillment come from living life on our own terms, regardless of the obstacles that may come our way.,1,\\\"\\\"\\\"A Cowboy Who Rode the Waves\\\"\\\"\\\",gemini_pro,True\"\n        ],\n        \"semantic_type\": \"\",\n        \"description\": \"\"\n      }\n    },\n    {\n      \"column\": \"generated\",\n      \"properties\": {\n        \"dtype\": \"number\",\n        \"std\": 0,\n        \"min\": 0,\n        \"max\": 1,\n        \"num_unique_values\": 2,\n        \"samples\": [\n          1,\n          0\n        ],\n        \"semantic_type\": \"\",\n        \"description\": \"\"\n      }\n    }\n  ]\n}"
            }
          },
          "metadata": {},
          "execution_count": 6
        }
      ]
    },
    {
      "cell_type": "code",
      "source": [
        "import tensorflow as tf\n",
        "from tensorflow.keras.preprocessing.text import Tokenizer\n",
        "from tensorflow.keras.preprocessing.sequence import pad_sequences\n",
        "tokenizer = Tokenizer(num_words=10000)\n",
        "features = gemini_test_df['text'].values\n",
        "tokenizer.fit_on_texts(features)\n",
        "sequences = tokenizer.texts_to_sequences(features)\n",
        "max_len = 512\n",
        "padded_sequences_gemini = pad_sequences(sequences, maxlen=max_len, padding='post')\n",
        "labels_gemini = gemini_test_df['generated'].values\n",
        "print(\"Padded Sequences Shape:\", padded_sequences_gemini.shape)\n",
        "print(\"Labels Shape:\", labels_gemini.shape)\n",
        "test_dataset_gemini = tf.data.Dataset.from_tensor_slices((padded_sequences_gemini, labels_gemini)).batch(32)"
      ],
      "metadata": {
        "colab": {
          "base_uri": "https://localhost:8080/"
        },
        "outputId": "7d98a4ec-c276-4726-cd76-15bdad8be7f7",
        "id": "z5_HftlmRVDX"
      },
      "execution_count": 7,
      "outputs": [
        {
          "output_type": "stream",
          "name": "stdout",
          "text": [
            "Padded Sequences Shape: (4778, 512)\n",
            "Labels Shape: (4778,)\n"
          ]
        }
      ]
    },
    {
      "cell_type": "code",
      "source": [
        "import numpy as np\n",
        "sequence_lengths = [len(seq) for seq in sequences]\n",
        "print(\"Average sequence length:\", np.mean(sequence_lengths))\n",
        "print(\"Max sequence length:\", np.max(sequence_lengths))\n",
        "\n",
        "padded_sequences = pad_sequences(sequences, maxlen=300, padding='post')"
      ],
      "metadata": {
        "colab": {
          "base_uri": "https://localhost:8080/"
        },
        "outputId": "0d3e02d2-2574-4e4d-cb17-157493273e2c",
        "id": "aDuS5VeBRVDY"
      },
      "execution_count": 9,
      "outputs": [
        {
          "output_type": "stream",
          "name": "stdout",
          "text": [
            "Average sequence length: 396.762452909167\n",
            "Max sequence length: 874\n"
          ]
        }
      ]
    },
    {
      "cell_type": "code",
      "source": [
        "model_fnn_path = '/content/drive/My Drive/DS301GroupProject/model_fnn'\n",
        "model_cnn_path = '/content/drive/My Drive/DS301GroupProject/model_cnn'"
      ],
      "metadata": {
        "id": "QHUmuLCDWXPB"
      },
      "execution_count": null,
      "outputs": []
    },
    {
      "cell_type": "code",
      "source": [
        "from tensorflow.keras.models import load_model\n",
        "from tensorflow.keras.backend import clear_session\n",
        "clear_session()\n",
        "model_cnn = load_model(model_fnn_path)\n",
        "clear_session()\n",
        "model_capsule = load_model(model_cnn_path)"
      ],
      "metadata": {
        "id": "eXq3Sx3HBqja"
      },
      "execution_count": null,
      "outputs": []
    },
    {
      "cell_type": "code",
      "source": [
        "loss_fnn, accuracy_fnn = model_cnn.evaluate(test_dataset_gemini)\n",
        "loss_cnn, accuracy_cnn = model_capsule.evaluate(test_dataset_gemini)\n",
        "\n",
        "print(\"FNN Model Test Accuracy:\", accuracy_fnn)\n",
        "print(\"CNN with best parameter Test Accuracy:\", accuracy_cnn)"
      ],
      "metadata": {
        "colab": {
          "base_uri": "https://localhost:8080/"
        },
        "id": "82b7vKpuAdRG",
        "outputId": "4f083e98-a70c-4299-a029-66610aef6b04"
      },
      "execution_count": null,
      "outputs": [
        {
          "output_type": "stream",
          "name": "stdout",
          "text": [
            "291/291 [==============================] - 55s 190ms/step - loss: 0.3214 - accuracy: 0.8728\n",
            "291/291 [==============================] - 12s 40ms/step - loss: 0.2991 - accuracy: 0.8852\n",
            "CNN Model Test Accuracy: 0.8728171586990356\n",
            "Capsule Model Test Accuracy: 0.8852291703224182\n"
          ]
        }
      ]
    }
  ],
  "metadata": {
    "colab": {
      "machine_shape": "hm",
      "provenance": [],
      "toc_visible": true,
      "gpuType": "A100",
      "include_colab_link": true
    },
    "kaggle": {
      "accelerator": "tpuV38",
      "dataSources": [
        {
          "databundleVersionId": 2703900,
          "sourceId": 19018,
          "sourceType": "competition"
        },
        {
          "datasetId": 8090,
          "sourceId": 11361,
          "sourceType": "datasetVersion"
        }
      ],
      "dockerImageVersionId": 30299,
      "isGpuEnabled": false,
      "isInternetEnabled": true,
      "language": "python",
      "sourceType": "notebook"
    },
    "kernelspec": {
      "display_name": "Python 3",
      "name": "python3"
    },
    "language_info": {
      "codemirror_mode": {
        "name": "ipython",
        "version": 3
      },
      "file_extension": ".py",
      "mimetype": "text/x-python",
      "name": "python",
      "nbconvert_exporter": "python",
      "pygments_lexer": "ipython3",
      "version": "3.6.4"
    },
    "widgets": {
      "application/vnd.jupyter.widget-state+json": {
        "41416fc66b914b5aa9cede79fb592e97": {
          "model_module": "@jupyter-widgets/controls",
          "model_name": "HBoxModel",
          "model_module_version": "1.5.0",
          "state": {
            "_dom_classes": [],
            "_model_module": "@jupyter-widgets/controls",
            "_model_module_version": "1.5.0",
            "_model_name": "HBoxModel",
            "_view_count": null,
            "_view_module": "@jupyter-widgets/controls",
            "_view_module_version": "1.5.0",
            "_view_name": "HBoxView",
            "box_style": "",
            "children": [
              "IPY_MODEL_0626214363864c5b841c414577d154d6",
              "IPY_MODEL_5759accb83134b8fa6813de8b950f061",
              "IPY_MODEL_5cc2d7b283d24968ab17009e8ee09245"
            ],
            "layout": "IPY_MODEL_bcd1de84a6c44aa8ae173df73b42c411"
          }
        },
        "0626214363864c5b841c414577d154d6": {
          "model_module": "@jupyter-widgets/controls",
          "model_name": "HTMLModel",
          "model_module_version": "1.5.0",
          "state": {
            "_dom_classes": [],
            "_model_module": "@jupyter-widgets/controls",
            "_model_module_version": "1.5.0",
            "_model_name": "HTMLModel",
            "_view_count": null,
            "_view_module": "@jupyter-widgets/controls",
            "_view_module_version": "1.5.0",
            "_view_name": "HTMLView",
            "description": "",
            "description_tooltip": null,
            "layout": "IPY_MODEL_340b1b75aa1c4c298bdf3087a1489c11",
            "placeholder": "​",
            "style": "IPY_MODEL_13c3535d6f73490c81ba641e521efb2b",
            "value": "tokenizer_config.json: 100%"
          }
        },
        "5759accb83134b8fa6813de8b950f061": {
          "model_module": "@jupyter-widgets/controls",
          "model_name": "FloatProgressModel",
          "model_module_version": "1.5.0",
          "state": {
            "_dom_classes": [],
            "_model_module": "@jupyter-widgets/controls",
            "_model_module_version": "1.5.0",
            "_model_name": "FloatProgressModel",
            "_view_count": null,
            "_view_module": "@jupyter-widgets/controls",
            "_view_module_version": "1.5.0",
            "_view_name": "ProgressView",
            "bar_style": "success",
            "description": "",
            "description_tooltip": null,
            "layout": "IPY_MODEL_09709f94e26449058997303a2dc358d9",
            "max": 28,
            "min": 0,
            "orientation": "horizontal",
            "style": "IPY_MODEL_096ae471a4434342b48906a415bc676b",
            "value": 28
          }
        },
        "5cc2d7b283d24968ab17009e8ee09245": {
          "model_module": "@jupyter-widgets/controls",
          "model_name": "HTMLModel",
          "model_module_version": "1.5.0",
          "state": {
            "_dom_classes": [],
            "_model_module": "@jupyter-widgets/controls",
            "_model_module_version": "1.5.0",
            "_model_name": "HTMLModel",
            "_view_count": null,
            "_view_module": "@jupyter-widgets/controls",
            "_view_module_version": "1.5.0",
            "_view_name": "HTMLView",
            "description": "",
            "description_tooltip": null,
            "layout": "IPY_MODEL_ea227765727e461c9f86dabed7ce7193",
            "placeholder": "​",
            "style": "IPY_MODEL_ce42ab246b1044e7b21e9dd532e4218a",
            "value": " 28.0/28.0 [00:00&lt;00:00, 1.77kB/s]"
          }
        },
        "bcd1de84a6c44aa8ae173df73b42c411": {
          "model_module": "@jupyter-widgets/base",
          "model_name": "LayoutModel",
          "model_module_version": "1.2.0",
          "state": {
            "_model_module": "@jupyter-widgets/base",
            "_model_module_version": "1.2.0",
            "_model_name": "LayoutModel",
            "_view_count": null,
            "_view_module": "@jupyter-widgets/base",
            "_view_module_version": "1.2.0",
            "_view_name": "LayoutView",
            "align_content": null,
            "align_items": null,
            "align_self": null,
            "border": null,
            "bottom": null,
            "display": null,
            "flex": null,
            "flex_flow": null,
            "grid_area": null,
            "grid_auto_columns": null,
            "grid_auto_flow": null,
            "grid_auto_rows": null,
            "grid_column": null,
            "grid_gap": null,
            "grid_row": null,
            "grid_template_areas": null,
            "grid_template_columns": null,
            "grid_template_rows": null,
            "height": null,
            "justify_content": null,
            "justify_items": null,
            "left": null,
            "margin": null,
            "max_height": null,
            "max_width": null,
            "min_height": null,
            "min_width": null,
            "object_fit": null,
            "object_position": null,
            "order": null,
            "overflow": null,
            "overflow_x": null,
            "overflow_y": null,
            "padding": null,
            "right": null,
            "top": null,
            "visibility": null,
            "width": null
          }
        },
        "340b1b75aa1c4c298bdf3087a1489c11": {
          "model_module": "@jupyter-widgets/base",
          "model_name": "LayoutModel",
          "model_module_version": "1.2.0",
          "state": {
            "_model_module": "@jupyter-widgets/base",
            "_model_module_version": "1.2.0",
            "_model_name": "LayoutModel",
            "_view_count": null,
            "_view_module": "@jupyter-widgets/base",
            "_view_module_version": "1.2.0",
            "_view_name": "LayoutView",
            "align_content": null,
            "align_items": null,
            "align_self": null,
            "border": null,
            "bottom": null,
            "display": null,
            "flex": null,
            "flex_flow": null,
            "grid_area": null,
            "grid_auto_columns": null,
            "grid_auto_flow": null,
            "grid_auto_rows": null,
            "grid_column": null,
            "grid_gap": null,
            "grid_row": null,
            "grid_template_areas": null,
            "grid_template_columns": null,
            "grid_template_rows": null,
            "height": null,
            "justify_content": null,
            "justify_items": null,
            "left": null,
            "margin": null,
            "max_height": null,
            "max_width": null,
            "min_height": null,
            "min_width": null,
            "object_fit": null,
            "object_position": null,
            "order": null,
            "overflow": null,
            "overflow_x": null,
            "overflow_y": null,
            "padding": null,
            "right": null,
            "top": null,
            "visibility": null,
            "width": null
          }
        },
        "13c3535d6f73490c81ba641e521efb2b": {
          "model_module": "@jupyter-widgets/controls",
          "model_name": "DescriptionStyleModel",
          "model_module_version": "1.5.0",
          "state": {
            "_model_module": "@jupyter-widgets/controls",
            "_model_module_version": "1.5.0",
            "_model_name": "DescriptionStyleModel",
            "_view_count": null,
            "_view_module": "@jupyter-widgets/base",
            "_view_module_version": "1.2.0",
            "_view_name": "StyleView",
            "description_width": ""
          }
        },
        "09709f94e26449058997303a2dc358d9": {
          "model_module": "@jupyter-widgets/base",
          "model_name": "LayoutModel",
          "model_module_version": "1.2.0",
          "state": {
            "_model_module": "@jupyter-widgets/base",
            "_model_module_version": "1.2.0",
            "_model_name": "LayoutModel",
            "_view_count": null,
            "_view_module": "@jupyter-widgets/base",
            "_view_module_version": "1.2.0",
            "_view_name": "LayoutView",
            "align_content": null,
            "align_items": null,
            "align_self": null,
            "border": null,
            "bottom": null,
            "display": null,
            "flex": null,
            "flex_flow": null,
            "grid_area": null,
            "grid_auto_columns": null,
            "grid_auto_flow": null,
            "grid_auto_rows": null,
            "grid_column": null,
            "grid_gap": null,
            "grid_row": null,
            "grid_template_areas": null,
            "grid_template_columns": null,
            "grid_template_rows": null,
            "height": null,
            "justify_content": null,
            "justify_items": null,
            "left": null,
            "margin": null,
            "max_height": null,
            "max_width": null,
            "min_height": null,
            "min_width": null,
            "object_fit": null,
            "object_position": null,
            "order": null,
            "overflow": null,
            "overflow_x": null,
            "overflow_y": null,
            "padding": null,
            "right": null,
            "top": null,
            "visibility": null,
            "width": null
          }
        },
        "096ae471a4434342b48906a415bc676b": {
          "model_module": "@jupyter-widgets/controls",
          "model_name": "ProgressStyleModel",
          "model_module_version": "1.5.0",
          "state": {
            "_model_module": "@jupyter-widgets/controls",
            "_model_module_version": "1.5.0",
            "_model_name": "ProgressStyleModel",
            "_view_count": null,
            "_view_module": "@jupyter-widgets/base",
            "_view_module_version": "1.2.0",
            "_view_name": "StyleView",
            "bar_color": null,
            "description_width": ""
          }
        },
        "ea227765727e461c9f86dabed7ce7193": {
          "model_module": "@jupyter-widgets/base",
          "model_name": "LayoutModel",
          "model_module_version": "1.2.0",
          "state": {
            "_model_module": "@jupyter-widgets/base",
            "_model_module_version": "1.2.0",
            "_model_name": "LayoutModel",
            "_view_count": null,
            "_view_module": "@jupyter-widgets/base",
            "_view_module_version": "1.2.0",
            "_view_name": "LayoutView",
            "align_content": null,
            "align_items": null,
            "align_self": null,
            "border": null,
            "bottom": null,
            "display": null,
            "flex": null,
            "flex_flow": null,
            "grid_area": null,
            "grid_auto_columns": null,
            "grid_auto_flow": null,
            "grid_auto_rows": null,
            "grid_column": null,
            "grid_gap": null,
            "grid_row": null,
            "grid_template_areas": null,
            "grid_template_columns": null,
            "grid_template_rows": null,
            "height": null,
            "justify_content": null,
            "justify_items": null,
            "left": null,
            "margin": null,
            "max_height": null,
            "max_width": null,
            "min_height": null,
            "min_width": null,
            "object_fit": null,
            "object_position": null,
            "order": null,
            "overflow": null,
            "overflow_x": null,
            "overflow_y": null,
            "padding": null,
            "right": null,
            "top": null,
            "visibility": null,
            "width": null
          }
        },
        "ce42ab246b1044e7b21e9dd532e4218a": {
          "model_module": "@jupyter-widgets/controls",
          "model_name": "DescriptionStyleModel",
          "model_module_version": "1.5.0",
          "state": {
            "_model_module": "@jupyter-widgets/controls",
            "_model_module_version": "1.5.0",
            "_model_name": "DescriptionStyleModel",
            "_view_count": null,
            "_view_module": "@jupyter-widgets/base",
            "_view_module_version": "1.2.0",
            "_view_name": "StyleView",
            "description_width": ""
          }
        },
        "bc64b8efa6624bc8a18fd68e8737f51b": {
          "model_module": "@jupyter-widgets/controls",
          "model_name": "HBoxModel",
          "model_module_version": "1.5.0",
          "state": {
            "_dom_classes": [],
            "_model_module": "@jupyter-widgets/controls",
            "_model_module_version": "1.5.0",
            "_model_name": "HBoxModel",
            "_view_count": null,
            "_view_module": "@jupyter-widgets/controls",
            "_view_module_version": "1.5.0",
            "_view_name": "HBoxView",
            "box_style": "",
            "children": [
              "IPY_MODEL_fbad30c7e0594c909d3045a732c00e5b",
              "IPY_MODEL_e8073427d7f8482cbe8939d65a68613f",
              "IPY_MODEL_1acdc0ff51df4301a143ff70925c95db"
            ],
            "layout": "IPY_MODEL_4a433e9bc6da4b8f9f20da9ee97507f6"
          }
        },
        "fbad30c7e0594c909d3045a732c00e5b": {
          "model_module": "@jupyter-widgets/controls",
          "model_name": "HTMLModel",
          "model_module_version": "1.5.0",
          "state": {
            "_dom_classes": [],
            "_model_module": "@jupyter-widgets/controls",
            "_model_module_version": "1.5.0",
            "_model_name": "HTMLModel",
            "_view_count": null,
            "_view_module": "@jupyter-widgets/controls",
            "_view_module_version": "1.5.0",
            "_view_name": "HTMLView",
            "description": "",
            "description_tooltip": null,
            "layout": "IPY_MODEL_6fcd011ed83849e9b1cee1d149f43744",
            "placeholder": "​",
            "style": "IPY_MODEL_b9c752ee260f45ce9431b4d6cd4f0ef4",
            "value": "vocab.txt: 100%"
          }
        },
        "e8073427d7f8482cbe8939d65a68613f": {
          "model_module": "@jupyter-widgets/controls",
          "model_name": "FloatProgressModel",
          "model_module_version": "1.5.0",
          "state": {
            "_dom_classes": [],
            "_model_module": "@jupyter-widgets/controls",
            "_model_module_version": "1.5.0",
            "_model_name": "FloatProgressModel",
            "_view_count": null,
            "_view_module": "@jupyter-widgets/controls",
            "_view_module_version": "1.5.0",
            "_view_name": "ProgressView",
            "bar_style": "success",
            "description": "",
            "description_tooltip": null,
            "layout": "IPY_MODEL_3b70edb2e8864ffdae46637e457abde4",
            "max": 231508,
            "min": 0,
            "orientation": "horizontal",
            "style": "IPY_MODEL_72d791ae8773401498456cefc0f229a4",
            "value": 231508
          }
        },
        "1acdc0ff51df4301a143ff70925c95db": {
          "model_module": "@jupyter-widgets/controls",
          "model_name": "HTMLModel",
          "model_module_version": "1.5.0",
          "state": {
            "_dom_classes": [],
            "_model_module": "@jupyter-widgets/controls",
            "_model_module_version": "1.5.0",
            "_model_name": "HTMLModel",
            "_view_count": null,
            "_view_module": "@jupyter-widgets/controls",
            "_view_module_version": "1.5.0",
            "_view_name": "HTMLView",
            "description": "",
            "description_tooltip": null,
            "layout": "IPY_MODEL_d740c46eeca745bc8d0cbf977cf23a02",
            "placeholder": "​",
            "style": "IPY_MODEL_3e29e734618547f2ba67eb648ec6b1ef",
            "value": " 232k/232k [00:00&lt;00:00, 1.40MB/s]"
          }
        },
        "4a433e9bc6da4b8f9f20da9ee97507f6": {
          "model_module": "@jupyter-widgets/base",
          "model_name": "LayoutModel",
          "model_module_version": "1.2.0",
          "state": {
            "_model_module": "@jupyter-widgets/base",
            "_model_module_version": "1.2.0",
            "_model_name": "LayoutModel",
            "_view_count": null,
            "_view_module": "@jupyter-widgets/base",
            "_view_module_version": "1.2.0",
            "_view_name": "LayoutView",
            "align_content": null,
            "align_items": null,
            "align_self": null,
            "border": null,
            "bottom": null,
            "display": null,
            "flex": null,
            "flex_flow": null,
            "grid_area": null,
            "grid_auto_columns": null,
            "grid_auto_flow": null,
            "grid_auto_rows": null,
            "grid_column": null,
            "grid_gap": null,
            "grid_row": null,
            "grid_template_areas": null,
            "grid_template_columns": null,
            "grid_template_rows": null,
            "height": null,
            "justify_content": null,
            "justify_items": null,
            "left": null,
            "margin": null,
            "max_height": null,
            "max_width": null,
            "min_height": null,
            "min_width": null,
            "object_fit": null,
            "object_position": null,
            "order": null,
            "overflow": null,
            "overflow_x": null,
            "overflow_y": null,
            "padding": null,
            "right": null,
            "top": null,
            "visibility": null,
            "width": null
          }
        },
        "6fcd011ed83849e9b1cee1d149f43744": {
          "model_module": "@jupyter-widgets/base",
          "model_name": "LayoutModel",
          "model_module_version": "1.2.0",
          "state": {
            "_model_module": "@jupyter-widgets/base",
            "_model_module_version": "1.2.0",
            "_model_name": "LayoutModel",
            "_view_count": null,
            "_view_module": "@jupyter-widgets/base",
            "_view_module_version": "1.2.0",
            "_view_name": "LayoutView",
            "align_content": null,
            "align_items": null,
            "align_self": null,
            "border": null,
            "bottom": null,
            "display": null,
            "flex": null,
            "flex_flow": null,
            "grid_area": null,
            "grid_auto_columns": null,
            "grid_auto_flow": null,
            "grid_auto_rows": null,
            "grid_column": null,
            "grid_gap": null,
            "grid_row": null,
            "grid_template_areas": null,
            "grid_template_columns": null,
            "grid_template_rows": null,
            "height": null,
            "justify_content": null,
            "justify_items": null,
            "left": null,
            "margin": null,
            "max_height": null,
            "max_width": null,
            "min_height": null,
            "min_width": null,
            "object_fit": null,
            "object_position": null,
            "order": null,
            "overflow": null,
            "overflow_x": null,
            "overflow_y": null,
            "padding": null,
            "right": null,
            "top": null,
            "visibility": null,
            "width": null
          }
        },
        "b9c752ee260f45ce9431b4d6cd4f0ef4": {
          "model_module": "@jupyter-widgets/controls",
          "model_name": "DescriptionStyleModel",
          "model_module_version": "1.5.0",
          "state": {
            "_model_module": "@jupyter-widgets/controls",
            "_model_module_version": "1.5.0",
            "_model_name": "DescriptionStyleModel",
            "_view_count": null,
            "_view_module": "@jupyter-widgets/base",
            "_view_module_version": "1.2.0",
            "_view_name": "StyleView",
            "description_width": ""
          }
        },
        "3b70edb2e8864ffdae46637e457abde4": {
          "model_module": "@jupyter-widgets/base",
          "model_name": "LayoutModel",
          "model_module_version": "1.2.0",
          "state": {
            "_model_module": "@jupyter-widgets/base",
            "_model_module_version": "1.2.0",
            "_model_name": "LayoutModel",
            "_view_count": null,
            "_view_module": "@jupyter-widgets/base",
            "_view_module_version": "1.2.0",
            "_view_name": "LayoutView",
            "align_content": null,
            "align_items": null,
            "align_self": null,
            "border": null,
            "bottom": null,
            "display": null,
            "flex": null,
            "flex_flow": null,
            "grid_area": null,
            "grid_auto_columns": null,
            "grid_auto_flow": null,
            "grid_auto_rows": null,
            "grid_column": null,
            "grid_gap": null,
            "grid_row": null,
            "grid_template_areas": null,
            "grid_template_columns": null,
            "grid_template_rows": null,
            "height": null,
            "justify_content": null,
            "justify_items": null,
            "left": null,
            "margin": null,
            "max_height": null,
            "max_width": null,
            "min_height": null,
            "min_width": null,
            "object_fit": null,
            "object_position": null,
            "order": null,
            "overflow": null,
            "overflow_x": null,
            "overflow_y": null,
            "padding": null,
            "right": null,
            "top": null,
            "visibility": null,
            "width": null
          }
        },
        "72d791ae8773401498456cefc0f229a4": {
          "model_module": "@jupyter-widgets/controls",
          "model_name": "ProgressStyleModel",
          "model_module_version": "1.5.0",
          "state": {
            "_model_module": "@jupyter-widgets/controls",
            "_model_module_version": "1.5.0",
            "_model_name": "ProgressStyleModel",
            "_view_count": null,
            "_view_module": "@jupyter-widgets/base",
            "_view_module_version": "1.2.0",
            "_view_name": "StyleView",
            "bar_color": null,
            "description_width": ""
          }
        },
        "d740c46eeca745bc8d0cbf977cf23a02": {
          "model_module": "@jupyter-widgets/base",
          "model_name": "LayoutModel",
          "model_module_version": "1.2.0",
          "state": {
            "_model_module": "@jupyter-widgets/base",
            "_model_module_version": "1.2.0",
            "_model_name": "LayoutModel",
            "_view_count": null,
            "_view_module": "@jupyter-widgets/base",
            "_view_module_version": "1.2.0",
            "_view_name": "LayoutView",
            "align_content": null,
            "align_items": null,
            "align_self": null,
            "border": null,
            "bottom": null,
            "display": null,
            "flex": null,
            "flex_flow": null,
            "grid_area": null,
            "grid_auto_columns": null,
            "grid_auto_flow": null,
            "grid_auto_rows": null,
            "grid_column": null,
            "grid_gap": null,
            "grid_row": null,
            "grid_template_areas": null,
            "grid_template_columns": null,
            "grid_template_rows": null,
            "height": null,
            "justify_content": null,
            "justify_items": null,
            "left": null,
            "margin": null,
            "max_height": null,
            "max_width": null,
            "min_height": null,
            "min_width": null,
            "object_fit": null,
            "object_position": null,
            "order": null,
            "overflow": null,
            "overflow_x": null,
            "overflow_y": null,
            "padding": null,
            "right": null,
            "top": null,
            "visibility": null,
            "width": null
          }
        },
        "3e29e734618547f2ba67eb648ec6b1ef": {
          "model_module": "@jupyter-widgets/controls",
          "model_name": "DescriptionStyleModel",
          "model_module_version": "1.5.0",
          "state": {
            "_model_module": "@jupyter-widgets/controls",
            "_model_module_version": "1.5.0",
            "_model_name": "DescriptionStyleModel",
            "_view_count": null,
            "_view_module": "@jupyter-widgets/base",
            "_view_module_version": "1.2.0",
            "_view_name": "StyleView",
            "description_width": ""
          }
        },
        "01a18dba70ae4b31a91a7a1d3d44ff7e": {
          "model_module": "@jupyter-widgets/controls",
          "model_name": "HBoxModel",
          "model_module_version": "1.5.0",
          "state": {
            "_dom_classes": [],
            "_model_module": "@jupyter-widgets/controls",
            "_model_module_version": "1.5.0",
            "_model_name": "HBoxModel",
            "_view_count": null,
            "_view_module": "@jupyter-widgets/controls",
            "_view_module_version": "1.5.0",
            "_view_name": "HBoxView",
            "box_style": "",
            "children": [
              "IPY_MODEL_02783d86073043e5a23565834f7558fb",
              "IPY_MODEL_d5b38d7fcf294ebabab9602d743e06b1",
              "IPY_MODEL_e63aeb82baa443779f479364f4639f2e"
            ],
            "layout": "IPY_MODEL_559718d8e6ac4e508b262c8c18ae2487"
          }
        },
        "02783d86073043e5a23565834f7558fb": {
          "model_module": "@jupyter-widgets/controls",
          "model_name": "HTMLModel",
          "model_module_version": "1.5.0",
          "state": {
            "_dom_classes": [],
            "_model_module": "@jupyter-widgets/controls",
            "_model_module_version": "1.5.0",
            "_model_name": "HTMLModel",
            "_view_count": null,
            "_view_module": "@jupyter-widgets/controls",
            "_view_module_version": "1.5.0",
            "_view_name": "HTMLView",
            "description": "",
            "description_tooltip": null,
            "layout": "IPY_MODEL_5eaad1d147624b158318398ece980d40",
            "placeholder": "​",
            "style": "IPY_MODEL_75769d0ee93449df8482fe3128b35ea7",
            "value": "tokenizer.json: 100%"
          }
        },
        "d5b38d7fcf294ebabab9602d743e06b1": {
          "model_module": "@jupyter-widgets/controls",
          "model_name": "FloatProgressModel",
          "model_module_version": "1.5.0",
          "state": {
            "_dom_classes": [],
            "_model_module": "@jupyter-widgets/controls",
            "_model_module_version": "1.5.0",
            "_model_name": "FloatProgressModel",
            "_view_count": null,
            "_view_module": "@jupyter-widgets/controls",
            "_view_module_version": "1.5.0",
            "_view_name": "ProgressView",
            "bar_style": "success",
            "description": "",
            "description_tooltip": null,
            "layout": "IPY_MODEL_f2e269c7f2f948908104ad18197ae295",
            "max": 466062,
            "min": 0,
            "orientation": "horizontal",
            "style": "IPY_MODEL_c85a462180684a819da777c8986fe4e8",
            "value": 466062
          }
        },
        "e63aeb82baa443779f479364f4639f2e": {
          "model_module": "@jupyter-widgets/controls",
          "model_name": "HTMLModel",
          "model_module_version": "1.5.0",
          "state": {
            "_dom_classes": [],
            "_model_module": "@jupyter-widgets/controls",
            "_model_module_version": "1.5.0",
            "_model_name": "HTMLModel",
            "_view_count": null,
            "_view_module": "@jupyter-widgets/controls",
            "_view_module_version": "1.5.0",
            "_view_name": "HTMLView",
            "description": "",
            "description_tooltip": null,
            "layout": "IPY_MODEL_404ee222f76e4d75bd152989c93ea5bc",
            "placeholder": "​",
            "style": "IPY_MODEL_e94b482b48fd44c892af39d5096302f3",
            "value": " 466k/466k [00:00&lt;00:00, 1.89MB/s]"
          }
        },
        "559718d8e6ac4e508b262c8c18ae2487": {
          "model_module": "@jupyter-widgets/base",
          "model_name": "LayoutModel",
          "model_module_version": "1.2.0",
          "state": {
            "_model_module": "@jupyter-widgets/base",
            "_model_module_version": "1.2.0",
            "_model_name": "LayoutModel",
            "_view_count": null,
            "_view_module": "@jupyter-widgets/base",
            "_view_module_version": "1.2.0",
            "_view_name": "LayoutView",
            "align_content": null,
            "align_items": null,
            "align_self": null,
            "border": null,
            "bottom": null,
            "display": null,
            "flex": null,
            "flex_flow": null,
            "grid_area": null,
            "grid_auto_columns": null,
            "grid_auto_flow": null,
            "grid_auto_rows": null,
            "grid_column": null,
            "grid_gap": null,
            "grid_row": null,
            "grid_template_areas": null,
            "grid_template_columns": null,
            "grid_template_rows": null,
            "height": null,
            "justify_content": null,
            "justify_items": null,
            "left": null,
            "margin": null,
            "max_height": null,
            "max_width": null,
            "min_height": null,
            "min_width": null,
            "object_fit": null,
            "object_position": null,
            "order": null,
            "overflow": null,
            "overflow_x": null,
            "overflow_y": null,
            "padding": null,
            "right": null,
            "top": null,
            "visibility": null,
            "width": null
          }
        },
        "5eaad1d147624b158318398ece980d40": {
          "model_module": "@jupyter-widgets/base",
          "model_name": "LayoutModel",
          "model_module_version": "1.2.0",
          "state": {
            "_model_module": "@jupyter-widgets/base",
            "_model_module_version": "1.2.0",
            "_model_name": "LayoutModel",
            "_view_count": null,
            "_view_module": "@jupyter-widgets/base",
            "_view_module_version": "1.2.0",
            "_view_name": "LayoutView",
            "align_content": null,
            "align_items": null,
            "align_self": null,
            "border": null,
            "bottom": null,
            "display": null,
            "flex": null,
            "flex_flow": null,
            "grid_area": null,
            "grid_auto_columns": null,
            "grid_auto_flow": null,
            "grid_auto_rows": null,
            "grid_column": null,
            "grid_gap": null,
            "grid_row": null,
            "grid_template_areas": null,
            "grid_template_columns": null,
            "grid_template_rows": null,
            "height": null,
            "justify_content": null,
            "justify_items": null,
            "left": null,
            "margin": null,
            "max_height": null,
            "max_width": null,
            "min_height": null,
            "min_width": null,
            "object_fit": null,
            "object_position": null,
            "order": null,
            "overflow": null,
            "overflow_x": null,
            "overflow_y": null,
            "padding": null,
            "right": null,
            "top": null,
            "visibility": null,
            "width": null
          }
        },
        "75769d0ee93449df8482fe3128b35ea7": {
          "model_module": "@jupyter-widgets/controls",
          "model_name": "DescriptionStyleModel",
          "model_module_version": "1.5.0",
          "state": {
            "_model_module": "@jupyter-widgets/controls",
            "_model_module_version": "1.5.0",
            "_model_name": "DescriptionStyleModel",
            "_view_count": null,
            "_view_module": "@jupyter-widgets/base",
            "_view_module_version": "1.2.0",
            "_view_name": "StyleView",
            "description_width": ""
          }
        },
        "f2e269c7f2f948908104ad18197ae295": {
          "model_module": "@jupyter-widgets/base",
          "model_name": "LayoutModel",
          "model_module_version": "1.2.0",
          "state": {
            "_model_module": "@jupyter-widgets/base",
            "_model_module_version": "1.2.0",
            "_model_name": "LayoutModel",
            "_view_count": null,
            "_view_module": "@jupyter-widgets/base",
            "_view_module_version": "1.2.0",
            "_view_name": "LayoutView",
            "align_content": null,
            "align_items": null,
            "align_self": null,
            "border": null,
            "bottom": null,
            "display": null,
            "flex": null,
            "flex_flow": null,
            "grid_area": null,
            "grid_auto_columns": null,
            "grid_auto_flow": null,
            "grid_auto_rows": null,
            "grid_column": null,
            "grid_gap": null,
            "grid_row": null,
            "grid_template_areas": null,
            "grid_template_columns": null,
            "grid_template_rows": null,
            "height": null,
            "justify_content": null,
            "justify_items": null,
            "left": null,
            "margin": null,
            "max_height": null,
            "max_width": null,
            "min_height": null,
            "min_width": null,
            "object_fit": null,
            "object_position": null,
            "order": null,
            "overflow": null,
            "overflow_x": null,
            "overflow_y": null,
            "padding": null,
            "right": null,
            "top": null,
            "visibility": null,
            "width": null
          }
        },
        "c85a462180684a819da777c8986fe4e8": {
          "model_module": "@jupyter-widgets/controls",
          "model_name": "ProgressStyleModel",
          "model_module_version": "1.5.0",
          "state": {
            "_model_module": "@jupyter-widgets/controls",
            "_model_module_version": "1.5.0",
            "_model_name": "ProgressStyleModel",
            "_view_count": null,
            "_view_module": "@jupyter-widgets/base",
            "_view_module_version": "1.2.0",
            "_view_name": "StyleView",
            "bar_color": null,
            "description_width": ""
          }
        },
        "404ee222f76e4d75bd152989c93ea5bc": {
          "model_module": "@jupyter-widgets/base",
          "model_name": "LayoutModel",
          "model_module_version": "1.2.0",
          "state": {
            "_model_module": "@jupyter-widgets/base",
            "_model_module_version": "1.2.0",
            "_model_name": "LayoutModel",
            "_view_count": null,
            "_view_module": "@jupyter-widgets/base",
            "_view_module_version": "1.2.0",
            "_view_name": "LayoutView",
            "align_content": null,
            "align_items": null,
            "align_self": null,
            "border": null,
            "bottom": null,
            "display": null,
            "flex": null,
            "flex_flow": null,
            "grid_area": null,
            "grid_auto_columns": null,
            "grid_auto_flow": null,
            "grid_auto_rows": null,
            "grid_column": null,
            "grid_gap": null,
            "grid_row": null,
            "grid_template_areas": null,
            "grid_template_columns": null,
            "grid_template_rows": null,
            "height": null,
            "justify_content": null,
            "justify_items": null,
            "left": null,
            "margin": null,
            "max_height": null,
            "max_width": null,
            "min_height": null,
            "min_width": null,
            "object_fit": null,
            "object_position": null,
            "order": null,
            "overflow": null,
            "overflow_x": null,
            "overflow_y": null,
            "padding": null,
            "right": null,
            "top": null,
            "visibility": null,
            "width": null
          }
        },
        "e94b482b48fd44c892af39d5096302f3": {
          "model_module": "@jupyter-widgets/controls",
          "model_name": "DescriptionStyleModel",
          "model_module_version": "1.5.0",
          "state": {
            "_model_module": "@jupyter-widgets/controls",
            "_model_module_version": "1.5.0",
            "_model_name": "DescriptionStyleModel",
            "_view_count": null,
            "_view_module": "@jupyter-widgets/base",
            "_view_module_version": "1.2.0",
            "_view_name": "StyleView",
            "description_width": ""
          }
        },
        "ac35890e2a3a48b68d74095ef3988051": {
          "model_module": "@jupyter-widgets/controls",
          "model_name": "HBoxModel",
          "model_module_version": "1.5.0",
          "state": {
            "_dom_classes": [],
            "_model_module": "@jupyter-widgets/controls",
            "_model_module_version": "1.5.0",
            "_model_name": "HBoxModel",
            "_view_count": null,
            "_view_module": "@jupyter-widgets/controls",
            "_view_module_version": "1.5.0",
            "_view_name": "HBoxView",
            "box_style": "",
            "children": [
              "IPY_MODEL_b0758e60dcfa447d833fdb351c66aa20",
              "IPY_MODEL_a644292fd7a54781bc9532a1bd71c0fd",
              "IPY_MODEL_5128c13d865740a0946a892a8ea2f8d7"
            ],
            "layout": "IPY_MODEL_8015f2ada98e4639ba1d839f2e224d11"
          }
        },
        "b0758e60dcfa447d833fdb351c66aa20": {
          "model_module": "@jupyter-widgets/controls",
          "model_name": "HTMLModel",
          "model_module_version": "1.5.0",
          "state": {
            "_dom_classes": [],
            "_model_module": "@jupyter-widgets/controls",
            "_model_module_version": "1.5.0",
            "_model_name": "HTMLModel",
            "_view_count": null,
            "_view_module": "@jupyter-widgets/controls",
            "_view_module_version": "1.5.0",
            "_view_name": "HTMLView",
            "description": "",
            "description_tooltip": null,
            "layout": "IPY_MODEL_8dd2544b1e1d411fbfd7ca02b0b3767b",
            "placeholder": "​",
            "style": "IPY_MODEL_6fed63ca948e4af2b95a30bded9ab443",
            "value": "config.json: 100%"
          }
        },
        "a644292fd7a54781bc9532a1bd71c0fd": {
          "model_module": "@jupyter-widgets/controls",
          "model_name": "FloatProgressModel",
          "model_module_version": "1.5.0",
          "state": {
            "_dom_classes": [],
            "_model_module": "@jupyter-widgets/controls",
            "_model_module_version": "1.5.0",
            "_model_name": "FloatProgressModel",
            "_view_count": null,
            "_view_module": "@jupyter-widgets/controls",
            "_view_module_version": "1.5.0",
            "_view_name": "ProgressView",
            "bar_style": "success",
            "description": "",
            "description_tooltip": null,
            "layout": "IPY_MODEL_6b66307bb40a44f0801d57656c536bc6",
            "max": 483,
            "min": 0,
            "orientation": "horizontal",
            "style": "IPY_MODEL_65fa6ea6a49f41069b04ab7122baf27f",
            "value": 483
          }
        },
        "5128c13d865740a0946a892a8ea2f8d7": {
          "model_module": "@jupyter-widgets/controls",
          "model_name": "HTMLModel",
          "model_module_version": "1.5.0",
          "state": {
            "_dom_classes": [],
            "_model_module": "@jupyter-widgets/controls",
            "_model_module_version": "1.5.0",
            "_model_name": "HTMLModel",
            "_view_count": null,
            "_view_module": "@jupyter-widgets/controls",
            "_view_module_version": "1.5.0",
            "_view_name": "HTMLView",
            "description": "",
            "description_tooltip": null,
            "layout": "IPY_MODEL_aa3354e100f5409d8f376c6fe384da5a",
            "placeholder": "​",
            "style": "IPY_MODEL_1b7f140db8984c4daa4900eee150077c",
            "value": " 483/483 [00:00&lt;00:00, 45.6kB/s]"
          }
        },
        "8015f2ada98e4639ba1d839f2e224d11": {
          "model_module": "@jupyter-widgets/base",
          "model_name": "LayoutModel",
          "model_module_version": "1.2.0",
          "state": {
            "_model_module": "@jupyter-widgets/base",
            "_model_module_version": "1.2.0",
            "_model_name": "LayoutModel",
            "_view_count": null,
            "_view_module": "@jupyter-widgets/base",
            "_view_module_version": "1.2.0",
            "_view_name": "LayoutView",
            "align_content": null,
            "align_items": null,
            "align_self": null,
            "border": null,
            "bottom": null,
            "display": null,
            "flex": null,
            "flex_flow": null,
            "grid_area": null,
            "grid_auto_columns": null,
            "grid_auto_flow": null,
            "grid_auto_rows": null,
            "grid_column": null,
            "grid_gap": null,
            "grid_row": null,
            "grid_template_areas": null,
            "grid_template_columns": null,
            "grid_template_rows": null,
            "height": null,
            "justify_content": null,
            "justify_items": null,
            "left": null,
            "margin": null,
            "max_height": null,
            "max_width": null,
            "min_height": null,
            "min_width": null,
            "object_fit": null,
            "object_position": null,
            "order": null,
            "overflow": null,
            "overflow_x": null,
            "overflow_y": null,
            "padding": null,
            "right": null,
            "top": null,
            "visibility": null,
            "width": null
          }
        },
        "8dd2544b1e1d411fbfd7ca02b0b3767b": {
          "model_module": "@jupyter-widgets/base",
          "model_name": "LayoutModel",
          "model_module_version": "1.2.0",
          "state": {
            "_model_module": "@jupyter-widgets/base",
            "_model_module_version": "1.2.0",
            "_model_name": "LayoutModel",
            "_view_count": null,
            "_view_module": "@jupyter-widgets/base",
            "_view_module_version": "1.2.0",
            "_view_name": "LayoutView",
            "align_content": null,
            "align_items": null,
            "align_self": null,
            "border": null,
            "bottom": null,
            "display": null,
            "flex": null,
            "flex_flow": null,
            "grid_area": null,
            "grid_auto_columns": null,
            "grid_auto_flow": null,
            "grid_auto_rows": null,
            "grid_column": null,
            "grid_gap": null,
            "grid_row": null,
            "grid_template_areas": null,
            "grid_template_columns": null,
            "grid_template_rows": null,
            "height": null,
            "justify_content": null,
            "justify_items": null,
            "left": null,
            "margin": null,
            "max_height": null,
            "max_width": null,
            "min_height": null,
            "min_width": null,
            "object_fit": null,
            "object_position": null,
            "order": null,
            "overflow": null,
            "overflow_x": null,
            "overflow_y": null,
            "padding": null,
            "right": null,
            "top": null,
            "visibility": null,
            "width": null
          }
        },
        "6fed63ca948e4af2b95a30bded9ab443": {
          "model_module": "@jupyter-widgets/controls",
          "model_name": "DescriptionStyleModel",
          "model_module_version": "1.5.0",
          "state": {
            "_model_module": "@jupyter-widgets/controls",
            "_model_module_version": "1.5.0",
            "_model_name": "DescriptionStyleModel",
            "_view_count": null,
            "_view_module": "@jupyter-widgets/base",
            "_view_module_version": "1.2.0",
            "_view_name": "StyleView",
            "description_width": ""
          }
        },
        "6b66307bb40a44f0801d57656c536bc6": {
          "model_module": "@jupyter-widgets/base",
          "model_name": "LayoutModel",
          "model_module_version": "1.2.0",
          "state": {
            "_model_module": "@jupyter-widgets/base",
            "_model_module_version": "1.2.0",
            "_model_name": "LayoutModel",
            "_view_count": null,
            "_view_module": "@jupyter-widgets/base",
            "_view_module_version": "1.2.0",
            "_view_name": "LayoutView",
            "align_content": null,
            "align_items": null,
            "align_self": null,
            "border": null,
            "bottom": null,
            "display": null,
            "flex": null,
            "flex_flow": null,
            "grid_area": null,
            "grid_auto_columns": null,
            "grid_auto_flow": null,
            "grid_auto_rows": null,
            "grid_column": null,
            "grid_gap": null,
            "grid_row": null,
            "grid_template_areas": null,
            "grid_template_columns": null,
            "grid_template_rows": null,
            "height": null,
            "justify_content": null,
            "justify_items": null,
            "left": null,
            "margin": null,
            "max_height": null,
            "max_width": null,
            "min_height": null,
            "min_width": null,
            "object_fit": null,
            "object_position": null,
            "order": null,
            "overflow": null,
            "overflow_x": null,
            "overflow_y": null,
            "padding": null,
            "right": null,
            "top": null,
            "visibility": null,
            "width": null
          }
        },
        "65fa6ea6a49f41069b04ab7122baf27f": {
          "model_module": "@jupyter-widgets/controls",
          "model_name": "ProgressStyleModel",
          "model_module_version": "1.5.0",
          "state": {
            "_model_module": "@jupyter-widgets/controls",
            "_model_module_version": "1.5.0",
            "_model_name": "ProgressStyleModel",
            "_view_count": null,
            "_view_module": "@jupyter-widgets/base",
            "_view_module_version": "1.2.0",
            "_view_name": "StyleView",
            "bar_color": null,
            "description_width": ""
          }
        },
        "aa3354e100f5409d8f376c6fe384da5a": {
          "model_module": "@jupyter-widgets/base",
          "model_name": "LayoutModel",
          "model_module_version": "1.2.0",
          "state": {
            "_model_module": "@jupyter-widgets/base",
            "_model_module_version": "1.2.0",
            "_model_name": "LayoutModel",
            "_view_count": null,
            "_view_module": "@jupyter-widgets/base",
            "_view_module_version": "1.2.0",
            "_view_name": "LayoutView",
            "align_content": null,
            "align_items": null,
            "align_self": null,
            "border": null,
            "bottom": null,
            "display": null,
            "flex": null,
            "flex_flow": null,
            "grid_area": null,
            "grid_auto_columns": null,
            "grid_auto_flow": null,
            "grid_auto_rows": null,
            "grid_column": null,
            "grid_gap": null,
            "grid_row": null,
            "grid_template_areas": null,
            "grid_template_columns": null,
            "grid_template_rows": null,
            "height": null,
            "justify_content": null,
            "justify_items": null,
            "left": null,
            "margin": null,
            "max_height": null,
            "max_width": null,
            "min_height": null,
            "min_width": null,
            "object_fit": null,
            "object_position": null,
            "order": null,
            "overflow": null,
            "overflow_x": null,
            "overflow_y": null,
            "padding": null,
            "right": null,
            "top": null,
            "visibility": null,
            "width": null
          }
        },
        "1b7f140db8984c4daa4900eee150077c": {
          "model_module": "@jupyter-widgets/controls",
          "model_name": "DescriptionStyleModel",
          "model_module_version": "1.5.0",
          "state": {
            "_model_module": "@jupyter-widgets/controls",
            "_model_module_version": "1.5.0",
            "_model_name": "DescriptionStyleModel",
            "_view_count": null,
            "_view_module": "@jupyter-widgets/base",
            "_view_module_version": "1.2.0",
            "_view_name": "StyleView",
            "description_width": ""
          }
        }
      }
    },
    "accelerator": "GPU"
  },
  "nbformat": 4,
  "nbformat_minor": 0
}